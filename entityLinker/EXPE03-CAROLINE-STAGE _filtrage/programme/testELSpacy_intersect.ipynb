#!/usr/bin/env python3
# -*- coding: utf-8 -*-
"""
Created on Tue May 30 11:07:20 2023

@author: antonomaz
"""

#!/usr/bin/env python3
# -*- coding: utf-8 -*-
"""
Created on Tue May 30 10:21:29 2023

@author: antonomaz
"""

import spacy
import glob
import pandas as pd
import os
import time
import json


def lire_fichier(chemin):
    with open(chemin) as json_data: 
        dist = json.load(json_data)
    return dist

def stocker(chemin, contenu):
    with open(chemin, "w") as fichier:
        json.dump(contenu, fichier, indent=2)

def stocker_tex(name, contenu):
    with open(name, "w") as file:
        file.write(contenu)

def tableau(data, path, table_name, mod):
    df = pd.DataFrame(data)
    table_latex = df.to_latex(index=False)
    stocker_tex("%s_test-contexte_%s-%s.tex" % (path, table_name, mod), df.to_latex(index=False))
    #dictionary = df.to_dict('index')
    #print(dictionary)
    stocker("%s_test-contexte_-%s-%s.json" % (path, table_name, mod ), df.to_dict('index'))

t0 = time.time()  
modele=["fr_core_news_sm","fr_core_news_md","fr_core_news_lg", "en_core_web_sm", "en_core_web_md", "en_core_web_lg"]

path_corpora = "../DATA/ELTeC-Fra_2023/ADAM/ADAM_krakenbase/REF/*.txt"
#path_corpora = "../DATA/ELTeC-Fra_2023/*/*/*/*.txt"
#modele = ["fr_core_news_sm"]

bilan = []
tab_entite = []
tab_noncommun = []
tab_basename = []

for mod in modele:
    print("Pour le modèle:", mod, "\n")
    nlp = spacy.load(mod)
    for i in range(len(path_corpora)):
        for j in range(i+1, len(path_corpora)):
            fichier1 = path_corpora[i]
            fichier2 = path_corpora[j]
            
            dictionnaire1 = lire_fichier(fichier1)
            dictionnaire2 =  lire_fichier(fichier2)
            #print(Comparaison de "Entrée:",)
            basename1 = os.path.basename(fichier1)
            basename2 = os.path.basename(fichier2)
       
            compteur = 0
            intersect = 0
            nb_entite = 0
            for h in dictionnaire1

       
#             for d in liste_url_entite:
#                 compteur += 1
#                 if d in liste_url_entourage:
#                     intersect += 1
                
#                 else:
#                     tab_noncommun.append({
#                         "Modèle": mod,
#                         "Fichier": basename,
#                         "Entité reconnue par la REN de SpaCy": entite,
#                         "contexte d'apparition de l'entité" : contexte,
#                         "entités reconnues pour l'Entity Linker sans contexte": liste_concat_entite,
#                         "url des entités reconnues pour l'Entity Linker sans contexte": liste_url_entite,
#                         "entités reconnues pour l'Entity Linker en contexte": liste_concat_entourage,
#                         "url des entités reconnues pour l'Entity Linker en contexte": liste_url_entourage
#                     })
                    
#             nb_entite += 1
        
#         non = compteur - intersect
#         bilan.append({
#             "Modèle": mod,
#             "Fichier1": basename1,
#             "Fichier2": basename2,
#             "Entités Spacy": nb_entite,
#             "Entités Entity Linker": compteur,
#             "Entités communes": intersect,
#             "Entités non communes": non
#         })

# #tableau(tab_entite, path,"url_par_entite", mod)
# #tableau(bilan, path, "bilan", mod)
# #tableau(tab_noncommun, path,"urls_non_communes", mod)


# t1 = time.time()
# total = t1 - t0
# print (non)
# print("Le code a mis", total, "secondes pour s'exécuter")
