{
 "cells": [
  {
   "cell_type": "markdown",
   "id": "a2ecc0cd",
   "metadata": {},
   "source": [
    "17/05/2023\n",
    "notebook\n",
    "objectif : faire la comparaison en contexte\n",
    "contexte :"
   ]
  },
  {
   "cell_type": "markdown",
   "id": "ec4e2b86",
   "metadata": {},
   "source": [
    "# Evaluation comparative  du système d'entity linking de SpaCy"
   ]
  },
  {
   "cell_type": "markdown",
   "id": "69a02f3f",
   "metadata": {},
   "source": [
    "## code donné par CKP"
   ]
  },
  {
   "cell_type": "code",
   "execution_count": null,
   "id": "d7ecd760",
   "metadata": {},
   "outputs": [],
   "source": [
    "\n",
    "texte = lire_fichier(path)\n",
    "text=nlp(texte)  \n",
    "for ent in text.ents:\n",
    "        list_resultats.append([ent.text, ent.start_char, ent.end_char, ent.label_,texte[ent.start_char-200:ent.start_char],texte[ent.end_char:ent.end_char+200]])"
   ]
  },
  {
   "cell_type": "markdown",
   "id": "727752d5",
   "metadata": {},
   "source": [
    "## première adaptation"
   ]
  },
  {
   "cell_type": "code",
   "execution_count": null,
   "id": "ffa29df0",
   "metadata": {},
   "outputs": [],
   "source": [
    "list_resultats=[]\n",
    "\n",
    "for path in glob.glob(path_corpora):\n",
    "    texte = lire_fichier(path)\n",
    "    text=nlp(texte) dicti = lire_fichier(path)\n",
    "    list_resultats=[]\n",
    "\n",
    "    for ent in text.ents:\n",
    "        list_resultats.append([ent.text, ent.start_char, ent.end_char, ent.label_,texte[ent.start_char-200:ent.start_char],texte[ent.end_char:ent.end_char+200]])"
   ]
  }
 ],
 "metadata": {
  "kernelspec": {
   "display_name": "Python 3 (ipykernel)",
   "language": "python",
   "name": "python3"
  },
  "language_info": {
   "codemirror_mode": {
    "name": "ipython",
    "version": 3
   },
   "file_extension": ".py",
   "mimetype": "text/x-python",
   "name": "python",
   "nbconvert_exporter": "python",
   "pygments_lexer": "ipython3",
   "version": "3.10.9"
  }
 },
 "nbformat": 4,
 "nbformat_minor": 5
}
