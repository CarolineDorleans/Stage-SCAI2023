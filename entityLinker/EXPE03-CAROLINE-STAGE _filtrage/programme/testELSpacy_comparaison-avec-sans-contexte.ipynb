#!/usr/bin/env python3
# -*- coding: utf-8 -*-
"""
Created on Wed May 24 11:03:22 2023

@author: antonomaz
"""


import json
import spacy  # version 3.5
import glob
import matplotlib as plt
import panda as pd


def lire_fichier(chemin):
    with open(chemin, "r", encoding="utf-8") as fichier:
        texte = fichier.read()
        return texte


def stocker(chemin, contenu):
    with open(chemin, "w") as w:
        json.dump(contenu, w, indent=2)


modele = ["md"]
path_corpora = "../DATA/ELTeC-Fra_2023/ADAM/ADAM_krakenbase/REF/*.txt"
common_urls_per_file = []
common_urls = []

for mod in modele:
    print("Pour le modèle:", mod, "\n")
    nlp = spacy.load("fr_core_news_" + mod)
    # Set up entity linker with knowledge base
    # Refer to Spacy documentation for entity linking setup

    for path in glob.glob(path_corpora):
        print("Entrée:", path)
        texte = lire_fichier(path)
        doc = nlp(texte)
        list_resultats = []
        list_entites = []
        liste_url_entourage = []
        liste_url_entite = []
        
        i = 1
        dico={}
        for ent in doc.ents:
            contexte = str(texte[ent.start_char-50:ent.start_char])+str(ent.text)+ str(texte[ent.end_char:ent.end_char+50])
            entite = ent.text
            nlp.add_pipe("entityLinker", last=True)
            doc = nlp(entite)
            doc2 = nlp(contexte)
            for ent in doc._.linkedEntities:
                url_entourage = ent.get_url()
                liste_url_entourage.append(url_entourage)
            for ent in doc2._.linkedEntities:
                url_entite = ent.get_url()
                liste_url_entite.append(url_entite)
            common_urls.extend(liste_url_entite)
            common_urls_per_file.append((path, set(liste_url_entite) & set(liste_url_entourage)))

# Summary table of common URLs
common_urls_table = pd.DataFrame(common_urls, columns=["Common URLs"])
print("Summary Table of Common URLs:")
print(common_urls_table)

# Graph of number of common URLs per JSON file
file_names = [file[0] for file in common_urls_per_file]
num_common_urls = [len(file[1]) for file in common_urls_per_file]

plt.figure(figsize=(12, 6))
plt.bar(file_names, num_common_urls)
plt.xlabel("JSON File")
plt.ylabel("Number of Common URLs")
plt.title("Number of Common URLs per JSON File")
plt.xticks(rotation=90)
plt.tight_layout()
plt.show()

            