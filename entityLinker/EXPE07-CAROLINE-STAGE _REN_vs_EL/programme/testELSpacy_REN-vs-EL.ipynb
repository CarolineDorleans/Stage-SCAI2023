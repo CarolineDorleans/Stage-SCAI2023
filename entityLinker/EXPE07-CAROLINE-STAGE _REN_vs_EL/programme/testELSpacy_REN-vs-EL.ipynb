{
 "cells": [
  {
   "cell_type": "markdown",
   "id": "10e13365",
   "metadata": {},
   "source": [
    "6/06/2023\n",
    "connaître les intersections entre les entités reconnues par la REN et l'EL. "
   ]
  },
  {
   "cell_type": "markdown",
   "id": "3b391d69",
   "metadata": {},
   "source": [
    "# Evaluation comparative  du système d'entity linking de SpaCy"
   ]
  },
  {
   "cell_type": "code",
   "execution_count": 3,
   "id": "7d043df7",
   "metadata": {},
   "outputs": [
    {
     "name": "stdout",
     "output_type": "stream",
     "text": [
      "Pour le modèle: en_core_web_sm \n",
      "\n",
      "Entrée: ../DATA/ELTeC-Fra_2023/ADAM/ADAM_krakenbase/OCR/ADAM_Mon-village_Kraken-base.txt\n"
     ]
    },
    {
     "ename": "NameError",
     "evalue": "name 'entiteREN' is not defined",
     "output_type": "error",
     "traceback": [
      "\u001b[0;31m---------------------------------------------------------------------------\u001b[0m",
      "\u001b[0;31mNameError\u001b[0m                                 Traceback (most recent call last)",
      "Cell \u001b[0;32mIn[3], line 45\u001b[0m\n\u001b[1;32m     43\u001b[0m \u001b[38;5;28;01mfor\u001b[39;00m ent \u001b[38;5;129;01min\u001b[39;00m doc\u001b[38;5;241m.\u001b[39ments:\n\u001b[1;32m     44\u001b[0m     nb_entite_REN\u001b[38;5;241m+\u001b[39m\u001b[38;5;241m=\u001b[39m\u001b[38;5;241m1\u001b[39m\n\u001b[0;32m---> 45\u001b[0m     liste_entiteREN\u001b[38;5;241m.\u001b[39mappend(\u001b[43mentiteREN\u001b[49m)\n\u001b[1;32m     46\u001b[0m \u001b[38;5;28;01mfor\u001b[39;00m ent \u001b[38;5;129;01min\u001b[39;00m doc2\u001b[38;5;241m.\u001b[39m_\u001b[38;5;241m.\u001b[39mlinkedEntities:\n\u001b[1;32m     47\u001b[0m     nb_entite_EL\u001b[38;5;241m+\u001b[39m\u001b[38;5;241m=\u001b[39m\u001b[38;5;241m1\u001b[39m\n",
      "\u001b[0;31mNameError\u001b[0m: name 'entiteREN' is not defined"
     ]
    }
   ],
   "source": [
    "import glob\n",
    "import spacy\n",
    "import json\n",
    "import os\n",
    "import pandas as pd\n",
    "\n",
    "def lire_fichier(chemin):\n",
    "    with open (chemin, \"r\", encoding=\"utf-8\") as fichier:\n",
    "        texte=fichier.read()\n",
    "        return texte\n",
    "\n",
    "modele=[\"en_core_web_sm\",\"en_core_web_md\",\"en_core_web_lg\"]\n",
    "\n",
    "path_corpora = \"../DATA/ELTeC-Fra_2023/ADAM/ADAM_krakenbase/OCR/*.txt\"\n",
    "\n",
    "#path_corpora = \"../DATA/ELTeC-Fra_2023/*/*/*/*.txt\"\n",
    "\n",
    "\n",
    "#modele = [\"fr_core_news_sm\"]\n",
    "\n",
    "bilan = []\n",
    "tab_entite = []\n",
    "tab_noncommun = []\n",
    "tab_basename = []\n",
    "\n",
    "for mod in modele:\n",
    "    print(\"Pour le modèle:\", mod, \"\\n\")\n",
    "    nlp = spacy.load(mod)\n",
    "    nlp.add_pipe(\"entityLinker\", last=True)\n",
    "    nb_ent_REN= 0\n",
    "    nb_ent_EL = 0\n",
    "    for path in glob.glob(path_corpora):\n",
    "        nb_entite_REN= 0\n",
    "        liste_entiteREN=[]\n",
    "        nb_entite_EL= 0\n",
    "        liste_entiteEL =[]\n",
    "        basename = os.path.basename(path)\n",
    "        print(\"Entrée:\", path)\n",
    "        texte = lire_fichier(path)\n",
    "        doc = nlp(texte)\n",
    "        liste_commun = []\n",
    "        \n",
    "        for ent in doc.ents:\n",
    "            nb_entite_REN+=1\n",
    "            liste_entiteREN.append(entiteREN)\n",
    "        for ent in doc2._.linkedEntities:\n",
    "            nb_entite_EL+=1\n",
    "            spanEL = get_span(doc)\n",
    "            liste_entiteEL.append(entiteEL)\n",
    "        for d in liste_entiteREN:\n",
    "            if d in liste_entiteEL:\n",
    "                liste_commun.append(d)\n",
    "            \n",
    "            \n",
    "        tab_entite.append({\n",
    "            \"Modèle\": mod,\n",
    "            \"Fichier\": basename,\n",
    "            \"nb d'entités repérées par la REN\":nb_entite_REN ,\n",
    "            \"nb d'entités repérées par l'EL\": nb_entite_EL,\n",
    "            })\n",
    "\n",
    "   \n",
    "#t1 = time.time()\n",
    "#total = t1 - t0\n",
    "\n",
    "#print(\"Le code a mis\", total, \"secondes pour s'exécuter\")\n"
   ]
  },
  {
   "cell_type": "code",
   "execution_count": null,
   "id": "768744af",
   "metadata": {},
   "outputs": [],
   "source": []
  }
 ],
 "metadata": {
  "kernelspec": {
   "display_name": "Python 3 (ipykernel)",
   "language": "python",
   "name": "python3"
  },
  "language_info": {
   "codemirror_mode": {
    "name": "ipython",
    "version": 3
   },
   "file_extension": ".py",
   "mimetype": "text/x-python",
   "name": "python",
   "nbconvert_exporter": "python",
   "pygments_lexer": "ipython3",
   "version": "3.10.9"
  }
 },
 "nbformat": 4,
 "nbformat_minor": 5
}
