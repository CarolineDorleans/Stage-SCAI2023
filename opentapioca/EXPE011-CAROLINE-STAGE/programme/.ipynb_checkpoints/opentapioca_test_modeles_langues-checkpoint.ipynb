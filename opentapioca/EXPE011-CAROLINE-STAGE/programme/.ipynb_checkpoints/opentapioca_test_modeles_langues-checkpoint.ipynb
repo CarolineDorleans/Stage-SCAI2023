{
 "cells": [
  {
   "cell_type": "markdown",
   "id": "60259ae0",
   "metadata": {},
   "source": [
    "du 01/07/2023   \n",
    "objectif : évaluer l'influence du modèle de langue et du bruit sur l'entity liking.    \n",
    "contexte : reprise de \"testELSpacy_test-modèles_langues.ipynb\"."
   ]
  },
  {
   "cell_type": "markdown",
   "id": "498f51eb",
   "metadata": {},
   "source": [
    "# Evaluation comparative  du système SpaCyfishing"
   ]
  },
  {
   "cell_type": "code",
   "execution_count": 13,
   "id": "cd2fc00d",
   "metadata": {},
   "outputs": [],
   "source": [
    "import spacy\n",
    "from art import *\n",
    "import pandas as pd"
   ]
  },
  {
   "cell_type": "code",
   "execution_count": 14,
   "id": "7acc3cc6",
   "metadata": {},
   "outputs": [],
   "source": [
    "def read (texte):\n",
    "    models = [\"fr_core_news_sm\",\"fr_core_news_md\",\"fr_core_news_lg\",\"en_core_web_sm\", \"en_core_web_md\", \"en_core_web_lg\"]\n",
    "    for model in models :\n",
    "        tprint (model, font=\"cybermedium\")\n",
    "        nlp = spacy.load(model)\n",
    "        # add pipeline (declared through entry_points in setup.py)\n",
    "        nlp.add_pipe(\"entityfishing\")\n",
    "        doc = nlp(texte)\n",
    "        # returns all entities in the whole document\n",
    "        # iterates over sentences and prints linked entities\n",
    "        for ent in doc.ents:\n",
    "            print(ent.text, ent.label_, ent._.kb_qid, ent._.url_wikidata, ent._.nerd_score)"
   ]
  },
  {
   "cell_type": "code",
   "execution_count": 15,
   "id": "da191ed4",
   "metadata": {},
   "outputs": [],
   "source": [
    "def latexiser_eng(texte):\n",
    "    tab_entite =[]\n",
    "    nlp = spacy.load(\"en_core_web_lg\")\n",
    "    \n",
    "    nlp.add_pipe(\"opentapioca\")\n",
    "    doc = nlp(texte)\n",
    "        # returns all entities in the whole document\n",
    "        # iterates over sentences and prints linked entities\n",
    "    for ent in doc.ents:\n",
    "        tab_entite.append({\n",
    "            #\"modèle\": mod,\n",
    "            \"span\" : ent.text,\n",
    "            \"label\" : ent.label_,\n",
    "            \"ID\" : ent._.kb_qid ,\n",
    "            #\"URL\" : ent._.url_wikidata,\n",
    "            \"score\" : ent._.nerd_score,\n",
    "            })          \n",
    "    df = pd.DataFrame(tab_entite)\n",
    "    table_latex = df.to_latex(index=False)\n",
    "    latex = df.to_latex(index=False)\n",
    "    print(latex)"
   ]
  },
  {
   "cell_type": "code",
   "execution_count": 16,
   "id": "ead2f179",
   "metadata": {},
   "outputs": [],
   "source": [
    "def latexiser_fr(texte):\n",
    "    tab_entite =[]\n",
    "    nlp = spacy.load(\"fr_core_news_lg\")\n",
    "    \n",
    "    nlp.add_pipe(\"opentapioca\")\n",
    "    doc = nlp(texte)\n",
    "        # returns all entities in the whole document\n",
    "        # iterates over sentences and prints linked entities\n",
    "    for ent in doc.ents:\n",
    "        #ident = \"\\href{\",ent._.url_wikidata,\"}{\",ent._.kb_qid,\"}\"\n",
    "        tab_entite.append({\n",
    "            #\"modèle\": mod,\n",
    "            \"span\" : ent.text,\n",
    "            \"label \" : ent.label_,\n",
    "            #\"URL\" : ent._.url_wikidata,\n",
    "            \"ID\" : ent._.kb_qid ,\n",
    "            #\"ID\" : ident,\n",
    "            \"score\" : ent._.nerd_score,\n",
    "            })          \n",
    "    df = pd.DataFrame(tab_entite)\n",
    "    #print(df.info())\n",
    "    table_latex = df.to_latex(index=False)\n",
    "    latex = df.to_latex(index=False)\n",
    "    print(latex)"
   ]
  },
  {
   "cell_type": "code",
   "execution_count": 17,
   "id": "f3ccd66e",
   "metadata": {},
   "outputs": [],
   "source": [
    "import spacy\n",
    "import pandas as pd\n",
    "\n",
    "def latexiser_mod(texte):\n",
    "    models = [\"fr_core_news_sm\", \"fr_core_news_md\", \"fr_core_news_lg\", \"en_core_web_sm\", \"en_core_web_md\", \"en_core_web_lg\"]  # Charger le premier modèle à l'extérieur de la boucle\n",
    "    tab_entite = []\n",
    "\n",
    "    for model in models:\n",
    "        nlp = spacy.load(model)\n",
    "        nlp.add_pipe(\"openta\")\n",
    "        doc = nlp(texte)\n",
    "        \n",
    "        for ent in doc.ents:\n",
    "            tab_entite.append({\n",
    "            \"modèle\": model,\n",
    "            \"span\" : ent.text,\n",
    "            \"label \" : ent.label_,\n",
    "            #\"URL\" : ent._.url_wikidata,\n",
    "            \"ID\" : ent._.kb_qid ,\n",
    "            #\"ID\" : ident,\n",
    "            \"score\" : ent._.nerd_score,\n",
    "            })   \n",
    "    df = pd.DataFrame(tab_entite)\n",
    "    #print(df.info())\n",
    "    latex = df.to_latex(index=False)\n",
    "    print(latex)\n"
   ]
  },
  {
   "cell_type": "code",
   "execution_count": 18,
   "id": "2dc1c155",
   "metadata": {},
   "outputs": [],
   "source": [
    "ex = \"Je m'appelle Caroline\""
   ]
  },
  {
   "cell_type": "code",
   "execution_count": 20,
   "id": "003e32fe",
   "metadata": {},
   "outputs": [
    {
     "name": "stderr",
     "output_type": "stream",
     "text": [
      "/tmp/ipykernel_4729/228219269.py:22: FutureWarning: In future versions `DataFrame.to_latex` is expected to utilise the base implementation of `Styler.to_latex` for formatting and rendering. The arguments signature may therefore change. It is recommended instead to use `DataFrame.style.to_latex` which also contains additional functionality.\n",
      "  table_latex = df.to_latex(index=False)\n"
     ]
    },
    {
     "name": "stdout",
     "output_type": "stream",
     "text": [
      "\\begin{tabular}{lllr}\n",
      "\\toprule\n",
      "    span & label  &      ID &  score \\\\\n",
      "\\midrule\n",
      "Caroline &   MISC & Q186579 & 0.3574 \\\\\n",
      "\\bottomrule\n",
      "\\end{tabular}\n",
      "\n"
     ]
    },
    {
     "name": "stderr",
     "output_type": "stream",
     "text": [
      "/tmp/ipykernel_4729/228219269.py:23: FutureWarning: In future versions `DataFrame.to_latex` is expected to utilise the base implementation of `Styler.to_latex` for formatting and rendering. The arguments signature may therefore change. It is recommended instead to use `DataFrame.style.to_latex` which also contains additional functionality.\n",
      "  latex = df.to_latex(index=False)\n"
     ]
    }
   ],
   "source": [
    "latexiser_fr(ex)"
   ]
  },
  {
   "cell_type": "code",
   "execution_count": 41,
   "id": "59944f81",
   "metadata": {},
   "outputs": [
    {
     "name": "stdout",
     "output_type": "stream",
     "text": [
      "\\begin{tabular}{llllr}\n",
      "\\toprule\n",
      "         modèle &         span & label  &      ID &  score \\\\\n",
      "\\midrule\n",
      "fr\\_core\\_news\\_sm &     Caroline &    LOC & Q186579 & 0.3574 \\\\\n",
      "fr\\_core\\_news\\_md &     Caroline &    LOC & Q186579 & 0.3574 \\\\\n",
      "fr\\_core\\_news\\_lg &     Caroline &   MISC & Q186579 & 0.3574 \\\\\n",
      " en\\_core\\_web\\_sm & Je m'appelle & PERSON &    None &    NaN \\\\\n",
      " en\\_core\\_web\\_sm &     Caroline & PERSON & Q186579 & 0.3574 \\\\\n",
      " en\\_core\\_web\\_md & Je m'appelle & PERSON &    None &    NaN \\\\\n",
      " en\\_core\\_web\\_lg & Je m'appelle & PERSON &    None &    NaN \\\\\n",
      "\\bottomrule\n",
      "\\end{tabular}\n",
      "\n"
     ]
    },
    {
     "name": "stderr",
     "output_type": "stream",
     "text": [
      "/tmp/ipykernel_4319/3509878012.py:25: FutureWarning: In future versions `DataFrame.to_latex` is expected to utilise the base implementation of `Styler.to_latex` for formatting and rendering. The arguments signature may therefore change. It is recommended instead to use `DataFrame.style.to_latex` which also contains additional functionality.\n",
      "  latex = df.to_latex(index=False)\n"
     ]
    }
   ],
   "source": [
    "latexiser_mod(ex)"
   ]
  },
  {
   "cell_type": "code",
   "execution_count": 44,
   "id": "3d8b62f7",
   "metadata": {},
   "outputs": [
    {
     "name": "stdout",
     "output_type": "stream",
     "text": [
      "____ ____     ____ ____ ____ ____     _  _ ____ _ _ _ ____     ____ _  _ \n",
      "|___ |__/     |    |  | |__/ |___     |\\ | |___ | | | [__      [__  |\\/| \n",
      "|    |  \\ ___ |___ |__| |  \\ |___ ___ | \\| |___ |_|_| ___] ___ ___] |  | \n",
      "                                                                         \n",
      "\n",
      "Caroline LOC Q186579 https://www.wikidata.org/wiki/Q186579 0.3574\n",
      "____ ____     ____ ____ ____ ____     _  _ ____ _ _ _ ____     _  _ ___  \n",
      "|___ |__/     |    |  | |__/ |___     |\\ | |___ | | | [__      |\\/| |  \\ \n",
      "|    |  \\ ___ |___ |__| |  \\ |___ ___ | \\| |___ |_|_| ___] ___ |  | |__/ \n",
      "                                                                         \n",
      "\n",
      "Caroline LOC Q186579 https://www.wikidata.org/wiki/Q186579 0.3574\n",
      "____ ____     ____ ____ ____ ____     _  _ ____ _ _ _ ____     _    ____ \n",
      "|___ |__/     |    |  | |__/ |___     |\\ | |___ | | | [__      |    | __ \n",
      "|    |  \\ ___ |___ |__| |  \\ |___ ___ | \\| |___ |_|_| ___] ___ |___ |__] \n",
      "                                                                         \n",
      "\n",
      "Caroline MISC Q186579 https://www.wikidata.org/wiki/Q186579 0.3574\n",
      "____ _  _     ____ ____ ____ ____     _ _ _ ____ ___      ____ _  _ \n",
      "|___ |\\ |     |    |  | |__/ |___     | | | |___ |__]     [__  |\\/| \n",
      "|___ | \\| ___ |___ |__| |  \\ |___ ___ |_|_| |___ |__] ___ ___] |  | \n",
      "                                                                    \n",
      "\n",
      "Je m'appelle PERSON None None None\n",
      "Caroline PERSON Q186579 https://www.wikidata.org/wiki/Q186579 0.3574\n",
      "____ _  _     ____ ____ ____ ____     _ _ _ ____ ___      _  _ ___  \n",
      "|___ |\\ |     |    |  | |__/ |___     | | | |___ |__]     |\\/| |  \\ \n",
      "|___ | \\| ___ |___ |__| |  \\ |___ ___ |_|_| |___ |__] ___ |  | |__/ \n",
      "                                                                    \n",
      "\n",
      "Je m'appelle PERSON None None None\n",
      "____ _  _     ____ ____ ____ ____     _ _ _ ____ ___      _    ____ \n",
      "|___ |\\ |     |    |  | |__/ |___     | | | |___ |__]     |    | __ \n",
      "|___ | \\| ___ |___ |__| |  \\ |___ ___ |_|_| |___ |__] ___ |___ |__] \n",
      "                                                                    \n",
      "\n",
      "Je m'appelle PERSON None None None\n"
     ]
    }
   ],
   "source": [
    "read(ex)"
   ]
  },
  {
   "cell_type": "code",
   "execution_count": 19,
   "id": "2b3534e6",
   "metadata": {},
   "outputs": [
    {
     "name": "stdout",
     "output_type": "stream",
     "text": [
      "\\begin{tabular}{llllr}\n",
      "\\toprule\n",
      "    span & label  &                                   URL &                                                 ID &  score \\\\\n",
      "\\midrule\n",
      "Caroline &   MISC & https://www.wikidata.org/wiki/Q186579 & (\\textbackslash href\\{, https://www.wikidata.org/wiki/Q186579,... & 0.3574 \\\\\n",
      "\\bottomrule\n",
      "\\end{tabular}\n",
      "\n"
     ]
    },
    {
     "name": "stderr",
     "output_type": "stream",
     "text": [
      "/tmp/ipykernel_3694/258071835.py:20: FutureWarning: In future versions `DataFrame.to_latex` is expected to utilise the base implementation of `Styler.to_latex` for formatting and rendering. The arguments signature may therefore change. It is recommended instead to use `DataFrame.style.to_latex` which also contains additional functionality.\n",
      "  table_latex = df.to_latex(index=False)\n",
      "/tmp/ipykernel_3694/258071835.py:21: FutureWarning: In future versions `DataFrame.to_latex` is expected to utilise the base implementation of `Styler.to_latex` for formatting and rendering. The arguments signature may therefore change. It is recommended instead to use `DataFrame.style.to_latex` which also contains additional functionality.\n",
      "  latex = df.to_latex(index=False)\n"
     ]
    }
   ],
   "source": [
    "latexiser_fr(ex)"
   ]
  },
  {
   "cell_type": "markdown",
   "id": "f0475ac2",
   "metadata": {},
   "source": [
    "## Pirates des Caraibes"
   ]
  },
  {
   "cell_type": "code",
   "execution_count": 42,
   "id": "7e7473c5",
   "metadata": {},
   "outputs": [],
   "source": [
    "pirates = \"I watched the Pirates of the Caribbean last silvester\""
   ]
  },
  {
   "cell_type": "code",
   "execution_count": 43,
   "id": "7c2040b9",
   "metadata": {},
   "outputs": [
    {
     "name": "stdout",
     "output_type": "stream",
     "text": [
      "____ ____     ____ ____ ____ ____     _  _ ____ _ _ _ ____     ____ _  _ \n",
      "|___ |__/     |    |  | |__/ |___     |\\ | |___ | | | [__      [__  |\\/| \n",
      "|    |  \\ ___ |___ |__| |  \\ |___ ___ | \\| |___ |_|_| ___] ___ ___] |  | \n",
      "                                                                         \n",
      "\n",
      "____ ____     ____ ____ ____ ____     _  _ ____ _ _ _ ____     _  _ ___  \n",
      "|___ |__/     |    |  | |__/ |___     |\\ | |___ | | | [__      |\\/| |  \\ \n",
      "|    |  \\ ___ |___ |__| |  \\ |___ ___ | \\| |___ |_|_| ___] ___ |  | |__/ \n",
      "                                                                         \n",
      "\n",
      "I watched the Pirates MISC None None None\n",
      "____ ____     ____ ____ ____ ____     _  _ ____ _ _ _ ____     _    ____ \n",
      "|___ |__/     |    |  | |__/ |___     |\\ | |___ | | | [__      |    | __ \n",
      "|    |  \\ ___ |___ |__| |  \\ |___ ___ | \\| |___ |_|_| ___] ___ |___ |__] \n",
      "                                                                         \n",
      "\n",
      "I watched the MISC None None None\n",
      "____ _  _     ____ ____ ____ ____     _ _ _ ____ ___      ____ _  _ \n",
      "|___ |\\ |     |    |  | |__/ |___     | | | |___ |__]     [__  |\\/| \n",
      "|___ | \\| ___ |___ |__| |  \\ |___ ___ |_|_| |___ |__] ___ ___] |  | \n",
      "                                                                    \n",
      "\n",
      "Caribbean LOC Q664609 https://www.wikidata.org/wiki/Q664609 0.456\n",
      "____ _  _     ____ ____ ____ ____     _ _ _ ____ ___      _  _ ___  \n",
      "|___ |\\ |     |    |  | |__/ |___     | | | |___ |__]     |\\/| |  \\ \n",
      "|___ | \\| ___ |___ |__| |  \\ |___ ___ |_|_| |___ |__] ___ |  | |__/ \n",
      "                                                                    \n",
      "\n",
      "the Pirates of the Caribbean ORG None None None\n",
      "____ _  _     ____ ____ ____ ____     _ _ _ ____ ___      _    ____ \n",
      "|___ |\\ |     |    |  | |__/ |___     | | | |___ |__]     |    | __ \n",
      "|___ | \\| ___ |___ |__| |  \\ |___ ___ |_|_| |___ |__] ___ |___ |__] \n",
      "                                                                    \n",
      "\n",
      "Caribbean LOC Q664609 https://www.wikidata.org/wiki/Q664609 0.456\n"
     ]
    }
   ],
   "source": [
    "read(pirates)"
   ]
  },
  {
   "cell_type": "code",
   "execution_count": 44,
   "id": "01a1cde6",
   "metadata": {},
   "outputs": [
    {
     "name": "stdout",
     "output_type": "stream",
     "text": [
      "\\begin{tabular}{llllr}\n",
      "\\toprule\n",
      "         modèle &                         span & label  &      ID &  score \\\\\n",
      "\\midrule\n",
      "fr\\_core\\_news\\_md &        I watched the Pirates &   MISC &    None &    NaN \\\\\n",
      "fr\\_core\\_news\\_lg &                I watched the &   MISC &    None &    NaN \\\\\n",
      " en\\_core\\_web\\_sm &                    Caribbean &    LOC & Q664609 &  0.456 \\\\\n",
      " en\\_core\\_web\\_md & the Pirates of the Caribbean &    ORG &    None &    NaN \\\\\n",
      " en\\_core\\_web\\_lg &                    Caribbean &    LOC & Q664609 &  0.456 \\\\\n",
      "\\bottomrule\n",
      "\\end{tabular}\n",
      "\n"
     ]
    },
    {
     "name": "stderr",
     "output_type": "stream",
     "text": [
      "/tmp/ipykernel_4319/3509878012.py:25: FutureWarning: In future versions `DataFrame.to_latex` is expected to utilise the base implementation of `Styler.to_latex` for formatting and rendering. The arguments signature may therefore change. It is recommended instead to use `DataFrame.style.to_latex` which also contains additional functionality.\n",
      "  latex = df.to_latex(index=False)\n"
     ]
    }
   ],
   "source": [
    "latexiser_mod(pirates)"
   ]
  },
  {
   "cell_type": "code",
   "execution_count": 72,
   "id": "60ff2949",
   "metadata": {},
   "outputs": [
    {
     "name": "stdout",
     "output_type": "stream",
     "text": [
      "\\begin{tabular}{llll}\n",
      "\\toprule\n",
      "         span & label  &   ID & score \\\\\n",
      "\\midrule\n",
      "I watched the &   MISC & None &  None \\\\\n",
      "\\bottomrule\n",
      "\\end{tabular}\n",
      "\n"
     ]
    },
    {
     "name": "stderr",
     "output_type": "stream",
     "text": [
      "/tmp/ipykernel_3694/3352116594.py:21: FutureWarning: In future versions `DataFrame.to_latex` is expected to utilise the base implementation of `Styler.to_latex` for formatting and rendering. The arguments signature may therefore change. It is recommended instead to use `DataFrame.style.to_latex` which also contains additional functionality.\n",
      "  table_latex = df.to_latex(index=False)\n",
      "/tmp/ipykernel_3694/3352116594.py:22: FutureWarning: In future versions `DataFrame.to_latex` is expected to utilise the base implementation of `Styler.to_latex` for formatting and rendering. The arguments signature may therefore change. It is recommended instead to use `DataFrame.style.to_latex` which also contains additional functionality.\n",
      "  latex = df.to_latex(index=False)\n"
     ]
    }
   ],
   "source": [
    "latexiser_fr(pirates)"
   ]
  },
  {
   "cell_type": "markdown",
   "id": "07b7e681",
   "metadata": {},
   "source": [
    "# Napoléon"
   ]
  },
  {
   "cell_type": "code",
   "execution_count": 46,
   "id": "46f7ff99",
   "metadata": {},
   "outputs": [],
   "source": [
    "extrait= \"Napoléon Bonaparte a envahi la Russie en 1812\" "
   ]
  },
  {
   "cell_type": "code",
   "execution_count": 47,
   "id": "8c9574b8",
   "metadata": {},
   "outputs": [
    {
     "name": "stdout",
     "output_type": "stream",
     "text": [
      "\\begin{tabular}{lllr}\n",
      "\\toprule\n",
      "              span & label  &   ID &  score \\\\\n",
      "\\midrule\n",
      "Napoléon Bonaparte &    PER & Q517 & 0.8908 \\\\\n",
      "            Russie &    LOC & Q159 & 0.3167 \\\\\n",
      "\\bottomrule\n",
      "\\end{tabular}\n",
      "\n"
     ]
    },
    {
     "name": "stderr",
     "output_type": "stream",
     "text": [
      "/tmp/ipykernel_4319/228219269.py:22: FutureWarning: In future versions `DataFrame.to_latex` is expected to utilise the base implementation of `Styler.to_latex` for formatting and rendering. The arguments signature may therefore change. It is recommended instead to use `DataFrame.style.to_latex` which also contains additional functionality.\n",
      "  table_latex = df.to_latex(index=False)\n",
      "/tmp/ipykernel_4319/228219269.py:23: FutureWarning: In future versions `DataFrame.to_latex` is expected to utilise the base implementation of `Styler.to_latex` for formatting and rendering. The arguments signature may therefore change. It is recommended instead to use `DataFrame.style.to_latex` which also contains additional functionality.\n",
      "  latex = df.to_latex(index=False)\n"
     ]
    }
   ],
   "source": [
    "latexiser_fr(extrait)"
   ]
  },
  {
   "cell_type": "code",
   "execution_count": 48,
   "id": "44ceb608",
   "metadata": {},
   "outputs": [
    {
     "name": "stdout",
     "output_type": "stream",
     "text": [
      "\\begin{tabular}{llllr}\n",
      "\\toprule\n",
      "         modèle &               span & label  &      ID &  score \\\\\n",
      "\\midrule\n",
      "fr\\_core\\_news\\_sm & Napoléon Bonaparte &    PER &    Q517 & 0.8908 \\\\\n",
      "fr\\_core\\_news\\_sm &             Russie &    LOC &    Q159 & 0.3167 \\\\\n",
      "fr\\_core\\_news\\_md & Napoléon Bonaparte &    PER &    Q517 & 0.8908 \\\\\n",
      "fr\\_core\\_news\\_md &             Russie &    LOC &    Q159 & 0.3167 \\\\\n",
      "fr\\_core\\_news\\_lg & Napoléon Bonaparte &    PER &    Q517 & 0.8908 \\\\\n",
      "fr\\_core\\_news\\_lg &             Russie &    LOC &    Q159 & 0.3167 \\\\\n",
      " en\\_core\\_web\\_sm & Napoléon Bonaparte & PERSON &    Q517 & 0.8908 \\\\\n",
      " en\\_core\\_web\\_sm &             Russie & PERSON &    Q159 & 0.3167 \\\\\n",
      " en\\_core\\_web\\_sm &               1812 &   DATE & Q616868 & 0.3850 \\\\\n",
      " en\\_core\\_web\\_md & Napoléon Bonaparte & PERSON &    Q517 & 0.8908 \\\\\n",
      " en\\_core\\_web\\_md &             Russie &    GPE &    Q159 & 0.3167 \\\\\n",
      " en\\_core\\_web\\_md &               1812 &   DATE & Q616868 & 0.3850 \\\\\n",
      " en\\_core\\_web\\_lg & Napoléon Bonaparte & PERSON &    Q517 & 0.8908 \\\\\n",
      " en\\_core\\_web\\_lg &             Russie &    GPE &    Q159 & 0.3167 \\\\\n",
      " en\\_core\\_web\\_lg &               1812 &   DATE & Q616868 & 0.3850 \\\\\n",
      "\\bottomrule\n",
      "\\end{tabular}\n",
      "\n"
     ]
    },
    {
     "name": "stderr",
     "output_type": "stream",
     "text": [
      "/tmp/ipykernel_4319/3509878012.py:25: FutureWarning: In future versions `DataFrame.to_latex` is expected to utilise the base implementation of `Styler.to_latex` for formatting and rendering. The arguments signature may therefore change. It is recommended instead to use `DataFrame.style.to_latex` which also contains additional functionality.\n",
      "  latex = df.to_latex(index=False)\n"
     ]
    }
   ],
   "source": [
    "latexiser_mod(extrait)"
   ]
  },
  {
   "cell_type": "code",
   "execution_count": 68,
   "id": "ee6a3760",
   "metadata": {
    "scrolled": true
   },
   "outputs": [
    {
     "name": "stdout",
     "output_type": "stream",
     "text": [
      "____ ____     ____ ____ ____ ____     _  _ ____ _ _ _ ____     ____ _  _ \n",
      "|___ |__/     |    |  | |__/ |___     |\\ | |___ | | | [__      [__  |\\/| \n",
      "|    |  \\ ___ |___ |__| |  \\ |___ ___ | \\| |___ |_|_| ___] ___ ___] |  | \n",
      "                                                                         \n",
      "\n",
      "Napoléon Bonaparte PER Q517 https://www.wikidata.org/wiki/Q517 0.8908\n",
      "Russie LOC Q159 https://www.wikidata.org/wiki/Q159 0.3167\n",
      "____ ____     ____ ____ ____ ____     _  _ ____ _ _ _ ____     _  _ ___  \n",
      "|___ |__/     |    |  | |__/ |___     |\\ | |___ | | | [__      |\\/| |  \\ \n",
      "|    |  \\ ___ |___ |__| |  \\ |___ ___ | \\| |___ |_|_| ___] ___ |  | |__/ \n",
      "                                                                         \n",
      "\n",
      "Napoléon Bonaparte PER Q517 https://www.wikidata.org/wiki/Q517 0.8908\n",
      "Russie LOC Q159 https://www.wikidata.org/wiki/Q159 0.3167\n",
      "____ ____     ____ ____ ____ ____     _  _ ____ _ _ _ ____     _    ____ \n",
      "|___ |__/     |    |  | |__/ |___     |\\ | |___ | | | [__      |    | __ \n",
      "|    |  \\ ___ |___ |__| |  \\ |___ ___ | \\| |___ |_|_| ___] ___ |___ |__] \n",
      "                                                                         \n",
      "\n",
      "Napoléon Bonaparte PER Q517 https://www.wikidata.org/wiki/Q517 0.8908\n",
      "Russie LOC Q159 https://www.wikidata.org/wiki/Q159 0.3167\n",
      "____ _  _     ____ ____ ____ ____     _ _ _ ____ ___      ____ _  _ \n",
      "|___ |\\ |     |    |  | |__/ |___     | | | |___ |__]     [__  |\\/| \n",
      "|___ | \\| ___ |___ |__| |  \\ |___ ___ |_|_| |___ |__] ___ ___] |  | \n",
      "                                                                    \n",
      "\n",
      "Napoléon Bonaparte PERSON Q517 https://www.wikidata.org/wiki/Q517 0.8908\n",
      "Russie PERSON Q159 https://www.wikidata.org/wiki/Q159 0.3167\n",
      "1812 DATE Q616868 https://www.wikidata.org/wiki/Q616868 0.385\n",
      "____ _  _     ____ ____ ____ ____     _ _ _ ____ ___      _  _ ___  \n",
      "|___ |\\ |     |    |  | |__/ |___     | | | |___ |__]     |\\/| |  \\ \n",
      "|___ | \\| ___ |___ |__| |  \\ |___ ___ |_|_| |___ |__] ___ |  | |__/ \n",
      "                                                                    \n",
      "\n",
      "Napoléon Bonaparte PERSON Q517 https://www.wikidata.org/wiki/Q517 0.8908\n",
      "Russie GPE Q159 https://www.wikidata.org/wiki/Q159 0.3167\n",
      "1812 DATE Q616868 https://www.wikidata.org/wiki/Q616868 0.385\n",
      "____ _  _     ____ ____ ____ ____     _ _ _ ____ ___      _    ____ \n",
      "|___ |\\ |     |    |  | |__/ |___     | | | |___ |__]     |    | __ \n",
      "|___ | \\| ___ |___ |__| |  \\ |___ ___ |_|_| |___ |__] ___ |___ |__] \n",
      "                                                                    \n",
      "\n",
      "Napoléon Bonaparte PERSON Q517 https://www.wikidata.org/wiki/Q517 0.8908\n",
      "Russie GPE Q159 https://www.wikidata.org/wiki/Q159 0.3167\n",
      "1812 DATE Q616868 https://www.wikidata.org/wiki/Q616868 0.385\n"
     ]
    }
   ],
   "source": [
    "extrait= \"Napoléon Bonaparte a envahi la Russie en 1812\" \n",
    "    \n",
    "read(extrait)\n"
   ]
  },
  {
   "cell_type": "code",
   "execution_count": null,
   "id": "2f0d40d7",
   "metadata": {},
   "outputs": [],
   "source": [
    "\\footnotesize{\n",
    "\\begin{tabular}{|p{2cm}|p{1cm}|p{1cm}|p{3cm}|p{2cm}|p{1cm}|}\n",
    "\\hline\n",
    "span\n",
    "& label SpaCy\n",
    "& label wikidata\n",
    "& défintion wikidata\n",
    "& url\n",
    "& certitude\n",
    "\\\\ \\hline\n",
    "Napoléon Bonaparte\n",
    "& PERSON\n",
    "& Napoleon\n",
    "& French military leader, French Emperor 1804–1814 and again in 1815\n",
    "& https://www.wikidata.org/wiki/Q517\n",
    "& 0.8908\n",
    "\\\\ \\hline\n",
    "Russie\n",
    "& GPE\n",
    "& Russia\n",
    "& sovereign state in Eastern Europe and Northern Asia\n",
    "& https://www.wikidata.org/wiki/Q159\n",
    "& 0.3167\n",
    "\\\\ \\hline\n",
    "1812\n",
    "& DATE\n",
    "& 1812 in the United States\n",
    "& USA-related events during the year of 1812\n",
    "& https://www.wikidata.org/wiki/Q616868\n",
    "& 0.385"
   ]
  },
  {
   "cell_type": "code",
   "execution_count": 49,
   "id": "2de68c7f",
   "metadata": {},
   "outputs": [],
   "source": [
    "extrait= \"Napoléon Bonaparte envaded Russia in 1812\" "
   ]
  },
  {
   "cell_type": "code",
   "execution_count": 50,
   "id": "051039fe",
   "metadata": {},
   "outputs": [
    {
     "name": "stdout",
     "output_type": "stream",
     "text": [
      "\\begin{tabular}{llllr}\n",
      "\\toprule\n",
      "         modèle &                              span & label  &      ID &  score \\\\\n",
      "\\midrule\n",
      "fr\\_core\\_news\\_sm &                Napoléon Bonaparte &    PER &    Q517 & 0.8908 \\\\\n",
      "fr\\_core\\_news\\_sm &                            Russia &    PER &    Q159 & 0.7091 \\\\\n",
      "fr\\_core\\_news\\_md &                Napoléon Bonaparte &    PER &    Q517 & 0.8908 \\\\\n",
      "fr\\_core\\_news\\_lg & Napoléon Bonaparte envaded Russia &    PER &    None &    NaN \\\\\n",
      " en\\_core\\_web\\_sm &                Napoléon Bonaparte & PERSON &    Q517 & 0.8908 \\\\\n",
      " en\\_core\\_web\\_sm &                            Russia &    GPE &    Q159 & 0.7091 \\\\\n",
      " en\\_core\\_web\\_sm &                              1812 &   DATE & Q616868 & 0.3850 \\\\\n",
      " en\\_core\\_web\\_md &                Napoléon Bonaparte & PERSON &    Q517 & 0.8908 \\\\\n",
      " en\\_core\\_web\\_md &                            Russia &    GPE &    Q159 & 0.7091 \\\\\n",
      " en\\_core\\_web\\_md &                              1812 &   DATE & Q616868 & 0.3850 \\\\\n",
      " en\\_core\\_web\\_lg &                Napoléon Bonaparte & PERSON &    Q517 & 0.8908 \\\\\n",
      " en\\_core\\_web\\_lg &                            Russia &    GPE &    Q159 & 0.7091 \\\\\n",
      " en\\_core\\_web\\_lg &                              1812 &   DATE & Q616868 & 0.3850 \\\\\n",
      "\\bottomrule\n",
      "\\end{tabular}\n",
      "\n"
     ]
    },
    {
     "name": "stderr",
     "output_type": "stream",
     "text": [
      "/tmp/ipykernel_4319/3509878012.py:25: FutureWarning: In future versions `DataFrame.to_latex` is expected to utilise the base implementation of `Styler.to_latex` for formatting and rendering. The arguments signature may therefore change. It is recommended instead to use `DataFrame.style.to_latex` which also contains additional functionality.\n",
      "  latex = df.to_latex(index=False)\n"
     ]
    }
   ],
   "source": [
    "latexiser_mod(extrait)"
   ]
  },
  {
   "cell_type": "code",
   "execution_count": 23,
   "id": "47b32957",
   "metadata": {},
   "outputs": [
    {
     "name": "stdout",
     "output_type": "stream",
     "text": [
      "\\begin{tabular}{lllr}\n",
      "\\toprule\n",
      "              span &  label &                                   URL &  score \\\\\n",
      "\\midrule\n",
      "Napoléon Bonaparte & PERSON &    https://www.wikidata.org/wiki/Q517 & 0.8908 \\\\\n",
      "            Russia &    GPE &    https://www.wikidata.org/wiki/Q159 & 0.7091 \\\\\n",
      "              1812 &   DATE & https://www.wikidata.org/wiki/Q616868 & 0.3850 \\\\\n",
      "\\bottomrule\n",
      "\\end{tabular}\n",
      "\n"
     ]
    },
    {
     "name": "stderr",
     "output_type": "stream",
     "text": [
      "/tmp/ipykernel_3911/1437428174.py:18: FutureWarning: In future versions `DataFrame.to_latex` is expected to utilise the base implementation of `Styler.to_latex` for formatting and rendering. The arguments signature may therefore change. It is recommended instead to use `DataFrame.style.to_latex` which also contains additional functionality.\n",
      "  table_latex = df.to_latex(index=False)\n",
      "/tmp/ipykernel_3911/1437428174.py:19: FutureWarning: In future versions `DataFrame.to_latex` is expected to utilise the base implementation of `Styler.to_latex` for formatting and rendering. The arguments signature may therefore change. It is recommended instead to use `DataFrame.style.to_latex` which also contains additional functionality.\n",
      "  latex = df.to_latex(index=False)\n"
     ]
    }
   ],
   "source": [
    "latexiser_eng(extrait)"
   ]
  },
  {
   "cell_type": "code",
   "execution_count": 24,
   "id": "0f3c4536",
   "metadata": {},
   "outputs": [
    {
     "name": "stdout",
     "output_type": "stream",
     "text": [
      "____ ____     ____ ____ ____ ____     _  _ ____ _ _ _ ____     ____ _  _ \n",
      "|___ |__/     |    |  | |__/ |___     |\\ | |___ | | | [__      [__  |\\/| \n",
      "|    |  \\ ___ |___ |__| |  \\ |___ ___ | \\| |___ |_|_| ___] ___ ___] |  | \n",
      "                                                                         \n",
      "\n",
      "Napoléon Bonaparte PER Q517 https://www.wikidata.org/wiki/Q517 0.8908\n",
      "Russia PER Q159 https://www.wikidata.org/wiki/Q159 0.7091\n",
      "____ ____     ____ ____ ____ ____     _  _ ____ _ _ _ ____     _  _ ___  \n",
      "|___ |__/     |    |  | |__/ |___     |\\ | |___ | | | [__      |\\/| |  \\ \n",
      "|    |  \\ ___ |___ |__| |  \\ |___ ___ | \\| |___ |_|_| ___] ___ |  | |__/ \n",
      "                                                                         \n",
      "\n",
      "Napoléon Bonaparte PER Q517 https://www.wikidata.org/wiki/Q517 0.8908\n",
      "____ ____     ____ ____ ____ ____     _  _ ____ _ _ _ ____     _    ____ \n",
      "|___ |__/     |    |  | |__/ |___     |\\ | |___ | | | [__      |    | __ \n",
      "|    |  \\ ___ |___ |__| |  \\ |___ ___ | \\| |___ |_|_| ___] ___ |___ |__] \n",
      "                                                                         \n",
      "\n",
      "Napoléon Bonaparte envaded Russia PER None None None\n",
      "____ _  _     ____ ____ ____ ____     _ _ _ ____ ___      ____ _  _ \n",
      "|___ |\\ |     |    |  | |__/ |___     | | | |___ |__]     [__  |\\/| \n",
      "|___ | \\| ___ |___ |__| |  \\ |___ ___ |_|_| |___ |__] ___ ___] |  | \n",
      "                                                                    \n",
      "\n",
      "Napoléon Bonaparte PERSON Q517 https://www.wikidata.org/wiki/Q517 0.8908\n",
      "Russia GPE Q159 https://www.wikidata.org/wiki/Q159 0.7091\n",
      "1812 DATE Q616868 https://www.wikidata.org/wiki/Q616868 0.385\n",
      "____ _  _     ____ ____ ____ ____     _ _ _ ____ ___      _  _ ___  \n",
      "|___ |\\ |     |    |  | |__/ |___     | | | |___ |__]     |\\/| |  \\ \n",
      "|___ | \\| ___ |___ |__| |  \\ |___ ___ |_|_| |___ |__] ___ |  | |__/ \n",
      "                                                                    \n",
      "\n",
      "Napoléon Bonaparte PERSON Q517 https://www.wikidata.org/wiki/Q517 0.8908\n",
      "Russia GPE Q159 https://www.wikidata.org/wiki/Q159 0.7091\n",
      "1812 DATE Q616868 https://www.wikidata.org/wiki/Q616868 0.385\n",
      "____ _  _     ____ ____ ____ ____     _ _ _ ____ ___      _    ____ \n",
      "|___ |\\ |     |    |  | |__/ |___     | | | |___ |__]     |    | __ \n",
      "|___ | \\| ___ |___ |__| |  \\ |___ ___ |_|_| |___ |__] ___ |___ |__] \n",
      "                                                                    \n",
      "\n",
      "Napoléon Bonaparte PERSON Q517 https://www.wikidata.org/wiki/Q517 0.8908\n",
      "Russia GPE Q159 https://www.wikidata.org/wiki/Q159 0.7091\n",
      "1812 DATE Q616868 https://www.wikidata.org/wiki/Q616868 0.385\n"
     ]
    }
   ],
   "source": [
    "read(extrait)"
   ]
  },
  {
   "cell_type": "markdown",
   "id": "7b7b99da",
   "metadata": {},
   "source": [
    "# BRONTE, Wuthering heights"
   ]
  },
  {
   "cell_type": "code",
   "execution_count": 27,
   "id": "c3e33325",
   "metadata": {},
   "outputs": [],
   "source": [
    "ref = \"A Pious Discourse delivered by the Reverend Jabes Branderham, in the Chapel of Gimmerden Sough\""
   ]
  },
  {
   "cell_type": "code",
   "execution_count": 28,
   "id": "859a912f",
   "metadata": {},
   "outputs": [],
   "source": [
    "kraken = \"A Pious Discourse delisrered by the Reverend Jabes Branderham, in the Chapel of Gimmer-den Songh.\""
   ]
  },
  {
   "cell_type": "code",
   "execution_count": 29,
   "id": "209cdee5",
   "metadata": {},
   "outputs": [],
   "source": [
    "tesseractBin=\"A Pious Discourse delivered by the Reverend Jabes Branderham, in the Chapel of Gimmer-den Sough.\""
   ]
  },
  {
   "cell_type": "code",
   "execution_count": 30,
   "id": "8f06ddd4",
   "metadata": {},
   "outputs": [],
   "source": [
    "tesseractPNG =\"A Pious Discourse delivered by the Reverend Jabes Branderham, in the Chapel of Gimmer-den Sough\""
   ]
  },
  {
   "cell_type": "code",
   "execution_count": 58,
   "id": "a84559d4",
   "metadata": {},
   "outputs": [
    {
     "name": "stdout",
     "output_type": "stream",
     "text": [
      "\\begin{tabular}{lllll}\n",
      "\\toprule\n",
      "         modèle &                                               span & label  &   ID & score \\\\\n",
      "\\midrule\n",
      "fr\\_core\\_news\\_md &                                            A Pious &   MISC & None &  None \\\\\n",
      "fr\\_core\\_news\\_lg & A Pious Discourse delisrered by the Reverend Ja... &   MISC & None &  None \\\\\n",
      " en\\_core\\_web\\_sm &                                   Jabes Branderham & PERSON & None &  None \\\\\n",
      " en\\_core\\_web\\_sm &                                              Songh & PERSON & None &  None \\\\\n",
      " en\\_core\\_web\\_md &                                   Jabes Branderham & PERSON & None &  None \\\\\n",
      " en\\_core\\_web\\_lg &                                   Jabes Branderham & PERSON & None &  None \\\\\n",
      " en\\_core\\_web\\_lg &                                              Songh & PERSON & None &  None \\\\\n",
      "\\bottomrule\n",
      "\\end{tabular}\n",
      "\n"
     ]
    },
    {
     "name": "stderr",
     "output_type": "stream",
     "text": [
      "/tmp/ipykernel_4319/3509878012.py:25: FutureWarning: In future versions `DataFrame.to_latex` is expected to utilise the base implementation of `Styler.to_latex` for formatting and rendering. The arguments signature may therefore change. It is recommended instead to use `DataFrame.style.to_latex` which also contains additional functionality.\n",
      "  latex = df.to_latex(index=False)\n"
     ]
    }
   ],
   "source": [
    "latexiser_mod(kraken)"
   ]
  },
  {
   "cell_type": "code",
   "execution_count": 31,
   "id": "6bbbb2d5",
   "metadata": {},
   "outputs": [
    {
     "name": "stdout",
     "output_type": "stream",
     "text": [
      "\\begin{tabular}{llll}\n",
      "\\toprule\n",
      "            span &  label &   ID & score \\\\\n",
      "\\midrule\n",
      "Jabes Branderham & PERSON & None &  None \\\\\n",
      "           Songh & PERSON & None &  None \\\\\n",
      "\\bottomrule\n",
      "\\end{tabular}\n",
      "\n"
     ]
    },
    {
     "name": "stderr",
     "output_type": "stream",
     "text": [
      "/tmp/ipykernel_4729/2656470650.py:19: FutureWarning: In future versions `DataFrame.to_latex` is expected to utilise the base implementation of `Styler.to_latex` for formatting and rendering. The arguments signature may therefore change. It is recommended instead to use `DataFrame.style.to_latex` which also contains additional functionality.\n",
      "  table_latex = df.to_latex(index=False)\n",
      "/tmp/ipykernel_4729/2656470650.py:20: FutureWarning: In future versions `DataFrame.to_latex` is expected to utilise the base implementation of `Styler.to_latex` for formatting and rendering. The arguments signature may therefore change. It is recommended instead to use `DataFrame.style.to_latex` which also contains additional functionality.\n",
      "  latex = df.to_latex(index=False)\n"
     ]
    }
   ],
   "source": [
    "latexiser_eng(kraken)"
   ]
  },
  {
   "cell_type": "code",
   "execution_count": 56,
   "id": "b2893de1",
   "metadata": {},
   "outputs": [
    {
     "name": "stdout",
     "output_type": "stream",
     "text": [
      "\\begin{tabular}{lllll}\n",
      "\\toprule\n",
      "         modèle &                                               span & label  &   ID & score \\\\\n",
      "\\midrule\n",
      "fr\\_core\\_news\\_md &                                            A Pious &   MISC & None &  None \\\\\n",
      "fr\\_core\\_news\\_lg & A Pious Discourse delivered by the Reverend Jab... &   MISC & None &  None \\\\\n",
      " en\\_core\\_web\\_sm &                                   Jabes Branderham & PERSON & None &  None \\\\\n",
      " en\\_core\\_web\\_sm &                                    Gimmerden Sough &    GPE & None &  None \\\\\n",
      " en\\_core\\_web\\_md &                                   Jabes Branderham & PERSON & None &  None \\\\\n",
      " en\\_core\\_web\\_md &                            the Chapel of Gimmerden &    FAC & None &  None \\\\\n",
      " en\\_core\\_web\\_lg &                                   Jabes Branderham & PERSON & None &  None \\\\\n",
      " en\\_core\\_web\\_lg &                      the Chapel of Gimmerden Sough &    FAC & None &  None \\\\\n",
      "\\bottomrule\n",
      "\\end{tabular}\n",
      "\n"
     ]
    },
    {
     "name": "stderr",
     "output_type": "stream",
     "text": [
      "/tmp/ipykernel_4319/3509878012.py:25: FutureWarning: In future versions `DataFrame.to_latex` is expected to utilise the base implementation of `Styler.to_latex` for formatting and rendering. The arguments signature may therefore change. It is recommended instead to use `DataFrame.style.to_latex` which also contains additional functionality.\n",
      "  latex = df.to_latex(index=False)\n"
     ]
    }
   ],
   "source": [
    "latexiser_mod(ref)"
   ]
  },
  {
   "cell_type": "code",
   "execution_count": 25,
   "id": "a20b75cf",
   "metadata": {},
   "outputs": [
    {
     "name": "stdout",
     "output_type": "stream",
     "text": [
      "\\begin{tabular}{llll}\n",
      "\\toprule\n",
      "                         span &  label &   ID & score \\\\\n",
      "\\midrule\n",
      "             Jabes Branderham & PERSON & None &  None \\\\\n",
      "the Chapel of Gimmerden Sough &    FAC & None &  None \\\\\n",
      "\\bottomrule\n",
      "\\end{tabular}\n",
      "\n"
     ]
    },
    {
     "name": "stderr",
     "output_type": "stream",
     "text": [
      "/tmp/ipykernel_4729/2656470650.py:19: FutureWarning: In future versions `DataFrame.to_latex` is expected to utilise the base implementation of `Styler.to_latex` for formatting and rendering. The arguments signature may therefore change. It is recommended instead to use `DataFrame.style.to_latex` which also contains additional functionality.\n",
      "  table_latex = df.to_latex(index=False)\n",
      "/tmp/ipykernel_4729/2656470650.py:20: FutureWarning: In future versions `DataFrame.to_latex` is expected to utilise the base implementation of `Styler.to_latex` for formatting and rendering. The arguments signature may therefore change. It is recommended instead to use `DataFrame.style.to_latex` which also contains additional functionality.\n",
      "  latex = df.to_latex(index=False)\n"
     ]
    }
   ],
   "source": [
    "latexiser_eng(ref)"
   ]
  },
  {
   "cell_type": "code",
   "execution_count": 30,
   "id": "60164d40",
   "metadata": {},
   "outputs": [
    {
     "name": "stdout",
     "output_type": "stream",
     "text": [
      "____ ____     ____ ____ ____ ____     _  _ ____ _ _ _ ____     ____ _  _ \n",
      "|___ |__/     |    |  | |__/ |___     |\\ | |___ | | | [__      [__  |\\/| \n",
      "|    |  \\ ___ |___ |__| |  \\ |___ ___ | \\| |___ |_|_| ___] ___ ___] |  | \n",
      "                                                                         \n",
      "\n",
      "____ ____     ____ ____ ____ ____     _  _ ____ _ _ _ ____     _  _ ___  \n",
      "|___ |__/     |    |  | |__/ |___     |\\ | |___ | | | [__      |\\/| |  \\ \n",
      "|    |  \\ ___ |___ |__| |  \\ |___ ___ | \\| |___ |_|_| ___] ___ |  | |__/ \n",
      "                                                                         \n",
      "\n",
      "A Pious MISC None None None\n",
      "____ ____     ____ ____ ____ ____     _  _ ____ _ _ _ ____     _    ____ \n",
      "|___ |__/     |    |  | |__/ |___     |\\ | |___ | | | [__      |    | __ \n",
      "|    |  \\ ___ |___ |__| |  \\ |___ ___ | \\| |___ |_|_| ___] ___ |___ |__] \n",
      "                                                                         \n",
      "\n",
      "A Pious Discourse delivered by the Reverend Jabes Branderham MISC None None None\n",
      "____ _  _     ____ ____ ____ ____     _ _ _ ____ ___      ____ _  _ \n",
      "|___ |\\ |     |    |  | |__/ |___     | | | |___ |__]     [__  |\\/| \n",
      "|___ | \\| ___ |___ |__| |  \\ |___ ___ |_|_| |___ |__] ___ ___] |  | \n",
      "                                                                    \n",
      "\n",
      "Jabes Branderham PERSON None None None\n",
      "Gimmerden Sough GPE None None None\n",
      "____ _  _     ____ ____ ____ ____     _ _ _ ____ ___      _  _ ___  \n",
      "|___ |\\ |     |    |  | |__/ |___     | | | |___ |__]     |\\/| |  \\ \n",
      "|___ | \\| ___ |___ |__| |  \\ |___ ___ |_|_| |___ |__] ___ |  | |__/ \n",
      "                                                                    \n",
      "\n",
      "Jabes Branderham PERSON None None None\n",
      "the Chapel of Gimmerden FAC None None None\n",
      "____ _  _     ____ ____ ____ ____     _ _ _ ____ ___      _    ____ \n",
      "|___ |\\ |     |    |  | |__/ |___     | | | |___ |__]     |    | __ \n",
      "|___ | \\| ___ |___ |__| |  \\ |___ ___ |_|_| |___ |__] ___ |___ |__] \n",
      "                                                                    \n",
      "\n",
      "Jabes Branderham PERSON None None None\n",
      "the Chapel of Gimmerden Sough FAC None None None\n"
     ]
    }
   ],
   "source": [
    "read(ref)"
   ]
  },
  {
   "cell_type": "code",
   "execution_count": null,
   "id": "fca59410",
   "metadata": {},
   "outputs": [],
   "source": [
    "& en_core_web_sm\n",
    "& en_core_web_md\n",
    "& en_core_web_lg\n",
    "\n",
    "\n",
    "Jabes Branderham\n",
    "& Jabes Branderham\n",
    "& Jabes Branderham\n",
    "& Jabes Branderham\n",
    "\n",
    "\n",
    "\n",
    "the Chapel of Gimmerden Sough\n",
    "& Gimmerden Sough\n",
    "& the Chapel of Gimmerden\n",
    "& the Chapel of Gimmerden Sough\n"
   ]
  },
  {
   "cell_type": "code",
   "execution_count": 31,
   "id": "79b30031",
   "metadata": {},
   "outputs": [
    {
     "name": "stdout",
     "output_type": "stream",
     "text": [
      "\\begin{tabular}{llll}\n",
      "\\toprule\n",
      "            span &  label &  URL & score \\\\\n",
      "\\midrule\n",
      "Jabes Branderham & PERSON & None &  None \\\\\n",
      "\\bottomrule\n",
      "\\end{tabular}\n",
      "\n"
     ]
    },
    {
     "name": "stderr",
     "output_type": "stream",
     "text": [
      "/tmp/ipykernel_3911/1437428174.py:18: FutureWarning: In future versions `DataFrame.to_latex` is expected to utilise the base implementation of `Styler.to_latex` for formatting and rendering. The arguments signature may therefore change. It is recommended instead to use `DataFrame.style.to_latex` which also contains additional functionality.\n",
      "  table_latex = df.to_latex(index=False)\n",
      "/tmp/ipykernel_3911/1437428174.py:19: FutureWarning: In future versions `DataFrame.to_latex` is expected to utilise the base implementation of `Styler.to_latex` for formatting and rendering. The arguments signature may therefore change. It is recommended instead to use `DataFrame.style.to_latex` which also contains additional functionality.\n",
      "  latex = df.to_latex(index=False)\n"
     ]
    }
   ],
   "source": [
    "latexiser_eng(kraken)"
   ]
  },
  {
   "cell_type": "code",
   "execution_count": 32,
   "id": "1aad19a2",
   "metadata": {},
   "outputs": [
    {
     "name": "stdout",
     "output_type": "stream",
     "text": [
      "____ ____     ____ ____ ____ ____     _  _ ____ _ _ _ ____     ____ _  _ \n",
      "|___ |__/     |    |  | |__/ |___     |\\ | |___ | | | [__      [__  |\\/| \n",
      "|    |  \\ ___ |___ |__| |  \\ |___ ___ | \\| |___ |_|_| ___] ___ ___] |  | \n",
      "                                                                         \n",
      "\n",
      "____ ____     ____ ____ ____ ____     _  _ ____ _ _ _ ____     _  _ ___  \n",
      "|___ |__/     |    |  | |__/ |___     |\\ | |___ | | | [__      |\\/| |  \\ \n",
      "|    |  \\ ___ |___ |__| |  \\ |___ ___ | \\| |___ |_|_| ___] ___ |  | |__/ \n",
      "                                                                         \n",
      "\n",
      "A Pious MISC None None None\n",
      "____ ____     ____ ____ ____ ____     _  _ ____ _ _ _ ____     _    ____ \n",
      "|___ |__/     |    |  | |__/ |___     |\\ | |___ | | | [__      |    | __ \n",
      "|    |  \\ ___ |___ |__| |  \\ |___ ___ | \\| |___ |_|_| ___] ___ |___ |__] \n",
      "                                                                         \n",
      "\n",
      "A Pious Discourse delisrered by the Reverend Jabes Branderham MISC None None None\n",
      "____ _  _     ____ ____ ____ ____     _ _ _ ____ ___      ____ _  _ \n",
      "|___ |\\ |     |    |  | |__/ |___     | | | |___ |__]     [__  |\\/| \n",
      "|___ | \\| ___ |___ |__| |  \\ |___ ___ |_|_| |___ |__] ___ ___] |  | \n",
      "                                                                    \n",
      "\n",
      "Jabes Branderham PERSON None None None\n",
      "Songh PERSON None None None\n",
      "____ _  _     ____ ____ ____ ____     _ _ _ ____ ___      _  _ ___  \n",
      "|___ |\\ |     |    |  | |__/ |___     | | | |___ |__]     |\\/| |  \\ \n",
      "|___ | \\| ___ |___ |__| |  \\ |___ ___ |_|_| |___ |__] ___ |  | |__/ \n",
      "                                                                    \n",
      "\n",
      "Jabes Branderham PERSON None None None\n",
      "____ _  _     ____ ____ ____ ____     _ _ _ ____ ___      _    ____ \n",
      "|___ |\\ |     |    |  | |__/ |___     | | | |___ |__]     |    | __ \n",
      "|___ | \\| ___ |___ |__| |  \\ |___ ___ |_|_| |___ |__] ___ |___ |__] \n",
      "                                                                    \n",
      "\n",
      "Jabes Branderham PERSON None None None\n",
      "Songh PERSON None None None\n"
     ]
    }
   ],
   "source": [
    "read(kraken)"
   ]
  },
  {
   "cell_type": "code",
   "execution_count": null,
   "id": "7c21dab5",
   "metadata": {},
   "outputs": [],
   "source": [
    "\\begin{tabular}{p{5cm}p{5cm}}\n",
    "référence\n",
    "& Kraken\n",
    "\\\\\n",
    "      A Pious Discourse delivered by the \\textcolor{red}{Reverend Jabes Branderham}, in the \\textcolor{red}{Chapel of  Gimmerden Sough}\n",
    "    \n",
    "     & A Pious Discoursedelisrered by the Reverend \\textcolor{red}{Jabes Branderham}, in the Chapel of Gimmer-den Songh\n",
    "         \n",
    "\\end{tabular}\n",
    "\\footnotesize{\n",
    "\\begin{tabular}{|p{4cm}|p{1cm}|p{1cm}|p{1cm}|}\n",
    "\\hline\n",
    "\n",
    "span\n",
    "& label SpaCy\n",
    "& référence\n",
    "& kraken\n",
    "\n",
    "\\\\ \\hline\n",
    "Jabes Branderham\n",
    "& PERSON\n",
    "& oui\n",
    "& oui\n",
    "\\\\\\hline\n",
    "the Chapel of Gimmerden\n",
    "& FAC\n",
    "& oui\n",
    "& non\n",
    "\\\\\\hline\n",
    "\n",
    "\n",
    "\\end{tabular}"
   ]
  },
  {
   "cell_type": "markdown",
   "id": "4c6df6fe",
   "metadata": {},
   "source": [
    "# AINSWORTH"
   ]
  },
  {
   "cell_type": "code",
   "execution_count": 95,
   "id": "010e25ea",
   "metadata": {},
   "outputs": [],
   "source": [
    "ref = \"he declares he lived in Queen Bess’s time, recollects King Charles bein’ beheaded perfectly vell, and remembers the Great Fire o’ London” \""
   ]
  },
  {
   "cell_type": "code",
   "execution_count": 96,
   "id": "2a08e811",
   "metadata": {},
   "outputs": [],
   "source": [
    "kraken = \"e declares ho lired in (Queen Bess's time, recollects Iing Charles bein' beheaded perfectly vell, and remembers,the Great Fire o' London\""
   ]
  },
  {
   "cell_type": "code",
   "execution_count": 97,
   "id": "800469ab",
   "metadata": {},
   "outputs": [],
   "source": [
    "tesseractBIN = \"he declares he lived in Queen Bess’s time, recollects King Charles bein’ beheaded perfectly vell, and remembers the Great Fire o’ London, as if it only occurred yester-day.\""
   ]
  },
  {
   "cell_type": "code",
   "execution_count": 98,
   "id": "26751df3",
   "metadata": {},
   "outputs": [],
   "source": [
    "tesseractPNG = \"he declares he lived in Queen Bess’s time, recollects King Charles bein’ beheaded perfectly vell, and remembers the Great Fire o’ London\""
   ]
  },
  {
   "cell_type": "code",
   "execution_count": 99,
   "id": "4404b2c1",
   "metadata": {},
   "outputs": [
    {
     "name": "stdout",
     "output_type": "stream",
     "text": [
      "\\begin{tabular}{lllr}\n",
      "\\toprule\n",
      "             span &  label &                                  URL &  score \\\\\n",
      "\\midrule\n",
      "     Queen Bess’s & PERSON &                                 None &    NaN \\\\\n",
      "     King Charles & PERSON & https://www.wikidata.org/wiki/Q81506 & 0.3781 \\\\\n",
      "             vell &    ORG & https://www.wikidata.org/wiki/Q44907 & 0.1469 \\\\\n",
      "the Great Fire o’ &  EVENT &                                 None &    NaN \\\\\n",
      "           London &    GPE &    https://www.wikidata.org/wiki/Q84 & 0.4563 \\\\\n",
      "\\bottomrule\n",
      "\\end{tabular}\n",
      "\n"
     ]
    },
    {
     "name": "stderr",
     "output_type": "stream",
     "text": [
      "/tmp/ipykernel_3911/1437428174.py:18: FutureWarning: In future versions `DataFrame.to_latex` is expected to utilise the base implementation of `Styler.to_latex` for formatting and rendering. The arguments signature may therefore change. It is recommended instead to use `DataFrame.style.to_latex` which also contains additional functionality.\n",
      "  table_latex = df.to_latex(index=False)\n",
      "/tmp/ipykernel_3911/1437428174.py:19: FutureWarning: In future versions `DataFrame.to_latex` is expected to utilise the base implementation of `Styler.to_latex` for formatting and rendering. The arguments signature may therefore change. It is recommended instead to use `DataFrame.style.to_latex` which also contains additional functionality.\n",
      "  latex = df.to_latex(index=False)\n"
     ]
    }
   ],
   "source": [
    "latexiser_eng(ref)"
   ]
  },
  {
   "cell_type": "code",
   "execution_count": 100,
   "id": "1698c76c",
   "metadata": {},
   "outputs": [
    {
     "name": "stdout",
     "output_type": "stream",
     "text": [
      "\\begin{tabular}{lllr}\n",
      "\\toprule\n",
      "             span &  label &                                  URL &  score \\\\\n",
      "\\midrule\n",
      "         ho lired & PERSON &                                 None &    NaN \\\\\n",
      "     Iing Charles &    ORG &                                 None &    NaN \\\\\n",
      "             vell &    ORG & https://www.wikidata.org/wiki/Q44907 & 0.1469 \\\\\n",
      "the Great Fire o' &  EVENT &                                 None &    NaN \\\\\n",
      "           London &    GPE &    https://www.wikidata.org/wiki/Q84 & 0.4563 \\\\\n",
      "\\bottomrule\n",
      "\\end{tabular}\n",
      "\n"
     ]
    },
    {
     "name": "stderr",
     "output_type": "stream",
     "text": [
      "/tmp/ipykernel_3911/1437428174.py:18: FutureWarning: In future versions `DataFrame.to_latex` is expected to utilise the base implementation of `Styler.to_latex` for formatting and rendering. The arguments signature may therefore change. It is recommended instead to use `DataFrame.style.to_latex` which also contains additional functionality.\n",
      "  table_latex = df.to_latex(index=False)\n",
      "/tmp/ipykernel_3911/1437428174.py:19: FutureWarning: In future versions `DataFrame.to_latex` is expected to utilise the base implementation of `Styler.to_latex` for formatting and rendering. The arguments signature may therefore change. It is recommended instead to use `DataFrame.style.to_latex` which also contains additional functionality.\n",
      "  latex = df.to_latex(index=False)\n"
     ]
    }
   ],
   "source": [
    "latexiser_eng(kraken)"
   ]
  },
  {
   "cell_type": "code",
   "execution_count": 41,
   "id": "dd53bb8c",
   "metadata": {
    "scrolled": true
   },
   "outputs": [
    {
     "name": "stdout",
     "output_type": "stream",
     "text": [
      "____ ____     ____ ____ ____ ____     _  _ ____ _ _ _ ____     ____ _  _ \n",
      "|___ |__/     |    |  | |__/ |___     |\\ | |___ | | | [__      [__  |\\/| \n",
      "|    |  \\ ___ |___ |__| |  \\ |___ ___ | \\| |___ |_|_| ___] ___ ___] |  | \n",
      "                                                                         \n",
      "\n",
      "Queen Bess’ MISC None None None\n",
      "King Charles bein’ beheaded PER None None None\n",
      "vell ORG None None None\n",
      "____ ____     ____ ____ ____ ____     _  _ ____ _ _ _ ____     _  _ ___  \n",
      "|___ |__/     |    |  | |__/ |___     |\\ | |___ | | | [__      |\\/| |  \\ \n",
      "|    |  \\ ___ |___ |__| |  \\ |___ ___ | \\| |___ |_|_| ___] ___ |  | |__/ \n",
      "                                                                         \n",
      "\n",
      "Queen Bess’ MISC None None None\n",
      "King Charles PER Q81506 https://www.wikidata.org/wiki/Q81506 0.3781\n",
      "vell ORG Q44907 https://www.wikidata.org/wiki/Q44907 0.1469\n",
      "and remembers the Great Fire o’ London ORG None None None\n",
      "____ ____     ____ ____ ____ ____     _  _ ____ _ _ _ ____     _    ____ \n",
      "|___ |__/     |    |  | |__/ |___     |\\ | |___ | | | [__      |    | __ \n",
      "|    |  \\ ___ |___ |__| |  \\ |___ ___ | \\| |___ |_|_| ___] ___ |___ |__] \n",
      "                                                                         \n",
      "\n",
      "he declares MISC None None None\n",
      "Charles bein’ beheaded PER None None None\n",
      "vell ORG None None None\n",
      "the Great Fire o’ London” MISC None None None\n",
      "____ _  _     ____ ____ ____ ____     _ _ _ ____ ___      ____ _  _ \n",
      "|___ |\\ |     |    |  | |__/ |___     | | | |___ |__]     [__  |\\/| \n",
      "|___ | \\| ___ |___ |__| |  \\ |___ ___ |_|_| |___ |__] ___ ___] |  | \n",
      "                                                                    \n",
      "\n",
      "Queen Bess’s ORG None None None\n",
      "Charles PERSON Q289172 https://www.wikidata.org/wiki/Q289172 0.3402\n",
      "the Great Fire FAC Q4555174 https://www.wikidata.org/wiki/Q4555174 0.3403\n",
      "London GPE Q84 https://www.wikidata.org/wiki/Q84 0.4563\n",
      "____ _  _     ____ ____ ____ ____     _ _ _ ____ ___      _  _ ___  \n",
      "|___ |\\ |     |    |  | |__/ |___     | | | |___ |__]     |\\/| |  \\ \n",
      "|___ | \\| ___ |___ |__| |  \\ |___ ___ |_|_| |___ |__] ___ |  | |__/ \n",
      "                                                                    \n",
      "\n",
      "Queen Bess’s PERSON None None None\n",
      "King Charles PERSON Q81506 https://www.wikidata.org/wiki/Q81506 0.3781\n",
      "vell ORG Q44907 https://www.wikidata.org/wiki/Q44907 0.1469\n",
      "the Great Fire o’ EVENT None None None\n",
      "London GPE Q84 https://www.wikidata.org/wiki/Q84 0.4563\n",
      "____ _  _     ____ ____ ____ ____     _ _ _ ____ ___      _    ____ \n",
      "|___ |\\ |     |    |  | |__/ |___     | | | |___ |__]     |    | __ \n",
      "|___ | \\| ___ |___ |__| |  \\ |___ ___ |_|_| |___ |__] ___ |___ |__] \n",
      "                                                                    \n",
      "\n",
      "Bess PERSON Q233652 https://www.wikidata.org/wiki/Q233652 0.3474\n",
      "King Charles PERSON Q81506 https://www.wikidata.org/wiki/Q81506 0.3781\n",
      "vell ORG Q44907 https://www.wikidata.org/wiki/Q44907 0.1469\n",
      "London GPE Q84 https://www.wikidata.org/wiki/Q84 0.4563\n"
     ]
    }
   ],
   "source": [
    "read(ref)"
   ]
  },
  {
   "cell_type": "code",
   "execution_count": null,
   "id": "ea59a5ee",
   "metadata": {},
   "outputs": [],
   "source": [
    "\n",
    "Russia GPE Q159 https://www.wikidata.org/wiki/Q159 0.7091\\footnotesize{\n",
    "\\begin{tabular}{|p{2cm}|p{1cm}|p{1cm}|p{3cm}|p{2cm}|p{1cm}|}\n",
    "\\hline\n",
    "span\n",
    "& label SpaCy\n",
    "& label wikidata\n",
    "& défintion wikidata\n",
    "& url\n",
    "& certitude\n",
    "\\\\ \\hline\n",
    "Queen Bess’s\n",
    "& PERSON\n",
    "& None\n",
    "& None\n",
    "& None\n",
    "\\\\ \\hline\n",
    "King Charles\n",
    "& PERSON\n",
    "& Charles I of England\n",
    "& monarch of the three kingdoms of England, Scotland, and Ireland (1600-1649)\n",
    "& https://www.wikidata.org/wiki/Q81506\n",
    "& 0.3781\n",
    "\\\\ \\hline\n",
    "vell\n",
    "& ORG\n",
    "& José Mariano de Conceição Vellozo\n",
    "& Brazilian botanist (1742-1811)\n",
    "& https://www.wikidata.org/wiki/Q44907\n",
    "& 0.1469\n",
    "\\\\ \\hline\n",
    "the Great Fire o’\n",
    "EVENT\n",
    "None\n",
    "None\n",
    "None\n",
    "None\n",
    "\\\\ \\hline\n",
    "London\n",
    "& GPE\n",
    "& London\n",
    "& capital and largest city of the United Kingdom\n",
    "& https://www.wikidata.org/wiki/Q84\n",
    "& 0.4563\n",
    "\\\\ \\hline\n"
   ]
  },
  {
   "cell_type": "code",
   "execution_count": 43,
   "id": "3f02a0e9",
   "metadata": {},
   "outputs": [
    {
     "name": "stdout",
     "output_type": "stream",
     "text": [
      "\\begin{tabular}{lllr}\n",
      "\\toprule\n",
      "             span &  label &                                  URL &  score \\\\\n",
      "\\midrule\n",
      "         ho lired & PERSON &                                 None &    NaN \\\\\n",
      "     Iing Charles &    ORG &                                 None &    NaN \\\\\n",
      "             vell &    ORG & https://www.wikidata.org/wiki/Q44907 & 0.1469 \\\\\n",
      "the Great Fire o' &  EVENT &                                 None &    NaN \\\\\n",
      "           London &    GPE &    https://www.wikidata.org/wiki/Q84 & 0.4563 \\\\\n",
      "\\bottomrule\n",
      "\\end{tabular}\n",
      "\n"
     ]
    },
    {
     "name": "stderr",
     "output_type": "stream",
     "text": [
      "/tmp/ipykernel_3911/1437428174.py:18: FutureWarning: In future versions `DataFrame.to_latex` is expected to utilise the base implementation of `Styler.to_latex` for formatting and rendering. The arguments signature may therefore change. It is recommended instead to use `DataFrame.style.to_latex` which also contains additional functionality.\n",
      "  table_latex = df.to_latex(index=False)\n",
      "/tmp/ipykernel_3911/1437428174.py:19: FutureWarning: In future versions `DataFrame.to_latex` is expected to utilise the base implementation of `Styler.to_latex` for formatting and rendering. The arguments signature may therefore change. It is recommended instead to use `DataFrame.style.to_latex` which also contains additional functionality.\n",
      "  latex = df.to_latex(index=False)\n"
     ]
    }
   ],
   "source": [
    "latexiser_eng(kraken)"
   ]
  },
  {
   "cell_type": "code",
   "execution_count": 44,
   "id": "37efc882",
   "metadata": {},
   "outputs": [
    {
     "name": "stdout",
     "output_type": "stream",
     "text": [
      "____ ____     ____ ____ ____ ____     _  _ ____ _ _ _ ____     ____ _  _ \n",
      "|___ |__/     |    |  | |__/ |___     |\\ | |___ | | | [__      [__  |\\/| \n",
      "|    |  \\ ___ |___ |__| |  \\ |___ ___ | \\| |___ |_|_| ___] ___ ___] |  | \n",
      "                                                                         \n",
      "\n",
      "ho lired in MISC None None None\n",
      "Queen Bess' MISC None None None\n",
      "Iing Charles bein' beheaded PER None None None\n",
      "vell ORG None None None\n",
      "the Great Fire o' MISC None None None\n",
      "____ ____     ____ ____ ____ ____     _  _ ____ _ _ _ ____     _  _ ___  \n",
      "|___ |__/     |    |  | |__/ |___     |\\ | |___ | | | [__      |\\/| |  \\ \n",
      "|    |  \\ ___ |___ |__| |  \\ |___ ___ | \\| |___ |_|_| ___] ___ |  | |__/ \n",
      "                                                                         \n",
      "\n",
      "ho lired in PER None None None\n",
      "Queen Bess' MISC None None None\n",
      "Iing Charles PER None None None\n",
      "vell ORG None None None\n",
      "and remembers PER None None None\n",
      "the Great Fire o' London MISC None None None\n",
      "____ ____     ____ ____ ____ ____     _  _ ____ _ _ _ ____     _    ____ \n",
      "|___ |__/     |    |  | |__/ |___     |\\ | |___ | | | [__      |    | __ \n",
      "|    |  \\ ___ |___ |__| |  \\ |___ ___ | \\| |___ |_|_| ___] ___ |___ |__] \n",
      "                                                                         \n",
      "\n",
      "Queen Bess's time MISC None None None\n",
      "Iing ORG None None None\n",
      "Charles bein' beheaded PER None None None\n",
      "vell ORG None None None\n",
      "the Great Fire o' London MISC None None None\n",
      "____ _  _     ____ ____ ____ ____     _ _ _ ____ ___      ____ _  _ \n",
      "|___ |\\ |     |    |  | |__/ |___     | | | |___ |__]     [__  |\\/| \n",
      "|___ | \\| ___ |___ |__| |  \\ |___ ___ |_|_| |___ |__] ___ ___] |  | \n",
      "                                                                    \n",
      "\n",
      "Queen Bess's ORG None None None\n",
      "the Great Fire FAC Q4555174 https://www.wikidata.org/wiki/Q4555174 0.3403\n",
      "London GPE Q84 https://www.wikidata.org/wiki/Q84 0.4563\n",
      "____ _  _     ____ ____ ____ ____     _ _ _ ____ ___      _  _ ___  \n",
      "|___ |\\ |     |    |  | |__/ |___     | | | |___ |__]     |\\/| |  \\ \n",
      "|___ | \\| ___ |___ |__| |  \\ |___ ___ |_|_| |___ |__] ___ |  | |__/ \n",
      "                                                                    \n",
      "\n",
      "ho lired PERSON None None None\n",
      "Iing Charles ORG None None None\n",
      "vell ORG Q44907 https://www.wikidata.org/wiki/Q44907 0.1469\n",
      "the Great Fire o' EVENT None None None\n",
      "London GPE Q84 https://www.wikidata.org/wiki/Q84 0.4563\n",
      "____ _  _     ____ ____ ____ ____     _ _ _ ____ ___      _    ____ \n",
      "|___ |\\ |     |    |  | |__/ |___     | | | |___ |__]     |    | __ \n",
      "|___ | \\| ___ |___ |__| |  \\ |___ ___ |_|_| |___ |__] ___ |___ |__] \n",
      "                                                                    \n",
      "\n",
      "ho lired PERSON None None None\n",
      "Iing Charles ORG None None None\n",
      "vell ORG Q44907 https://www.wikidata.org/wiki/Q44907 0.1469\n",
      "the Great Fire o' EVENT None None None\n",
      "London GPE Q84 https://www.wikidata.org/wiki/Q84 0.4563\n"
     ]
    }
   ],
   "source": [
    "read(kraken)"
   ]
  },
  {
   "cell_type": "code",
   "execution_count": null,
   "id": "76b4368d",
   "metadata": {},
   "outputs": [],
   "source": [
    "\\footnotesize{\n",
    "\\begin{tabular}{|p{2cm}|p{1cm}|p{1cm}|p{3cm}|p{2cm}|p{1cm}|}\n",
    "\\hline\n",
    "span\n",
    "& label SpaCy\n",
    "& label wikidata\n",
    "& défintion wikidata\n",
    "& url\n",
    "& certitude\n",
    "\\\\ \\hline\n",
    "\n",
    "ho lired\n",
    "& PERSON\n",
    "& None\n",
    "& None\n",
    "& None\n",
    "\\\\ \\hline\n",
    "Iing Charles\n",
    "& ORG\n",
    "& None\n",
    "& None\n",
    "& None\n",
    "\\\\ \\hline\n",
    "Queen Bess’s\n",
    "& PERSON\n",
    "& None\n",
    "& None\n",
    "& None\n",
    "\\\\ \\hline\n",
    "King Charles\n",
    "& PERSON\n",
    "& Charles I of England\n",
    "& monarch of the three kingdoms of England, Scotland, and Ireland (1600-1649)\n",
    "& https://www.wikidata.org/wiki/Q81506\n",
    "& 0.3781\n",
    "\\\\ \\hline\n",
    "vell\n",
    "& ORG\n",
    "& José Mariano de Conceição Vellozo\n",
    "& Brazilian botanist (1742-1811)\n",
    "& https://www.wikidata.org/wiki/Q44907\n",
    "& 0.1469\n",
    "\\\\ \\hline\n",
    "the Great Fire o’\n",
    "EVENT\n",
    "None\n",
    "None\n",
    "None\n",
    "None\n",
    "\\\\ \\hline\n",
    "London\n",
    "& GPE\n",
    "& London\n",
    "& capital and largest city of the United Kingdom\n",
    "& https://www.wikidata.org/wiki/Q84\n",
    "& 0.4563\n",
    "\\\\ \\hline"
   ]
  },
  {
   "cell_type": "markdown",
   "id": "4161b638",
   "metadata": {},
   "source": [
    "# Maupassant"
   ]
  },
  {
   "cell_type": "code",
   "execution_count": null,
   "id": "492a4912",
   "metadata": {},
   "outputs": [],
   "source": []
  },
  {
   "cell_type": "code",
   "execution_count": null,
   "id": "20a6fc58",
   "metadata": {},
   "outputs": [],
   "source": [
    "#ref = \"Ils gagnèrent Livourne, visitèrent Florence, Gênes, toute la Corniche.\" "
   ]
  },
  {
   "cell_type": "code",
   "execution_count": 59,
   "id": "e2d55732",
   "metadata": {},
   "outputs": [],
   "source": [
    "ref = \"Le baron Simon-Jacques Le Perthuis des Vauds était un gentilhomme de l'autre siècle, maniaque et bon. Disciple enthousiaste de J. -J. Rousseau, il avait des tendresses d'amant pour la nature, les champs, les bois, les bêtes.\""
   ]
  },
  {
   "cell_type": "code",
   "execution_count": 60,
   "id": "09852277",
   "metadata": {},
   "outputs": [],
   "source": [
    "kraken = \" Le baron Simon-lacques Le Perthuis des Vauds etait un gentilhomme de l'autre siecle, maniaque etbon. Disciple enthousiaste de J.-J. Rousseau, il avaitdes tendresses d'amant pour la nature, les champs, les bois, les betes.\""
   ]
  },
  {
   "cell_type": "code",
   "execution_count": 61,
   "id": "216d1bd9",
   "metadata": {},
   "outputs": [
    {
     "name": "stdout",
     "output_type": "stream",
     "text": [
      "\\begin{tabular}{llllr}\n",
      "\\toprule\n",
      "         modèle &                                         span & label  &       ID &  score \\\\\n",
      "\\midrule\n",
      "fr\\_core\\_news\\_sm &                                Simon-Jacques &    PER &     None &    NaN \\\\\n",
      "fr\\_core\\_news\\_sm &                              J. -J. Rousseau &    PER &     None &    NaN \\\\\n",
      "fr\\_core\\_news\\_md &          Simon-Jacques Le Perthuis des Vauds &    PER &     None &    NaN \\\\\n",
      "fr\\_core\\_news\\_md &                                     Disciple &    PER & Q1228422 & 0.4192 \\\\\n",
      "fr\\_core\\_news\\_md &                                           J. &    PER &  Q322947 & 0.3135 \\\\\n",
      "fr\\_core\\_news\\_md &                                     Rousseau &    PER &    Q6527 & 0.4296 \\\\\n",
      "fr\\_core\\_news\\_lg &          Simon-Jacques Le Perthuis des Vauds &    PER &     None &    NaN \\\\\n",
      "fr\\_core\\_news\\_lg &                                     Disciple &    PER & Q1228422 & 0.4192 \\\\\n",
      "fr\\_core\\_news\\_lg &                                           J. &    PER &  Q322947 & 0.3135 \\\\\n",
      "fr\\_core\\_news\\_lg &                                     Rousseau &    PER &    Q6527 & 0.4296 \\\\\n",
      " en\\_core\\_web\\_sm &                    Simon-Jacques Le Perthuis & PERSON &     None &    NaN \\\\\n",
      " en\\_core\\_web\\_sm &                gentilhomme de l'autre siècle & PERSON &     None &    NaN \\\\\n",
      " en\\_core\\_web\\_sm &                           de J. -J. Rousseau & PERSON &     None &    NaN \\\\\n",
      " en\\_core\\_web\\_md &          Simon-Jacques Le Perthuis des Vauds & PERSON &     None &    NaN \\\\\n",
      " en\\_core\\_web\\_md &                              maniaque et bon &    ORG &     None &    NaN \\\\\n",
      " en\\_core\\_web\\_md &                              J. -J. Rousseau & PERSON &     None &    NaN \\\\\n",
      " en\\_core\\_web\\_lg & Simon-Jacques Le Perthuis des Vauds était un & PERSON &     None &    NaN \\\\\n",
      " en\\_core\\_web\\_lg &                gentilhomme de l'autre siècle & PERSON &     None &    NaN \\\\\n",
      " en\\_core\\_web\\_lg &              il avait des tendresses d'amant & PERSON &     None &    NaN \\\\\n",
      "\\bottomrule\n",
      "\\end{tabular}\n",
      "\n"
     ]
    },
    {
     "name": "stderr",
     "output_type": "stream",
     "text": [
      "/tmp/ipykernel_4319/3509878012.py:25: FutureWarning: In future versions `DataFrame.to_latex` is expected to utilise the base implementation of `Styler.to_latex` for formatting and rendering. The arguments signature may therefore change. It is recommended instead to use `DataFrame.style.to_latex` which also contains additional functionality.\n",
      "  latex = df.to_latex(index=False)\n"
     ]
    }
   ],
   "source": [
    "latexiser_mod(ref)"
   ]
  },
  {
   "cell_type": "code",
   "execution_count": 77,
   "id": "a4f1a5fa",
   "metadata": {},
   "outputs": [
    {
     "name": "stdout",
     "output_type": "stream",
     "text": [
      "\\begin{tabular}{lllr}\n",
      "\\toprule\n",
      "                               span & label  &                                    URL &  score \\\\\n",
      "\\midrule\n",
      "Simon-Jacques Le Perthuis des Vauds &    PER &                                   None &    NaN \\\\\n",
      "                           Disciple &    PER & https://www.wikidata.org/wiki/Q1228422 & 0.4192 \\\\\n",
      "                                 J. &    PER &  https://www.wikidata.org/wiki/Q322947 & 0.3135 \\\\\n",
      "                           Rousseau &    PER &    https://www.wikidata.org/wiki/Q6527 & 0.4296 \\\\\n",
      "\\bottomrule\n",
      "\\end{tabular}\n",
      "\n"
     ]
    },
    {
     "name": "stderr",
     "output_type": "stream",
     "text": [
      "/tmp/ipykernel_3911/1147971263.py:19: FutureWarning: In future versions `DataFrame.to_latex` is expected to utilise the base implementation of `Styler.to_latex` for formatting and rendering. The arguments signature may therefore change. It is recommended instead to use `DataFrame.style.to_latex` which also contains additional functionality.\n",
      "  table_latex = df.to_latex(index=False)\n",
      "/tmp/ipykernel_3911/1147971263.py:20: FutureWarning: In future versions `DataFrame.to_latex` is expected to utilise the base implementation of `Styler.to_latex` for formatting and rendering. The arguments signature may therefore change. It is recommended instead to use `DataFrame.style.to_latex` which also contains additional functionality.\n",
      "  latex = df.to_latex(index=False)\n"
     ]
    }
   ],
   "source": [
    "latexiser_fr(ref)"
   ]
  },
  {
   "cell_type": "code",
   "execution_count": 57,
   "id": "72e3c963",
   "metadata": {},
   "outputs": [
    {
     "name": "stdout",
     "output_type": "stream",
     "text": [
      "____ ____     ____ ____ ____ ____     _  _ ____ _ _ _ ____     ____ _  _ \n",
      "|___ |__/     |    |  | |__/ |___     |\\ | |___ | | | [__      [__  |\\/| \n",
      "|    |  \\ ___ |___ |__| |  \\ |___ ___ | \\| |___ |_|_| ___] ___ ___] |  | \n",
      "                                                                         \n",
      "\n",
      "Simon-Jacques PER None None None\n",
      "J. -J. Rousseau PER None None None\n",
      "____ ____     ____ ____ ____ ____     _  _ ____ _ _ _ ____     _  _ ___  \n",
      "|___ |__/     |    |  | |__/ |___     |\\ | |___ | | | [__      |\\/| |  \\ \n",
      "|    |  \\ ___ |___ |__| |  \\ |___ ___ | \\| |___ |_|_| ___] ___ |  | |__/ \n",
      "                                                                         \n",
      "\n",
      "Simon-Jacques Le Perthuis des Vauds PER None None None\n",
      "Disciple PER Q1228422 https://www.wikidata.org/wiki/Q1228422 0.4192\n",
      "J. PER Q322947 https://www.wikidata.org/wiki/Q322947 0.3135\n",
      "Rousseau PER Q6527 https://www.wikidata.org/wiki/Q6527 0.4296\n",
      "____ ____     ____ ____ ____ ____     _  _ ____ _ _ _ ____     _    ____ \n",
      "|___ |__/     |    |  | |__/ |___     |\\ | |___ | | | [__      |    | __ \n",
      "|    |  \\ ___ |___ |__| |  \\ |___ ___ | \\| |___ |_|_| ___] ___ |___ |__] \n",
      "                                                                         \n",
      "\n",
      "Simon-Jacques Le Perthuis des Vauds PER None None None\n",
      "Disciple PER Q1228422 https://www.wikidata.org/wiki/Q1228422 0.4192\n",
      "J. PER Q322947 https://www.wikidata.org/wiki/Q322947 0.3135\n",
      "Rousseau PER Q6527 https://www.wikidata.org/wiki/Q6527 0.4296\n",
      "____ _  _     ____ ____ ____ ____     _ _ _ ____ ___      ____ _  _ \n",
      "|___ |\\ |     |    |  | |__/ |___     | | | |___ |__]     [__  |\\/| \n",
      "|___ | \\| ___ |___ |__| |  \\ |___ ___ |_|_| |___ |__] ___ ___] |  | \n",
      "                                                                    \n",
      "\n",
      "Simon-Jacques Le Perthuis PERSON None None None\n",
      "gentilhomme de l'autre siècle PERSON None None None\n",
      "de J. -J. Rousseau PERSON None None None\n",
      "____ _  _     ____ ____ ____ ____     _ _ _ ____ ___      _  _ ___  \n",
      "|___ |\\ |     |    |  | |__/ |___     | | | |___ |__]     |\\/| |  \\ \n",
      "|___ | \\| ___ |___ |__| |  \\ |___ ___ |_|_| |___ |__] ___ |  | |__/ \n",
      "                                                                    \n",
      "\n",
      "Simon-Jacques Le Perthuis des Vauds PERSON None None None\n",
      "maniaque et bon ORG None None None\n",
      "J. -J. Rousseau PERSON None None None\n",
      "____ _  _     ____ ____ ____ ____     _ _ _ ____ ___      _    ____ \n",
      "|___ |\\ |     |    |  | |__/ |___     | | | |___ |__]     |    | __ \n",
      "|___ | \\| ___ |___ |__| |  \\ |___ ___ |_|_| |___ |__] ___ |___ |__] \n",
      "                                                                    \n",
      "\n",
      "Simon-Jacques Le Perthuis des Vauds était un PERSON None None None\n",
      "gentilhomme de l'autre siècle PERSON None None None\n",
      "il avait des tendresses d'amant PERSON None None None\n"
     ]
    }
   ],
   "source": [
    "read(ref)"
   ]
  },
  {
   "cell_type": "code",
   "execution_count": 102,
   "id": "9c75f7bb",
   "metadata": {},
   "outputs": [
    {
     "name": "stdout",
     "output_type": "stream",
     "text": [
      "\\begin{tabular}{lllr}\n",
      "\\toprule\n",
      "                 span & label  &                                    URL &  score \\\\\n",
      "\\midrule\n",
      "        Simon-lacques &    PER &                                   None &    NaN \\\\\n",
      "Le Perthuis des Vauds &   MISC &                                   None &    NaN \\\\\n",
      "             Disciple &    PER & https://www.wikidata.org/wiki/Q1228422 & 0.5178 \\\\\n",
      "       J.-J. Rousseau &    PER &    https://www.wikidata.org/wiki/Q6527 & 0.8408 \\\\\n",
      "\\bottomrule\n",
      "\\end{tabular}\n",
      "\n"
     ]
    },
    {
     "name": "stderr",
     "output_type": "stream",
     "text": [
      "/tmp/ipykernel_3911/1147971263.py:19: FutureWarning: In future versions `DataFrame.to_latex` is expected to utilise the base implementation of `Styler.to_latex` for formatting and rendering. The arguments signature may therefore change. It is recommended instead to use `DataFrame.style.to_latex` which also contains additional functionality.\n",
      "  table_latex = df.to_latex(index=False)\n",
      "/tmp/ipykernel_3911/1147971263.py:20: FutureWarning: In future versions `DataFrame.to_latex` is expected to utilise the base implementation of `Styler.to_latex` for formatting and rendering. The arguments signature may therefore change. It is recommended instead to use `DataFrame.style.to_latex` which also contains additional functionality.\n",
      "  latex = df.to_latex(index=False)\n"
     ]
    }
   ],
   "source": [
    "latexiser_fr(kraken)"
   ]
  },
  {
   "cell_type": "code",
   "execution_count": 20,
   "id": "325662ee",
   "metadata": {},
   "outputs": [
    {
     "name": "stdout",
     "output_type": "stream",
     "text": [
      "____ ____     ____ ____ ____ ____     _  _ ____ _ _ _ ____     ____ _  _ \n",
      "|___ |__/     |    |  | |__/ |___     |\\ | |___ | | | [__      [__  |\\/| \n",
      "|    |  \\ ___ |___ |__| |  \\ |___ ___ | \\| |___ |_|_| ___] ___ ___] |  | \n",
      "                                                                         \n",
      "\n",
      "('Simon-lacques', 'PERSON', None, None, None)\n",
      "('un', 'ORG', None, None, None)\n",
      "('maniaque etbon', 'ORG', None, None, None)\n",
      "('J.-J. Rousseau', 'PERSON', 'Q6527', 'https://www.wikidata.org/wiki/Q6527', 0.8408)\n",
      "('il avaitdes', 'ORG', None, None, None)\n",
      "____ ____     ____ ____ ____ ____     _  _ ____ _ _ _ ____     _    ____ \n",
      "|___ |__/     |    |  | |__/ |___     |\\ | |___ | | | [__      |    | __ \n",
      "|    |  \\ ___ |___ |__| |  \\ |___ ___ | \\| |___ |_|_| ___] ___ |___ |__] \n",
      "                                                                         \n",
      "\n",
      "('Simon-lacques', 'PERSON', None, None, None)\n",
      "('un', 'ORG', None, None, None)\n",
      "('maniaque etbon', 'ORG', None, None, None)\n",
      "('J.-J. Rousseau', 'PERSON', 'Q6527', 'https://www.wikidata.org/wiki/Q6527', 0.8408)\n",
      "('il avaitdes', 'ORG', None, None, None)\n",
      "____ _  _     ____ ____ ____ ____     _ _ _ ____ ___      ____ _  _ \n",
      "|___ |\\ |     |    |  | |__/ |___     | | | |___ |__]     [__  |\\/| \n",
      "|___ | \\| ___ |___ |__| |  \\ |___ ___ |_|_| |___ |__] ___ ___] |  | \n",
      "                                                                    \n",
      "\n",
      "('Simon-lacques', 'PERSON', None, None, None)\n",
      "('un', 'ORG', None, None, None)\n",
      "('maniaque etbon', 'ORG', None, None, None)\n",
      "('J.-J. Rousseau', 'PERSON', 'Q6527', 'https://www.wikidata.org/wiki/Q6527', 0.8408)\n",
      "('il avaitdes', 'ORG', None, None, None)\n",
      "____ _  _     ____ ____ ____ ____     _ _ _ ____ ___      _    ____ \n",
      "|___ |\\ |     |    |  | |__/ |___     | | | |___ |__]     |    | __ \n",
      "|___ | \\| ___ |___ |__| |  \\ |___ ___ |_|_| |___ |__] ___ |___ |__] \n",
      "                                                                    \n",
      "\n",
      "('Simon-lacques', 'PERSON', None, None, None)\n",
      "('un', 'ORG', None, None, None)\n",
      "('maniaque etbon', 'ORG', None, None, None)\n",
      "('J.-J. Rousseau', 'PERSON', 'Q6527', 'https://www.wikidata.org/wiki/Q6527', 0.8408)\n",
      "('il avaitdes', 'ORG', None, None, None)\n",
      "____ _  _     ____ ____ ____ ____     _ _ _ ____ ___      _  _ ___  \n",
      "|___ |\\ |     |    |  | |__/ |___     | | | |___ |__]     |\\/| |  \\ \n",
      "|___ | \\| ___ |___ |__| |  \\ |___ ___ |_|_| |___ |__] ___ |  | |__/ \n",
      "                                                                    \n",
      "\n",
      "('Simon-lacques', 'PERSON', None, None, None)\n",
      "('un', 'ORG', None, None, None)\n",
      "('maniaque etbon', 'ORG', None, None, None)\n",
      "('J.-J. Rousseau', 'PERSON', 'Q6527', 'https://www.wikidata.org/wiki/Q6527', 0.8408)\n",
      "('il avaitdes', 'ORG', None, None, None)\n"
     ]
    }
   ],
   "source": [
    "read(kraken)"
   ]
  },
  {
   "cell_type": "code",
   "execution_count": null,
   "id": "675749af",
   "metadata": {},
   "outputs": [],
   "source": [
    "\\footnotesize{\n",
    "\\begin{tabular}{|p{2cm}|p{1cm}|p{1cm}|p{3cm}|p{2cm}|p{1cm}|}\n",
    "\\hline\n",
    "span\n",
    "& label SpaCy\n",
    "& label wikidata\n",
    "& défintion wikidata\n",
    "& url\n",
    "& certitude\n",
    "\\\\ \\hline\n",
    "Simon-lacques', 'PERSON', None, None, None)\n",
    "\\\\ \\hline\n",
    "un\n",
    "ORG\n",
    "None\n",
    "None\n",
    "None\n",
    "\\\\ \\hline\n",
    "maniaque etbon\n",
    "ORG\n",
    "None\n",
    "None\n",
    "None\n",
    "\\\\ \\hline\n",
    "J.-J. Rousseau\n",
    "PERSON\n",
    "Q6527\n",
    "https://www.wikidata.org/wiki/Q6527\n",
    "0.8408\n",
    "\\\\ \\hline\n",
    "('il avaitdes', 'ORG', None, None, None)"
   ]
  },
  {
   "cell_type": "markdown",
   "id": "7d9590dc",
   "metadata": {},
   "source": [
    "# Noaille "
   ]
  },
  {
   "cell_type": "markdown",
   "id": "8c042672",
   "metadata": {},
   "source": [
    "## 1"
   ]
  },
  {
   "cell_type": "code",
   "execution_count": 63,
   "id": "592cd10e",
   "metadata": {},
   "outputs": [],
   "source": [
    "kraken = \"ils allerent seuls l'un et l'autre, secre-tement, se cachant des curiosites de leurs amis, diner dans de petits cafes de Paris, oifloiait une odeur basse d'alcool et de tabac,et dans les restaurants du Bois de Boulogne,pleins de lumiere et de gens\""
   ]
  },
  {
   "cell_type": "code",
   "execution_count": 64,
   "id": "9c023299",
   "metadata": {},
   "outputs": [],
   "source": [
    "ref = \"ils allèrent seuls l'un et l'autre, secrètement, se cachant des curiosités de leurs amis, dîner dans de petits cafés de Paris, où flottait une odeur basse d'alcool et de tabac, et dans les restaurants du Bois de Boulogne, pleins de lumière et de gens\""
   ]
  },
  {
   "cell_type": "code",
   "execution_count": 66,
   "id": "e67252df",
   "metadata": {},
   "outputs": [
    {
     "name": "stdout",
     "output_type": "stream",
     "text": [
      "\\begin{tabular}{llllr}\n",
      "\\toprule\n",
      "         modèle &                                        span &  label  &      ID &  score \\\\\n",
      "\\midrule\n",
      "fr\\_core\\_news\\_sm &                                       Paris &     LOC &     Q90 & 0.6887 \\\\\n",
      "fr\\_core\\_news\\_sm &                            Bois de Boulogne &     LOC & Q209626 & 0.9135 \\\\\n",
      "fr\\_core\\_news\\_md &                                       Paris &     LOC &     Q90 & 0.6887 \\\\\n",
      "fr\\_core\\_news\\_md &                            Bois de Boulogne &     LOC & Q209626 & 0.9135 \\\\\n",
      "fr\\_core\\_news\\_lg &                                       Paris &     LOC &     Q90 & 0.6887 \\\\\n",
      "fr\\_core\\_news\\_lg &                            Bois de Boulogne &     LOC & Q209626 & 0.9135 \\\\\n",
      " en\\_core\\_web\\_sm &                                        amis &    NORP & Q205006 & 0.1966 \\\\\n",
      " en\\_core\\_web\\_sm &         dîner dans de petits cafés de Paris &  PERSON &    None &    NaN \\\\\n",
      " en\\_core\\_web\\_sm &                                        dans &    NORP & Q373498 & 0.4397 \\\\\n",
      " en\\_core\\_web\\_sm &                            Bois de Boulogne &  PERSON & Q209626 & 0.7030 \\\\\n",
      " en\\_core\\_web\\_md &          ils allèrent seuls l'un et l'autre &  PERSON &    None &    NaN \\\\\n",
      " en\\_core\\_web\\_md &     se cachant des curiosités de leurs amis &     ORG &    None &    NaN \\\\\n",
      " en\\_core\\_web\\_md &         dîner dans de petits cafés de Paris &     ORG &    None &    NaN \\\\\n",
      " en\\_core\\_web\\_md &            odeur basse d'alcool et de tabac &     ORG &    None &    NaN \\\\\n",
      " en\\_core\\_web\\_md & et dans les restaurants du Bois de Boulogne &     ORG &    None &    NaN \\\\\n",
      " en\\_core\\_web\\_lg &          ils allèrent seuls l'un et l'autre &     ORG &    None &    NaN \\\\\n",
      " en\\_core\\_web\\_lg &        cachant des curiosités de leurs amis &  PERSON &    None &    NaN \\\\\n",
      " en\\_core\\_web\\_lg &                        dîner dans de petits &  PERSON &    None &    NaN \\\\\n",
      " en\\_core\\_web\\_lg &                                    de Paris &     GPE &    None &    NaN \\\\\n",
      " en\\_core\\_web\\_lg &                                 odeur basse &     ORG &    None &    NaN \\\\\n",
      " en\\_core\\_web\\_lg &                            Bois de Boulogne & PRODUCT & Q209626 & 0.9135 \\\\\n",
      "\\bottomrule\n",
      "\\end{tabular}\n",
      "\n"
     ]
    },
    {
     "name": "stderr",
     "output_type": "stream",
     "text": [
      "/tmp/ipykernel_4319/3509878012.py:25: FutureWarning: In future versions `DataFrame.to_latex` is expected to utilise the base implementation of `Styler.to_latex` for formatting and rendering. The arguments signature may therefore change. It is recommended instead to use `DataFrame.style.to_latex` which also contains additional functionality.\n",
      "  latex = df.to_latex(index=False)\n"
     ]
    }
   ],
   "source": [
    "latexiser_mod(ref)"
   ]
  },
  {
   "cell_type": "code",
   "execution_count": 65,
   "id": "45fc4868",
   "metadata": {},
   "outputs": [
    {
     "name": "stdout",
     "output_type": "stream",
     "text": [
      "\\begin{tabular}{llllr}\n",
      "\\toprule\n",
      "         modèle &                                        span &  label  &      ID &  score \\\\\n",
      "\\midrule\n",
      "fr\\_core\\_news\\_sm &                                       Paris &     LOC &     Q90 & 0.6887 \\\\\n",
      "fr\\_core\\_news\\_sm &                            Bois de Boulogne &     LOC & Q209626 & 0.9135 \\\\\n",
      "fr\\_core\\_news\\_md &                                       Paris &     LOC &     Q90 & 0.6887 \\\\\n",
      "fr\\_core\\_news\\_md &                            Bois de Boulogne &     LOC & Q209626 & 0.9135 \\\\\n",
      "fr\\_core\\_news\\_lg &                                       Paris &     LOC &     Q90 & 0.6887 \\\\\n",
      "fr\\_core\\_news\\_lg &                            Bois de Boulogne &     LOC & Q209626 & 0.9135 \\\\\n",
      "fr\\_core\\_news\\_lg &                                     lumiere &     PER &  Q55965 & 0.4334 \\\\\n",
      " en\\_core\\_web\\_sm &                                        amis &    NORP & Q205006 & 0.1966 \\\\\n",
      " en\\_core\\_web\\_sm &                                     dans de &  PERSON &    None &    NaN \\\\\n",
      " en\\_core\\_web\\_sm &                                    de Paris &     GPE &    None &    NaN \\\\\n",
      " en\\_core\\_web\\_sm &                                        dans &    NORP & Q373498 & 0.4397 \\\\\n",
      " en\\_core\\_web\\_sm &                            Bois de Boulogne &  PERSON & Q209626 & 0.7030 \\\\\n",
      " en\\_core\\_web\\_md &          ils allerent seuls l'un et l'autre &     ORG &    None &    NaN \\\\\n",
      " en\\_core\\_web\\_md &     se cachant des curiosites de leurs amis &     ORG &    None &    NaN \\\\\n",
      " en\\_core\\_web\\_md &                                       Paris &     GPE &     Q90 & 0.4627 \\\\\n",
      " en\\_core\\_web\\_md &                                   oifloiait &     GPE &    None &    NaN \\\\\n",
      " en\\_core\\_web\\_md &            odeur basse d'alcool et de tabac &     ORG &    None &    NaN \\\\\n",
      " en\\_core\\_web\\_md & et dans les restaurants du Bois de Boulogne &     ORG &    None &    NaN \\\\\n",
      " en\\_core\\_web\\_lg &          ils allerent seuls l'un et l'autre &     ORG &    None &    NaN \\\\\n",
      " en\\_core\\_web\\_lg &                                       Paris &     GPE &     Q90 & 0.6887 \\\\\n",
      " en\\_core\\_web\\_lg &            odeur basse d'alcool et de tabac &     ORG &    None &    NaN \\\\\n",
      " en\\_core\\_web\\_lg &                            Bois de Boulogne & PRODUCT & Q209626 & 0.9135 \\\\\n",
      " en\\_core\\_web\\_lg &                     pleins de lumiere et de &     ORG &    None &    NaN \\\\\n",
      "\\bottomrule\n",
      "\\end{tabular}\n",
      "\n"
     ]
    },
    {
     "name": "stderr",
     "output_type": "stream",
     "text": [
      "/tmp/ipykernel_4319/3509878012.py:25: FutureWarning: In future versions `DataFrame.to_latex` is expected to utilise the base implementation of `Styler.to_latex` for formatting and rendering. The arguments signature may therefore change. It is recommended instead to use `DataFrame.style.to_latex` which also contains additional functionality.\n",
      "  latex = df.to_latex(index=False)\n"
     ]
    }
   ],
   "source": [
    "latexiser_mod(kraken)"
   ]
  },
  {
   "cell_type": "code",
   "execution_count": 90,
   "id": "10a21452",
   "metadata": {},
   "outputs": [
    {
     "name": "stdout",
     "output_type": "stream",
     "text": [
      "\\begin{tabular}{lllr}\n",
      "\\toprule\n",
      "            span & label  &                                   URL &  score \\\\\n",
      "\\midrule\n",
      "           Paris &    LOC &     https://www.wikidata.org/wiki/Q90 & 0.6887 \\\\\n",
      "Bois de Boulogne &    LOC & https://www.wikidata.org/wiki/Q209626 & 0.9135 \\\\\n",
      "\\bottomrule\n",
      "\\end{tabular}\n",
      "\n"
     ]
    },
    {
     "name": "stderr",
     "output_type": "stream",
     "text": [
      "/tmp/ipykernel_3911/1147971263.py:19: FutureWarning: In future versions `DataFrame.to_latex` is expected to utilise the base implementation of `Styler.to_latex` for formatting and rendering. The arguments signature may therefore change. It is recommended instead to use `DataFrame.style.to_latex` which also contains additional functionality.\n",
      "  table_latex = df.to_latex(index=False)\n",
      "/tmp/ipykernel_3911/1147971263.py:20: FutureWarning: In future versions `DataFrame.to_latex` is expected to utilise the base implementation of `Styler.to_latex` for formatting and rendering. The arguments signature may therefore change. It is recommended instead to use `DataFrame.style.to_latex` which also contains additional functionality.\n",
      "  latex = df.to_latex(index=False)\n"
     ]
    }
   ],
   "source": [
    "latexiser_fr(ref)"
   ]
  },
  {
   "cell_type": "code",
   "execution_count": 61,
   "id": "14f0b589",
   "metadata": {},
   "outputs": [
    {
     "name": "stdout",
     "output_type": "stream",
     "text": [
      "\\begin{tabular}{lllr}\n",
      "\\toprule\n",
      "            span & label  &                                   URL &  score \\\\\n",
      "\\midrule\n",
      "           Paris &    LOC &     https://www.wikidata.org/wiki/Q90 & 0.6887 \\\\\n",
      "Bois de Boulogne &    LOC & https://www.wikidata.org/wiki/Q209626 & 0.9135 \\\\\n",
      "\\bottomrule\n",
      "\\end{tabular}\n",
      "\n"
     ]
    },
    {
     "name": "stderr",
     "output_type": "stream",
     "text": [
      "/tmp/ipykernel_3911/1147971263.py:19: FutureWarning: In future versions `DataFrame.to_latex` is expected to utilise the base implementation of `Styler.to_latex` for formatting and rendering. The arguments signature may therefore change. It is recommended instead to use `DataFrame.style.to_latex` which also contains additional functionality.\n",
      "  table_latex = df.to_latex(index=False)\n",
      "/tmp/ipykernel_3911/1147971263.py:20: FutureWarning: In future versions `DataFrame.to_latex` is expected to utilise the base implementation of `Styler.to_latex` for formatting and rendering. The arguments signature may therefore change. It is recommended instead to use `DataFrame.style.to_latex` which also contains additional functionality.\n",
      "  latex = df.to_latex(index=False)\n"
     ]
    }
   ],
   "source": [
    "latexiser_fr(kraken)"
   ]
  },
  {
   "cell_type": "code",
   "execution_count": 64,
   "id": "8d6047ad",
   "metadata": {},
   "outputs": [
    {
     "name": "stdout",
     "output_type": "stream",
     "text": [
      "____ ____     ____ ____ ____ ____     _  _ ____ _ _ _ ____     ____ _  _ \n",
      "|___ |__/     |    |  | |__/ |___     |\\ | |___ | | | [__      [__  |\\/| \n",
      "|    |  \\ ___ |___ |__| |  \\ |___ ___ | \\| |___ |_|_| ___] ___ ___] |  | \n",
      "                                                                         \n",
      "\n",
      "Paris LOC Q90 https://www.wikidata.org/wiki/Q90 0.6887\n",
      "Bois de Boulogne LOC Q209626 https://www.wikidata.org/wiki/Q209626 0.9135\n",
      "____ ____     ____ ____ ____ ____     _  _ ____ _ _ _ ____     _  _ ___  \n",
      "|___ |__/     |    |  | |__/ |___     |\\ | |___ | | | [__      |\\/| |  \\ \n",
      "|    |  \\ ___ |___ |__| |  \\ |___ ___ | \\| |___ |_|_| ___] ___ |  | |__/ \n",
      "                                                                         \n",
      "\n",
      "Paris LOC Q90 https://www.wikidata.org/wiki/Q90 0.6887\n",
      "Bois de Boulogne LOC Q209626 https://www.wikidata.org/wiki/Q209626 0.9135\n",
      "____ ____     ____ ____ ____ ____     _  _ ____ _ _ _ ____     _    ____ \n",
      "|___ |__/     |    |  | |__/ |___     |\\ | |___ | | | [__      |    | __ \n",
      "|    |  \\ ___ |___ |__| |  \\ |___ ___ | \\| |___ |_|_| ___] ___ |___ |__] \n",
      "                                                                         \n",
      "\n",
      "Paris LOC Q90 https://www.wikidata.org/wiki/Q90 0.6887\n",
      "Bois de Boulogne LOC Q209626 https://www.wikidata.org/wiki/Q209626 0.9135\n",
      "____ _  _     ____ ____ ____ ____     _ _ _ ____ ___      ____ _  _ \n",
      "|___ |\\ |     |    |  | |__/ |___     | | | |___ |__]     [__  |\\/| \n",
      "|___ | \\| ___ |___ |__| |  \\ |___ ___ |_|_| |___ |__] ___ ___] |  | \n",
      "                                                                    \n",
      "\n",
      "amis NORP Q205006 https://www.wikidata.org/wiki/Q205006 0.1966\n",
      "dîner dans de petits cafés de Paris PERSON None None None\n",
      "dans NORP Q373498 https://www.wikidata.org/wiki/Q373498 0.4397\n",
      "Bois de Boulogne PERSON Q209626 https://www.wikidata.org/wiki/Q209626 0.703\n",
      "____ _  _     ____ ____ ____ ____     _ _ _ ____ ___      _  _ ___  \n",
      "|___ |\\ |     |    |  | |__/ |___     | | | |___ |__]     |\\/| |  \\ \n",
      "|___ | \\| ___ |___ |__| |  \\ |___ ___ |_|_| |___ |__] ___ |  | |__/ \n",
      "                                                                    \n",
      "\n",
      "ils allèrent seuls l'un et l'autre PERSON None None None\n",
      "se cachant des curiosités de leurs amis ORG None None None\n",
      "dîner dans de petits cafés de Paris ORG None None None\n",
      "odeur basse d'alcool et de tabac ORG None None None\n",
      "et dans les restaurants du Bois de Boulogne ORG None None None\n",
      "____ _  _     ____ ____ ____ ____     _ _ _ ____ ___      _    ____ \n",
      "|___ |\\ |     |    |  | |__/ |___     | | | |___ |__]     |    | __ \n",
      "|___ | \\| ___ |___ |__| |  \\ |___ ___ |_|_| |___ |__] ___ |___ |__] \n",
      "                                                                    \n",
      "\n",
      "ils allèrent seuls l'un et l'autre ORG None None None\n",
      "cachant des curiosités de leurs amis PERSON None None None\n",
      "dîner dans de petits PERSON None None None\n",
      "de Paris GPE None None None\n",
      "odeur basse ORG None None None\n",
      "Bois de Boulogne PRODUCT Q209626 https://www.wikidata.org/wiki/Q209626 0.9135\n"
     ]
    }
   ],
   "source": [
    "read(ref)"
   ]
  },
  {
   "cell_type": "code",
   "execution_count": 24,
   "id": "b923d684",
   "metadata": {},
   "outputs": [
    {
     "name": "stdout",
     "output_type": "stream",
     "text": [
      "____ ____     ____ ____ ____ ____     _  _ ____ _ _ _ ____     ____ _  _ \n",
      "|___ |__/     |    |  | |__/ |___     |\\ | |___ | | | [__      [__  |\\/| \n",
      "|    |  \\ ___ |___ |__| |  \\ |___ ___ | \\| |___ |_|_| ___] ___ ___] |  | \n",
      "                                                                         \n",
      "\n",
      "(\"ils allerent seuls l'un et l'autre\", 'ORG', None, None, None)\n",
      "('se cachant des curiosites de leurs amis', 'ORG', None, None, None)\n",
      "('Paris', 'GPE', 'Q90', 'https://www.wikidata.org/wiki/Q90', 0.4627)\n",
      "('oifloiait', 'GPE', None, None, None)\n",
      "(\"odeur basse d'alcool et de tabac\", 'ORG', None, None, None)\n",
      "('et dans les restaurants du Bois de Boulogne', 'ORG', None, None, None)\n",
      "____ ____     ____ ____ ____ ____     _  _ ____ _ _ _ ____     _    ____ \n",
      "|___ |__/     |    |  | |__/ |___     |\\ | |___ | | | [__      |    | __ \n",
      "|    |  \\ ___ |___ |__| |  \\ |___ ___ | \\| |___ |_|_| ___] ___ |___ |__] \n",
      "                                                                         \n",
      "\n",
      "(\"ils allerent seuls l'un et l'autre\", 'ORG', None, None, None)\n",
      "('se cachant des curiosites de leurs amis', 'ORG', None, None, None)\n",
      "('Paris', 'GPE', 'Q90', 'https://www.wikidata.org/wiki/Q90', 0.4627)\n",
      "('oifloiait', 'GPE', None, None, None)\n",
      "(\"odeur basse d'alcool et de tabac\", 'ORG', None, None, None)\n",
      "('et dans les restaurants du Bois de Boulogne', 'ORG', None, None, None)\n",
      "____ _  _     ____ ____ ____ ____     _ _ _ ____ ___      ____ _  _ \n",
      "|___ |\\ |     |    |  | |__/ |___     | | | |___ |__]     [__  |\\/| \n",
      "|___ | \\| ___ |___ |__| |  \\ |___ ___ |_|_| |___ |__] ___ ___] |  | \n",
      "                                                                    \n",
      "\n",
      "(\"ils allerent seuls l'un et l'autre\", 'ORG', None, None, None)\n",
      "('se cachant des curiosites de leurs amis', 'ORG', None, None, None)\n",
      "('Paris', 'GPE', 'Q90', 'https://www.wikidata.org/wiki/Q90', 0.4627)\n",
      "('oifloiait', 'GPE', None, None, None)\n",
      "(\"odeur basse d'alcool et de tabac\", 'ORG', None, None, None)\n",
      "('et dans les restaurants du Bois de Boulogne', 'ORG', None, None, None)\n",
      "____ _  _     ____ ____ ____ ____     _ _ _ ____ ___      _    ____ \n",
      "|___ |\\ |     |    |  | |__/ |___     | | | |___ |__]     |    | __ \n",
      "|___ | \\| ___ |___ |__| |  \\ |___ ___ |_|_| |___ |__] ___ |___ |__] \n",
      "                                                                    \n",
      "\n",
      "(\"ils allerent seuls l'un et l'autre\", 'ORG', None, None, None)\n",
      "('se cachant des curiosites de leurs amis', 'ORG', None, None, None)\n",
      "('Paris', 'GPE', 'Q90', 'https://www.wikidata.org/wiki/Q90', 0.4627)\n",
      "('oifloiait', 'GPE', None, None, None)\n",
      "(\"odeur basse d'alcool et de tabac\", 'ORG', None, None, None)\n",
      "('et dans les restaurants du Bois de Boulogne', 'ORG', None, None, None)\n",
      "____ _  _     ____ ____ ____ ____     _ _ _ ____ ___      _  _ ___  \n",
      "|___ |\\ |     |    |  | |__/ |___     | | | |___ |__]     |\\/| |  \\ \n",
      "|___ | \\| ___ |___ |__| |  \\ |___ ___ |_|_| |___ |__] ___ |  | |__/ \n",
      "                                                                    \n",
      "\n",
      "(\"ils allerent seuls l'un et l'autre\", 'ORG', None, None, None)\n",
      "('se cachant des curiosites de leurs amis', 'ORG', None, None, None)\n",
      "('Paris', 'GPE', 'Q90', 'https://www.wikidata.org/wiki/Q90', 0.4627)\n",
      "('oifloiait', 'GPE', None, None, None)\n",
      "(\"odeur basse d'alcool et de tabac\", 'ORG', None, None, None)\n",
      "('et dans les restaurants du Bois de Boulogne', 'ORG', None, None, None)\n"
     ]
    }
   ],
   "source": [
    "read(kraken)"
   ]
  },
  {
   "cell_type": "markdown",
   "id": "ed961e2b",
   "metadata": {},
   "source": [
    "## 2"
   ]
  },
  {
   "cell_type": "code",
   "execution_count": 67,
   "id": "c60bc01b",
   "metadata": {},
   "outputs": [],
   "source": [
    "ref = \"Quand Philippe entra, madame de Fontenay, décidée à ne plus être gênée, se mit à parler\""
   ]
  },
  {
   "cell_type": "code",
   "execution_count": 68,
   "id": "879fa81d",
   "metadata": {},
   "outputs": [],
   "source": [
    "kraken = \"(Quand Philippe entra, madame de Fontenay, decidee a n6 plus etre genee, se mit a parler\""
   ]
  },
  {
   "cell_type": "code",
   "execution_count": 70,
   "id": "8a019cd8",
   "metadata": {},
   "outputs": [
    {
     "name": "stdout",
     "output_type": "stream",
     "text": [
      "\\begin{tabular}{lllll}\n",
      "\\toprule\n",
      "         modèle &               span & label  &   ID & score \\\\\n",
      "\\midrule\n",
      "fr\\_core\\_news\\_sm &           Philippe &    PER & None &  None \\\\\n",
      "fr\\_core\\_news\\_sm & madame de Fontenay &    PER & None &  None \\\\\n",
      "fr\\_core\\_news\\_md &           Philippe &    PER & None &  None \\\\\n",
      "fr\\_core\\_news\\_md & madame de Fontenay &    PER & None &  None \\\\\n",
      "fr\\_core\\_news\\_lg &           Philippe &    PER & None &  None \\\\\n",
      "fr\\_core\\_news\\_lg & madame de Fontenay &    PER & None &  None \\\\\n",
      " en\\_core\\_web\\_sm &     Quand Philippe & PERSON & None &  None \\\\\n",
      " en\\_core\\_web\\_sm &              mit à &    ORG & None &  None \\\\\n",
      " en\\_core\\_web\\_md &         être gênée & PERSON & None &  None \\\\\n",
      " en\\_core\\_web\\_md &    se mit à parler & PERSON & None &  None \\\\\n",
      " en\\_core\\_web\\_lg &     Quand Philippe & PERSON & None &  None \\\\\n",
      " en\\_core\\_web\\_lg &       décidée à ne &    GPE & None &  None \\\\\n",
      " en\\_core\\_web\\_lg &         être gênée & PERSON & None &  None \\\\\n",
      " en\\_core\\_web\\_lg &           se mit à & PERSON & None &  None \\\\\n",
      " en\\_core\\_web\\_lg &             parler &    ORG & None &  None \\\\\n",
      "\\bottomrule\n",
      "\\end{tabular}\n",
      "\n"
     ]
    },
    {
     "name": "stderr",
     "output_type": "stream",
     "text": [
      "/tmp/ipykernel_4319/3509878012.py:25: FutureWarning: In future versions `DataFrame.to_latex` is expected to utilise the base implementation of `Styler.to_latex` for formatting and rendering. The arguments signature may therefore change. It is recommended instead to use `DataFrame.style.to_latex` which also contains additional functionality.\n",
      "  latex = df.to_latex(index=False)\n"
     ]
    }
   ],
   "source": [
    "latexiser_mod(ref)"
   ]
  },
  {
   "cell_type": "code",
   "execution_count": 26,
   "id": "7d7bbd07",
   "metadata": {},
   "outputs": [
    {
     "name": "stdout",
     "output_type": "stream",
     "text": [
      "Quand Philippe entra, madame de Fontenay, décidée à ne plus être gênée, se mit à parler\n",
      "<EntityElement: https://www.wikidata.org/wiki/Q157098 Philip I of Castile       Duke of Burgundy and King of Castile              >\n",
      "<EntityElement: https://www.wikidata.org/wiki/Q17146837 Madam                     polite form of address for women, especially in American English>\n",
      "<EntityElement: https://www.wikidata.org/wiki/Q1166745 Fontenay                  commune in Seine-Maritime, France                 >\n",
      "(Quand Philippe entra, madame de Fontenay, decidee a n6 plus etre genee, se mit a parler\n",
      "<EntityElement: https://www.wikidata.org/wiki/Q157098 Philip I of Castile       Duke of Burgundy and King of Castile              >\n",
      "<EntityElement: https://www.wikidata.org/wiki/Q17146837 Madam                     polite form of address for women, especially in American English>\n",
      "<EntityElement: https://www.wikidata.org/wiki/Q1166745 Fontenay                  commune in Seine-Maritime, France                 >\n"
     ]
    }
   ],
   "source": [
    "extraits = [ref, kraken]\n",
    "for extrait in extraits: \n",
    "    print(extrait)\n",
    "    read(extrait,\"fr_core_news_lg\" )"
   ]
  },
  {
   "cell_type": "markdown",
   "id": "916857ba",
   "metadata": {},
   "source": [
    "## 3"
   ]
  },
  {
   "cell_type": "code",
   "execution_count": 32,
   "id": "56c4b716",
   "metadata": {},
   "outputs": [],
   "source": [
    "kraken = \"Pierre Valenee criait, il s'echauffait sur la Revolution\""
   ]
  },
  {
   "cell_type": "code",
   "execution_count": 33,
   "id": "7ac4fe83",
   "metadata": {},
   "outputs": [],
   "source": [
    "ref = \"Pierre Valence criait, il s'échauffait sur la Révolution\""
   ]
  },
  {
   "cell_type": "code",
   "execution_count": 34,
   "id": "4e9b5d4d",
   "metadata": {},
   "outputs": [
    {
     "name": "stdout",
     "output_type": "stream",
     "text": [
      "Pierre Valence criait, il s'échauffait sur la Révolution\n",
      "<EntityElement: https://www.wikidata.org/wiki/Q40747 Pierre                    capital city of South Dakota and county seat of Hughes County>\n",
      "<EntityElement: https://www.wikidata.org/wiki/Q8848 Valence                   commune in Drôme, France                          >\n",
      "<EntityElement: https://www.wikidata.org/wiki/Q3527389 Thésée                    French warship of 1790                            >\n",
      "Pierre Valenee criait, il s'echauffait sur la Revolution\n",
      "<EntityElement: https://www.wikidata.org/wiki/Q40747 Pierre                    capital city of South Dakota and county seat of Hughes County>\n",
      "<EntityElement: https://www.wikidata.org/wiki/Q289592 Revolution                American television drama series                  >\n"
     ]
    }
   ],
   "source": [
    "extraits = [ref, kraken]\n",
    "for extrait in extraits: \n",
    "    print(extrait)\n",
    "    read(extrait,\"fr_core_news_lg\" )"
   ]
  },
  {
   "cell_type": "code",
   "execution_count": null,
   "id": "e4a3b77f",
   "metadata": {},
   "outputs": [],
   "source": [
    "\\footnotesize{\n",
    "\\begin{tabular}{|l|p{3.5cm}|p{3.3cm}|p{3.3cm}|p{3.3cm}|p{3.3cm}}\n",
    "\\hline\n",
    "Entité liée                 \n",
    "& entitées issues du texte de référence & entitées issues du texte océrisé avec Kraken & \n",
    "\\\\ \\hline\n",
    "Pierre \n",
    "& capital city of South Dakota and county seat of Hughes County %https://www.wikidata.org/wiki/Q40747         \n",
    "& capital city of South Dakota and county seat of Hughes County %https://www.wikidata.org/wiki/Q40747 \n",
    "\\\\ \\hline\n",
    "\n",
    "Valence \n",
    "& commune in Drôme, France %https://www.wikidata.org/wiki/Q8848\n",
    "& \\Na \n",
    "\\\\ \\hline\n",
    "\n",
    "Thésée  \n",
    "& French warship of 1790 % https://www.wikidata.org/wiki/Q3527389\n",
    "& \\Na\n",
    "\n",
    "Revolution  \n",
    "& \\Na\n",
    "& American television drama series % https://www.wikidata.org/wiki/Q289592\n",
    "\n",
    "\\\\ \\hline\n",
    "\\end{tabular}}"
   ]
  },
  {
   "cell_type": "markdown",
   "id": "6a4cf70b",
   "metadata": {},
   "source": [
    "# AIMARD, les trappeurs"
   ]
  },
  {
   "cell_type": "code",
   "execution_count": 71,
   "id": "5bef2142",
   "metadata": {},
   "outputs": [],
   "source": [
    "ref = \"voilà une ville fondée à laquelle on donne un nom sonore comme Utique ou Syracuse, Rome ou Carthage\""
   ]
  },
  {
   "cell_type": "code",
   "execution_count": 76,
   "id": "f80f5405",
   "metadata": {},
   "outputs": [],
   "source": [
    "kraken = \"voila une ville fondee a laquelle on donne un nom sonore comme Utique ou Syracuse, ome ou Carthage, par exemple\""
   ]
  },
  {
   "cell_type": "code",
   "execution_count": 77,
   "id": "3ee68c01",
   "metadata": {},
   "outputs": [
    {
     "name": "stdout",
     "output_type": "stream",
     "text": [
      "\\begin{tabular}{llllr}\n",
      "\\toprule\n",
      "         modèle &                                         span & label  &       ID &  score \\\\\n",
      "\\midrule\n",
      "fr\\_core\\_news\\_sm &                                        voila &    PER & Q2351943 & 0.2744 \\\\\n",
      "fr\\_core\\_news\\_sm &                                       Utique &    LOC &     None &    NaN \\\\\n",
      "fr\\_core\\_news\\_sm &                                     Syracuse &    LOC &  Q128069 & 0.4539 \\\\\n",
      "fr\\_core\\_news\\_sm &                                     Carthage &    LOC &    Q6343 & 0.4644 \\\\\n",
      "fr\\_core\\_news\\_md &                                        voila &    PER & Q2351943 & 0.2744 \\\\\n",
      "fr\\_core\\_news\\_md &                                       Utique &    LOC &     None &    NaN \\\\\n",
      "fr\\_core\\_news\\_md &                                     Syracuse &    LOC &  Q128069 & 0.4539 \\\\\n",
      "fr\\_core\\_news\\_md &                                     Carthage &    LOC &    Q6343 & 0.4644 \\\\\n",
      "fr\\_core\\_news\\_lg &                                        voila &   MISC & Q2351943 & 0.2744 \\\\\n",
      "fr\\_core\\_news\\_lg &                                       Utique &    LOC &     None &    NaN \\\\\n",
      "fr\\_core\\_news\\_lg &                                     Syracuse &    LOC &  Q128069 & 0.4539 \\\\\n",
      "fr\\_core\\_news\\_lg &                                     Carthage &    LOC &    Q6343 & 0.4644 \\\\\n",
      " en\\_core\\_web\\_sm &                                        ville & PERSON & Q7860957 & 0.3368 \\\\\n",
      " en\\_core\\_web\\_sm &                                           un &    ORG &     None &    NaN \\\\\n",
      " en\\_core\\_web\\_sm &                                       Utique &    GPE &     None &    NaN \\\\\n",
      " en\\_core\\_web\\_sm &                                     Syracuse &    GPE &  Q128069 & 0.4539 \\\\\n",
      " en\\_core\\_web\\_md &                                     Syracuse &    GPE &  Q128069 & 0.4539 \\\\\n",
      " en\\_core\\_web\\_lg &                                        ville &    GPE &     None &    NaN \\\\\n",
      " en\\_core\\_web\\_lg &                                     laquelle &    GPE &     None &    NaN \\\\\n",
      " en\\_core\\_web\\_lg & donne un nom sonore comme Utique ou Syracuse & PERSON &     None &    NaN \\\\\n",
      " en\\_core\\_web\\_lg &                              ome ou Carthage &    GPE &     None &    NaN \\\\\n",
      "\\bottomrule\n",
      "\\end{tabular}\n",
      "\n"
     ]
    },
    {
     "name": "stderr",
     "output_type": "stream",
     "text": [
      "/tmp/ipykernel_4319/3509878012.py:25: FutureWarning: In future versions `DataFrame.to_latex` is expected to utilise the base implementation of `Styler.to_latex` for formatting and rendering. The arguments signature may therefore change. It is recommended instead to use `DataFrame.style.to_latex` which also contains additional functionality.\n",
      "  latex = df.to_latex(index=False)\n"
     ]
    }
   ],
   "source": [
    "latexiser_mod(kraken)"
   ]
  },
  {
   "cell_type": "code",
   "execution_count": 74,
   "id": "f09f93f1",
   "metadata": {},
   "outputs": [
    {
     "name": "stdout",
     "output_type": "stream",
     "text": [
      "\\begin{tabular}{llllr}\n",
      "\\toprule\n",
      "         modèle &                                         span & label  &       ID &  score \\\\\n",
      "\\midrule\n",
      "fr\\_core\\_news\\_sm &                                       Utique &    LOC &     None &    NaN \\\\\n",
      "fr\\_core\\_news\\_sm &                                     Syracuse &    LOC &  Q128069 & 0.4539 \\\\\n",
      "fr\\_core\\_news\\_sm &                                         Rome &    LOC &     Q220 & 0.4608 \\\\\n",
      "fr\\_core\\_news\\_sm &                                     Carthage &    LOC &    Q6343 & 0.4644 \\\\\n",
      "fr\\_core\\_news\\_md &                                       Utique &    LOC &     None &    NaN \\\\\n",
      "fr\\_core\\_news\\_md &                                     Syracuse &    LOC &  Q128069 & 0.4539 \\\\\n",
      "fr\\_core\\_news\\_md &                                         Rome &    LOC &     Q220 & 0.4608 \\\\\n",
      "fr\\_core\\_news\\_md &                                     Carthage &    LOC &    Q6343 & 0.4644 \\\\\n",
      "fr\\_core\\_news\\_lg &                                       Utique &    LOC &     None &    NaN \\\\\n",
      "fr\\_core\\_news\\_lg &                                     Syracuse &    LOC &  Q128069 & 0.4539 \\\\\n",
      "fr\\_core\\_news\\_lg &                                         Rome &    LOC &     Q220 & 0.4608 \\\\\n",
      "fr\\_core\\_news\\_lg &                                     Carthage &    LOC &    Q6343 & 0.4644 \\\\\n",
      " en\\_core\\_web\\_sm &                                        ville &    ORG & Q7860957 & 0.3368 \\\\\n",
      " en\\_core\\_web\\_sm &                                           un &    ORG &     None &    NaN \\\\\n",
      " en\\_core\\_web\\_sm &                                       Utique &    GPE &     None &    NaN \\\\\n",
      " en\\_core\\_web\\_sm &                                     Syracuse &    GPE &  Q128069 & 0.4539 \\\\\n",
      " en\\_core\\_web\\_sm &                                         Rome &    GPE &     Q220 & 0.4608 \\\\\n",
      " en\\_core\\_web\\_md &                              voilà une ville &    GPE &     None &    NaN \\\\\n",
      " en\\_core\\_web\\_md &                                     Syracuse &    GPE &  Q128069 & 0.4539 \\\\\n",
      " en\\_core\\_web\\_md &                                         Rome &    GPE &     Q220 & 0.4608 \\\\\n",
      " en\\_core\\_web\\_lg &                                    voilà une &    ORG &     None &    NaN \\\\\n",
      " en\\_core\\_web\\_lg &                      ville fondée à laquelle &    ORG &     None &    NaN \\\\\n",
      " en\\_core\\_web\\_lg & donne un nom sonore comme Utique ou Syracuse & PERSON &     None &    NaN \\\\\n",
      " en\\_core\\_web\\_lg &                                         Rome &    GPE &     Q220 & 0.4608 \\\\\n",
      "\\bottomrule\n",
      "\\end{tabular}\n",
      "\n"
     ]
    },
    {
     "name": "stderr",
     "output_type": "stream",
     "text": [
      "/tmp/ipykernel_4319/3509878012.py:25: FutureWarning: In future versions `DataFrame.to_latex` is expected to utilise the base implementation of `Styler.to_latex` for formatting and rendering. The arguments signature may therefore change. It is recommended instead to use `DataFrame.style.to_latex` which also contains additional functionality.\n",
      "  latex = df.to_latex(index=False)\n"
     ]
    }
   ],
   "source": [
    "latexiser_mod(ref)"
   ]
  },
  {
   "cell_type": "code",
   "execution_count": 13,
   "id": "ba9e5b33",
   "metadata": {},
   "outputs": [
    {
     "name": "stdout",
     "output_type": "stream",
     "text": [
      "voilà une ville fondée à laquelle on donne un nom sonore comme Utique ou Syracuse, Rome ou Carthage\n",
      "<EntityElement: https://www.wikidata.org/wiki/Q17404013 ville                     French word and English suffixe                   >\n",
      "<EntityElement: https://www.wikidata.org/wiki/Q6974681 National Organization for Marriage organization                                      >\n",
      "<EntityElement: https://www.wikidata.org/wiki/Q128069 Syracuse                  county seat of Onondaga County, New York, United States>\n",
      "<EntityElement: https://www.wikidata.org/wiki/Q220 Rome                      capital and largest city of Italy                 >\n",
      "<EntityElement: https://www.wikidata.org/wiki/Q6343 Carthage                  archaeological site in Tunisia                    >\n",
      "voila une ville fondee a laquelle on donne un nom sonore comme Utique ou Syracuse, ome ou Carthage, par exemple\n",
      "<EntityElement: https://www.wikidata.org/wiki/Q17404013 ville                     French word and English suffixe                   >\n",
      "<EntityElement: https://www.wikidata.org/wiki/Q6974681 National Organization for Marriage organization                                      >\n",
      "<EntityElement: https://www.wikidata.org/wiki/Q128069 Syracuse                  county seat of Onondaga County, New York, United States>\n",
      "<EntityElement: https://www.wikidata.org/wiki/Q237683 Ōme                       city in Tokyo, Japan                              >\n",
      "<EntityElement: https://www.wikidata.org/wiki/Q6343 Carthage                  archaeological site in Tunisia                    >\n"
     ]
    }
   ],
   "source": [
    "extraits = [ref, kraken]\n",
    "for extrait in extraits: \n",
    "    print(extrait)\n",
    "    read(extrait,\"fr_core_news_lg\" )"
   ]
  },
  {
   "cell_type": "code",
   "execution_count": null,
   "id": "041fae49",
   "metadata": {},
   "outputs": [],
   "source": [
    "\\footnotesize{\n",
    "\\begin{tabular}{|l|p{3.3cm}|p{3.3cm}|p{3.3cm}|p{3.3cm}|p{3.3cm}}\n",
    "\\hline\n",
    "\\textbf{Entité liée}                 \n",
    " & \\textbf{texte de référence traité avec spacy lg }\n",
    " % CKP : configuration (version+modèle par exemple Réf--) \n",
    " & \\textbf{texte océrisé avec kraken traité avec spacy lg }\n",
    "\\\\ \\hline\n",
    "ville\n",
    "& French word and English suffixe  %   https://www.wikidata.org/wiki/Q17404013     \n",
    "& French word and English suffixe  %   https://www.wikidata.org/wiki/Q17404013\n",
    "\\\\ \\hline\n",
    "\n",
    "National Organization for Marriage organization    \n",
    "& National Organization for Marriage organization   % https://www.wikidata.org/wiki/Q6974681       \n",
    "& National Organization for Marriage organization   % https://www.wikidata.org/wiki/Q6974681 \n",
    "\\\\ \\hline\n",
    "\n",
    "Syracuse \n",
    "& county seat of Onondaga County, New York, United States  % https://www.wikidata.org/wiki/Q128069        \n",
    "& county seat of Onondaga County, New York, United States  % https://www.wikidata.org/wiki/Q128069\n",
    "\\\\ \\hline\n",
    " Rome                      \n",
    "& capital and largest city of Italy % https://www.wikidata.org/wiki/Q220       \n",
    "&  city in Tokyo, Japan %\n",
    "\\\\ \\hline\n",
    "Carthage                   \n",
    "& archaeological site in Tunisia  %https://www.wikidata.org/wiki/Q6343        \n",
    "&  archaeological site in Tunisia  %https://www.wikidata.org/wiki/Q6343\n",
    "\\\\ \\hline\n",
    "\n",
    "\\end{tabular}}\n",
    "\\caption"
   ]
  },
  {
   "cell_type": "code",
   "execution_count": null,
   "id": "e5747771",
   "metadata": {},
   "outputs": [],
   "source": [
    "\\footnotesize{\n",
    "\\begin{tabular}{|l|p{3.5cm}|p{3.3cm}|p{3.3cm}|p{3.3cm}|p{3.3cm}}\n",
    "\\hline\n",
    "Entité liée                 \n",
    "& entitées issues du texte de référence & entitées issues du texte océrisé avec Kraken & \n",
    "\\\\ \\hline\n",
    "ville\n",
    "& French word and English suffixe  %   https://www.wikidata.org/wiki/Q17404013     \n",
    "& French word and English suffixe  %   https://www.wikidata.org/wiki/Q17404013\n",
    "\\\\ \\hline\n",
    "\n",
    "National Organization for Marriage organization    \n",
    "& National Organization for Marriage organization   % https://www.wikidata.org/wiki/Q6974681       \n",
    "& National Organization for Marriage organization   % https://www.wikidata.org/wiki/Q6974681 \n",
    "\\\\ \\hline\n",
    "\n",
    "Syracuse \n",
    "& county seat of Onondaga County, New York, United States  % https://www.wikidata.org/wiki/Q128069        \n",
    "& county seat of Onondaga County, New York, United States  % https://www.wikidata.org/wiki/Q128069\n",
    "\\\\ \\hline\n",
    " Rome                      \n",
    "& capital and largest city of Italy % https://www.wikidata.org/wiki/Q220       \n",
    "&  (Ōme)city in Tokyo, Japan %\n",
    "\\\\ \\hline\n",
    "Carthage                   \n",
    "& archaeological site in Tunisia  %https://www.wikidata.org/wiki/Q6343        \n",
    "&  archaeological site in Tunisia  %https://www.wikidata.org/wiki/Q6343\n",
    "\\\\ \\hline\n",
    "\n",
    "\\end{tabular}}"
   ]
  },
  {
   "cell_type": "markdown",
   "id": "223b0e5d",
   "metadata": {},
   "source": [
    "# exemple"
   ]
  },
  {
   "cell_type": "code",
   "execution_count": null,
   "id": "f03e01a6",
   "metadata": {},
   "outputs": [],
   "source": [
    "\\begin{table}[H]\n",
    "\\begin{tabular}{|l|p{4cm}|l|p{4cm}|p{4cm}|}\n",
    "\\hline\n",
    "vers. & contexte&Entité liée& en\\_core\\_web\\_sm & en\\_core\\_web\\_lg \\\\\n",
    "\\cline{3-4} \n",
    "\\hline\n",
    "\\multirow{4}{*}{Ref}& \"he declares he lived in \\textcolor{red}{Queen Bess}’s \\textcolor{red}{time}, recollects \\textcolor{red}{King} Charles bein’ beheaded perfectly vell, and remembers the \\textcolor{red}{Great} Fire \\textcolor{red}{o}’ \\textcolor{red}{London}\" \n",
    " &Queen Bess\n",
    "& \\url{ https://www.wikidata.org/wiki/Q54818138} \n",
    "           \n",
    "& \\url{ https://www.wikidata.org/wiki/Q54818138 }\n",
    "\n",
    "%& <EntityElement: https://www.wikidata.org/wiki/Q54818138 Queen Bess>\n",
    "\n",
    "\\\\ \n",
    " &&time& \\url{https://www.wikidata.org/wiki/Q11471} \n",
    "time : dimension in which events can be ordered from the past through the present into the future\n",
    "& \\url{ https://www.wikidata.org/wiki/Q11471 }\n",
    "time : dimension in which events can be ordered from the past through the present into the future                \n",
    "%& <EntityElement: https://www.wikidata.org/wiki/Q11471 time  dimension in which events can be ordered from the past through the present into the future>     \n",
    "\\\\\n",
    " &&  King& \\url{https://www.wikidata.org/wiki/Q2680856} King  \n",
    "casual-social games company \n",
    "&  \\url{ https://www.wikidata.org/wiki/Q2680856} King casual-social games company                \n",
    "%&  <EntityElement: https://www.wikidata.org/wiki/Q2680856 King casual-social games company >               \n",
    "\\\\\n",
    "\n",
    "&& London&  \\url{ https://www.wikidata.org/wiki/Q84} London capital and largest city of the United Kingdom >               \n",
    "&   \\url{ https://www.wikidata.org/wiki/Q84} London capital and largest city of the United Kingdom >             \n",
    "%&  <EntityElement: https://www.wikidata.org/wiki/Q84 London capital and largest city of the United Kingdom > \n",
    "\\\\\n",
    "&&Great or o ?&  \\url{ https://www.wikidata.org/wiki/Q204} zero integer number \n",
    "&  \\url{ https://www.wikidata.org/wiki/Q1544187} Great  1975 short film directed by Bob Godfrey    \n",
    "\\\\ \n",
    "\\hline\n",
    "\n",
    "kraken & \"\\textcolor{red}{e} declares ho lired in (\\textcolor{red}{Queen Bess}'s time, recollects Iing Charles \\textcolor{red}{bein}' beheaded perfectly vell, and remembers,the Great Fire o' London\"&&&\\\\\n",
    "\n",
    "\\hline\n",
    "\\end{tabular}\n",
    "\\end{table}"
   ]
  },
  {
   "cell_type": "markdown",
   "id": "8af412fa",
   "metadata": {},
   "source": [
    "# Audoux"
   ]
  },
  {
   "cell_type": "code",
   "execution_count": 82,
   "id": "6d3c63f1",
   "metadata": {},
   "outputs": [],
   "source": [
    "ref =\"Quand il ne fit plus froid dans la classe, sœur Marie-Aimée me plaça, sur un banc entre Ismérie et Marie Renaud\""
   ]
  },
  {
   "cell_type": "code",
   "execution_count": 83,
   "id": "ee582310",
   "metadata": {},
   "outputs": [],
   "source": [
    "kraken = \"Quand il ne fit plus froid dans la classe, seur Marie-Aimee me plagca sur un banc entre Ismerie et Marie Renaud\""
   ]
  },
  {
   "cell_type": "code",
   "execution_count": 84,
   "id": "f3115cbe",
   "metadata": {},
   "outputs": [
    {
     "name": "stdout",
     "output_type": "stream",
     "text": [
      "\\begin{tabular}{lllr}\n",
      "\\toprule\n",
      "        span & label  &                                     URL &  score \\\\\n",
      "\\midrule\n",
      " Marie-Aimée &    PER &                                    None &    NaN \\\\\n",
      "     Ismérie &   MISC &                                    None &    NaN \\\\\n",
      "Marie Renaud &    PER & https://www.wikidata.org/wiki/Q19880806 & 0.8403 \\\\\n",
      "\\bottomrule\n",
      "\\end{tabular}\n",
      "\n"
     ]
    },
    {
     "name": "stderr",
     "output_type": "stream",
     "text": [
      "/tmp/ipykernel_3911/1147971263.py:19: FutureWarning: In future versions `DataFrame.to_latex` is expected to utilise the base implementation of `Styler.to_latex` for formatting and rendering. The arguments signature may therefore change. It is recommended instead to use `DataFrame.style.to_latex` which also contains additional functionality.\n",
      "  table_latex = df.to_latex(index=False)\n",
      "/tmp/ipykernel_3911/1147971263.py:20: FutureWarning: In future versions `DataFrame.to_latex` is expected to utilise the base implementation of `Styler.to_latex` for formatting and rendering. The arguments signature may therefore change. It is recommended instead to use `DataFrame.style.to_latex` which also contains additional functionality.\n",
      "  latex = df.to_latex(index=False)\n"
     ]
    }
   ],
   "source": [
    "latexiser_fr(ref)"
   ]
  },
  {
   "cell_type": "code",
   "execution_count": 86,
   "id": "df58e2dc",
   "metadata": {},
   "outputs": [
    {
     "name": "stdout",
     "output_type": "stream",
     "text": [
      "____ ____     ____ ____ ____ ____     _  _ ____ _ _ _ ____     ____ _  _ \n",
      "|___ |__/     |    |  | |__/ |___     |\\ | |___ | | | [__      [__  |\\/| \n",
      "|    |  \\ ___ |___ |__| |  \\ |___ ___ | \\| |___ |_|_| ___] ___ ___] |  | \n",
      "                                                                         \n",
      "\n",
      "Marie-Aimée LOC None None None\n",
      "Ismérie LOC None None None\n",
      "Marie Renaud PER Q19880806 https://www.wikidata.org/wiki/Q19880806 0.8403\n",
      "____ ____     ____ ____ ____ ____     _  _ ____ _ _ _ ____     _  _ ___  \n",
      "|___ |__/     |    |  | |__/ |___     |\\ | |___ | | | [__      |\\/| |  \\ \n",
      "|    |  \\ ___ |___ |__| |  \\ |___ ___ | \\| |___ |_|_| ___] ___ |  | |__/ \n",
      "                                                                         \n",
      "\n",
      "Marie-Aimée PER None None None\n",
      "Ismérie MISC None None None\n",
      "Marie Renaud PER Q19880806 https://www.wikidata.org/wiki/Q19880806 0.8403\n",
      "____ ____     ____ ____ ____ ____     _  _ ____ _ _ _ ____     _    ____ \n",
      "|___ |__/     |    |  | |__/ |___     |\\ | |___ | | | [__      |    | __ \n",
      "|    |  \\ ___ |___ |__| |  \\ |___ ___ | \\| |___ |_|_| ___] ___ |___ |__] \n",
      "                                                                         \n",
      "\n",
      "Marie-Aimée PER None None None\n",
      "Ismérie LOC None None None\n",
      "Marie Renaud PER Q19880806 https://www.wikidata.org/wiki/Q19880806 0.8403\n",
      "____ _  _     ____ ____ ____ ____     _ _ _ ____ ___      ____ _  _ \n",
      "|___ |\\ |     |    |  | |__/ |___     | | | |___ |__]     [__  |\\/| \n",
      "|___ | \\| ___ |___ |__| |  \\ |___ ___ |_|_| |___ |__] ___ ___] |  | \n",
      "                                                                    \n",
      "\n",
      "dans la classe ORG None None None\n",
      "Marie-Aimée PERSON None None None\n",
      "sur un banc entre ORG None None None\n",
      "Ismérie GPE None None None\n",
      "Marie Renaud PERSON Q19880806 https://www.wikidata.org/wiki/Q19880806 0.8403\n",
      "____ _  _     ____ ____ ____ ____     _ _ _ ____ ___      _  _ ___  \n",
      "|___ |\\ |     |    |  | |__/ |___     | | | |___ |__]     |\\/| |  \\ \n",
      "|___ | \\| ___ |___ |__| |  \\ |___ ___ |_|_| |___ |__] ___ |  | |__/ \n",
      "                                                                    \n",
      "\n",
      "Quand il ne PERSON None None None\n",
      "froid dans la classe ORG None None None\n",
      "sœur Marie-Aimée PERSON None None None\n",
      "plaça GPE None None None\n",
      "un banc ORG None None None\n",
      "Ismérie et Marie Renaud ORG None None None\n",
      "____ _  _     ____ ____ ____ ____     _ _ _ ____ ___      _    ____ \n",
      "|___ |\\ |     |    |  | |__/ |___     | | | |___ |__]     |    | __ \n",
      "|___ | \\| ___ |___ |__| |  \\ |___ ___ |_|_| |___ |__] ___ |___ |__] \n",
      "                                                                    \n",
      "\n",
      "Quand il ne PERSON None None None\n",
      "froid dans la classe ORG None None None\n",
      "sœur Marie-Aimée PERSON None None None\n",
      "plaça GPE None None None\n",
      "sur un banc ORG None None None\n",
      "Ismérie PERSON None None None\n",
      "Marie Renaud PERSON Q19880806 https://www.wikidata.org/wiki/Q19880806 0.8403\n"
     ]
    }
   ],
   "source": [
    "read(ref)"
   ]
  },
  {
   "cell_type": "code",
   "execution_count": null,
   "id": "00268b1f",
   "metadata": {},
   "outputs": [],
   "source": []
  },
  {
   "cell_type": "code",
   "execution_count": null,
   "id": "0f5b115c",
   "metadata": {},
   "outputs": [],
   "source": [
    "# "
   ]
  },
  {
   "cell_type": "code",
   "execution_count": null,
   "id": "a01c3678",
   "metadata": {},
   "outputs": [],
   "source": [
    "ref = \"elle en vendait la moitié pour la Toussaint et l'autre moitié à Noël\""
   ]
  },
  {
   "cell_type": "code",
   "execution_count": null,
   "id": "fd277db8",
   "metadata": {},
   "outputs": [],
   "source": [
    "extraits = [ref, kraken]\n",
    "for extrait in extraits: \n",
    "    print(extrait)\n",
    "    read(extrait,\"fr_core_news_lg\" )"
   ]
  },
  {
   "cell_type": "code",
   "execution_count": 12,
   "id": "a49277e4",
   "metadata": {},
   "outputs": [],
   "source": [
    "read(\"cjdvnqsdvbùv\",\"fr_core_news_lg\")"
   ]
  },
  {
   "cell_type": "code",
   "execution_count": null,
   "id": "fac548a1",
   "metadata": {},
   "outputs": [],
   "source": [
    "toujours mêmes résultats quel que soit le modèle de langue\n",
    "ce n'est pas la REN de Spacy car les catégories \n",
    "supprimer ce qui a certitude faible comme  \"vell\""
   ]
  }
 ],
 "metadata": {
  "kernelspec": {
   "display_name": "Python 3 (ipykernel)",
   "language": "python",
   "name": "python3"
  },
  "language_info": {
   "codemirror_mode": {
    "name": "ipython",
    "version": 3
   },
   "file_extension": ".py",
   "mimetype": "text/x-python",
   "name": "python",
   "nbconvert_exporter": "python",
   "pygments_lexer": "ipython3",
   "version": "3.10.9"
  }
 },
 "nbformat": 4,
 "nbformat_minor": 5
}
