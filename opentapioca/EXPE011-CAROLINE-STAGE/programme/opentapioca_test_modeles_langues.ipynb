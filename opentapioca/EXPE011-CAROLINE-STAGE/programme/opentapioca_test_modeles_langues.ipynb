{
 "cells": [
  {
   "cell_type": "markdown",
   "id": "60259ae0",
   "metadata": {},
   "source": [
    "du 01/07/2023   \n",
    "objectif : évaluer l'influence du modèle de langue et du bruit sur l'entity liking.    \n",
    "contexte : reprise de \"testELSpacy_test-modèles_langues.ipynb\"."
   ]
  },
  {
   "cell_type": "markdown",
   "id": "498f51eb",
   "metadata": {},
   "source": [
    "# Evaluation comparative  du système Opentapioca"
   ]
  },
  {
   "cell_type": "code",
   "execution_count": 1,
   "id": "cd2fc00d",
   "metadata": {},
   "outputs": [
    {
     "name": "stderr",
     "output_type": "stream",
     "text": [
      "2023-08-16 00:40:47.535528: I tensorflow/core/platform/cpu_feature_guard.cc:182] This TensorFlow binary is optimized to use available CPU instructions in performance-critical operations.\n",
      "To enable the following instructions: AVX2 FMA, in other operations, rebuild TensorFlow with the appropriate compiler flags.\n",
      "2023-08-16 00:40:55.316855: W tensorflow/compiler/tf2tensorrt/utils/py_utils.cc:38] TF-TRT Warning: Could not find TensorRT\n"
     ]
    }
   ],
   "source": [
    "import spacy\n",
    "from art import *\n",
    "import pandas as pd"
   ]
  },
  {
   "cell_type": "code",
   "execution_count": 2,
   "id": "7acc3cc6",
   "metadata": {},
   "outputs": [],
   "source": [
    "def read (texte):\n",
    "    models = [\"fr_core_news_sm\",\"fr_core_news_md\",\"fr_core_news_lg\",\"en_core_web_sm\", \"en_core_web_md\", \"en_core_web_lg\"]\n",
    "    for model in models :\n",
    "        tprint (model, font=\"cybermedium\")\n",
    "        nlp = spacy.load(model)\n",
    "        # add pipeline (declared through entry_points in setup.py)\n",
    "        nlp.add_pipe(\"opentapioca\")\n",
    "        doc = nlp(texte)\n",
    "        # returns all entities in the whole document\n",
    "        # iterates over sentences and prints linked entities\n",
    "        for span in doc.ents:\n",
    "            print((span.text, span.kb_id_, span.label_, span._.description, span._.score))"
   ]
  },
  {
   "cell_type": "code",
   "execution_count": 3,
   "id": "da191ed4",
   "metadata": {},
   "outputs": [],
   "source": [
    "def latexiser_eng(texte):\n",
    "    tab_entite =[]\n",
    "    nlp = spacy.load(\"en_core_web_lg\")\n",
    "    \n",
    "    nlp.add_pipe(\"opentapioca\")\n",
    "    doc = nlp(texte)\n",
    "        # returns all entities in the whole document\n",
    "        # iterates over sentences and prints linked entities\n",
    "    for span in doc.ents:\n",
    "        tab_entite.append({\n",
    "            #\"modèle\": model,\n",
    "            \"span\" : span.text,\n",
    "            \"label \" : span.label_,\n",
    "            \"description\" : span._.description,\n",
    "            #\"URL\" : ent._.url_wikidata,\n",
    "            \"ID\" : span.kb_id_ ,\n",
    "            #\"ID\" : ident,\n",
    "            \"score\" : span._.score,\n",
    "            })   \n",
    "    df = pd.DataFrame(tab_entite)\n",
    "    table_latex = df.to_latex(index=False)\n",
    "    latex = df.to_latex(index=False)\n",
    "    print(latex)"
   ]
  },
  {
   "cell_type": "code",
   "execution_count": 4,
   "id": "ead2f179",
   "metadata": {},
   "outputs": [],
   "source": [
    "def latexiser_fr(texte):\n",
    "    tab_entite =[]\n",
    "    nlp = spacy.load(\"fr_core_news_lg\")\n",
    "    \n",
    "    nlp.add_pipe(\"opentapioca\")\n",
    "    doc = nlp(texte)\n",
    "        # returns all entities in the whole document\n",
    "        # iterates over sentences and prints linked entities\n",
    "    for span in doc.ents:\n",
    "        tab_entite.append({\n",
    "            #\"modèle\": model,\n",
    "            \"span\" : span.text,\n",
    "            \"label \" : span.label_,\n",
    "            \"description\" : span._.description,\n",
    "            #\"URL\" : ent._.url_wikidata,\n",
    "            \"ID\" : span.kb_id_ ,\n",
    "            #\"ID\" : ident,\n",
    "            \"score\" : span._.score,\n",
    "            })   \n",
    "    df = pd.DataFrame(tab_entite)\n",
    "    #print(df.info())\n",
    "    table_latex = df.to_latex(index=False)\n",
    "    latex = df.to_latex(index=False)\n",
    "    print(latex)"
   ]
  },
  {
   "cell_type": "code",
   "execution_count": 5,
   "id": "f3ccd66e",
   "metadata": {},
   "outputs": [],
   "source": [
    "import spacy\n",
    "import pandas as pd\n",
    "\n",
    "def latexiser_mod(texte):\n",
    "    models = [\"fr_core_news_sm\", \"fr_core_news_md\", \"fr_core_news_lg\", \"en_core_web_sm\", \"en_core_web_md\", \"en_core_web_lg\"]  # Charger le premier modèle à l'extérieur de la boucle\n",
    "    tab_entite = []\n",
    "\n",
    "    for model in models:\n",
    "        nlp = spacy.load(model)\n",
    "        nlp.add_pipe(\"opentapioca\")\n",
    "        doc = nlp(texte)\n",
    "        \n",
    "        for span in doc.ents:\n",
    "            tab_entite.append({\n",
    "                \"modèle\": model,\n",
    "                \"span\" : span.text,\n",
    "                \"label \" : span.label_,\n",
    "                \"description\" : span._.description,\n",
    "                #\"URL\" : ent._.url_wikidata,\n",
    "                \"ID\" : span.kb_id_ ,\n",
    "                #\"ID\" : ident,\n",
    "                \"score\" : span._.score,})    \n",
    "    df = pd.DataFrame(tab_entite)\n",
    "    #print(df.info())\n",
    "    latex = df.to_latex(index=False)\n",
    "    print(latex)\n"
   ]
  },
  {
   "cell_type": "code",
   "execution_count": 243,
   "id": "2dc1c155",
   "metadata": {},
   "outputs": [],
   "source": [
    "caroline = \"Je m'appelle Caroline\""
   ]
  },
  {
   "cell_type": "code",
   "execution_count": 244,
   "id": "003e32fe",
   "metadata": {},
   "outputs": [
    {
     "name": "stdout",
     "output_type": "stream",
     "text": [
      "\\begin{tabular}{llllr}\n",
      "\\toprule\n",
      "span & label  & description & ID & score \\\\\n",
      "\\midrule\n",
      "Je & LOC & ['British Crown dependency in the Channel Islands'] & Q785 & 0.608224 \\\\\n",
      "Caroline & MISC & ['American record label'] &  & -0.869801 \\\\\n",
      "\\bottomrule\n",
      "\\end{tabular}\n",
      "\n"
     ]
    }
   ],
   "source": [
    "latexiser_fr(caroline)"
   ]
  },
  {
   "cell_type": "code",
   "execution_count": 245,
   "id": "59944f81",
   "metadata": {},
   "outputs": [
    {
     "name": "stdout",
     "output_type": "stream",
     "text": [
      "\\begin{tabular}{lllllr}\n",
      "\\toprule\n",
      "modèle & span & label  & description & ID & score \\\\\n",
      "\\midrule\n",
      "fr_core_news_sm & Je & LOC & ['British Crown dependency in the Channel Islands'] & Q785 & 0.608224 \\\\\n",
      "fr_core_news_sm & Caroline & LOC & ['American record label'] &  & -0.869801 \\\\\n",
      "fr_core_news_md & Je & LOC & ['British Crown dependency in the Channel Islands'] & Q785 & 0.608224 \\\\\n",
      "fr_core_news_md & Caroline & LOC & ['American record label'] &  & -0.869801 \\\\\n",
      "fr_core_news_lg & Je & LOC & ['British Crown dependency in the Channel Islands'] & Q785 & 0.608224 \\\\\n",
      "fr_core_news_lg & Caroline & MISC & ['American record label'] &  & -0.869801 \\\\\n",
      "en_core_web_sm & Je & LOC & ['British Crown dependency in the Channel Islands'] & Q785 & 0.608224 \\\\\n",
      "en_core_web_md & Je & LOC & ['British Crown dependency in the Channel Islands'] & Q785 & 0.608224 \\\\\n",
      "en_core_web_lg & Je & LOC & ['British Crown dependency in the Channel Islands'] & Q785 & 0.608224 \\\\\n",
      "\\bottomrule\n",
      "\\end{tabular}\n",
      "\n"
     ]
    }
   ],
   "source": [
    "latexiser_mod(caroline)"
   ]
  },
  {
   "cell_type": "code",
   "execution_count": 77,
   "id": "2b3534e6",
   "metadata": {},
   "outputs": [
    {
     "name": "stdout",
     "output_type": "stream",
     "text": [
      "\\begin{tabular}{llllr}\n",
      "\\toprule\n",
      "span & label  & description & ID & score \\\\\n",
      "\\midrule\n",
      "Je & LOC & ['British Crown dependency in the Channel Islands'] & Q785 & 0.608224 \\\\\n",
      "Caroline & MISC & ['American record label'] &  & -0.869801 \\\\\n",
      "\\bottomrule\n",
      "\\end{tabular}\n",
      "\n"
     ]
    }
   ],
   "source": [
    "latexiser_fr(caroline)"
   ]
  },
  {
   "cell_type": "markdown",
   "id": "fc61fca6",
   "metadata": {},
   "source": [
    "# Discord"
   ]
  },
  {
   "cell_type": "markdown",
   "id": "7272f7ef",
   "metadata": {},
   "source": [
    "## Page Wikipédia Discord en anglais "
   ]
  },
  {
   "cell_type": "code",
   "execution_count": 203,
   "id": "e396db0a",
   "metadata": {},
   "outputs": [],
   "source": [
    "discord = \"Discord is an American VoIP and instant messaging social platform. Discord runs on Windows, macOS, Android, iOS, iPadOS, Linux, and in web browsers.\""
   ]
  },
  {
   "cell_type": "code",
   "execution_count": 246,
   "id": "bde8f51c",
   "metadata": {},
   "outputs": [
    {
     "name": "stdout",
     "output_type": "stream",
     "text": [
      "____ ____     ____ ____ ____ ____     _  _ ____ _ _ _ ____     ____ _  _ \n",
      "|___ |__/     |    |  | |__/ |___     |\\ | |___ | | | [__      [__  |\\/| \n",
      "|    |  \\ ___ |___ |__| |  \\ |___ ___ | \\| |___ |_|_| ___] ___ ___] |  | \n",
      "                                                                         \n",
      "\n",
      "('Discord', 'Q22907849', 'ORG', ['instant messaging and VoIP software'], 0.16554190535397473)\n",
      "('Discord', 'Q22907849', 'ORG', ['instant messaging and VoIP software'], 0.8623608512635775)\n",
      "('Linux', 'Q388', 'ORG', ['family of Unix-like operating systems that use the Linux kernel and are open source'], 0.7961084189087532)\n",
      "____ ____     ____ ____ ____ ____     _  _ ____ _ _ _ ____     _  _ ___  \n",
      "|___ |__/     |    |  | |__/ |___     |\\ | |___ | | | [__      |\\/| |  \\ \n",
      "|    |  \\ ___ |___ |__| |  \\ |___ ___ | \\| |___ |_|_| ___] ___ |  | |__/ \n",
      "                                                                         \n",
      "\n",
      "('Discord', 'Q22907849', 'ORG', ['instant messaging and VoIP software'], 0.16554190535397473)\n",
      "('Discord', 'Q22907849', 'ORG', ['instant messaging and VoIP software'], 0.8623608512635775)\n",
      "('Linux', 'Q388', 'ORG', ['family of Unix-like operating systems that use the Linux kernel and are open source'], 0.7961084189087532)\n",
      "____ ____     ____ ____ ____ ____     _  _ ____ _ _ _ ____     _    ____ \n",
      "|___ |__/     |    |  | |__/ |___     |\\ | |___ | | | [__      |    | __ \n",
      "|    |  \\ ___ |___ |__| |  \\ |___ ___ | \\| |___ |_|_| ___] ___ |___ |__] \n",
      "                                                                         \n",
      "\n",
      "('Discord', 'Q22907849', 'ORG', ['instant messaging and VoIP software'], 0.16554190535397473)\n",
      "('Discord', 'Q22907849', 'ORG', ['instant messaging and VoIP software'], 0.8623608512635775)\n",
      "('Linux', 'Q388', 'ORG', ['family of Unix-like operating systems that use the Linux kernel and are open source'], 0.7961084189087532)\n",
      "____ _  _     ____ ____ ____ ____     _ _ _ ____ ___      ____ _  _ \n",
      "|___ |\\ |     |    |  | |__/ |___     | | | |___ |__]     [__  |\\/| \n",
      "|___ | \\| ___ |___ |__| |  \\ |___ ___ |_|_| |___ |__] ___ ___] |  | \n",
      "                                                                    \n",
      "\n",
      "('Discord', 'Q22907849', 'ORG', ['instant messaging and VoIP software'], 0.16554190535397473)\n",
      "('Discord', 'Q22907849', 'ORG', ['instant messaging and VoIP software'], 0.8623608512635775)\n",
      "('Linux', 'Q388', 'ORG', ['family of Unix-like operating systems that use the Linux kernel and are open source'], 0.7961084189087532)\n",
      "____ _  _     ____ ____ ____ ____     _ _ _ ____ ___      _  _ ___  \n",
      "|___ |\\ |     |    |  | |__/ |___     | | | |___ |__]     |\\/| |  \\ \n",
      "|___ | \\| ___ |___ |__| |  \\ |___ ___ |_|_| |___ |__] ___ |  | |__/ \n",
      "                                                                    \n",
      "\n",
      "('Discord', 'Q22907849', 'ORG', ['instant messaging and VoIP software'], 0.16554190535397473)\n",
      "('Discord', 'Q22907849', 'ORG', ['instant messaging and VoIP software'], 0.8623608512635775)\n",
      "('Linux', 'Q388', 'ORG', ['family of Unix-like operating systems that use the Linux kernel and are open source'], 0.7961084189087532)\n",
      "____ _  _     ____ ____ ____ ____     _ _ _ ____ ___      _    ____ \n",
      "|___ |\\ |     |    |  | |__/ |___     | | | |___ |__]     |    | __ \n",
      "|___ | \\| ___ |___ |__| |  \\ |___ ___ |_|_| |___ |__] ___ |___ |__] \n",
      "                                                                    \n",
      "\n",
      "('Discord', 'Q22907849', 'ORG', ['instant messaging and VoIP software'], 0.16554190535397473)\n",
      "('Discord', 'Q22907849', 'ORG', ['instant messaging and VoIP software'], 0.8623608512635775)\n",
      "('Linux', 'Q388', 'ORG', ['family of Unix-like operating systems that use the Linux kernel and are open source'], 0.7961084189087532)\n"
     ]
    }
   ],
   "source": [
    "read(discord)"
   ]
  },
  {
   "cell_type": "code",
   "execution_count": 204,
   "id": "81593d8d",
   "metadata": {},
   "outputs": [
    {
     "name": "stdout",
     "output_type": "stream",
     "text": [
      "\\begin{tabular}{llllr}\n",
      "\\toprule\n",
      "span & label  & description & ID & score \\\\\n",
      "\\midrule\n",
      "Discord & ORG & ['instant messaging and VoIP software'] & Q22907849 & 0.165542 \\\\\n",
      "Discord & ORG & ['instant messaging and VoIP software'] & Q22907849 & 0.862361 \\\\\n",
      "Linux & ORG & ['family of Unix-like operating systems that use the Linux kernel and are open source'] & Q388 & 0.796108 \\\\\n",
      "\\bottomrule\n",
      "\\end{tabular}\n",
      "\n"
     ]
    }
   ],
   "source": [
    "latexiser_eng(discord)"
   ]
  },
  {
   "cell_type": "markdown",
   "id": "30c99367",
   "metadata": {},
   "source": [
    "## page wikipédia discord en fr"
   ]
  },
  {
   "cell_type": "code",
   "execution_count": 205,
   "id": "b16d55cb",
   "metadata": {},
   "outputs": [],
   "source": [
    "discord_fr = \"Discord est un logiciel propriétaire gratuit de VoIP et de messagerie instantanée. Il fonctionne sur les systèmes d’exploitation Windows, macOS, Linux, Android, iOS ainsi que sur les navigateurs web.  \""
   ]
  },
  {
   "cell_type": "code",
   "execution_count": 247,
   "id": "0c016002",
   "metadata": {},
   "outputs": [
    {
     "name": "stdout",
     "output_type": "stream",
     "text": [
      "____ ____     ____ ____ ____ ____     _  _ ____ _ _ _ ____     ____ _  _ \n",
      "|___ |__/     |    |  | |__/ |___     |\\ | |___ | | | [__      [__  |\\/| \n",
      "|    |  \\ ___ |___ |__| |  \\ |___ ___ | \\| |___ |_|_| ___] ___ ___] |  | \n",
      "                                                                         \n",
      "\n",
      "('est', 'Q191', 'LOC', ['sovereign state in northeastern Europe'], 0.25021585892661535)\n",
      "('Il', 'Q801', 'LOC', ['country in Western Asia'], 0.3662311020200638)\n",
      "('sur', 'Q730', 'LOC', ['country in South America'], 0.7289078634837921)\n",
      "('les', 'Q1013', 'LOC', ['sovereign state in southern Africa'], 0.8484395545337985)\n",
      "('Linux', 'Q388', 'ORG', ['family of Unix-like operating systems that use the Linux kernel and are open source'], 0.5803280110423353)\n",
      "('sur', 'Q730', 'LOC', ['country in South America'], 0.5276113149412108)\n",
      "('les', 'Q1013', 'LOC', ['sovereign state in southern Africa'], 0.6167726746219152)\n",
      "____ ____     ____ ____ ____ ____     _  _ ____ _ _ _ ____     _  _ ___  \n",
      "|___ |__/     |    |  | |__/ |___     |\\ | |___ | | | [__      |\\/| |  \\ \n",
      "|    |  \\ ___ |___ |__| |  \\ |___ ___ | \\| |___ |_|_| ___] ___ |  | |__/ \n",
      "                                                                         \n",
      "\n",
      "('est', 'Q191', 'LOC', ['sovereign state in northeastern Europe'], 0.25021585892661535)\n",
      "('Il', 'Q801', 'LOC', ['country in Western Asia'], 0.3662311020200638)\n",
      "('sur', 'Q730', 'LOC', ['country in South America'], 0.7289078634837921)\n",
      "('les', 'Q1013', 'LOC', ['sovereign state in southern Africa'], 0.8484395545337985)\n",
      "('Linux', 'Q388', 'ORG', ['family of Unix-like operating systems that use the Linux kernel and are open source'], 0.5803280110423353)\n",
      "('sur', 'Q730', 'LOC', ['country in South America'], 0.5276113149412108)\n",
      "('les', 'Q1013', 'LOC', ['sovereign state in southern Africa'], 0.6167726746219152)\n",
      "____ ____     ____ ____ ____ ____     _  _ ____ _ _ _ ____     _    ____ \n",
      "|___ |__/     |    |  | |__/ |___     |\\ | |___ | | | [__      |    | __ \n",
      "|    |  \\ ___ |___ |__| |  \\ |___ ___ | \\| |___ |_|_| ___] ___ |___ |__] \n",
      "                                                                         \n",
      "\n",
      "('est', 'Q191', 'LOC', ['sovereign state in northeastern Europe'], 0.25021585892661535)\n",
      "('Il', 'Q801', 'LOC', ['country in Western Asia'], 0.3662311020200638)\n",
      "('sur', 'Q730', 'LOC', ['country in South America'], 0.7289078634837921)\n",
      "('les', 'Q1013', 'LOC', ['sovereign state in southern Africa'], 0.8484395545337985)\n",
      "('Linux', 'Q388', 'ORG', ['family of Unix-like operating systems that use the Linux kernel and are open source'], 0.5803280110423353)\n",
      "('sur', 'Q730', 'LOC', ['country in South America'], 0.5276113149412108)\n",
      "('les', 'Q1013', 'LOC', ['sovereign state in southern Africa'], 0.6167726746219152)\n",
      "____ _  _     ____ ____ ____ ____     _ _ _ ____ ___      ____ _  _ \n",
      "|___ |\\ |     |    |  | |__/ |___     | | | |___ |__]     [__  |\\/| \n",
      "|___ | \\| ___ |___ |__| |  \\ |___ ___ |_|_| |___ |__] ___ ___] |  | \n",
      "                                                                    \n",
      "\n",
      "('est', 'Q191', 'LOC', ['sovereign state in northeastern Europe'], 0.25021585892661535)\n",
      "('Il', 'Q801', 'LOC', ['country in Western Asia'], 0.3662311020200638)\n",
      "('sur', 'Q730', 'LOC', ['country in South America'], 0.7289078634837921)\n",
      "('les', 'Q1013', 'LOC', ['sovereign state in southern Africa'], 0.8484395545337985)\n",
      "('Linux', 'Q388', 'ORG', ['family of Unix-like operating systems that use the Linux kernel and are open source'], 0.5803280110423353)\n",
      "('sur', 'Q730', 'LOC', ['country in South America'], 0.5276113149412108)\n",
      "('les', 'Q1013', 'LOC', ['sovereign state in southern Africa'], 0.6167726746219152)\n",
      "____ _  _     ____ ____ ____ ____     _ _ _ ____ ___      _  _ ___  \n",
      "|___ |\\ |     |    |  | |__/ |___     | | | |___ |__]     |\\/| |  \\ \n",
      "|___ | \\| ___ |___ |__| |  \\ |___ ___ |_|_| |___ |__] ___ |  | |__/ \n",
      "                                                                    \n",
      "\n",
      "('est', 'Q191', 'LOC', ['sovereign state in northeastern Europe'], 0.25021585892661535)\n",
      "('Il', 'Q801', 'LOC', ['country in Western Asia'], 0.3662311020200638)\n",
      "('sur', 'Q730', 'LOC', ['country in South America'], 0.7289078634837921)\n",
      "('les', 'Q1013', 'LOC', ['sovereign state in southern Africa'], 0.8484395545337985)\n",
      "('Linux', 'Q388', 'ORG', ['family of Unix-like operating systems that use the Linux kernel and are open source'], 0.5803280110423353)\n",
      "('sur', 'Q730', 'LOC', ['country in South America'], 0.5276113149412108)\n",
      "('les', 'Q1013', 'LOC', ['sovereign state in southern Africa'], 0.6167726746219152)\n",
      "____ _  _     ____ ____ ____ ____     _ _ _ ____ ___      _    ____ \n",
      "|___ |\\ |     |    |  | |__/ |___     | | | |___ |__]     |    | __ \n",
      "|___ | \\| ___ |___ |__| |  \\ |___ ___ |_|_| |___ |__] ___ |___ |__] \n",
      "                                                                    \n",
      "\n",
      "('est', 'Q191', 'LOC', ['sovereign state in northeastern Europe'], 0.25021585892661535)\n",
      "('Il', 'Q801', 'LOC', ['country in Western Asia'], 0.3662311020200638)\n",
      "('sur', 'Q730', 'LOC', ['country in South America'], 0.7289078634837921)\n",
      "('les', 'Q1013', 'LOC', ['sovereign state in southern Africa'], 0.8484395545337985)\n",
      "('Linux', 'Q388', 'ORG', ['family of Unix-like operating systems that use the Linux kernel and are open source'], 0.5803280110423353)\n",
      "('sur', 'Q730', 'LOC', ['country in South America'], 0.5276113149412108)\n",
      "('les', 'Q1013', 'LOC', ['sovereign state in southern Africa'], 0.6167726746219152)\n"
     ]
    }
   ],
   "source": [
    "read(discord_fr)"
   ]
  },
  {
   "cell_type": "code",
   "execution_count": 206,
   "id": "ff0bc1ce",
   "metadata": {},
   "outputs": [
    {
     "name": "stdout",
     "output_type": "stream",
     "text": [
      "\\begin{tabular}{llllr}\n",
      "\\toprule\n",
      "span & label  & description & ID & score \\\\\n",
      "\\midrule\n",
      "est & LOC & ['sovereign state in northeastern Europe'] & Q191 & 0.250216 \\\\\n",
      "Il & LOC & ['country in Western Asia'] & Q801 & 0.366231 \\\\\n",
      "sur & LOC & ['country in South America'] & Q730 & 0.728908 \\\\\n",
      "les & LOC & ['sovereign state in southern Africa'] & Q1013 & 0.848440 \\\\\n",
      "Linux & ORG & ['family of Unix-like operating systems that use the Linux kernel and are open source'] & Q388 & 0.580328 \\\\\n",
      "sur & LOC & ['country in South America'] & Q730 & 0.527611 \\\\\n",
      "les & LOC & ['sovereign state in southern Africa'] & Q1013 & 0.616773 \\\\\n",
      "\\bottomrule\n",
      "\\end{tabular}\n",
      "\n"
     ]
    }
   ],
   "source": [
    "latexiser_fr(discord_fr)"
   ]
  },
  {
   "cell_type": "markdown",
   "id": "44f626f7",
   "metadata": {},
   "source": [
    "## Nabilla"
   ]
  },
  {
   "cell_type": "code",
   "execution_count": 207,
   "id": "8e5e4526",
   "metadata": {},
   "outputs": [],
   "source": [
    "nabilla =\"En novembre 2013, elle est la vedette de sa propre émission de téléréalité, Allô Nabilla, ce qui est une première en France, le concept étant repris des États-Unis où l’on suit la vie des stars, notamment comme avec Kesha, Paris Hilton ou les Kardashian. \""
   ]
  },
  {
   "cell_type": "code",
   "execution_count": 208,
   "id": "c980d81b",
   "metadata": {},
   "outputs": [
    {
     "name": "stdout",
     "output_type": "stream",
     "text": [
      "\\begin{tabular}{llllr}\n",
      "\\toprule\n",
      "span & label  & description & ID & score \\\\\n",
      "\\midrule\n",
      "est & LOC & ['sovereign state in northeastern Europe'] & Q191 & 0.870831 \\\\\n",
      "est & LOC & ['sovereign state in northeastern Europe'] & Q191 & 1.174618 \\\\\n",
      "France & LOC & ['country in Western Europe'] & Q142 & 0.704747 \\\\\n",
      "\\bottomrule\n",
      "\\end{tabular}\n",
      "\n"
     ]
    }
   ],
   "source": [
    "latexiser_fr(nabilla)"
   ]
  },
  {
   "cell_type": "markdown",
   "id": "f0475ac2",
   "metadata": {},
   "source": [
    "## Pirates des Caraibes"
   ]
  },
  {
   "cell_type": "code",
   "execution_count": 95,
   "id": "7e7473c5",
   "metadata": {},
   "outputs": [],
   "source": [
    "pirates = \"I watched the Pirates of the Caribbean last silvester\""
   ]
  },
  {
   "cell_type": "code",
   "execution_count": 96,
   "id": "01a1cde6",
   "metadata": {},
   "outputs": [
    {
     "name": "stdout",
     "output_type": "stream",
     "text": [
      "\\begin{tabular}{lllllr}\n",
      "\\toprule\n",
      "modèle & span & label  & description & ID & score \\\\\n",
      "\\midrule\n",
      "fr_core_news_sm & Pirates of the Caribbean & LOC & ['Attraction at Magic Kingdom (WDW)'] & Q85471390 & 0.605128 \\\\\n",
      "fr_core_news_md & Pirates of the Caribbean & LOC & ['Attraction at Magic Kingdom (WDW)'] & Q85471390 & 0.605128 \\\\\n",
      "fr_core_news_lg & I watched the & MISC & NaN &  & NaN \\\\\n",
      "fr_core_news_lg & Pirates of the Caribbean & LOC & ['Attraction at Magic Kingdom (WDW)'] & Q85471390 & 0.605128 \\\\\n",
      "en_core_web_sm & Pirates of the Caribbean & LOC & ['Attraction at Magic Kingdom (WDW)'] & Q85471390 & 0.605128 \\\\\n",
      "en_core_web_md & Pirates of the Caribbean & LOC & ['Attraction at Magic Kingdom (WDW)'] & Q85471390 & 0.605128 \\\\\n",
      "en_core_web_lg & Pirates of the Caribbean & LOC & ['Attraction at Magic Kingdom (WDW)'] & Q85471390 & 0.605128 \\\\\n",
      "\\bottomrule\n",
      "\\end{tabular}\n",
      "\n"
     ]
    }
   ],
   "source": [
    "latexiser_mod(pirates)"
   ]
  },
  {
   "cell_type": "code",
   "execution_count": 97,
   "id": "60ff2949",
   "metadata": {},
   "outputs": [
    {
     "name": "stdout",
     "output_type": "stream",
     "text": [
      "\\begin{tabular}{llllr}\n",
      "\\toprule\n",
      "span & label  & description & ID & score \\\\\n",
      "\\midrule\n",
      "I watched the & MISC & NaN &  & NaN \\\\\n",
      "Pirates of the Caribbean & LOC & ['Attraction at Magic Kingdom (WDW)'] & Q85471390 & 0.605128 \\\\\n",
      "\\bottomrule\n",
      "\\end{tabular}\n",
      "\n"
     ]
    }
   ],
   "source": [
    "latexiser_fr(pirates)"
   ]
  },
  {
   "cell_type": "markdown",
   "id": "07b7e681",
   "metadata": {},
   "source": [
    "# Napoléon"
   ]
  },
  {
   "cell_type": "code",
   "execution_count": 98,
   "id": "46f7ff99",
   "metadata": {},
   "outputs": [],
   "source": [
    "napoleon_fr= \"Napoléon Bonaparte a envahi la Russie en 1812\" "
   ]
  },
  {
   "cell_type": "code",
   "execution_count": 99,
   "id": "8c9574b8",
   "metadata": {},
   "outputs": [
    {
     "name": "stdout",
     "output_type": "stream",
     "text": [
      "\\begin{tabular}{llllr}\n",
      "\\toprule\n",
      "span & label  & description & ID & score \\\\\n",
      "\\midrule\n",
      "Napoléon Bonaparte & PERSON & ['French military leader, French Emperor 1804–1814 and again in 1815'] & Q517 & 0.848337 \\\\\n",
      "\\bottomrule\n",
      "\\end{tabular}\n",
      "\n"
     ]
    }
   ],
   "source": [
    "latexiser_fr(napoleon_fr)"
   ]
  },
  {
   "cell_type": "code",
   "execution_count": 100,
   "id": "44ceb608",
   "metadata": {},
   "outputs": [
    {
     "name": "stdout",
     "output_type": "stream",
     "text": [
      "\\begin{tabular}{lllllr}\n",
      "\\toprule\n",
      "modèle & span & label  & description & ID & score \\\\\n",
      "\\midrule\n",
      "fr_core_news_sm & Napoléon Bonaparte & PERSON & ['French military leader, French Emperor 1804–1814 and again in 1815'] & Q517 & 0.848337 \\\\\n",
      "fr_core_news_md & Napoléon Bonaparte & PERSON & ['French military leader, French Emperor 1804–1814 and again in 1815'] & Q517 & 0.848337 \\\\\n",
      "fr_core_news_lg & Napoléon Bonaparte & PERSON & ['French military leader, French Emperor 1804–1814 and again in 1815'] & Q517 & 0.848337 \\\\\n",
      "en_core_web_sm & Napoléon Bonaparte & PERSON & ['French military leader, French Emperor 1804–1814 and again in 1815'] & Q517 & 0.848337 \\\\\n",
      "en_core_web_md & Napoléon Bonaparte & PERSON & ['French military leader, French Emperor 1804–1814 and again in 1815'] & Q517 & 0.848337 \\\\\n",
      "en_core_web_lg & Napoléon Bonaparte & PERSON & ['French military leader, French Emperor 1804–1814 and again in 1815'] & Q517 & 0.848337 \\\\\n",
      "\\bottomrule\n",
      "\\end{tabular}\n",
      "\n"
     ]
    }
   ],
   "source": [
    "latexiser_mod(napoleon_fr)"
   ]
  },
  {
   "cell_type": "code",
   "execution_count": 101,
   "id": "2de68c7f",
   "metadata": {},
   "outputs": [],
   "source": [
    "napoleon_eng= \"Napoléon Bonaparte envaded Russia in 1812\" "
   ]
  },
  {
   "cell_type": "code",
   "execution_count": 104,
   "id": "051039fe",
   "metadata": {},
   "outputs": [
    {
     "name": "stdout",
     "output_type": "stream",
     "text": [
      "\\begin{tabular}{lllllr}\n",
      "\\toprule\n",
      "modèle & span & label  & description & ID & score \\\\\n",
      "\\midrule\n",
      "fr_core_news_sm & Napoléon Bonaparte & PERSON & ['French military leader, French Emperor 1804–1814 and again in 1815'] & Q517 & 1.247339 \\\\\n",
      "fr_core_news_sm & Russia & ORGLOC & ['former empire in Eurasia (1721–1917) and North America (1721–1867)'] & Q34266 & 0.332411 \\\\\n",
      "fr_core_news_md & Napoléon Bonaparte & PERSON & ['French military leader, French Emperor 1804–1814 and again in 1815'] & Q517 & 1.247339 \\\\\n",
      "fr_core_news_md & Russia & ORGLOC & ['former empire in Eurasia (1721–1917) and North America (1721–1867)'] & Q34266 & 0.332411 \\\\\n",
      "fr_core_news_lg & Napoléon Bonaparte & PERSON & ['French military leader, French Emperor 1804–1814 and again in 1815'] & Q517 & 1.247339 \\\\\n",
      "fr_core_news_lg & Russia & ORGLOC & ['former empire in Eurasia (1721–1917) and North America (1721–1867)'] & Q34266 & 0.332411 \\\\\n",
      "en_core_web_sm & Napoléon Bonaparte & PERSON & ['French military leader, French Emperor 1804–1814 and again in 1815'] & Q517 & 1.247339 \\\\\n",
      "en_core_web_sm & Russia & ORGLOC & ['former empire in Eurasia (1721–1917) and North America (1721–1867)'] & Q34266 & 0.332411 \\\\\n",
      "en_core_web_md & Napoléon Bonaparte & PERSON & ['French military leader, French Emperor 1804–1814 and again in 1815'] & Q517 & 1.247339 \\\\\n",
      "en_core_web_md & Russia & ORGLOC & ['former empire in Eurasia (1721–1917) and North America (1721–1867)'] & Q34266 & 0.332411 \\\\\n",
      "en_core_web_lg & Napoléon Bonaparte & PERSON & ['French military leader, French Emperor 1804–1814 and again in 1815'] & Q517 & 1.247339 \\\\\n",
      "en_core_web_lg & Russia & ORGLOC & ['former empire in Eurasia (1721–1917) and North America (1721–1867)'] & Q34266 & 0.332411 \\\\\n",
      "\\bottomrule\n",
      "\\end{tabular}\n",
      "\n"
     ]
    }
   ],
   "source": [
    "latexiser_mod(napoleon_eng)"
   ]
  },
  {
   "cell_type": "code",
   "execution_count": 115,
   "id": "47b32957",
   "metadata": {},
   "outputs": [
    {
     "name": "stdout",
     "output_type": "stream",
     "text": [
      "\\begin{tabular}{llllr}\n",
      "\\toprule\n",
      "span & label  & description & ID & score \\\\\n",
      "\\midrule\n",
      "Napoléon Bonaparte & PERSON & ['French military leader, French Emperor 1804–1814 and again in 1815'] & Q517 & 1.247339 \\\\\n",
      "Russia & ORGLOC & ['former empire in Eurasia (1721–1917) and North America (1721–1867)'] & Q34266 & 0.332411 \\\\\n",
      "\\bottomrule\n",
      "\\end{tabular}\n",
      "\n"
     ]
    }
   ],
   "source": [
    "latexiser_eng(napoleon_eng)"
   ]
  },
  {
   "cell_type": "markdown",
   "id": "7b7b99da",
   "metadata": {},
   "source": [
    "# BRONTE, Wuthering heights"
   ]
  },
  {
   "cell_type": "code",
   "execution_count": 156,
   "id": "c3e33325",
   "metadata": {},
   "outputs": [],
   "source": [
    "ref = \"A Pious Discourse delivered by the Reverend Jabes Branderham, in the Chapel of Gimmerden Sough\""
   ]
  },
  {
   "cell_type": "code",
   "execution_count": 157,
   "id": "859a912f",
   "metadata": {},
   "outputs": [],
   "source": [
    "kraken = \"A Pious Discourse delisrered by the Reverend Jabes Branderham, in the Chapel of Gimmer-den Songh.\""
   ]
  },
  {
   "cell_type": "code",
   "execution_count": 158,
   "id": "209cdee5",
   "metadata": {},
   "outputs": [],
   "source": [
    "tesseractBin=\"A Pious Discourse delivered by the Reverend Jabes Branderham, in the Chapel of Gimmer-den Sough.\""
   ]
  },
  {
   "cell_type": "code",
   "execution_count": 159,
   "id": "8f06ddd4",
   "metadata": {},
   "outputs": [],
   "source": [
    "tesseractPNG =\"A Pious Discourse delivered by the Reverend Jabes Branderham, in the Chapel of Gimmer-den Sough\""
   ]
  },
  {
   "cell_type": "code",
   "execution_count": 160,
   "id": "a84559d4",
   "metadata": {},
   "outputs": [
    {
     "name": "stdout",
     "output_type": "stream",
     "text": [
      "\\begin{tabular}{llllll}\n",
      "\\toprule\n",
      "modèle & span & label  & description & ID & score \\\\\n",
      "\\midrule\n",
      "fr_core_news_md & A Pious & MISC & NaN &  & NaN \\\\\n",
      "fr_core_news_lg & A Pious Discourse delisrered by the Reverend Jabes Branderham & MISC & NaN &  & NaN \\\\\n",
      "en_core_web_sm & Jabes Branderham & PERSON & NaN &  & NaN \\\\\n",
      "en_core_web_sm & Songh & PERSON & NaN &  & NaN \\\\\n",
      "en_core_web_md & Jabes Branderham & PERSON & NaN &  & NaN \\\\\n",
      "en_core_web_lg & Jabes Branderham & PERSON & NaN &  & NaN \\\\\n",
      "en_core_web_lg & Songh & PERSON & NaN &  & NaN \\\\\n",
      "\\bottomrule\n",
      "\\end{tabular}\n",
      "\n"
     ]
    }
   ],
   "source": [
    "latexiser_mod(kraken)"
   ]
  },
  {
   "cell_type": "code",
   "execution_count": 161,
   "id": "6bbbb2d5",
   "metadata": {},
   "outputs": [
    {
     "name": "stdout",
     "output_type": "stream",
     "text": [
      "\\begin{tabular}{lllll}\n",
      "\\toprule\n",
      "span & label  & description & ID & score \\\\\n",
      "\\midrule\n",
      "Jabes Branderham & PERSON & NaN &  & NaN \\\\\n",
      "Songh & PERSON & NaN &  & NaN \\\\\n",
      "\\bottomrule\n",
      "\\end{tabular}\n",
      "\n"
     ]
    }
   ],
   "source": [
    "latexiser_eng(kraken)"
   ]
  },
  {
   "cell_type": "code",
   "execution_count": 162,
   "id": "b2893de1",
   "metadata": {},
   "outputs": [
    {
     "name": "stdout",
     "output_type": "stream",
     "text": [
      "\\begin{tabular}{llllll}\n",
      "\\toprule\n",
      "modèle & span & label  & description & ID & score \\\\\n",
      "\\midrule\n",
      "fr_core_news_md & A Pious & MISC & NaN &  & NaN \\\\\n",
      "fr_core_news_lg & A Pious Discourse delivered by the Reverend Jabes Branderham & MISC & NaN &  & NaN \\\\\n",
      "en_core_web_sm & Jabes Branderham & PERSON & NaN &  & NaN \\\\\n",
      "en_core_web_sm & Gimmerden Sough & GPE & NaN &  & NaN \\\\\n",
      "en_core_web_md & Jabes Branderham & PERSON & NaN &  & NaN \\\\\n",
      "en_core_web_md & the Chapel of Gimmerden & FAC & NaN &  & NaN \\\\\n",
      "en_core_web_lg & Jabes Branderham & PERSON & NaN &  & NaN \\\\\n",
      "en_core_web_lg & the Chapel of Gimmerden Sough & FAC & NaN &  & NaN \\\\\n",
      "\\bottomrule\n",
      "\\end{tabular}\n",
      "\n"
     ]
    }
   ],
   "source": [
    "latexiser_mod(ref)"
   ]
  },
  {
   "cell_type": "code",
   "execution_count": 163,
   "id": "a20b75cf",
   "metadata": {},
   "outputs": [
    {
     "name": "stdout",
     "output_type": "stream",
     "text": [
      "\\begin{tabular}{lllll}\n",
      "\\toprule\n",
      "span & label  & description & ID & score \\\\\n",
      "\\midrule\n",
      "Jabes Branderham & PERSON & NaN &  & NaN \\\\\n",
      "the Chapel of Gimmerden Sough & FAC & NaN &  & NaN \\\\\n",
      "\\bottomrule\n",
      "\\end{tabular}\n",
      "\n"
     ]
    }
   ],
   "source": [
    "latexiser_eng(ref)"
   ]
  },
  {
   "cell_type": "code",
   "execution_count": 164,
   "id": "79b30031",
   "metadata": {},
   "outputs": [
    {
     "name": "stdout",
     "output_type": "stream",
     "text": [
      "\\begin{tabular}{lllll}\n",
      "\\toprule\n",
      "span & label  & description & ID & score \\\\\n",
      "\\midrule\n",
      "Jabes Branderham & PERSON & NaN &  & NaN \\\\\n",
      "Songh & PERSON & NaN &  & NaN \\\\\n",
      "\\bottomrule\n",
      "\\end{tabular}\n",
      "\n"
     ]
    }
   ],
   "source": [
    "latexiser_eng(kraken)"
   ]
  },
  {
   "cell_type": "markdown",
   "id": "4c6df6fe",
   "metadata": {},
   "source": [
    "# AINSWORTH"
   ]
  },
  {
   "cell_type": "code",
   "execution_count": 216,
   "id": "010e25ea",
   "metadata": {},
   "outputs": [],
   "source": [
    "ref = \"he declares he lived in Queen Bess’s time, recollects King Charles bein’ beheaded perfectly vell, and remembers the Great Fire o’ London” \""
   ]
  },
  {
   "cell_type": "code",
   "execution_count": 217,
   "id": "2a08e811",
   "metadata": {},
   "outputs": [],
   "source": [
    "kraken = \"e declares ho lired in (Queen Bess's time, recollects Iing Charles bein' beheaded perfectly vell, and remembers,the Great Fire o' London\""
   ]
  },
  {
   "cell_type": "code",
   "execution_count": 218,
   "id": "800469ab",
   "metadata": {},
   "outputs": [],
   "source": [
    "tesseractBIN = \"he declares he lived in Queen Bess’s time, recollects King Charles bein’ beheaded perfectly vell, and remembers the Great Fire o’ London, as if it only occurred yester-day.\""
   ]
  },
  {
   "cell_type": "code",
   "execution_count": 219,
   "id": "26751df3",
   "metadata": {},
   "outputs": [],
   "source": [
    "tesseractPNG = \"he declares he lived in Queen Bess’s time, recollects King Charles bein’ beheaded perfectly vell, and remembers the Great Fire o’ London\""
   ]
  },
  {
   "cell_type": "code",
   "execution_count": 220,
   "id": "4404b2c1",
   "metadata": {},
   "outputs": [
    {
     "name": "stdout",
     "output_type": "stream",
     "text": [
      "\\begin{tabular}{llllr}\n",
      "\\toprule\n",
      "span & label  & description & ID & score \\\\\n",
      "\\midrule\n",
      "Queen & PERSON & ['Queen of the United Kingdom from 1952 to 2022'] & Q9682 & 0.329482 \\\\\n",
      "King Charles & PERSON & ['King of the United Kingdom since 2022'] & Q43274 & 1.764468 \\\\\n",
      "London & LOC & ['capital and largest city of the United Kingdom'] & Q84 & 0.801286 \\\\\n",
      "\\bottomrule\n",
      "\\end{tabular}\n",
      "\n"
     ]
    }
   ],
   "source": [
    "latexiser_eng(ref)"
   ]
  },
  {
   "cell_type": "code",
   "execution_count": 221,
   "id": "1698c76c",
   "metadata": {},
   "outputs": [
    {
     "name": "stdout",
     "output_type": "stream",
     "text": [
      "\\begin{tabular}{llllr}\n",
      "\\toprule\n",
      "span & label  & description & ID & score \\\\\n",
      "\\midrule\n",
      "Queen Bess & PERSON & ['Queen of England and Ireland from 1558 to 1603'] & Q7207 & 0.510875 \\\\\n",
      "London & LOC & ['capital and largest city of the United Kingdom'] & Q84 & 0.230175 \\\\\n",
      "\\bottomrule\n",
      "\\end{tabular}\n",
      "\n"
     ]
    }
   ],
   "source": [
    "latexiser_eng(kraken)"
   ]
  },
  {
   "cell_type": "code",
   "execution_count": 222,
   "id": "3f02a0e9",
   "metadata": {},
   "outputs": [
    {
     "name": "stdout",
     "output_type": "stream",
     "text": [
      "\\begin{tabular}{llllr}\n",
      "\\toprule\n",
      "span & label  & description & ID & score \\\\\n",
      "\\midrule\n",
      "Queen Bess & PERSON & ['Queen of England and Ireland from 1558 to 1603'] & Q7207 & 0.510875 \\\\\n",
      "London & LOC & ['capital and largest city of the United Kingdom'] & Q84 & 0.230175 \\\\\n",
      "\\bottomrule\n",
      "\\end{tabular}\n",
      "\n"
     ]
    }
   ],
   "source": [
    "latexiser_eng(kraken)"
   ]
  },
  {
   "cell_type": "markdown",
   "id": "4161b638",
   "metadata": {},
   "source": [
    "# Maupassant"
   ]
  },
  {
   "cell_type": "code",
   "execution_count": 172,
   "id": "20a6fc58",
   "metadata": {},
   "outputs": [],
   "source": [
    "#ref = \"Ils gagnèrent Livourne, visitèrent Florence, Gênes, toute la Corniche.\" "
   ]
  },
  {
   "cell_type": "code",
   "execution_count": 223,
   "id": "e2d55732",
   "metadata": {},
   "outputs": [],
   "source": [
    "ref = \"Le baron Simon-Jacques Le Perthuis des Vauds était un gentilhomme de l'autre siècle, maniaque et bon. Disciple enthousiaste de J. -J. Rousseau, il avait des tendresses d'amant pour la nature, les champs, les bois, les bêtes.\""
   ]
  },
  {
   "cell_type": "code",
   "execution_count": 224,
   "id": "09852277",
   "metadata": {},
   "outputs": [],
   "source": [
    "kraken = \" Le baron Simon-lacques Le Perthuis des Vauds etait un gentilhomme de l'autre siecle, maniaque etbon. Disciple enthousiaste de J.-J. Rousseau, il avaitdes tendresses d'amant pour la nature, les champs, les bois, les betes.\""
   ]
  },
  {
   "cell_type": "code",
   "execution_count": 225,
   "id": "216d1bd9",
   "metadata": {},
   "outputs": [
    {
     "name": "stdout",
     "output_type": "stream",
     "text": [
      "\\begin{tabular}{lllllr}\n",
      "\\toprule\n",
      "modèle & span & label  & description & ID & score \\\\\n",
      "\\midrule\n",
      "fr_core_news_sm & Rousseau & PERSON & ['Genevan philosopher, writer and composer (1712–1778)'] & Q6527 & 0.132586 \\\\\n",
      "fr_core_news_sm & les champs & LOC & ['commune in Cher, France'] & Q965691 & 0.435014 \\\\\n",
      "fr_core_news_sm & les & LOC & ['sovereign state in southern Africa'] & Q1013 & 0.523408 \\\\\n",
      "fr_core_news_md & Rousseau & PERSON & ['Genevan philosopher, writer and composer (1712–1778)'] & Q6527 & 0.132586 \\\\\n",
      "fr_core_news_md & les champs & LOC & ['commune in Cher, France'] & Q965691 & 0.435014 \\\\\n",
      "fr_core_news_md & les & LOC & ['sovereign state in southern Africa'] & Q1013 & 0.523408 \\\\\n",
      "fr_core_news_lg & Rousseau & PERSON & ['Genevan philosopher, writer and composer (1712–1778)'] & Q6527 & 0.132586 \\\\\n",
      "fr_core_news_lg & les champs & LOC & ['commune in Cher, France'] & Q965691 & 0.435014 \\\\\n",
      "fr_core_news_lg & les & LOC & ['sovereign state in southern Africa'] & Q1013 & 0.523408 \\\\\n",
      "en_core_web_sm & Rousseau & PERSON & ['Genevan philosopher, writer and composer (1712–1778)'] & Q6527 & 0.132586 \\\\\n",
      "en_core_web_sm & les champs & LOC & ['commune in Cher, France'] & Q965691 & 0.435014 \\\\\n",
      "en_core_web_sm & les & LOC & ['sovereign state in southern Africa'] & Q1013 & 0.523408 \\\\\n",
      "en_core_web_md & Rousseau & PERSON & ['Genevan philosopher, writer and composer (1712–1778)'] & Q6527 & 0.132586 \\\\\n",
      "en_core_web_md & les champs & LOC & ['commune in Cher, France'] & Q965691 & 0.435014 \\\\\n",
      "en_core_web_md & les & LOC & ['sovereign state in southern Africa'] & Q1013 & 0.523408 \\\\\n",
      "en_core_web_lg & Simon-Jacques Le Perthuis des Vauds était un & PERSON & NaN &  & NaN \\\\\n",
      "en_core_web_lg & gentilhomme de l'autre siècle & PERSON & NaN &  & NaN \\\\\n",
      "en_core_web_lg & Rousseau & PERSON & ['Genevan philosopher, writer and composer (1712–1778)'] & Q6527 & 0.132586 \\\\\n",
      "en_core_web_lg & il avait des tendresses d'amant & PERSON & NaN &  & NaN \\\\\n",
      "en_core_web_lg & les champs & LOC & ['commune in Cher, France'] & Q965691 & 0.435014 \\\\\n",
      "en_core_web_lg & les & LOC & ['sovereign state in southern Africa'] & Q1013 & 0.523408 \\\\\n",
      "\\bottomrule\n",
      "\\end{tabular}\n",
      "\n"
     ]
    }
   ],
   "source": [
    "latexiser_mod(ref)"
   ]
  },
  {
   "cell_type": "code",
   "execution_count": 226,
   "id": "a4f1a5fa",
   "metadata": {},
   "outputs": [
    {
     "name": "stdout",
     "output_type": "stream",
     "text": [
      "\\begin{tabular}{llllr}\n",
      "\\toprule\n",
      "span & label  & description & ID & score \\\\\n",
      "\\midrule\n",
      "Rousseau & PERSON & ['Genevan philosopher, writer and composer (1712–1778)'] & Q6527 & 0.132586 \\\\\n",
      "les champs & LOC & ['commune in Cher, France'] & Q965691 & 0.435014 \\\\\n",
      "les & LOC & ['sovereign state in southern Africa'] & Q1013 & 0.523408 \\\\\n",
      "\\bottomrule\n",
      "\\end{tabular}\n",
      "\n"
     ]
    }
   ],
   "source": [
    "latexiser_fr(ref)"
   ]
  },
  {
   "cell_type": "code",
   "execution_count": 227,
   "id": "9c75f7bb",
   "metadata": {},
   "outputs": [
    {
     "name": "stdout",
     "output_type": "stream",
     "text": [
      "\\begin{tabular}{llllr}\n",
      "\\toprule\n",
      "span & label  & description & ID & score \\\\\n",
      "\\midrule\n",
      "Rousseau & PERSON & ['Genevan philosopher, writer and composer (1712–1778)'] & Q6527 & 0.090920 \\\\\n",
      "les champs & LOC & ['commune in Cher, France'] & Q965691 & 0.577959 \\\\\n",
      "les & LOC & ['sovereign state in southern Africa'] & Q1013 & 0.703957 \\\\\n",
      "\\bottomrule\n",
      "\\end{tabular}\n",
      "\n"
     ]
    }
   ],
   "source": [
    "latexiser_fr(kraken)"
   ]
  },
  {
   "cell_type": "markdown",
   "id": "7d9590dc",
   "metadata": {},
   "source": [
    "# Noaille "
   ]
  },
  {
   "cell_type": "markdown",
   "id": "8c042672",
   "metadata": {},
   "source": [
    "## 1"
   ]
  },
  {
   "cell_type": "code",
   "execution_count": 235,
   "id": "592cd10e",
   "metadata": {},
   "outputs": [],
   "source": [
    "kraken = \"ils allerent seuls l'un et l'autre, secre-tement, se cachant des curiosites de leurs amis, diner dans de petits cafes de Paris, oifloiait une odeur basse d'alcool et de tabac,et dans les restaurants du Bois de Boulogne,pleins de lumiere et de gens\""
   ]
  },
  {
   "cell_type": "code",
   "execution_count": 236,
   "id": "9c023299",
   "metadata": {},
   "outputs": [],
   "source": [
    "ref = \"ils allèrent seuls l'un et l'autre, secrètement, se cachant des curiosités de leurs amis, dîner dans de petits cafés de Paris, où flottait une odeur basse d'alcool et de tabac, et dans les restaurants du Bois de Boulogne, pleins de lumière et de gens\""
   ]
  },
  {
   "cell_type": "code",
   "execution_count": 237,
   "id": "e67252df",
   "metadata": {},
   "outputs": [
    {
     "name": "stdout",
     "output_type": "stream",
     "text": [
      "\\begin{tabular}{lllllr}\n",
      "\\toprule\n",
      "modèle & span & label  & description & ID & score \\\\\n",
      "\\midrule\n",
      "fr_core_news_sm & dans & ORG & ['organization'] & Q13570995 & 0.084679 \\\\\n",
      "fr_core_news_sm & Paris & LOC & ['capital and largest city of France'] & Q90 & 0.542768 \\\\\n",
      "fr_core_news_sm & dans & ORG & ['organization'] & Q13570995 & 0.087426 \\\\\n",
      "fr_core_news_sm & les & LOC & ['sovereign state in southern Africa'] & Q1013 & 0.498033 \\\\\n",
      "fr_core_news_sm & Bois de Boulogne & LOC & ['large public park the western edge of Paris, France'] & Q209626 & 0.812949 \\\\\n",
      "fr_core_news_md & dans & ORG & ['organization'] & Q13570995 & 0.084679 \\\\\n",
      "fr_core_news_md & Paris & LOC & ['capital and largest city of France'] & Q90 & 0.542768 \\\\\n",
      "fr_core_news_md & dans & ORG & ['organization'] & Q13570995 & 0.087426 \\\\\n",
      "fr_core_news_md & les & LOC & ['sovereign state in southern Africa'] & Q1013 & 0.498033 \\\\\n",
      "fr_core_news_md & Bois de Boulogne & LOC & ['large public park the western edge of Paris, France'] & Q209626 & 0.812949 \\\\\n",
      "fr_core_news_lg & dans & ORG & ['organization'] & Q13570995 & 0.084679 \\\\\n",
      "fr_core_news_lg & Paris & LOC & ['capital and largest city of France'] & Q90 & 0.542768 \\\\\n",
      "fr_core_news_lg & dans & ORG & ['organization'] & Q13570995 & 0.087426 \\\\\n",
      "fr_core_news_lg & les & LOC & ['sovereign state in southern Africa'] & Q1013 & 0.498033 \\\\\n",
      "fr_core_news_lg & Bois de Boulogne & LOC & ['large public park the western edge of Paris, France'] & Q209626 & 0.812949 \\\\\n",
      "en_core_web_sm & dans & ORG & ['organization'] & Q13570995 & 0.084679 \\\\\n",
      "en_core_web_sm & Paris & LOC & ['capital and largest city of France'] & Q90 & 0.542768 \\\\\n",
      "en_core_web_sm & dans & ORG & ['organization'] & Q13570995 & 0.087426 \\\\\n",
      "en_core_web_sm & les & LOC & ['sovereign state in southern Africa'] & Q1013 & 0.498033 \\\\\n",
      "en_core_web_sm & Bois de Boulogne & LOC & ['large public park the western edge of Paris, France'] & Q209626 & 0.812949 \\\\\n",
      "en_core_web_md & dans & ORG & ['organization'] & Q13570995 & 0.084679 \\\\\n",
      "en_core_web_md & Paris & LOC & ['capital and largest city of France'] & Q90 & 0.542768 \\\\\n",
      "en_core_web_md & dans & ORG & ['organization'] & Q13570995 & 0.087426 \\\\\n",
      "en_core_web_md & les & LOC & ['sovereign state in southern Africa'] & Q1013 & 0.498033 \\\\\n",
      "en_core_web_md & Bois de Boulogne & LOC & ['large public park the western edge of Paris, France'] & Q209626 & 0.812949 \\\\\n",
      "en_core_web_lg & dans & ORG & ['organization'] & Q13570995 & 0.084679 \\\\\n",
      "en_core_web_lg & Paris & LOC & ['capital and largest city of France'] & Q90 & 0.542768 \\\\\n",
      "en_core_web_lg & dans & ORG & ['organization'] & Q13570995 & 0.087426 \\\\\n",
      "en_core_web_lg & les & LOC & ['sovereign state in southern Africa'] & Q1013 & 0.498033 \\\\\n",
      "en_core_web_lg & Bois de Boulogne & LOC & ['large public park the western edge of Paris, France'] & Q209626 & 0.812949 \\\\\n",
      "\\bottomrule\n",
      "\\end{tabular}\n",
      "\n"
     ]
    }
   ],
   "source": [
    "latexiser_mod(ref)"
   ]
  },
  {
   "cell_type": "code",
   "execution_count": 213,
   "id": "45fc4868",
   "metadata": {},
   "outputs": [
    {
     "name": "stdout",
     "output_type": "stream",
     "text": [
      "\\begin{tabular}{lllllr}\n",
      "\\toprule\n",
      "modèle & span & label  & description & ID & score \\\\\n",
      "\\midrule\n",
      "fr_core_news_sm & dans & ORG & ['organization'] & Q13570995 & 0.072841 \\\\\n",
      "fr_core_news_sm & Paris & LOC & ['capital and largest city of France'] & Q90 & 0.546902 \\\\\n",
      "fr_core_news_sm & dans & ORG & ['organization'] & Q13570995 & 0.092083 \\\\\n",
      "fr_core_news_sm & les & LOC & ['sovereign state in southern Africa'] & Q1013 & 0.499807 \\\\\n",
      "fr_core_news_sm & Bois de Boulogne & LOC & ['large public park the western edge of Paris, France'] & Q209626 & 0.841223 \\\\\n",
      "fr_core_news_md & dans & ORG & ['organization'] & Q13570995 & 0.072841 \\\\\n",
      "fr_core_news_md & Paris & LOC & ['capital and largest city of France'] & Q90 & 0.546902 \\\\\n",
      "fr_core_news_md & dans & ORG & ['organization'] & Q13570995 & 0.092083 \\\\\n",
      "fr_core_news_md & les & LOC & ['sovereign state in southern Africa'] & Q1013 & 0.499807 \\\\\n",
      "fr_core_news_md & Bois de Boulogne & LOC & ['large public park the western edge of Paris, France'] & Q209626 & 0.841223 \\\\\n",
      "fr_core_news_lg & dans & ORG & ['organization'] & Q13570995 & 0.072841 \\\\\n",
      "fr_core_news_lg & Paris & LOC & ['capital and largest city of France'] & Q90 & 0.546902 \\\\\n",
      "fr_core_news_lg & dans & ORG & ['organization'] & Q13570995 & 0.092083 \\\\\n",
      "fr_core_news_lg & les & LOC & ['sovereign state in southern Africa'] & Q1013 & 0.499807 \\\\\n",
      "fr_core_news_lg & Bois de Boulogne & LOC & ['large public park the western edge of Paris, France'] & Q209626 & 0.841223 \\\\\n",
      "en_core_web_sm & dans & ORG & ['organization'] & Q13570995 & 0.072841 \\\\\n",
      "en_core_web_sm & Paris & LOC & ['capital and largest city of France'] & Q90 & 0.546902 \\\\\n",
      "en_core_web_sm & dans & ORG & ['organization'] & Q13570995 & 0.092083 \\\\\n",
      "en_core_web_sm & les & LOC & ['sovereign state in southern Africa'] & Q1013 & 0.499807 \\\\\n",
      "en_core_web_sm & Bois de Boulogne & LOC & ['large public park the western edge of Paris, France'] & Q209626 & 0.841223 \\\\\n",
      "en_core_web_md & dans & ORG & ['organization'] & Q13570995 & 0.072841 \\\\\n",
      "en_core_web_md & Paris & LOC & ['capital and largest city of France'] & Q90 & 0.546902 \\\\\n",
      "en_core_web_md & dans & ORG & ['organization'] & Q13570995 & 0.092083 \\\\\n",
      "en_core_web_md & les & LOC & ['sovereign state in southern Africa'] & Q1013 & 0.499807 \\\\\n",
      "en_core_web_md & Bois de Boulogne & LOC & ['large public park the western edge of Paris, France'] & Q209626 & 0.841223 \\\\\n",
      "en_core_web_lg & dans & ORG & ['organization'] & Q13570995 & 0.072841 \\\\\n",
      "en_core_web_lg & Paris & LOC & ['capital and largest city of France'] & Q90 & 0.546902 \\\\\n",
      "en_core_web_lg & dans & ORG & ['organization'] & Q13570995 & 0.092083 \\\\\n",
      "en_core_web_lg & les & LOC & ['sovereign state in southern Africa'] & Q1013 & 0.499807 \\\\\n",
      "en_core_web_lg & Bois de Boulogne & LOC & ['large public park the western edge of Paris, France'] & Q209626 & 0.841223 \\\\\n",
      "\\bottomrule\n",
      "\\end{tabular}\n",
      "\n"
     ]
    }
   ],
   "source": [
    "latexiser_mod(kraken)"
   ]
  },
  {
   "cell_type": "code",
   "execution_count": 214,
   "id": "10a21452",
   "metadata": {},
   "outputs": [
    {
     "name": "stdout",
     "output_type": "stream",
     "text": [
      "\\begin{tabular}{llllr}\n",
      "\\toprule\n",
      "span & label  & description & ID & score \\\\\n",
      "\\midrule\n",
      "dans & ORG & ['organization'] & Q13570995 & 0.084679 \\\\\n",
      "Paris & LOC & ['capital and largest city of France'] & Q90 & 0.542768 \\\\\n",
      "dans & ORG & ['organization'] & Q13570995 & 0.087426 \\\\\n",
      "les & LOC & ['sovereign state in southern Africa'] & Q1013 & 0.498033 \\\\\n",
      "Bois de Boulogne & LOC & ['large public park the western edge of Paris, France'] & Q209626 & 0.812949 \\\\\n",
      "\\bottomrule\n",
      "\\end{tabular}\n",
      "\n"
     ]
    }
   ],
   "source": [
    "latexiser_fr(ref)"
   ]
  },
  {
   "cell_type": "code",
   "execution_count": 215,
   "id": "14f0b589",
   "metadata": {},
   "outputs": [
    {
     "name": "stdout",
     "output_type": "stream",
     "text": [
      "\\begin{tabular}{llllr}\n",
      "\\toprule\n",
      "span & label  & description & ID & score \\\\\n",
      "\\midrule\n",
      "dans & ORG & ['organization'] & Q13570995 & 0.072841 \\\\\n",
      "Paris & LOC & ['capital and largest city of France'] & Q90 & 0.546902 \\\\\n",
      "dans & ORG & ['organization'] & Q13570995 & 0.092083 \\\\\n",
      "les & LOC & ['sovereign state in southern Africa'] & Q1013 & 0.499807 \\\\\n",
      "Bois de Boulogne & LOC & ['large public park the western edge of Paris, France'] & Q209626 & 0.841223 \\\\\n",
      "\\bottomrule\n",
      "\\end{tabular}\n",
      "\n"
     ]
    }
   ],
   "source": [
    "latexiser_fr(kraken)"
   ]
  },
  {
   "cell_type": "markdown",
   "id": "ed961e2b",
   "metadata": {},
   "source": [
    "## 2"
   ]
  },
  {
   "cell_type": "code",
   "execution_count": 188,
   "id": "c60bc01b",
   "metadata": {},
   "outputs": [],
   "source": [
    "ref = \"Quand Philippe entra, madame de Fontenay, décidée à ne plus être gênée, se mit à parler\""
   ]
  },
  {
   "cell_type": "code",
   "execution_count": 189,
   "id": "879fa81d",
   "metadata": {},
   "outputs": [],
   "source": [
    "kraken = \"(Quand Philippe entra, madame de Fontenay, decidee a n6 plus etre genee, se mit a parler\""
   ]
  },
  {
   "cell_type": "code",
   "execution_count": 254,
   "id": "8a019cd8",
   "metadata": {},
   "outputs": [
    {
     "name": "stdout",
     "output_type": "stream",
     "text": [
      "\\begin{tabular}{lllllr}\n",
      "\\toprule\n",
      "modèle & span & label  & description & ID & score \\\\\n",
      "\\midrule\n",
      "fr_core_news_sm & Rome & LOC & ['capital and largest city of Italy'] & Q220 & 0.663082 \\\\\n",
      "fr_core_news_md & Rome & LOC & ['capital and largest city of Italy'] & Q220 & 0.663082 \\\\\n",
      "fr_core_news_lg & Rome & LOC & ['capital and largest city of Italy'] & Q220 & 0.663082 \\\\\n",
      "en_core_web_sm & Rome & LOC & ['capital and largest city of Italy'] & Q220 & 0.663082 \\\\\n",
      "en_core_web_md & Rome & LOC & ['capital and largest city of Italy'] & Q220 & 0.663082 \\\\\n",
      "en_core_web_lg & Rome & LOC & ['capital and largest city of Italy'] & Q220 & 0.663082 \\\\\n",
      "\\bottomrule\n",
      "\\end{tabular}\n",
      "\n"
     ]
    }
   ],
   "source": [
    "latexiser_mod(ref)"
   ]
  },
  {
   "cell_type": "markdown",
   "id": "916857ba",
   "metadata": {},
   "source": [
    "## 3"
   ]
  },
  {
   "cell_type": "code",
   "execution_count": 191,
   "id": "56c4b716",
   "metadata": {},
   "outputs": [],
   "source": [
    "kraken = \"Pierre Valenee criait, il s'echauffait sur la Revolution\""
   ]
  },
  {
   "cell_type": "code",
   "execution_count": 192,
   "id": "7ac4fe83",
   "metadata": {},
   "outputs": [],
   "source": [
    "ref = \"Pierre Valence criait, il s'échauffait sur la Révolution\""
   ]
  },
  {
   "cell_type": "code",
   "execution_count": 194,
   "id": "eb592569",
   "metadata": {},
   "outputs": [
    {
     "name": "stdout",
     "output_type": "stream",
     "text": [
      "\\begin{tabular}{llllr}\n",
      "\\toprule\n",
      "span & label  & description & ID & score \\\\\n",
      "\\midrule\n",
      "Pierre Valenee & PER & NaN &  & NaN \\\\\n",
      "sur & LOC & ['country in South America'] & Q730 & 0.289179 \\\\\n",
      "\\bottomrule\n",
      "\\end{tabular}\n",
      "\n"
     ]
    }
   ],
   "source": [
    "latexiser_fr(kraken)"
   ]
  },
  {
   "cell_type": "code",
   "execution_count": 195,
   "id": "29502e6c",
   "metadata": {},
   "outputs": [
    {
     "name": "stdout",
     "output_type": "stream",
     "text": [
      "\\begin{tabular}{llllr}\n",
      "\\toprule\n",
      "span & label  & description & ID & score \\\\\n",
      "\\midrule\n",
      "Pierre Valence & PER & NaN &  & NaN \\\\\n",
      "sur & LOC & ['country in South America'] & Q730 & 0.357018 \\\\\n",
      "la Révolution & LOC & ['commune in Vendée, France'] & Q1421948 & 0.003900 \\\\\n",
      "\\bottomrule\n",
      "\\end{tabular}\n",
      "\n"
     ]
    }
   ],
   "source": [
    "latexiser_fr(ref)"
   ]
  },
  {
   "cell_type": "code",
   "execution_count": 196,
   "id": "5b025201",
   "metadata": {},
   "outputs": [
    {
     "name": "stdout",
     "output_type": "stream",
     "text": [
      "\\begin{tabular}{lllllr}\n",
      "\\toprule\n",
      "modèle & span & label  & description & ID & score \\\\\n",
      "\\midrule\n",
      "fr_core_news_sm & Pierre Valence & PER & NaN &  & NaN \\\\\n",
      "fr_core_news_sm & sur & LOC & ['country in South America'] & Q730 & 0.357018 \\\\\n",
      "fr_core_news_sm & la Révolution & LOC & ['commune in Vendée, France'] & Q1421948 & 0.003900 \\\\\n",
      "fr_core_news_md & Pierre Valence & PER & NaN &  & NaN \\\\\n",
      "fr_core_news_md & sur & LOC & ['country in South America'] & Q730 & 0.357018 \\\\\n",
      "fr_core_news_md & la Révolution & LOC & ['commune in Vendée, France'] & Q1421948 & 0.003900 \\\\\n",
      "fr_core_news_lg & Pierre Valence & PER & NaN &  & NaN \\\\\n",
      "fr_core_news_lg & sur & LOC & ['country in South America'] & Q730 & 0.357018 \\\\\n",
      "fr_core_news_lg & la Révolution & LOC & ['commune in Vendée, France'] & Q1421948 & 0.003900 \\\\\n",
      "en_core_web_sm & sur & LOC & ['country in South America'] & Q730 & 0.357018 \\\\\n",
      "en_core_web_sm & la Révolution & LOC & ['commune in Vendée, France'] & Q1421948 & 0.003900 \\\\\n",
      "en_core_web_md & sur & LOC & ['country in South America'] & Q730 & 0.357018 \\\\\n",
      "en_core_web_md & la Révolution & LOC & ['commune in Vendée, France'] & Q1421948 & 0.003900 \\\\\n",
      "en_core_web_lg & sur & LOC & ['country in South America'] & Q730 & 0.357018 \\\\\n",
      "en_core_web_lg & la Révolution & LOC & ['commune in Vendée, France'] & Q1421948 & 0.003900 \\\\\n",
      "\\bottomrule\n",
      "\\end{tabular}\n",
      "\n"
     ]
    }
   ],
   "source": [
    "latexiser_mod(ref)"
   ]
  },
  {
   "cell_type": "markdown",
   "id": "6a4cf70b",
   "metadata": {},
   "source": [
    "# AIMARD, les trappeurs"
   ]
  },
  {
   "cell_type": "code",
   "execution_count": 249,
   "id": "5bef2142",
   "metadata": {},
   "outputs": [],
   "source": [
    "ref = \"voilà une ville fondée à laquelle on donne un nom sonore comme Utique ou Syracuse, Rome ou Carthage\""
   ]
  },
  {
   "cell_type": "code",
   "execution_count": 250,
   "id": "f80f5405",
   "metadata": {},
   "outputs": [],
   "source": [
    "kraken = \"voila une ville fondee a laquelle on donne un nom sonore comme Utique ou Syracuse, ome ou Carthage, par exemple\""
   ]
  },
  {
   "cell_type": "code",
   "execution_count": 253,
   "id": "3ee68c01",
   "metadata": {},
   "outputs": [
    {
     "name": "stdout",
     "output_type": "stream",
     "text": [
      "____ ____     ____ ____ ____ ____     _  _ ____ _ _ _ ____     ____ _  _ \n",
      "|___ |__/     |    |  | |__/ |___     |\\ | |___ | | | [__      [__  |\\/| \n",
      "|    |  \\ ___ |___ |__| |  \\ |___ ___ | \\| |___ |_|_| ___] ___ ___] |  | \n",
      "                                                                         \n",
      "\n",
      "('Rome', 'Q220', 'LOC', ['capital and largest city of Italy'], 0.6630820438808648)\n",
      "____ ____     ____ ____ ____ ____     _  _ ____ _ _ _ ____     _  _ ___  \n",
      "|___ |__/     |    |  | |__/ |___     |\\ | |___ | | | [__      |\\/| |  \\ \n",
      "|    |  \\ ___ |___ |__| |  \\ |___ ___ | \\| |___ |_|_| ___] ___ |  | |__/ \n",
      "                                                                         \n",
      "\n",
      "('Rome', 'Q220', 'LOC', ['capital and largest city of Italy'], 0.6630820438808648)\n",
      "____ ____     ____ ____ ____ ____     _  _ ____ _ _ _ ____     _    ____ \n",
      "|___ |__/     |    |  | |__/ |___     |\\ | |___ | | | [__      |    | __ \n",
      "|    |  \\ ___ |___ |__| |  \\ |___ ___ | \\| |___ |_|_| ___] ___ |___ |__] \n",
      "                                                                         \n",
      "\n",
      "('Rome', 'Q220', 'LOC', ['capital and largest city of Italy'], 0.6630820438808648)\n",
      "____ _  _     ____ ____ ____ ____     _ _ _ ____ ___      ____ _  _ \n",
      "|___ |\\ |     |    |  | |__/ |___     | | | |___ |__]     [__  |\\/| \n",
      "|___ | \\| ___ |___ |__| |  \\ |___ ___ |_|_| |___ |__] ___ ___] |  | \n",
      "                                                                    \n",
      "\n",
      "('Rome', 'Q220', 'LOC', ['capital and largest city of Italy'], 0.6630820438808648)\n",
      "____ _  _     ____ ____ ____ ____     _ _ _ ____ ___      _  _ ___  \n",
      "|___ |\\ |     |    |  | |__/ |___     | | | |___ |__]     |\\/| |  \\ \n",
      "|___ | \\| ___ |___ |__| |  \\ |___ ___ |_|_| |___ |__] ___ |  | |__/ \n",
      "                                                                    \n",
      "\n",
      "('Rome', 'Q220', 'LOC', ['capital and largest city of Italy'], 0.6630820438808648)\n",
      "____ _  _     ____ ____ ____ ____     _ _ _ ____ ___      _    ____ \n",
      "|___ |\\ |     |    |  | |__/ |___     | | | |___ |__]     |    | __ \n",
      "|___ | \\| ___ |___ |__| |  \\ |___ ___ |_|_| |___ |__] ___ |___ |__] \n",
      "                                                                    \n",
      "\n",
      "('Rome', 'Q220', 'LOC', ['capital and largest city of Italy'], 0.6630820438808648)\n"
     ]
    }
   ],
   "source": [
    "read(ref)"
   ]
  },
  {
   "cell_type": "code",
   "execution_count": 252,
   "id": "f09f93f1",
   "metadata": {},
   "outputs": [
    {
     "name": "stdout",
     "output_type": "stream",
     "text": [
      "\\begin{tabular}{lllllr}\n",
      "\\toprule\n",
      "modèle & span & label  & description & ID & score \\\\\n",
      "\\midrule\n",
      "fr_core_news_sm & Rome & LOC & ['capital and largest city of Italy'] & Q220 & 0.663082 \\\\\n",
      "fr_core_news_md & Rome & LOC & ['capital and largest city of Italy'] & Q220 & 0.663082 \\\\\n",
      "fr_core_news_lg & Rome & LOC & ['capital and largest city of Italy'] & Q220 & 0.663082 \\\\\n",
      "en_core_web_sm & Rome & LOC & ['capital and largest city of Italy'] & Q220 & 0.663082 \\\\\n",
      "en_core_web_md & Rome & LOC & ['capital and largest city of Italy'] & Q220 & 0.663082 \\\\\n",
      "en_core_web_lg & Rome & LOC & ['capital and largest city of Italy'] & Q220 & 0.663082 \\\\\n",
      "\\bottomrule\n",
      "\\end{tabular}\n",
      "\n"
     ]
    }
   ],
   "source": [
    "latexiser_mod(ref)"
   ]
  },
  {
   "cell_type": "markdown",
   "id": "8af412fa",
   "metadata": {},
   "source": [
    "# Audoux"
   ]
  },
  {
   "cell_type": "code",
   "execution_count": 228,
   "id": "6d3c63f1",
   "metadata": {},
   "outputs": [],
   "source": [
    "ref =\"Quand il ne fit plus froid dans la classe, sœur Marie-Aimée me plaça, sur un banc entre Ismérie et Marie Renaud\""
   ]
  },
  {
   "cell_type": "code",
   "execution_count": 229,
   "id": "ee582310",
   "metadata": {},
   "outputs": [],
   "source": [
    "kraken = \"Quand il ne fit plus froid dans la classe, seur Marie-Aimee me plagca sur un banc entre Ismerie et Marie Renaud\""
   ]
  },
  {
   "cell_type": "code",
   "execution_count": 230,
   "id": "f3115cbe",
   "metadata": {},
   "outputs": [
    {
     "name": "stdout",
     "output_type": "stream",
     "text": [
      "\\begin{tabular}{llllr}\n",
      "\\toprule\n",
      "span & label  & description & ID & score \\\\\n",
      "\\midrule\n",
      "Marie-Aimée & PER & NaN &  & NaN \\\\\n",
      "sur & LOC & ['country in South America'] & Q730 & 0.261652 \\\\\n",
      "Ismérie & LOC & NaN &  & -0.618295 \\\\\n",
      "Marie Renaud & PER & NaN &  & -0.516632 \\\\\n",
      "\\bottomrule\n",
      "\\end{tabular}\n",
      "\n"
     ]
    }
   ],
   "source": [
    "latexiser_fr(ref)"
   ]
  },
  {
   "cell_type": "code",
   "execution_count": 231,
   "id": "d9e254e1",
   "metadata": {},
   "outputs": [
    {
     "name": "stdout",
     "output_type": "stream",
     "text": [
      "\\begin{tabular}{llllr}\n",
      "\\toprule\n",
      "span & label  & description & ID & score \\\\\n",
      "\\midrule\n",
      "Marie-Aimee me plagca & PER & NaN &  & NaN \\\\\n",
      "sur & LOC & ['country in South America'] & Q730 & 0.259134 \\\\\n",
      "Ismerie & PER & NaN &  & NaN \\\\\n",
      "Marie Renaud & PER & NaN &  & -0.550892 \\\\\n",
      "\\bottomrule\n",
      "\\end{tabular}\n",
      "\n"
     ]
    }
   ],
   "source": [
    "latexiser_fr(kraken)"
   ]
  },
  {
   "cell_type": "markdown",
   "id": "0b8b4cf4",
   "metadata": {},
   "source": [
    "## Flaubert"
   ]
  },
  {
   "cell_type": "markdown",
   "id": "37c0dfcc",
   "metadata": {},
   "source": [
    "Il recevait du fond de l'Allemagne ou de l'Italie une toile achetée à Paris quinze cents francs"
   ]
  },
  {
   "cell_type": "code",
   "execution_count": 8,
   "id": "59538866",
   "metadata": {},
   "outputs": [],
   "source": [
    "Flaubert_ref=\"Il recevait du fond de l'Allemagne ou de l'Italie une toile achetée à Paris quinze cents francs\""
   ]
  },
  {
   "cell_type": "code",
   "execution_count": 9,
   "id": "88955706",
   "metadata": {},
   "outputs": [
    {
     "name": "stderr",
     "output_type": "stream",
     "text": [
      "/home/antonomaz/.local/lib/python3.10/site-packages/spacy/util.py:910: UserWarning: [W095] Model 'en_core_web_md' (3.5.0) was trained with spaCy v3.5 and may not be 100% compatible with the current version (3.6.0). If you see errors or degraded performance, download a newer compatible model or retrain your custom model with the current spaCy version. For more details and available updates, run: python -m spacy validate\n",
      "  warnings.warn(warn_msg)\n",
      "/home/antonomaz/.local/lib/python3.10/site-packages/spacy/util.py:910: UserWarning: [W095] Model 'en_core_web_lg' (3.5.0) was trained with spaCy v3.5 and may not be 100% compatible with the current version (3.6.0). If you see errors or degraded performance, download a newer compatible model or retrain your custom model with the current spaCy version. For more details and available updates, run: python -m spacy validate\n",
      "  warnings.warn(warn_msg)\n"
     ]
    },
    {
     "name": "stdout",
     "output_type": "stream",
     "text": [
      "\\begin{tabular}{lllllr}\n",
      "\\toprule\n",
      "modèle & span & label  & description & ID & score \\\\\n",
      "\\midrule\n",
      "fr_core_news_sm & Il & LOC & ['country in Western Asia'] & Q801 & 0.341673 \\\\\n",
      "fr_core_news_sm & Paris & LOC & ['capital and largest city of France'] & Q90 & 0.466026 \\\\\n",
      "fr_core_news_md & Il & LOC & ['country in Western Asia'] & Q801 & 0.341673 \\\\\n",
      "fr_core_news_md & Paris & LOC & ['capital and largest city of France'] & Q90 & 0.466026 \\\\\n",
      "fr_core_news_lg & Il & LOC & ['country in Western Asia'] & Q801 & 0.341673 \\\\\n",
      "fr_core_news_lg & Paris & LOC & ['capital and largest city of France'] & Q90 & 0.466026 \\\\\n",
      "en_core_web_sm & Il & LOC & ['country in Western Asia'] & Q801 & 0.341673 \\\\\n",
      "en_core_web_sm & Paris & LOC & ['capital and largest city of France'] & Q90 & 0.466026 \\\\\n",
      "en_core_web_md & Il & LOC & ['country in Western Asia'] & Q801 & 0.341673 \\\\\n",
      "en_core_web_md & Paris & LOC & ['capital and largest city of France'] & Q90 & 0.466026 \\\\\n",
      "en_core_web_lg & Il & LOC & ['country in Western Asia'] & Q801 & 0.341673 \\\\\n",
      "en_core_web_lg & Paris & LOC & ['capital and largest city of France'] & Q90 & 0.466026 \\\\\n",
      "\\bottomrule\n",
      "\\end{tabular}\n",
      "\n"
     ]
    }
   ],
   "source": [
    "latexiser_mod(Flaubert_ref)"
   ]
  },
  {
   "cell_type": "markdown",
   "id": "3e383cc6",
   "metadata": {},
   "source": [
    "Des journalistes qui causaient tout à l'heure devant moi, disaient qu'on va affranchir la Pologne et l'Italie !"
   ]
  },
  {
   "cell_type": "code",
   "execution_count": 10,
   "id": "1d94ae4c",
   "metadata": {},
   "outputs": [],
   "source": [
    "Flaubert_ref1=\"Des journalistes qui causaient tout à l'heure devant moi, disaient qu'on va affranchir la Pologne et l'Italie !\""
   ]
  },
  {
   "cell_type": "code",
   "execution_count": 11,
   "id": "b4bb95c7",
   "metadata": {},
   "outputs": [
    {
     "name": "stderr",
     "output_type": "stream",
     "text": [
      "/home/antonomaz/.local/lib/python3.10/site-packages/spacy/util.py:910: UserWarning: [W095] Model 'en_core_web_md' (3.5.0) was trained with spaCy v3.5 and may not be 100% compatible with the current version (3.6.0). If you see errors or degraded performance, download a newer compatible model or retrain your custom model with the current spaCy version. For more details and available updates, run: python -m spacy validate\n",
      "  warnings.warn(warn_msg)\n",
      "/home/antonomaz/.local/lib/python3.10/site-packages/spacy/util.py:910: UserWarning: [W095] Model 'en_core_web_lg' (3.5.0) was trained with spaCy v3.5 and may not be 100% compatible with the current version (3.6.0). If you see errors or degraded performance, download a newer compatible model or retrain your custom model with the current spaCy version. For more details and available updates, run: python -m spacy validate\n",
      "  warnings.warn(warn_msg)\n"
     ]
    },
    {
     "name": "stdout",
     "output_type": "stream",
     "text": [
      "\\begin{tabular}{lllllr}\n",
      "\\toprule\n",
      "modèle & span & label  & description & ID & score \\\\\n",
      "\\midrule\n",
      "fr_core_news_sm & Pologne & LOC & NaN &  & NaN \\\\\n",
      "fr_core_news_sm & Italie & LOC & NaN &  & NaN \\\\\n",
      "fr_core_news_md & Pologne & LOC & NaN &  & NaN \\\\\n",
      "fr_core_news_md & Italie & LOC & NaN &  & NaN \\\\\n",
      "fr_core_news_lg & Pologne & LOC & NaN &  & NaN \\\\\n",
      "fr_core_news_lg & Italie & LOC & NaN &  & NaN \\\\\n",
      "en_core_web_sm & Pologne & GPE & NaN &  & NaN \\\\\n",
      "en_core_web_md & qui causaient tout & PERSON & NaN &  & NaN \\\\\n",
      "en_core_web_md & l'heure devant moi & PERSON & NaN &  & NaN \\\\\n",
      "en_core_web_md & qu'on va affranchir & PERSON & NaN &  & NaN \\\\\n",
      "en_core_web_md & Pologne et l'Italie ! & ORG & NaN &  & NaN \\\\\n",
      "en_core_web_lg & Des & GPE & ['government organization in Moscow, Russia'] &  & -0.650039 \\\\\n",
      "en_core_web_lg & qui causaient tout & PERSON & NaN &  & NaN \\\\\n",
      "en_core_web_lg & qu'on va & GPE & NaN &  & NaN \\\\\n",
      "en_core_web_lg & Pologne et l'Italie & ORG & NaN &  & NaN \\\\\n",
      "\\bottomrule\n",
      "\\end{tabular}\n",
      "\n"
     ]
    }
   ],
   "source": [
    "latexiser_mod(Flaubert_ref1)"
   ]
  },
  {
   "cell_type": "markdown",
   "id": "62b2577b",
   "metadata": {},
   "source": [
    "Une vue de Venise, une vue de Naples et une autre de Constantinople occupant le milieu des trois murailles, des sujets équestres d'Alfred de Dreux çà et là, un groupe de Pradier sur la cheminée, des numéros de l'Art industriel sur le piano, et des cartonnages par terre dans les angles, encombraient le logis d'une telle façon, qu'on avait peine à poser un livre, à remuer les coudes."
   ]
  },
  {
   "cell_type": "code",
   "execution_count": 12,
   "id": "ab6594d6",
   "metadata": {},
   "outputs": [],
   "source": [
    "Flaubert_ref2=\"Une vue de Venise, une vue de Naples et une autre de Constantinople occupant le milieu des trois murailles, des sujets équestres d'Alfred de Dreux çà et là, un groupe de Pradier sur la cheminée, des numéros de l'Art industriel sur le piano, et des cartonnages par terre dans les angles, encombraient le logis d'une telle façon, qu'on avait peine à poser un livre, à remuer les coudes.\""
   ]
  },
  {
   "cell_type": "code",
   "execution_count": 13,
   "id": "e4f0ad76",
   "metadata": {},
   "outputs": [
    {
     "name": "stdout",
     "output_type": "stream",
     "text": [
      "\\begin{tabular}{lllllr}\n",
      "\\toprule\n",
      "modèle & span & label  & description & ID & score \\\\\n",
      "\\midrule\n",
      "fr_core_news_sm & sur & LOC & ['country in South America'] & Q730 & 0.646452 \\\\\n",
      "fr_core_news_sm & sur & LOC & ['country in South America'] & Q730 & 0.622982 \\\\\n",
      "fr_core_news_sm & le logis & LOC & ['garden city in Watermaal-Bosvoorde, Belgium'] & Q62083078 & 0.096927 \\\\\n",
      "fr_core_news_sm & les & LOC & ['sovereign state in southern Africa'] & Q1013 & 0.108280 \\\\\n",
      "fr_core_news_md & Venise & LOC & ['commune in Doubs, France'] &  & -0.751832 \\\\\n",
      "fr_core_news_md & Naples & LOC & ['city and commune in Campania, Italy'] &  & -0.023622 \\\\\n",
      "fr_core_news_md & Constantinople & LOC & ['capital of the Eastern Roman, Latin and Ottoman Empires, currently Istanbul, Turkey'] &  & -0.024480 \\\\\n",
      "fr_core_news_md & Alfred de Dreux & PER & NaN &  & NaN \\\\\n",
      "fr_core_news_md & Pradier & LOC & NaN &  & NaN \\\\\n",
      "fr_core_news_md & sur & LOC & ['country in South America'] & Q730 & 0.646452 \\\\\n",
      "fr_core_news_md & Art industriel & ORG & NaN &  & NaN \\\\\n",
      "fr_core_news_md & sur & LOC & ['country in South America'] & Q730 & 0.622982 \\\\\n",
      "fr_core_news_md & le logis & LOC & ['garden city in Watermaal-Bosvoorde, Belgium'] & Q62083078 & 0.096927 \\\\\n",
      "fr_core_news_md & les & LOC & ['sovereign state in southern Africa'] & Q1013 & 0.108280 \\\\\n",
      "fr_core_news_lg & Venise & LOC & ['commune in Doubs, France'] &  & -0.751832 \\\\\n",
      "fr_core_news_lg & Naples & LOC & ['city and commune in Campania, Italy'] &  & -0.023622 \\\\\n",
      "fr_core_news_lg & Constantinople & LOC & ['capital of the Eastern Roman, Latin and Ottoman Empires, currently Istanbul, Turkey'] &  & -0.024480 \\\\\n",
      "fr_core_news_lg & Alfred de Dreux & PER & NaN &  & NaN \\\\\n",
      "fr_core_news_lg & Pradier & PER & NaN &  & NaN \\\\\n",
      "fr_core_news_lg & sur & LOC & ['country in South America'] & Q730 & 0.646452 \\\\\n",
      "fr_core_news_lg & Art industriel & ORG & NaN &  & NaN \\\\\n",
      "fr_core_news_lg & sur & LOC & ['country in South America'] & Q730 & 0.622982 \\\\\n",
      "fr_core_news_lg & le logis & LOC & ['garden city in Watermaal-Bosvoorde, Belgium'] & Q62083078 & 0.096927 \\\\\n",
      "fr_core_news_lg & les & LOC & ['sovereign state in southern Africa'] & Q1013 & 0.108280 \\\\\n",
      "en_core_web_sm & sur & LOC & ['country in South America'] & Q730 & 0.646452 \\\\\n",
      "en_core_web_sm & sur & LOC & ['country in South America'] & Q730 & 0.622982 \\\\\n",
      "en_core_web_sm & le logis & LOC & ['garden city in Watermaal-Bosvoorde, Belgium'] & Q62083078 & 0.096927 \\\\\n",
      "en_core_web_sm & les & LOC & ['sovereign state in southern Africa'] & Q1013 & 0.108280 \\\\\n",
      "en_core_web_md & sur & LOC & ['country in South America'] & Q730 & 0.646452 \\\\\n",
      "en_core_web_md & sur & LOC & ['country in South America'] & Q730 & 0.622982 \\\\\n",
      "en_core_web_md & le logis & LOC & ['garden city in Watermaal-Bosvoorde, Belgium'] & Q62083078 & 0.096927 \\\\\n",
      "en_core_web_md & les & LOC & ['sovereign state in southern Africa'] & Q1013 & 0.108280 \\\\\n",
      "en_core_web_lg & sur & LOC & ['country in South America'] & Q730 & 0.646452 \\\\\n",
      "en_core_web_lg & sur & LOC & ['country in South America'] & Q730 & 0.622982 \\\\\n",
      "en_core_web_lg & le logis & LOC & ['garden city in Watermaal-Bosvoorde, Belgium'] & Q62083078 & 0.096927 \\\\\n",
      "en_core_web_lg & les & LOC & ['sovereign state in southern Africa'] & Q1013 & 0.108280 \\\\\n",
      "\\bottomrule\n",
      "\\end{tabular}\n",
      "\n"
     ]
    }
   ],
   "source": [
    "latexiser_mod(Flaubert_ref2)"
   ]
  },
  {
   "cell_type": "code",
   "execution_count": 14,
   "id": "dc3ff29d",
   "metadata": {},
   "outputs": [
    {
     "name": "stdout",
     "output_type": "stream",
     "text": [
      "\\begin{tabular}{llllr}\n",
      "\\toprule\n",
      "span & label  & description & ID & score \\\\\n",
      "\\midrule\n",
      "Denis & PER & ['3rd-century Bishop of Paris and saint'] &  & -0.753933 \\\\\n",
      "Norine & LOC & NaN &  & NaN \\\\\n",
      "Désirée & PER & ['Canadian singer-songwriter'] &  & -0.988082 \\\\\n",
      "Leroy & PER & ['American astrophysicist'] &  & -1.400567 \\\\\n",
      "\\bottomrule\n",
      "\\end{tabular}\n",
      "\n"
     ]
    }
   ],
   "source": [
    "latexiser_fr(\"Le gars Denis, tout en tenant par la taille une des filles à Norine, Désirée, sa promise, dit, pour parler de quelque chose, à la mère Leroy : \")"
   ]
  },
  {
   "cell_type": "code",
   "execution_count": 15,
   "id": "23fa789d",
   "metadata": {},
   "outputs": [
    {
     "name": "stdout",
     "output_type": "stream",
     "text": [
      "\\begin{tabular}{llllr}\n",
      "\\toprule\n",
      "span & label  & description & ID & score \\\\\n",
      "\\midrule\n",
      "Cellier & LOC & ['French notary and botanist'] &  & -0.056486 \\\\\n",
      "\\bottomrule\n",
      "\\end{tabular}\n",
      "\n"
     ]
    }
   ],
   "source": [
    "latexiser_fr(\"Hé bien, révolutionnez-vous, Cellier\")"
   ]
  },
  {
   "cell_type": "code",
   "execution_count": 16,
   "id": "ce133cd0",
   "metadata": {},
   "outputs": [
    {
     "name": "stdout",
     "output_type": "stream",
     "text": [
      "\\begin{tabular}{lllll}\n",
      "\\toprule\n",
      "span & label  & description & ID & score \\\\\n",
      "\\midrule\n",
      "ça & MISC & NaN &  & NaN \\\\\n",
      "Thérèse & PER & NaN &  & NaN \\\\\n",
      "\\bottomrule\n",
      "\\end{tabular}\n",
      "\n"
     ]
    }
   ],
   "source": [
    "latexiser_fr(\"ça m'a quasiment l'air de la bobine de Thérèse,\")"
   ]
  },
  {
   "cell_type": "code",
   "execution_count": 17,
   "id": "dc135192",
   "metadata": {},
   "outputs": [
    {
     "name": "stdout",
     "output_type": "stream",
     "text": [
      "\\begin{tabular}{llllr}\n",
      "\\toprule\n",
      "span & label  & description & ID & score \\\\\n",
      "\\midrule\n",
      "Thérèse & PER & NaN &  & NaN \\\\\n",
      "est & LOC & ['sovereign state in northeastern Europe'] & Q191 & 0.738235 \\\\\n",
      "\\bottomrule\n",
      "\\end{tabular}\n",
      "\n"
     ]
    }
   ],
   "source": [
    "latexiser_fr(\" Thérèse est incapable de quoi que ce soit\")"
   ]
  },
  {
   "cell_type": "code",
   "execution_count": 18,
   "id": "ff45239e",
   "metadata": {},
   "outputs": [
    {
     "name": "stdout",
     "output_type": "stream",
     "text": [
      "\\begin{tabular}{llllr}\n",
      "\\toprule\n",
      "span & label  & description & ID & score \\\\\n",
      "\\midrule\n",
      "Jacqueline & PER & ['American voice actor, writer, and TV producer'] &  & -1.008424 \\\\\n",
      "\\bottomrule\n",
      "\\end{tabular}\n",
      "\n"
     ]
    }
   ],
   "source": [
    "latexiser_fr(\"Vous avez raison, dit la grande Jacqueline\")\n"
   ]
  },
  {
   "cell_type": "code",
   "execution_count": 19,
   "id": "58f49104",
   "metadata": {},
   "outputs": [
    {
     "name": "stdout",
     "output_type": "stream",
     "text": [
      "\\begin{tabular}{llllr}\n",
      "\\toprule\n",
      "span & label  & description & ID & score \\\\\n",
      "\\midrule\n",
      "Maria & PERSON & ['religious figure; mother of Jesus of Nazareth'] & Q345 & 0.109766 \\\\\n",
      "même & LOC & ['river in France'] & Q1957760 & 0.193585 \\\\\n",
      "\\bottomrule\n",
      "\\end{tabular}\n",
      "\n"
     ]
    }
   ],
   "source": [
    "latexiser_fr(\"Maria l'avait gardée tout de même\")"
   ]
  },
  {
   "cell_type": "code",
   "execution_count": 20,
   "id": "6e35950d",
   "metadata": {},
   "outputs": [
    {
     "name": "stdout",
     "output_type": "stream",
     "text": [
      "\\begin{tabular}{llllr}\n",
      "\\toprule\n",
      "span & label  & description & ID & score \\\\\n",
      "\\midrule\n",
      "Céran & LOC & ['commune in Gers, France'] &  & -0.422950 \\\\\n",
      "Jean-Claude & PER & NaN &  & NaN \\\\\n",
      "\\bottomrule\n",
      "\\end{tabular}\n",
      "\n"
     ]
    }
   ],
   "source": [
    "latexiser_fr(\"— Vous parlez de nos chemins, monsieur Céran, dit Jean-Claude\")"
   ]
  },
  {
   "cell_type": "code",
   "execution_count": 21,
   "id": "eb580df6",
   "metadata": {},
   "outputs": [
    {
     "name": "stdout",
     "output_type": "stream",
     "text": [
      "\\begin{tabular}{lllll}\n",
      "\\toprule\n",
      "span & label  & description & ID & score \\\\\n",
      "\\midrule\n",
      "Norine & LOC & NaN &  & NaN \\\\\n",
      "\\bottomrule\n",
      "\\end{tabular}\n",
      "\n"
     ]
    }
   ],
   "source": [
    "latexiser_fr(\"on s'en venait le prier de monter par la maison de Norine\")"
   ]
  },
  {
   "cell_type": "code",
   "execution_count": 23,
   "id": "b8ecdbb2",
   "metadata": {},
   "outputs": [
    {
     "name": "stdout",
     "output_type": "stream",
     "text": [
      "\\begin{tabular}{llllr}\n",
      "\\toprule\n",
      "span & label  & description & ID & score \\\\\n",
      "\\midrule\n",
      "Sylvain & MISC & ['French cyclist'] &  & -0.809529 \\\\\n",
      "Nom-de-Nom & PER & NaN &  & NaN \\\\\n",
      "\\bottomrule\n",
      "\\end{tabular}\n",
      "\n"
     ]
    }
   ],
   "source": [
    "latexiser_fr(\"M'est avis qu'il serait bon de vous apprendre qu'on se risquait, de Sylvain qu'il s'appelait, à le surnommer le père Nom-de-Nom\")"
   ]
  },
  {
   "cell_type": "code",
   "execution_count": null,
   "id": "7561d014",
   "metadata": {},
   "outputs": [],
   "source": [
    "latexiser_fr(\"\")"
   ]
  },
  {
   "cell_type": "code",
   "execution_count": null,
   "id": "deeed36e",
   "metadata": {},
   "outputs": [],
   "source": [
    "latexiser_fr(\"\")"
   ]
  }
 ],
 "metadata": {
  "kernelspec": {
   "display_name": "Python 3 (ipykernel)",
   "language": "python",
   "name": "python3"
  },
  "language_info": {
   "codemirror_mode": {
    "name": "ipython",
    "version": 3
   },
   "file_extension": ".py",
   "mimetype": "text/x-python",
   "name": "python",
   "nbconvert_exporter": "python",
   "pygments_lexer": "ipython3",
   "version": "3.10.9"
  }
 },
 "nbformat": 4,
 "nbformat_minor": 5
}
