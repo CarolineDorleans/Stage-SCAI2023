{
 "cells": [
  {
   "cell_type": "markdown",
   "id": "60259ae0",
   "metadata": {},
   "source": [
    "22/06/2023      \n",
    "notebook     \n",
    "objectif : évaluer les différences de sorties selon les modèles de langues    \n",
    "contexte : reprise du notebook \"testELSpacy_performance_modele_langue\""
   ]
  },
  {
   "cell_type": "markdown",
   "id": "498f51eb",
   "metadata": {},
   "source": [
    "# Evaluation comparative  du système d'entity linking SpaCyfishing"
   ]
  },
  {
   "cell_type": "markdown",
   "id": "8ad50669",
   "metadata": {},
   "source": [
    "## Test du code n°1"
   ]
  },
  {
   "cell_type": "markdown",
   "id": "b4e1d66e",
   "metadata": {},
   "source": [
    "### Avec le modèle \"fr_core_news_lg\""
   ]
  },
  {
   "cell_type": "code",
   "execution_count": 7,
   "id": "312bfbad",
   "metadata": {},
   "outputs": [
    {
     "name": "stdout",
     "output_type": "stream",
     "text": [
      "../DATA/DATA-Fra_spaCy3.3.1_CONCAT/ADAM/ADAM_krakenbase/ADAM_PP\\ADAM_Mon-village_PP.txt\n",
      "454\n",
      "Il y a 454 entités reconnues pour le modèle fr_core_news_lg\n"
     ]
    }
   ],
   "source": [
    "import json\n",
    "import spacy  # version 3.5\n",
    "import glob\n",
    "import pandas as pd\n",
    "\n",
    "def lire_fichier(chemin):\n",
    "    with open (chemin, \"r\", encoding=\"utf-8\") as fichier:\n",
    "        texte=fichier.read()\n",
    "        return texte\n",
    "def stocker(chemin, contenu):\n",
    "    w =open(chemin, \"w\")\n",
    "    w.write(json.dumps(contenu , indent = 2))\n",
    "    w.close()\n",
    "\n",
    "nlp = spacy.load(\"fr_core_news_lg\")\n",
    "nlp.add_pipe(\"entityLinker\", last=True)\n",
    "\n",
    "#path_corpora = \"../DATA/DATA-Fra_spaCy3.3.1_CONCAT/*/*/*/*.txt\"\n",
    "path_corpora = \"../DATA/DATA-Fra_spaCy3.3.1_CONCAT/ADAM/ADAM_krakenbase/ADAM_PP/*.txt\"\n",
    "\n",
    "for path in glob.glob(path_corpora):\n",
    "    print(path)\n",
    "    txt=lire_fichier(path)\n",
    "    #doc = nlp(txt[:5000])  \n",
    "    doc = nlp(txt) \n",
    "    i=0\n",
    "    dico_sent_tok ={}\n",
    "    \n",
    "    \n",
    "    for ent in doc._.linkedEntities: \n",
    "            ide = \"ID\"+str(i)\n",
    "            url_00 = ent.get_url()\n",
    "            label_00=ent.get_label()\n",
    "            description=ent.get_description()\n",
    "            span_00=ent.get_span()\n",
    "            span_oo=str(span_00)\n",
    "            doc2=nlp(span_oo)\n",
    "            for en in doc2.ents:#Pour le typage avec les labels de l'entity linking\n",
    "                \n",
    "                # print(en.label_)\n",
    "                dico_sent_tok[ide]={}\n",
    "                dico_sent_tok[ide][\"url\"]=url_00\n",
    "                dico_sent_tok[ide][\"span\"]=span_oo\n",
    "                dico_sent_tok[ide][\"label\"]=label_00\n",
    "                dico_sent_tok[ide][\"description\"]=description\n",
    "                dico_sent_tok[ide][\"type\"]=en.label_#Pour le typage avec les labels de l'entity linking\n",
    "              print(i)\n",
    "    print(\"Il y a\", i, \"entités reconnues pour le modèle fr_core_news_lg\")\n",
    "            #stocker(\"%s_entity-linker.json\"%path,dico_sent_tok)\n"
   ]
  },
  {
   "cell_type": "markdown",
   "id": "fb1b52b1",
   "metadata": {},
   "source": [
    "### Avec le modèle \"fr_core_news_sm\""
   ]
  },
  {
   "cell_type": "code",
   "execution_count": 6,
   "id": "2858aec1",
   "metadata": {},
   "outputs": [
    {
     "name": "stdout",
     "output_type": "stream",
     "text": [
      "../DATA/DATA-Fra_spaCy3.3.1_CONCAT/ADAM/ADAM_krakenbase/ADAM_PP\\ADAM_Mon-village_PP.txt\n",
      "Il y a 508 entités reconnues pour le modèle fr_core_news_sm\n"
     ]
    }
   ],
   "source": [
    "import json\n",
    "import spacy  # version 3.5\n",
    "import glob\n",
    "import pandas as pd\n",
    "\n",
    "def lire_fichier(chemin):\n",
    "    with open (chemin, \"r\", encoding=\"utf-8\") as fichier:\n",
    "        texte=fichier.read()\n",
    "        return texte\n",
    "def stocker(chemin, contenu):\n",
    "    w =open(chemin, \"w\")\n",
    "    w.write(json.dumps(contenu , indent = 2))\n",
    "    w.close()\n",
    "\n",
    "nlp = spacy.load(\"fr_core_news_sm\")\n",
    "nlp.add_pipe(\"entityLinker\", last=True)\n",
    "\n",
    "#path_corpora = \"../DATA/DATA-Fra_spaCy3.3.1_CONCAT/*/*/*/*.txt\"\n",
    "path_corpora = \"../DATA/DATA-Fra_spaCy3.3.1_CONCAT/ADAM/ADAM_krakenbase/ADAM_PP/*.txt\"\n",
    "\n",
    "for path in glob.glob(path_corpora):\n",
    "    print(path)\n",
    "    txt=lire_fichier(path)\n",
    "    #doc = nlp(txt[:5000])  \n",
    "    doc = nlp(txt) \n",
    "    i=0\n",
    "    dico_sent_tok ={}\n",
    "    \n",
    "    \n",
    "    for ent in doc._.linkedEntities: \n",
    "            ide = \"ID\"+str(i)\n",
    "            url_00 = ent.get_url()\n",
    "            label_00=ent.get_label()\n",
    "            description=ent.get_description()\n",
    "            span_00=ent.get_span()\n",
    "            span_oo=str(span_00)\n",
    "            doc2=nlp(span_oo)\n",
    "            for en in doc2.ents:#Pour le typage avec les labels de l'entity linking\n",
    "                \n",
    "                # print(en.label_)\n",
    "                dico_sent_tok[ide]={}\n",
    "                dico_sent_tok[ide][\"url\"]=url_00\n",
    "                dico_sent_tok[ide][\"span\"]=span_oo\n",
    "                dico_sent_tok[ide][\"label\"]=label_00\n",
    "                dico_sent_tok[ide][\"description\"]=description\n",
    "                dico_sent_tok[ide][\"type\"]=en.label_#Pour le typage avec les labels de l'entity linking\n",
    "                i+=1\n",
    "    print(\"Il y a\", i, \"entités reconnues pour le modèle fr_core_news_sm\")\n",
    "            #stocker(\"%s_entity-linker.json\"%path,dico_sent_tok)\n"
   ]
  },
  {
   "cell_type": "markdown",
   "id": "8a711640",
   "metadata": {},
   "source": [
    "### Avec le modèle \"fr_core_news_md\""
   ]
  },
  {
   "cell_type": "code",
   "execution_count": 5,
   "id": "69650a29",
   "metadata": {},
   "outputs": [
    {
     "name": "stdout",
     "output_type": "stream",
     "text": [
      "../DATA/DATA-Fra_spaCy3.3.1_CONCAT/ADAM/ADAM_krakenbase/ADAM_PP\\ADAM_Mon-village_PP.txt\n",
      "Il y a 512 entités reconnues pour le modèle fr_core_news_md\n"
     ]
    }
   ],
   "source": [
    "import json\n",
    "import spacy  # version 3.5\n",
    "import glob\n",
    "import pandas as pd\n",
    "\n",
    "def lire_fichier(chemin):\n",
    "    with open (chemin, \"r\", encoding=\"utf-8\") as fichier:\n",
    "        texte=fichier.read()\n",
    "        return texte\n",
    "def stocker(chemin, contenu):\n",
    "    w =open(chemin, \"w\")\n",
    "    w.write(json.dumps(contenu , indent = 2))\n",
    "    w.close()\n",
    "\n",
    "nlp = spacy.load(\"fr_core_news_md\")\n",
    "nlp.add_pipe(\"entityLinker\", last=True)\n",
    "\n",
    "#path_corpora = \"../DATA/DATA-Fra_spaCy3.3.1_CONCAT/*/*/*/*.txt\"\n",
    "path_corpora = \"../DATA/DATA-Fra_spaCy3.3.1_CONCAT/ADAM/ADAM_krakenbase/ADAM_PP/*.txt\"\n",
    "\n",
    "for path in glob.glob(path_corpora):\n",
    "    print(path)\n",
    "    txt=lire_fichier(path)\n",
    "    #doc = nlp(txt[:5000])  \n",
    "    doc = nlp(txt) \n",
    "    i=0\n",
    "    dico_sent_tok ={}\n",
    "    \n",
    "    \n",
    "    for ent in doc._.linkedEntities: \n",
    "            ide = \"ID\"+str(i)\n",
    "            url_00 = ent.get_url()\n",
    "            label_00=ent.get_label()\n",
    "            description=ent.get_description()\n",
    "            span_00=ent.get_span()\n",
    "            span_oo=str(span_00)\n",
    "            doc2=nlp(span_oo)\n",
    "            for en in doc2.ents:#Pour le typage avec les labels de l'entity linking\n",
    "                \n",
    "                # print(en.label_)\n",
    "                dico_sent_tok[ide]={}\n",
    "                dico_sent_tok[ide][\"url\"]=url_00\n",
    "                dico_sent_tok[ide][\"span\"]=span_oo\n",
    "                dico_sent_tok[ide][\"label\"]=label_00\n",
    "                dico_sent_tok[ide][\"description\"]=description\n",
    "                dico_sent_tok[ide][\"type\"]=en.label_#Pour le typage avec les labels de l'entity linking\n",
    "                i+=1\n",
    "    print(\"Il y a\", i, \"entités reconnues pour le modèle fr_core_news_md\")\n",
    "            #stocker(\"%s_entity-linker.json\"%path,dico_sent_tok)\n"
   ]
  },
  {
   "cell_type": "code",
   "execution_count": null,
   "id": "3ac0df8c",
   "metadata": {},
   "outputs": [],
   "source": []
  }
 ],
 "metadata": {
  "kernelspec": {
   "display_name": "Python 3 (ipykernel)",
   "language": "python",
   "name": "python3"
  },
  "language_info": {
   "codemirror_mode": {
    "name": "ipython",
    "version": 3
   },
   "file_extension": ".py",
   "mimetype": "text/x-python",
   "name": "python",
   "nbconvert_exporter": "python",
   "pygments_lexer": "ipython3",
   "version": "3.10.9"
  }
 },
 "nbformat": 4,
 "nbformat_minor": 5
}
