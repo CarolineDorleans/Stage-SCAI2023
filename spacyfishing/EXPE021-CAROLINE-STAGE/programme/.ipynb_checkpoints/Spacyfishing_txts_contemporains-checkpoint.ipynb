{
 "cells": [
  {
   "cell_type": "markdown",
   "id": "e7e86615",
   "metadata": {},
   "source": [
    "22/06/2023      \n",
    "notebook     \n",
    "objectif : évaluer les performances de EL sur des textes contemporains    \n",
    "contexte : suite à la réunion du 02/06/2023"
   ]
  },
  {
   "cell_type": "markdown",
   "id": "ad478904",
   "metadata": {},
   "source": [
    "# Evaluation comparative  du système d'entity linking de SpaCy"
   ]
  },
  {
   "cell_type": "code",
   "execution_count": 1,
   "id": "ad840f46",
   "metadata": {},
   "outputs": [
    {
     "name": "stderr",
     "output_type": "stream",
     "text": [
      "2023-08-16 00:53:06.811242: I tensorflow/core/platform/cpu_feature_guard.cc:182] This TensorFlow binary is optimized to use available CPU instructions in performance-critical operations.\n",
      "To enable the following instructions: AVX2 FMA, in other operations, rebuild TensorFlow with the appropriate compiler flags.\n",
      "2023-08-16 00:53:07.537980: W tensorflow/compiler/tf2tensorrt/utils/py_utils.cc:38] TF-TRT Warning: Could not find TensorRT\n"
     ]
    }
   ],
   "source": [
    "import spacy\n",
    "import glob\n",
    "import pandas as pd\n",
    "import os\n",
    "import time\n",
    "import json\n",
    "from art import *\n",
    "\n",
    "def lire_fichier(chemin):\n",
    "    with open(chemin, \"r\", encoding=\"utf-8\") as fichier:\n",
    "        texte = fichier.read()\n",
    "        return texte\n",
    "\n",
    "def stocker(chemin, contenu):\n",
    "    with open(chemin, \"w\") as fichier:\n",
    "        json.dump(contenu, fichier, indent=2)\n",
    "\n",
    "def stocker_tex(name, contenu):\n",
    "    with open(name, \"w\") as file:\n",
    "        file.write(contenu)\n",
    "\n",
    "def tableau(data):\n",
    "    df = pd.DataFrame(data)\n",
    "    table_latex = df.to_latex(index=False)\n",
    "    print(table_latex)\n",
    "    #stocker_tex(\"txts-contemporains.tex\", df.to_latex(index=False))\n",
    "    #stocker(\"txts-contemporains.json\", df.to_dict('index'))\n",
    "\n",
    "t0 = time.time()  \n",
    "bilan = []\n",
    "def process (texte):\n",
    "    i = 1\n",
    "    models = [\"fr_core_news_sm\",\"fr_core_news_lg\",\"en_core_web_sm\", \"en_core_web_lg\", \"en_core_web_md\"]\n",
    "    for model in models :\n",
    "        tprint (model, font=\"cybermedium\")\n",
    "        nlp = spacy.load(model)\n",
    "        # add pipeline (declared through entry_points in setup.py)\n",
    "        nlp.add_pipe(\"entityfishing\")\n",
    "        doc = nlp(texte)\n",
    "        # returns all entities in the whole document\n",
    "        # iterates over sentences and prints linked entities\n",
    "        for ent in doc.ents:\n",
    "                ide = \"ID\"+str(i)\n",
    "                dico_sent_tok[ide]={}\n",
    "                dico_sent_tok[ide][\"label\"]=ent.label_\n",
    "                #dico_sent_tok[ide][\"description\"]=description\n",
    "                dico_sent_tok[ide][\"span\"]=ent.text\n",
    "                dico_sent_tok[ide][\"score\"]=ent._.nerd_score\n",
    "                dico_sent_tok[ide][\"URL\"]=ent._.url_wikidata\n",
    "                dico_sent_tok[ide][\"ID\"]=ent._.kb_qid\n",
    "                i+=1\n",
    "    print (dico_sent_tok) "
   ]
  },
  {
   "cell_type": "code",
   "execution_count": 2,
   "id": "db227f94",
   "metadata": {},
   "outputs": [],
   "source": [
    "def read (texte):\n",
    "    models = [\"fr_core_news_sm\",\"fr_core_news_lg\",\"en_core_web_sm\", \"en_core_web_lg\", \"en_core_web_md\"]\n",
    "    for model in models :\n",
    "        tprint (model, font=\"cybermedium\")\n",
    "        nlp = spacy.load(\"en_core_web_md\")\n",
    "        # add pipeline (declared through entry_points in setup.py)\n",
    "        nlp.add_pipe(\"entityfishing\")\n",
    "        doc = nlp(texte)\n",
    "        # returns all entities in the whole document\n",
    "        # iterates over sentences and prints linked entities\n",
    "        for ent in doc.ents:\n",
    "            print((ent.text, ent.label_, ent._.kb_qid, ent._.url_wikidata, ent._.nerd_score))"
   ]
  },
  {
   "cell_type": "code",
   "execution_count": 3,
   "id": "1079c023",
   "metadata": {},
   "outputs": [],
   "source": [
    "def latexiser_fr(texte):\n",
    "    tab_entite =[]\n",
    "    nlp = spacy.load(\"fr_core_news_md\")\n",
    "    \n",
    "    nlp.add_pipe(\"entityfishing\")\n",
    "    doc = nlp(texte)\n",
    "        # returns all entities in the whole document\n",
    "        # iterates over sentences and prints linked entities\n",
    "    for ent in doc.ents:\n",
    "        tab_entite.append({\n",
    "            #\"modèle\": mod,\n",
    "            \"span\" : ent.text,\n",
    "            \"label \" : ent.label_,\n",
    "            \"URL\" : ent._.url_wikidata,\n",
    "            #\"ID\" : ent._.kb_qid,\n",
    "            \"score\" : ent._.nerd_score,\n",
    "            })          \n",
    "    df = pd.DataFrame(tab_entite)\n",
    "    table_latex = df.to_latex(index=False)\n",
    "    latex = df.to_latex(index=False)\n",
    "    print(latex)"
   ]
  },
  {
   "cell_type": "markdown",
   "id": "f4049120",
   "metadata": {},
   "source": [
    "## Avec un extrait de la page Wikipédia \"Discord\""
   ]
  },
  {
   "cell_type": "markdown",
   "id": "1d5de3e8",
   "metadata": {},
   "source": [
    "### En français"
   ]
  },
  {
   "cell_type": "markdown",
   "id": "e644cef1",
   "metadata": {},
   "source": [
    "Discord est un logiciel propriétaire gratuit de VoIP et de messagerie instantanée. Il fonctionne sur les systèmes d’exploitation Windows, macOS, Linux, Android, iOS ainsi que sur les navigateurs web. \""
   ]
  },
  {
   "cell_type": "code",
   "execution_count": 4,
   "id": "e905c4cb",
   "metadata": {
    "scrolled": true
   },
   "outputs": [],
   "source": [
    "extrait = \"Discord est un logiciel propriétaire gratuit de VoIP et de messagerie instantanée. Il fonctionne sur les systèmes d’exploitation Windows, macOS, Linux, Android, iOS ainsi que sur les navigateurs web.  \""
   ]
  },
  {
   "cell_type": "code",
   "execution_count": 5,
   "id": "c7b12bf2",
   "metadata": {},
   "outputs": [
    {
     "name": "stdout",
     "output_type": "stream",
     "text": [
      "\\begin{tabular}{lllr}\n",
      "\\toprule\n",
      "   span & label  &                                    URL &  score \\\\\n",
      "\\midrule\n",
      "Discord &   MISC & https://www.wikidata.org/wiki/Q5281690 & 0.6800 \\\\\n",
      "   VoIP &   MISC &   https://www.wikidata.org/wiki/Q81945 & 0.9026 \\\\\n",
      "Windows &   MISC &    https://www.wikidata.org/wiki/Q1406 & 0.6574 \\\\\n",
      "  macOS &   MISC &   https://www.wikidata.org/wiki/Q14116 & 0.9161 \\\\\n",
      "  Linux &   MISC &   https://www.wikidata.org/wiki/Q14579 & 0.8570 \\\\\n",
      "Android &   MISC &      https://www.wikidata.org/wiki/Q94 & 0.7389 \\\\\n",
      "    iOS &   MISC &   https://www.wikidata.org/wiki/Q48493 & 0.9124 \\\\\n",
      "\\bottomrule\n",
      "\\end{tabular}\n",
      "\n"
     ]
    },
    {
     "name": "stderr",
     "output_type": "stream",
     "text": [
      "/tmp/ipykernel_9106/1147971263.py:19: FutureWarning: In future versions `DataFrame.to_latex` is expected to utilise the base implementation of `Styler.to_latex` for formatting and rendering. The arguments signature may therefore change. It is recommended instead to use `DataFrame.style.to_latex` which also contains additional functionality.\n",
      "  table_latex = df.to_latex(index=False)\n",
      "/tmp/ipykernel_9106/1147971263.py:20: FutureWarning: In future versions `DataFrame.to_latex` is expected to utilise the base implementation of `Styler.to_latex` for formatting and rendering. The arguments signature may therefore change. It is recommended instead to use `DataFrame.style.to_latex` which also contains additional functionality.\n",
      "  latex = df.to_latex(index=False)\n"
     ]
    }
   ],
   "source": [
    "latexiser_fr(extrait)"
   ]
  },
  {
   "cell_type": "code",
   "execution_count": 20,
   "id": "a847015e",
   "metadata": {
    "scrolled": false
   },
   "outputs": [
    {
     "name": "stdout",
     "output_type": "stream",
     "text": [
      "____ ____     ____ ____ ____ ____     _  _ ____ _ _ _ ____     ____ _  _ \n",
      "|___ |__/     |    |  | |__/ |___     |\\ | |___ | | | [__      [__  |\\/| \n",
      "|    |  \\ ___ |___ |__| |  \\ |___ ___ | \\| |___ |_|_| ___] ___ ___] |  | \n",
      "                                                                         \n",
      "\n",
      "('Discord est un', 'ORG', None, None, None)\n",
      "('Il fonctionne sur les systèmes d’exploitation Windows', 'ORG', None, None, None)\n",
      "('macOS', 'ORG', 'Q14116', 'https://www.wikidata.org/wiki/Q14116', 0.9161)\n",
      "('Linux', 'ORG', 'Q14579', 'https://www.wikidata.org/wiki/Q14579', 0.857)\n",
      "('Android', 'ORG', 'Q94', 'https://www.wikidata.org/wiki/Q94', 0.7389)\n",
      "____ ____     ____ ____ ____ ____     _  _ ____ _ _ _ ____     _    ____ \n",
      "|___ |__/     |    |  | |__/ |___     |\\ | |___ | | | [__      |    | __ \n",
      "|    |  \\ ___ |___ |__| |  \\ |___ ___ | \\| |___ |_|_| ___] ___ |___ |__] \n",
      "                                                                         \n",
      "\n",
      "('Discord est un', 'ORG', None, None, None)\n",
      "('Il fonctionne sur les systèmes d’exploitation Windows', 'ORG', None, None, None)\n",
      "('macOS', 'ORG', 'Q14116', 'https://www.wikidata.org/wiki/Q14116', 0.9161)\n",
      "('Linux', 'ORG', 'Q14579', 'https://www.wikidata.org/wiki/Q14579', 0.857)\n",
      "('Android', 'ORG', 'Q94', 'https://www.wikidata.org/wiki/Q94', 0.7389)\n",
      "____ _  _     ____ ____ ____ ____     _ _ _ ____ ___      ____ _  _ \n",
      "|___ |\\ |     |    |  | |__/ |___     | | | |___ |__]     [__  |\\/| \n",
      "|___ | \\| ___ |___ |__| |  \\ |___ ___ |_|_| |___ |__] ___ ___] |  | \n",
      "                                                                    \n",
      "\n",
      "('Discord est un', 'ORG', None, None, None)\n",
      "('Il fonctionne sur les systèmes d’exploitation Windows', 'ORG', None, None, None)\n",
      "('macOS', 'ORG', 'Q14116', 'https://www.wikidata.org/wiki/Q14116', 0.9161)\n",
      "('Linux', 'ORG', 'Q14579', 'https://www.wikidata.org/wiki/Q14579', 0.857)\n",
      "('Android', 'ORG', 'Q94', 'https://www.wikidata.org/wiki/Q94', 0.7389)\n",
      "____ _  _     ____ ____ ____ ____     _ _ _ ____ ___      _    ____ \n",
      "|___ |\\ |     |    |  | |__/ |___     | | | |___ |__]     |    | __ \n",
      "|___ | \\| ___ |___ |__| |  \\ |___ ___ |_|_| |___ |__] ___ |___ |__] \n",
      "                                                                    \n",
      "\n",
      "('Discord est un', 'ORG', None, None, None)\n",
      "('Il fonctionne sur les systèmes d’exploitation Windows', 'ORG', None, None, None)\n",
      "('macOS', 'ORG', 'Q14116', 'https://www.wikidata.org/wiki/Q14116', 0.9161)\n",
      "('Linux', 'ORG', 'Q14579', 'https://www.wikidata.org/wiki/Q14579', 0.857)\n",
      "('Android', 'ORG', 'Q94', 'https://www.wikidata.org/wiki/Q94', 0.7389)\n",
      "____ _  _     ____ ____ ____ ____     _ _ _ ____ ___      _  _ ___  \n",
      "|___ |\\ |     |    |  | |__/ |___     | | | |___ |__]     |\\/| |  \\ \n",
      "|___ | \\| ___ |___ |__| |  \\ |___ ___ |_|_| |___ |__] ___ |  | |__/ \n",
      "                                                                    \n",
      "\n",
      "('Discord est un', 'ORG', None, None, None)\n",
      "('Il fonctionne sur les systèmes d’exploitation Windows', 'ORG', None, None, None)\n",
      "('macOS', 'ORG', 'Q14116', 'https://www.wikidata.org/wiki/Q14116', 0.9161)\n",
      "('Linux', 'ORG', 'Q14579', 'https://www.wikidata.org/wiki/Q14579', 0.857)\n",
      "('Android', 'ORG', 'Q94', 'https://www.wikidata.org/wiki/Q94', 0.7389)\n"
     ]
    }
   ],
   "source": [
    "read(extrait)"
   ]
  },
  {
   "cell_type": "code",
   "execution_count": null,
   "id": "6ab5294d",
   "metadata": {},
   "outputs": [],
   "source": [
    "\\footnotesize{\n",
    "\\begin{tabular}{|p{2cm}|p{1cm}|p{1cm}|p{3cm}|p{2cm}|p{1cm}|}\n",
    "\\hline\n",
    "span\n",
    "& label SpaCy\n",
    "& label wikidata\n",
    "& défintion wikidata\n",
    "& url\n",
    "& certitude\n",
    "\\\\ \\hline\n",
    "Discord est un\n",
    "& 'ORG'\n",
    "& NA\n",
    "& NA\n",
    "& NA\n",
    "& NA\n",
    "\\\\ \\hline\n",
    "Il fonctionne sur les systèmes d’exploitation Windows\n",
    "& ORG\n",
    "& NA\n",
    "& NA\n",
    "& NA\n",
    "& NA\n",
    "\\\\ \\hline\n",
    "macOS\n",
    "& ORG\n",
    "& macOS\n",
    "& operating system for Apple computers\n",
    "& \\url{https://www.wikidata.org/wiki/Q14116}\n",
    "& 0.9161\n",
    "\\\\ \\hline\n",
    "Linux\n",
    "& ORG\n",
    "& Linux kernel\n",
    "& Unix-like operating system kernel, basis for all Linux operating systems / Linux distributions\n",
    "& \\url{https://www.wikidata.org/wiki/Q14579}\n",
    "& 0.857\n",
    "\\\\ \\hline\n",
    "Android\n",
    "& ORG\n",
    "& Android\n",
    "& open-source operating system for mobile devices created by Google\n",
    "& \\url{https://www.wikidata.org/wiki/Q94}\n",
    "& 0.7389\n",
    "\\\\ \\hline\n",
    "\\end{tabular}} "
   ]
  },
  {
   "cell_type": "markdown",
   "id": "c52fb260",
   "metadata": {},
   "source": [
    "## En anglais"
   ]
  },
  {
   "cell_type": "markdown",
   "id": "43611cda",
   "metadata": {},
   "source": [
    "Discord is an American VoIP and instant messaging social platform. Discord runs on Windows, macOS, Android, iOS, iPadOS, Linux, and in web browsers. "
   ]
  },
  {
   "cell_type": "code",
   "execution_count": 21,
   "id": "7a2b0734",
   "metadata": {},
   "outputs": [],
   "source": [
    "discord = \"Discord is an American VoIP and instant messaging social platform. Discord runs on Windows, macOS, Android, iOS, iPadOS, Linux, and in web browsers.\""
   ]
  },
  {
   "cell_type": "code",
   "execution_count": 22,
   "id": "35350f61",
   "metadata": {
    "scrolled": false
   },
   "outputs": [
    {
     "name": "stdout",
     "output_type": "stream",
     "text": [
      "____ ____     ____ ____ ____ ____     _  _ ____ _ _ _ ____     ____ _  _ \n",
      "|___ |__/     |    |  | |__/ |___     |\\ | |___ | | | [__      [__  |\\/| \n",
      "|    |  \\ ___ |___ |__| |  \\ |___ ___ | \\| |___ |_|_| ___] ___ ___] |  | \n",
      "                                                                         \n",
      "\n",
      "('Discord', 'ORG', 'Q5281690', 'https://www.wikidata.org/wiki/Q5281690', 0.68)\n",
      "('American', 'NORP', 'Q30', 'https://www.wikidata.org/wiki/Q30', 0.429)\n",
      "('Discord', 'ORG', 'Q5281690', 'https://www.wikidata.org/wiki/Q5281690', 0.68)\n",
      "('Windows', 'PRODUCT', 'Q1406', 'https://www.wikidata.org/wiki/Q1406', 0.6574)\n",
      "('macOS', 'ORG', 'Q14116', 'https://www.wikidata.org/wiki/Q14116', 0.9161)\n",
      "('Android', 'ORG', 'Q94', 'https://www.wikidata.org/wiki/Q94', 0.7389)\n",
      "('iOS', 'ORG', 'Q48493', 'https://www.wikidata.org/wiki/Q48493', 0.9124)\n",
      "('iPadOS', 'ORG', 'Q64350339', 'https://www.wikidata.org/wiki/Q64350339', 0.9148)\n",
      "('Linux', 'ORG', 'Q14579', 'https://www.wikidata.org/wiki/Q14579', 0.857)\n",
      "____ ____     ____ ____ ____ ____     _  _ ____ _ _ _ ____     _    ____ \n",
      "|___ |__/     |    |  | |__/ |___     |\\ | |___ | | | [__      |    | __ \n",
      "|    |  \\ ___ |___ |__| |  \\ |___ ___ | \\| |___ |_|_| ___] ___ |___ |__] \n",
      "                                                                         \n",
      "\n",
      "('Discord', 'ORG', 'Q5281690', 'https://www.wikidata.org/wiki/Q5281690', 0.68)\n",
      "('American', 'NORP', 'Q30', 'https://www.wikidata.org/wiki/Q30', 0.429)\n",
      "('Discord', 'ORG', 'Q5281690', 'https://www.wikidata.org/wiki/Q5281690', 0.68)\n",
      "('Windows', 'PRODUCT', 'Q1406', 'https://www.wikidata.org/wiki/Q1406', 0.6574)\n",
      "('macOS', 'ORG', 'Q14116', 'https://www.wikidata.org/wiki/Q14116', 0.9161)\n",
      "('Android', 'ORG', 'Q94', 'https://www.wikidata.org/wiki/Q94', 0.7389)\n",
      "('iOS', 'ORG', 'Q48493', 'https://www.wikidata.org/wiki/Q48493', 0.9124)\n",
      "('iPadOS', 'ORG', 'Q64350339', 'https://www.wikidata.org/wiki/Q64350339', 0.9148)\n",
      "('Linux', 'ORG', 'Q14579', 'https://www.wikidata.org/wiki/Q14579', 0.857)\n",
      "____ _  _     ____ ____ ____ ____     _ _ _ ____ ___      ____ _  _ \n",
      "|___ |\\ |     |    |  | |__/ |___     | | | |___ |__]     [__  |\\/| \n",
      "|___ | \\| ___ |___ |__| |  \\ |___ ___ |_|_| |___ |__] ___ ___] |  | \n",
      "                                                                    \n",
      "\n",
      "('Discord', 'ORG', 'Q5281690', 'https://www.wikidata.org/wiki/Q5281690', 0.68)\n",
      "('American', 'NORP', 'Q30', 'https://www.wikidata.org/wiki/Q30', 0.429)\n",
      "('Discord', 'ORG', 'Q5281690', 'https://www.wikidata.org/wiki/Q5281690', 0.68)\n",
      "('Windows', 'PRODUCT', 'Q1406', 'https://www.wikidata.org/wiki/Q1406', 0.6574)\n",
      "('macOS', 'ORG', 'Q14116', 'https://www.wikidata.org/wiki/Q14116', 0.9161)\n",
      "('Android', 'ORG', 'Q94', 'https://www.wikidata.org/wiki/Q94', 0.7389)\n",
      "('iOS', 'ORG', 'Q48493', 'https://www.wikidata.org/wiki/Q48493', 0.9124)\n",
      "('iPadOS', 'ORG', 'Q64350339', 'https://www.wikidata.org/wiki/Q64350339', 0.9148)\n",
      "('Linux', 'ORG', 'Q14579', 'https://www.wikidata.org/wiki/Q14579', 0.857)\n",
      "____ _  _     ____ ____ ____ ____     _ _ _ ____ ___      _    ____ \n",
      "|___ |\\ |     |    |  | |__/ |___     | | | |___ |__]     |    | __ \n",
      "|___ | \\| ___ |___ |__| |  \\ |___ ___ |_|_| |___ |__] ___ |___ |__] \n",
      "                                                                    \n",
      "\n",
      "('Discord', 'ORG', 'Q5281690', 'https://www.wikidata.org/wiki/Q5281690', 0.68)\n",
      "('American', 'NORP', 'Q30', 'https://www.wikidata.org/wiki/Q30', 0.429)\n",
      "('Discord', 'ORG', 'Q5281690', 'https://www.wikidata.org/wiki/Q5281690', 0.68)\n",
      "('Windows', 'PRODUCT', 'Q1406', 'https://www.wikidata.org/wiki/Q1406', 0.6574)\n",
      "('macOS', 'ORG', 'Q14116', 'https://www.wikidata.org/wiki/Q14116', 0.9161)\n",
      "('Android', 'ORG', 'Q94', 'https://www.wikidata.org/wiki/Q94', 0.7389)\n",
      "('iOS', 'ORG', 'Q48493', 'https://www.wikidata.org/wiki/Q48493', 0.9124)\n",
      "('iPadOS', 'ORG', 'Q64350339', 'https://www.wikidata.org/wiki/Q64350339', 0.9148)\n",
      "('Linux', 'ORG', 'Q14579', 'https://www.wikidata.org/wiki/Q14579', 0.857)\n",
      "____ _  _     ____ ____ ____ ____     _ _ _ ____ ___      _  _ ___  \n",
      "|___ |\\ |     |    |  | |__/ |___     | | | |___ |__]     |\\/| |  \\ \n",
      "|___ | \\| ___ |___ |__| |  \\ |___ ___ |_|_| |___ |__] ___ |  | |__/ \n",
      "                                                                    \n",
      "\n",
      "('Discord', 'ORG', 'Q5281690', 'https://www.wikidata.org/wiki/Q5281690', 0.68)\n",
      "('American', 'NORP', 'Q30', 'https://www.wikidata.org/wiki/Q30', 0.429)\n",
      "('Discord', 'ORG', 'Q5281690', 'https://www.wikidata.org/wiki/Q5281690', 0.68)\n",
      "('Windows', 'PRODUCT', 'Q1406', 'https://www.wikidata.org/wiki/Q1406', 0.6574)\n",
      "('macOS', 'ORG', 'Q14116', 'https://www.wikidata.org/wiki/Q14116', 0.9161)\n",
      "('Android', 'ORG', 'Q94', 'https://www.wikidata.org/wiki/Q94', 0.7389)\n",
      "('iOS', 'ORG', 'Q48493', 'https://www.wikidata.org/wiki/Q48493', 0.9124)\n",
      "('iPadOS', 'ORG', 'Q64350339', 'https://www.wikidata.org/wiki/Q64350339', 0.9148)\n",
      "('Linux', 'ORG', 'Q14579', 'https://www.wikidata.org/wiki/Q14579', 0.857)\n"
     ]
    }
   ],
   "source": [
    "read(discord)"
   ]
  },
  {
   "cell_type": "code",
   "execution_count": null,
   "id": "a9f5e4a4",
   "metadata": {},
   "outputs": [],
   "source": [
    "\\footnotesize{\n",
    "\\begin{tabular}{|p{2cm}|p{1cm}|p{1cm}|p{3cm}|p{2cm}|p{1cm}|}\n",
    "\\hline\n",
    "span\n",
    "& label SpaCy\n",
    "& label wikidata\n",
    "& défintion wikidata\n",
    "& url\n",
    "& certitude\n",
    "\\\\ \\hline\n",
    "Discord\n",
    "& ORG\n",
    "& Discord\n",
    "& 1933 film by Henry Edwards\n",
    "& \\url {https://www.wikidata.org/wiki/Q5281690}\n",
    "& 0.68\n",
    "\\\\ \\hline\n",
    "American\n",
    "& NORP\n",
    "& United States of America\n",
    "& country in North America\n",
    "& \\url{https://www.wikidata.org/wiki/Q30}\n",
    "& 0.429\n",
    "\\\\ \\hline\n",
    "Windows\n",
    "& PRODUCT\n",
    "&  Microsoft Windows\n",
    "& family of computer operating systems developed by Microsoft\n",
    "& https://www.wikidata.org/wiki/Q1406\n",
    "& \\url{0.6574}\n",
    "\\\\ \\hline\n",
    "macOS\n",
    "& ORG\n",
    "&  macOS\n",
    "& operating system for Apple computers\n",
    "& \\url{https://www.wikidata.org/wiki/Q14116}\n",
    "& 0.9161\n",
    "\\\\ \\hline\n",
    "Android\n",
    "& ORG\n",
    "& Android (Q94)\n",
    "& open-source operating system for mobile devices created by Google\n",
    "& \\url{https://www.wikidata.org/wiki/Q94}\n",
    "& 0.7389\n",
    "\\\\ \\hline\n",
    "iOS\n",
    "& ORG\n",
    "& iOS \n",
    "& mobile operating system by Apple Inc.\n",
    "& \\url{https://www.wikidata.org/wiki/Q48493}\n",
    "& 0.9124\n",
    "\\\\ \\hline\n",
    "iPadOS\n",
    "& ORG\n",
    "& iPadOS \n",
    "& mobile operating system of the iPad, developed by Apple Inc.\n",
    "& \\url{https://www.wikidata.org/wiki/Q64350339}\n",
    "& 0.9148\n",
    "\\\\ \\hline\n",
    "Linux\n",
    "& ORG\n",
    "& Linux kernel\n",
    "& Unix-like operating system kernel, basis for all Linux operating systems / Linux distributions\n",
    "& \\url{https://www.wikidata.org/wiki/Q14579}\n",
    "& 0.857\n",
    "\n",
    "\\\\ \\hline\n",
    "\\end{tabular}} "
   ]
  },
  {
   "cell_type": "markdown",
   "id": "f02af95d",
   "metadata": {},
   "source": [
    "## extrait de la page Wikipédia \"Nabilla\""
   ]
  },
  {
   "cell_type": "markdown",
   "id": "86c18eed",
   "metadata": {},
   "source": [
    "En novembre 2013, elle est la vedette de sa propre émission de téléréalité, Allô Nabilla, ce qui est une première en France, le concept étant repris des États-Unis où l’on suit la vie des stars, notamment comme avec Kesha, Paris Hilton ou les Kardashian. "
   ]
  },
  {
   "cell_type": "code",
   "execution_count": 6,
   "id": "2813b691",
   "metadata": {},
   "outputs": [],
   "source": [
    "nabilla =\"En novembre 2013, elle est la vedette de sa propre émission de téléréalité, Allô Nabilla, ce qui est une première en France, le concept étant repris des États-Unis où l’on suit la vie des stars, notamment comme avec Kesha, Paris Hilton ou les Kardashian. \""
   ]
  },
  {
   "cell_type": "code",
   "execution_count": 7,
   "id": "897e018c",
   "metadata": {},
   "outputs": [
    {
     "name": "stdout",
     "output_type": "stream",
     "text": [
      "\\begin{tabular}{lllr}\n",
      "\\toprule\n",
      "        span & label  &                                   URL &  score \\\\\n",
      "\\midrule\n",
      "Allô Nabilla &    PER &                                  None &    NaN \\\\\n",
      "      France &    LOC &    https://www.wikidata.org/wiki/Q142 & 0.6702 \\\\\n",
      "  États-Unis &    LOC &     https://www.wikidata.org/wiki/Q30 & 0.4895 \\\\\n",
      "       Kesha &    ORG &  https://www.wikidata.org/wiki/Q33605 & 0.7583 \\\\\n",
      "Paris Hilton &    ORG &  https://www.wikidata.org/wiki/Q47899 & 0.7640 \\\\\n",
      "  Kardashian &    LOC & https://www.wikidata.org/wiki/Q186304 & 0.3953 \\\\\n",
      "\\bottomrule\n",
      "\\end{tabular}\n",
      "\n"
     ]
    },
    {
     "name": "stderr",
     "output_type": "stream",
     "text": [
      "/tmp/ipykernel_9106/1147971263.py:19: FutureWarning: In future versions `DataFrame.to_latex` is expected to utilise the base implementation of `Styler.to_latex` for formatting and rendering. The arguments signature may therefore change. It is recommended instead to use `DataFrame.style.to_latex` which also contains additional functionality.\n",
      "  table_latex = df.to_latex(index=False)\n",
      "/tmp/ipykernel_9106/1147971263.py:20: FutureWarning: In future versions `DataFrame.to_latex` is expected to utilise the base implementation of `Styler.to_latex` for formatting and rendering. The arguments signature may therefore change. It is recommended instead to use `DataFrame.style.to_latex` which also contains additional functionality.\n",
      "  latex = df.to_latex(index=False)\n"
     ]
    }
   ],
   "source": [
    "latexiser_fr(nabilla)"
   ]
  },
  {
   "cell_type": "code",
   "execution_count": 8,
   "id": "20aff4d2",
   "metadata": {},
   "outputs": [
    {
     "name": "stdout",
     "output_type": "stream",
     "text": [
      "____ ____     ____ ____ ____ ____     _  _ ____ _ _ _ ____     ____ _  _ \n",
      "|___ |__/     |    |  | |__/ |___     |\\ | |___ | | | [__      [__  |\\/| \n",
      "|    |  \\ ___ |___ |__| |  \\ |___ ___ | \\| |___ |_|_| ___] ___ ___] |  | \n",
      "                                                                         \n",
      "\n",
      "('novembre 2013', 'DATE', None, None, None)\n",
      "('elle est la vedette de sa', 'LOC', None, None, None)\n",
      "('Allô Nabilla', 'PERSON', None, None, None)\n",
      "('France', 'GPE', 'Q142', 'https://www.wikidata.org/wiki/Q142', 0.4631)\n",
      "('des États-Unis où l’on', 'PERSON', None, None, None)\n",
      "('comme avec Kesha', 'PERSON', None, None, None)\n",
      "('Paris', 'GPE', 'Q90', 'https://www.wikidata.org/wiki/Q90', 0.4627)\n",
      "____ ____     ____ ____ ____ ____     _  _ ____ _ _ _ ____     _    ____ \n",
      "|___ |__/     |    |  | |__/ |___     |\\ | |___ | | | [__      |    | __ \n",
      "|    |  \\ ___ |___ |__| |  \\ |___ ___ | \\| |___ |_|_| ___] ___ |___ |__] \n",
      "                                                                         \n",
      "\n",
      "('novembre 2013', 'DATE', None, None, None)\n",
      "('elle est la vedette de sa', 'LOC', None, None, None)\n",
      "('Allô Nabilla', 'PERSON', None, None, None)\n",
      "('France', 'GPE', 'Q142', 'https://www.wikidata.org/wiki/Q142', 0.4631)\n",
      "('des États-Unis où l’on', 'PERSON', None, None, None)\n",
      "('comme avec Kesha', 'PERSON', None, None, None)\n",
      "('Paris', 'GPE', 'Q90', 'https://www.wikidata.org/wiki/Q90', 0.4627)\n",
      "____ _  _     ____ ____ ____ ____     _ _ _ ____ ___      ____ _  _ \n",
      "|___ |\\ |     |    |  | |__/ |___     | | | |___ |__]     [__  |\\/| \n",
      "|___ | \\| ___ |___ |__| |  \\ |___ ___ |_|_| |___ |__] ___ ___] |  | \n",
      "                                                                    \n",
      "\n",
      "('novembre 2013', 'DATE', None, None, None)\n",
      "('elle est la vedette de sa', 'LOC', None, None, None)\n",
      "('Allô Nabilla', 'PERSON', None, None, None)\n",
      "('France', 'GPE', 'Q142', 'https://www.wikidata.org/wiki/Q142', 0.4631)\n",
      "('des États-Unis où l’on', 'PERSON', None, None, None)\n",
      "('comme avec Kesha', 'PERSON', None, None, None)\n",
      "('Paris', 'GPE', 'Q90', 'https://www.wikidata.org/wiki/Q90', 0.4627)\n",
      "____ _  _     ____ ____ ____ ____     _ _ _ ____ ___      _    ____ \n",
      "|___ |\\ |     |    |  | |__/ |___     | | | |___ |__]     |    | __ \n",
      "|___ | \\| ___ |___ |__| |  \\ |___ ___ |_|_| |___ |__] ___ |___ |__] \n",
      "                                                                    \n",
      "\n",
      "('novembre 2013', 'DATE', None, None, None)\n",
      "('elle est la vedette de sa', 'LOC', None, None, None)\n",
      "('Allô Nabilla', 'PERSON', None, None, None)\n",
      "('France', 'GPE', 'Q142', 'https://www.wikidata.org/wiki/Q142', 0.4631)\n",
      "('des États-Unis où l’on', 'PERSON', None, None, None)\n",
      "('comme avec Kesha', 'PERSON', None, None, None)\n",
      "('Paris', 'GPE', 'Q90', 'https://www.wikidata.org/wiki/Q90', 0.4627)\n",
      "____ _  _     ____ ____ ____ ____     _ _ _ ____ ___      _  _ ___  \n",
      "|___ |\\ |     |    |  | |__/ |___     | | | |___ |__]     |\\/| |  \\ \n",
      "|___ | \\| ___ |___ |__| |  \\ |___ ___ |_|_| |___ |__] ___ |  | |__/ \n",
      "                                                                    \n",
      "\n",
      "('novembre 2013', 'DATE', None, None, None)\n",
      "('elle est la vedette de sa', 'LOC', None, None, None)\n",
      "('Allô Nabilla', 'PERSON', None, None, None)\n",
      "('France', 'GPE', 'Q142', 'https://www.wikidata.org/wiki/Q142', 0.4631)\n",
      "('des États-Unis où l’on', 'PERSON', None, None, None)\n",
      "('comme avec Kesha', 'PERSON', None, None, None)\n",
      "('Paris', 'GPE', 'Q90', 'https://www.wikidata.org/wiki/Q90', 0.4627)\n"
     ]
    }
   ],
   "source": [
    "read(nabilla)"
   ]
  },
  {
   "cell_type": "code",
   "execution_count": null,
   "id": "d200ed0e",
   "metadata": {},
   "outputs": [],
   "source": [
    "\\footnotesize{\n",
    "\\begin{tabular}{|p{2cm}|p{1cm}|p{1cm}|p{3cm}|p{2cm}|p{1cm}|}\n",
    "\\hline\n",
    "span\n",
    "& label SpaCy\n",
    "& label wikidata\n",
    "& défintion wikidata\n",
    "& url\n",
    "& certitude\n",
    "\\\\ \\hline\n",
    "novembre 2013\n",
    "& DATE\n",
    "& None\n",
    "& None\n",
    "& None\n",
    "& None\n",
    "& None\n",
    "\\\\ \\hline\n",
    "elle est la vedette de sa\n",
    "& LOC\n",
    "& None\n",
    "& None\n",
    "& None\n",
    "& None\n",
    "& None\n",
    "\\\\ \\hline\n",
    "Allô Nabilla\n",
    "& PERSON\n",
    "& None\n",
    "& None\n",
    "& None\n",
    "\\\\ \\hline\n",
    "France\n",
    "& GPE\n",
    "& France\n",
    "& country in Western Europe\n",
    "&\\url{https://www.wikidata.org/wiki/Q142}\n",
    "& 0.4631\n",
    "\\\\ \\hline\n",
    "des États-Unis où l’on\n",
    "& PERSON\n",
    "& None\n",
    "& None\n",
    "& None\n",
    "& None\n",
    "& None\n",
    "\\\\ \\hline\n",
    "comme avec Kesha\n",
    "& PERSON\n",
    "& None\n",
    "& None\n",
    "& None\n",
    "& None\n",
    "& None\n",
    "\\\\ \\hline\n",
    "Paris\n",
    "& GPE\n",
    "& Paris \n",
    "& capital and most populous city of France\n",
    "& \\url{https://www.wikidata.org/wiki/Q90}\n",
    "& 0.4627\n",
    "\\\\ \\hline"
   ]
  },
  {
   "cell_type": "markdown",
   "id": "c079d51b",
   "metadata": {},
   "source": [
    "## Flaubert"
   ]
  },
  {
   "cell_type": "code",
   "execution_count": 4,
   "id": "223d5608",
   "metadata": {},
   "outputs": [],
   "source": [
    "Flaubert= \"Il recevait du fond de l'Allemagne ou de l'Italie une toile achetée à Paris quinze cents francs\""
   ]
  },
  {
   "cell_type": "code",
   "execution_count": 5,
   "id": "eceb1573",
   "metadata": {},
   "outputs": [
    {
     "name": "stdout",
     "output_type": "stream",
     "text": [
      "\\begin{tabular}{lllr}\n",
      "\\toprule\n",
      "span & label  & URL & score \\\\\n",
      "\\midrule\n",
      "Allemagne & LOC & https://www.wikidata.org/wiki/Q473295 & 0.347500 \\\\\n",
      "l'Italie & LOC & NaN & NaN \\\\\n",
      "Paris & LOC & https://www.wikidata.org/wiki/Q90 & 0.462700 \\\\\n",
      "\\bottomrule\n",
      "\\end{tabular}\n",
      "\n"
     ]
    }
   ],
   "source": [
    "latexiser_fr(Flaubert)"
   ]
  },
  {
   "cell_type": "code",
   "execution_count": null,
   "id": "20baf6e6",
   "metadata": {},
   "outputs": [],
   "source": []
  }
 ],
 "metadata": {
  "kernelspec": {
   "display_name": "Python 3 (ipykernel)",
   "language": "python",
   "name": "python3"
  },
  "language_info": {
   "codemirror_mode": {
    "name": "ipython",
    "version": 3
   },
   "file_extension": ".py",
   "mimetype": "text/x-python",
   "name": "python",
   "nbconvert_exporter": "python",
   "pygments_lexer": "ipython3",
   "version": "3.10.9"
  }
 },
 "nbformat": 4,
 "nbformat_minor": 5
}
