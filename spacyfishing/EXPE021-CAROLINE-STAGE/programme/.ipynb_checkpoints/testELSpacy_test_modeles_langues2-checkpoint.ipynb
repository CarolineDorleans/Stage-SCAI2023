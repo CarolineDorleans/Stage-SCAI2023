{
 "cells": [
  {
   "cell_type": "markdown",
   "id": "60259ae0",
   "metadata": {},
   "source": [
    "22/06/2023         \n",
    "objectif : évaluer l'influence du modèle de langue et du bruit sur l'entity liking.    \n",
    "contexte : reprise de \"testELSpacy_test_modeles_langues2\""
   ]
  },
  {
   "cell_type": "markdown",
   "id": "498f51eb",
   "metadata": {},
   "source": [
    "# Evaluation comparative  du système d'entity linking de SpaCy"
   ]
  },
  {
   "cell_type": "code",
   "execution_count": 3,
   "id": "cd2fc00d",
   "metadata": {},
   "outputs": [],
   "source": [
    "import spacy\n",
    "import glob\n",
    "import pandas as pd\n",
    "import os\n",
    "import time\n",
    "import json\n",
    "\n",
    "def lire_fichier(chemin):\n",
    "    with open(chemin, \"r\", encoding=\"utf-8\") as fichier:\n",
    "        texte = fichier.read()\n",
    "        return texte\n",
    "\n",
    "def stocker(chemin, contenu):\n",
    "    with open(chemin, \"w\") as fichier:\n",
    "        json.dump(contenu, fichier, indent=2)\n",
    "\n",
    "def stocker_tex(name, contenu):\n",
    "    with open(name, \"w\") as file:\n",
    "        file.write(contenu)\n",
    "\n",
    "def tableau(data, table_name):\n",
    "    df = pd.DataFrame(data)\n",
    "    table_latex = df.to_latex(index=False)\n",
    "    stocker_tex(\"_modele-langue_%s.tex\" % (table_name), df.to_latex(index=False))\n",
    "    #dictionary = df.to_dict('index')\n",
    "    #print(dictionary)\n",
    "    stocker(\"_modele-langue_-%s.json\" % (table_name), df.to_dict('index'))"
   ]
  },
  {
   "cell_type": "code",
   "execution_count": 11,
   "id": "7acc3cc6",
   "metadata": {},
   "outputs": [],
   "source": [
    "def read (texte, modele):\n",
    "    nlp = spacy.load(modele)\n",
    "# add pipeline (declared through entry_points in setup.py)\n",
    "    nlp.add_pipe(\"entityLinker\", last=True)\n",
    "    doc = nlp(texte)\n",
    "# returns all entities in the whole document\n",
    "    all_linked_entities = doc._.linkedEntities\n",
    "# iterates over sentences and prints linked entities\n",
    "    for sent in doc.sents:\n",
    "        sent._.linkedEntities.pretty_print()"
   ]
  },
  {
   "cell_type": "markdown",
   "id": "07b7e681",
   "metadata": {},
   "source": [
    "# Napoléon"
   ]
  },
  {
   "cell_type": "code",
   "execution_count": 7,
   "id": "ee6a3760",
   "metadata": {},
   "outputs": [
    {
     "name": "stdout",
     "output_type": "stream",
     "text": [
      "Napoléon Bonaparte a envahi la Russie en 1812\n",
      "Pour le modèle: fr_core_news_sm \n",
      "\n",
      "Pour le modèle: fr_core_news_lg \n",
      "\n",
      "Pour le modèle: en_core_web_sm \n",
      "\n",
      "Pour le modèle: en_core_web_lg \n",
      "\n",
      "Pour le modèle: en_core_web_md \n",
      "\n"
     ]
    },
    {
     "name": "stderr",
     "output_type": "stream",
     "text": [
      "/tmp/ipykernel_23362/1420743320.py:23: FutureWarning: In future versions `DataFrame.to_latex` is expected to utilise the base implementation of `Styler.to_latex` for formatting and rendering. The arguments signature may therefore change. It is recommended instead to use `DataFrame.style.to_latex` which also contains additional functionality.\n",
      "  table_latex = df.to_latex(index=False)\n",
      "/tmp/ipykernel_23362/1420743320.py:24: FutureWarning: In future versions `DataFrame.to_latex` is expected to utilise the base implementation of `Styler.to_latex` for formatting and rendering. The arguments signature may therefore change. It is recommended instead to use `DataFrame.style.to_latex` which also contains additional functionality.\n",
      "  stocker_tex(\"_modele-langue_%s.tex\" % (table_name), df.to_latex(index=False))\n"
     ]
    },
    {
     "name": "stdout",
     "output_type": "stream",
     "text": [
      "Napoléon Bonaparte invaded Russia in 1812\n",
      "Pour le modèle: fr_core_news_sm \n",
      "\n",
      "Pour le modèle: fr_core_news_lg \n",
      "\n",
      "Pour le modèle: en_core_web_sm \n",
      "\n",
      "Pour le modèle: en_core_web_lg \n",
      "\n",
      "Pour le modèle: en_core_web_md \n",
      "\n"
     ]
    },
    {
     "name": "stderr",
     "output_type": "stream",
     "text": [
      "/tmp/ipykernel_23362/1420743320.py:23: FutureWarning: In future versions `DataFrame.to_latex` is expected to utilise the base implementation of `Styler.to_latex` for formatting and rendering. The arguments signature may therefore change. It is recommended instead to use `DataFrame.style.to_latex` which also contains additional functionality.\n",
      "  table_latex = df.to_latex(index=False)\n",
      "/tmp/ipykernel_23362/1420743320.py:24: FutureWarning: In future versions `DataFrame.to_latex` is expected to utilise the base implementation of `Styler.to_latex` for formatting and rendering. The arguments signature may therefore change. It is recommended instead to use `DataFrame.style.to_latex` which also contains additional functionality.\n",
      "  stocker_tex(\"_modele-langue_%s.tex\" % (table_name), df.to_latex(index=False))\n"
     ]
    }
   ],
   "source": [
    "#from art import *\n",
    "import os\n",
    "tab_entite =[]\n",
    "models = [\"fr_core_news_sm\",\"fr_core_news_lg\",\"en_core_web_sm\", \"en_core_web_lg\", \"en_core_web_md\"]\n",
    "extraits = [\"Napoléon Bonaparte a envahi la Russie en 1812\", \"Napoléon Bonaparte invaded Russia in 1812\"]\n",
    "\n",
    "for extrait in extraits: \n",
    "    print(extrait)\n",
    "    for mod in models:\n",
    "        print(\"Pour le modèle:\", mod, \"\\n\")\n",
    "        nlp = spacy.load(mod)\n",
    "        nlp.add_pipe(\"entityLinker\", last=True)\n",
    "        doc = nlp(extrait)\n",
    "        for ent in doc._.linkedEntities:\n",
    "            url_entourage = ent.get_url()\n",
    "            label_entourage = ent.get_label()\n",
    "            description_entourage = ent.get_description()\n",
    "            concat_entourage = f\"{label_entourage}: {description_entourage}\"\n",
    "\n",
    "            tab_entite.append({\n",
    "                \"modèle\": mod,\n",
    "                \"texte\": extrait,\n",
    "                \"entité reconnue par l'Entity Linker\": concat_entourage,\n",
    "                \"url de l'entité reconnue par l'Entity Linker\": url_entourage,\n",
    "                })\n",
    "    tableau(tab_entite, \"Napoléon\")\n",
    "\n"
   ]
  },
  {
   "cell_type": "code",
   "execution_count": null,
   "id": "b9ccb846",
   "metadata": {},
   "outputs": [],
   "source": [
    "%\\begin{tabular}{lllllll}\n",
    "\\footnotesize{\n",
    "\\begin{tabular}{|l|p{3.5cm}|p{3.3cm}|p{3.3cm}|p{3.3cm}|p{3.3cm}}\n",
    "\\hline\n",
    "Entité liée & fr\\_core\\_news\\_sm & fr\\_core\\_news\\_lg & en\\_core\\_web\\_sm & en\\_core\\_web\\_lg% & en\\_core\\_web\\_md \n",
    "       \\\\\n",
    "\\hline\n",
    "Napoléon & \\url{https://www.wikidata.org/wiki/Q1632158}\n",
    "        \n",
    "& \\url{https://www.wikidata.org/wiki/Q1632158}\n",
    "& \\url{https://www.wikidata.org/wiki/Q517}\n",
    "& \\url{https://www.wikidata.org/wiki/Q517}\n",
    "\n",
    " \\\\ \\hline\n",
    " \n",
    "Bonaparte &\\url{https://www.wikidata.org/wiki/Q15752}1\n",
    "& \\url{https://www.wikidata.org/wiki/Q157521} \n",
    "& \\url{https://www.wikidata.org/wiki/Q397}\n",
    "& /NA\n",
    "\n",
    "  \\\\ \\hline\n",
    "\n",
    "Russia &\\url{https://www.wikidata.org/wiki/Q159}\n",
    "\n",
    "&  \\url{https://www.wikidata.org/wiki/Q159}\n",
    "& \\url{ https://www.wikidata.org/wiki/Q159}\n",
    "& \\url{https://www.wikidata.org/wiki/Q159}\n",
    "  \\\\ \\hline\n",
    "\\end{tabular}}"
   ]
  },
  {
   "cell_type": "markdown",
   "id": "7b7b99da",
   "metadata": {},
   "source": [
    "# BRONTE, Wuthering heights"
   ]
  },
  {
   "cell_type": "code",
   "execution_count": 5,
   "id": "c3e33325",
   "metadata": {},
   "outputs": [],
   "source": [
    "ref = \"A Pious Discourse delivered by the Reverend Jabes Branderham, in the Chapel of Gimmerden Sough\""
   ]
  },
  {
   "cell_type": "code",
   "execution_count": 6,
   "id": "859a912f",
   "metadata": {},
   "outputs": [],
   "source": [
    "kraken = \"A Pious Discourse delisrered by the Reverend Jabes Branderham, in the Chapel of Gimmer-den Songh.\""
   ]
  },
  {
   "cell_type": "code",
   "execution_count": 7,
   "id": "209cdee5",
   "metadata": {},
   "outputs": [],
   "source": [
    "tesseractBin=\"A Pious Discourse delivered by the Reverend Jabes Branderham, in the Chapel of Gimmer-den Sough.\""
   ]
  },
  {
   "cell_type": "code",
   "execution_count": 8,
   "id": "8f06ddd4",
   "metadata": {},
   "outputs": [],
   "source": [
    "tesseractPNG =\"A Pious Discourse delivered by the Reverend Jabes Branderham, in the Chapel of Gimmer-den Sough\""
   ]
  },
  {
   "cell_type": "code",
   "execution_count": 9,
   "id": "60164d40",
   "metadata": {},
   "outputs": [
    {
     "name": "stdout",
     "output_type": "stream",
     "text": [
      "A Pious Discourse delivered by the Reverend Jabes Branderham, in the Chapel of Gimmerden Sough\n",
      "____ _  _     ____ ____ ____ ____     _ _ _ ____ ___      ____ _  _ \n",
      "|___ |\\ |     |    |  | |__/ |___     | | | |___ |__]     [__  |\\/| \n",
      "|___ | \\| ___ |___ |__| |  \\ |___ ___ |_|_| |___ |__] ___ ___] |  | \n",
      "                                                                    \n",
      "\n",
      "<EntityElement: https://www.wikidata.org/wiki/Q15054354 Discourse                 open source Internet forum software application   >\n",
      "<EntityElement: https://www.wikidata.org/wiki/Q1339784 Reverend                  American heavy metal band                         >\n",
      "<EntityElement: https://www.wikidata.org/wiki/Q4036051 Chapel                    programming language                              >\n",
      "<EntityElement: https://www.wikidata.org/wiki/Q7564106 Sough                     an underground channel for draining water out of a mine>\n",
      "____ _  _     ____ ____ ____ ____     _ _ _ ____ ___      _    ____ \n",
      "|___ |\\ |     |    |  | |__/ |___     | | | |___ |__]     |    | __ \n",
      "|___ | \\| ___ |___ |__| |  \\ |___ ___ |_|_| |___ |__] ___ |___ |__] \n",
      "                                                                    \n",
      "\n",
      "<EntityElement: https://www.wikidata.org/wiki/Q15054354 Discourse                 open source Internet forum software application   >\n",
      "<EntityElement: https://www.wikidata.org/wiki/Q1339784 Reverend                  American heavy metal band                         >\n",
      "<EntityElement: https://www.wikidata.org/wiki/Q4036051 Chapel                    programming language                              >\n",
      "<EntityElement: https://www.wikidata.org/wiki/Q7564106 Sough                     an underground channel for draining water out of a mine>\n",
      "A Pious Discourse delisrered by the Reverend Jabes Branderham, in the Chapel of Gimmer-den Songh.\n",
      "____ _  _     ____ ____ ____ ____     _ _ _ ____ ___      ____ _  _ \n",
      "|___ |\\ |     |    |  | |__/ |___     | | | |___ |__]     [__  |\\/| \n",
      "|___ | \\| ___ |___ |__| |  \\ |___ ___ |_|_| |___ |__] ___ ___] |  | \n",
      "                                                                    \n",
      "\n",
      "<EntityElement: https://www.wikidata.org/wiki/Q15054354 Discourse                 open source Internet forum software application   >\n",
      "<EntityElement: https://www.wikidata.org/wiki/Q1339784 Reverend                  American heavy metal band                         >\n",
      "<EntityElement: https://www.wikidata.org/wiki/Q4036051 Chapel                    programming language                              >\n",
      "<EntityElement: https://www.wikidata.org/wiki/Q12056156 den                       type of room in a house                           >\n",
      "____ _  _     ____ ____ ____ ____     _ _ _ ____ ___      _    ____ \n",
      "|___ |\\ |     |    |  | |__/ |___     | | | |___ |__]     |    | __ \n",
      "|___ | \\| ___ |___ |__| |  \\ |___ ___ |_|_| |___ |__] ___ |___ |__] \n",
      "                                                                    \n",
      "\n",
      "<EntityElement: https://www.wikidata.org/wiki/Q15054354 Discourse                 open source Internet forum software application   >\n",
      "<EntityElement: https://www.wikidata.org/wiki/Q1339784 Reverend                  American heavy metal band                         >\n",
      "<EntityElement: https://www.wikidata.org/wiki/Q4036051 Chapel                    programming language                              >\n",
      "<EntityElement: https://www.wikidata.org/wiki/Q12056156 den                       type of room in a house                           >\n"
     ]
    }
   ],
   "source": [
    "from art import *\n",
    "import os\n",
    "\n",
    "models = [\"en_core_web_sm\", \"en_core_web_lg\"]\n",
    "extraits = [ref, kraken]\n",
    "\n",
    "for extrait in extraits: \n",
    "    print(extrait)\n",
    "    \n",
    "    for model in models :\n",
    "        tprint (model, font=\"cybermedium\")\n",
    "        read(extrait, model)"
   ]
  },
  {
   "cell_type": "code",
   "execution_count": null,
   "id": "7c21dab5",
   "metadata": {},
   "outputs": [],
   "source": [
    "\\footnotesize{\n",
    "\\begin{tabular}{|l|p{3.5cm}|p{3.3cm}|p{3.3cm}|p{3.3cm}|p{3.3cm}}\n",
    "\\hline\n",
    "Entité liée                 \n",
    " & texte de référence  & texte océrisé avec Kraken \\\\\n",
    "\\hline\n",
    "\n",
    "Discourse                 \n",
    "& open source Internet forum software application         \n",
    "& open source Internet forum software application   \n",
    "\\\\ \\hline\n",
    " \n",
    "Reverend                  \n",
    "& American heavy metal band \n",
    "& American heavy metal band \n",
    "\\\\ \\hline\n",
    "\n",
    "Chapel                                                  \n",
    "&  programming language\n",
    "&  programming language\n",
    "\\\\ \\hline\n",
    "    \n",
    "Sough                                                                                                                        \n",
    "&  an underground channel for draining water out of a mine\n",
    "&  \\NA\n",
    "\\\\ \\hline\n",
    "    \n",
    "den                                                                                                                       \n",
    "& \\NA\n",
    "&  type of room in a house\n",
    "\\\\ \\hline\n",
    "\n",
    "\\end{tabular}}"
   ]
  },
  {
   "cell_type": "markdown",
   "id": "4c6df6fe",
   "metadata": {},
   "source": [
    "# AINSWORTH"
   ]
  },
  {
   "cell_type": "code",
   "execution_count": 18,
   "id": "010e25ea",
   "metadata": {},
   "outputs": [],
   "source": [
    "ref = \"he declares he lived in Queen Bess’s time, recollects King Charles bein’ beheaded perfectly vell, and remembers the Great Fire o’ London” \""
   ]
  },
  {
   "cell_type": "code",
   "execution_count": 19,
   "id": "2a08e811",
   "metadata": {},
   "outputs": [],
   "source": [
    "kraken = \"e declares ho lired in (Queen Bess's time, recollects Iing Charles bein' beheaded perfectly vell, and remembers,the Great Fire o' London\""
   ]
  },
  {
   "cell_type": "code",
   "execution_count": 17,
   "id": "800469ab",
   "metadata": {},
   "outputs": [],
   "source": [
    "tesseractBIN = \"he declares he lived in Queen Bess’s time, recollects King Charles bein’ beheaded perfectly vell, and remembers the Great Fire o’ London, as if it only occurred yester-day.”"
   ]
  },
  {
   "cell_type": "code",
   "execution_count": 15,
   "id": "26751df3",
   "metadata": {},
   "outputs": [],
   "source": [
    "tesseractPNG = \"he declares he lived in Queen Bess’s time, recollects King Charles bein’ beheaded perfectly vell, and remembers the Great Fire o’ London\""
   ]
  },
  {
   "cell_type": "code",
   "execution_count": 20,
   "id": "dd53bb8c",
   "metadata": {
    "scrolled": true
   },
   "outputs": [
    {
     "name": "stdout",
     "output_type": "stream",
     "text": [
      "he declares he lived in Queen Bess’s time, recollects King Charles bein’ beheaded perfectly vell, and remembers the Great Fire o’ London” \n",
      "____ _  _     ____ ____ ____ ____     _ _ _ ____ ___      ____ _  _ \n",
      "|___ |\\ |     |    |  | |__/ |___     | | | |___ |__]     [__  |\\/| \n",
      "|___ | \\| ___ |___ |__| |  \\ |___ ___ |_|_| |___ |__] ___ ___] |  | \n",
      "                                                                    \n",
      "\n",
      "<EntityElement: https://www.wikidata.org/wiki/Q11471 time                      dimension in which events can be ordered from the past through the present into the future>\n",
      "<EntityElement: https://www.wikidata.org/wiki/Q54818138 Queen Bess                                                                  >\n",
      "<EntityElement: https://www.wikidata.org/wiki/Q2680856 King                      casual-social games company                       >\n",
      "<EntityElement: https://www.wikidata.org/wiki/Q84 London                    capital and largest city of the United Kingdom    >\n",
      "<EntityElement: https://www.wikidata.org/wiki/Q204 zero                      integer number                                    >\n",
      "____ _  _     ____ ____ ____ ____     _ _ _ ____ ___      _    ____ \n",
      "|___ |\\ |     |    |  | |__/ |___     | | | |___ |__]     |    | __ \n",
      "|___ | \\| ___ |___ |__| |  \\ |___ ___ |_|_| |___ |__] ___ |___ |__] \n",
      "                                                                    \n",
      "\n",
      "<EntityElement: https://www.wikidata.org/wiki/Q11471 time                      dimension in which events can be ordered from the past through the present into the future>\n",
      "<EntityElement: https://www.wikidata.org/wiki/Q54818138 Queen Bess                                                                  >\n",
      "<EntityElement: https://www.wikidata.org/wiki/Q2680856 King                      casual-social games company                       >\n",
      "<EntityElement: https://www.wikidata.org/wiki/Q84 London                    capital and largest city of the United Kingdom    >\n",
      "<EntityElement: https://www.wikidata.org/wiki/Q1544187 Great                     1975 short film directed by Bob Godfrey           >\n",
      "<EntityElement: https://www.wikidata.org/wiki/Q204 zero                      integer number                                    >\n",
      "____ _  _     ____ ____ ____ ____     _ _ _ ____ ___      _  _ ___  \n",
      "|___ |\\ |     |    |  | |__/ |___     | | | |___ |__]     |\\/| |  \\ \n",
      "|___ | \\| ___ |___ |__| |  \\ |___ ___ |_|_| |___ |__] ___ |  | |__/ \n",
      "                                                                    \n",
      "\n",
      "<EntityElement: https://www.wikidata.org/wiki/Q11471 time                      dimension in which events can be ordered from the past through the present into the future>\n",
      "<EntityElement: https://www.wikidata.org/wiki/Q54818138 Queen Bess                                                                  >\n",
      "<EntityElement: https://www.wikidata.org/wiki/Q2680856 King                      casual-social games company                       >\n",
      "<EntityElement: https://www.wikidata.org/wiki/Q84 London                    capital and largest city of the United Kingdom    >\n",
      "e declares ho lired in (Queen Bess's time, recollects Iing Charles bein' beheaded perfectly vell, and remembers,the Great Fire o' London\n",
      "____ _  _     ____ ____ ____ ____     _ _ _ ____ ___      ____ _  _ \n",
      "|___ |\\ |     |    |  | |__/ |___     | | | |___ |__]     [__  |\\/| \n",
      "|___ | \\| ___ |___ |__| |  \\ |___ ___ |_|_| |___ |__] ___ ___] |  | \n",
      "                                                                    \n",
      "\n",
      "<EntityElement: https://www.wikidata.org/wiki/Q82435 e                         mathematical constant                             >\n",
      "<EntityElement: https://www.wikidata.org/wiki/Q33617 Hiri Motu                 official language of Papua New Guinea             >\n",
      "<EntityElement: https://www.wikidata.org/wiki/Q11471 time                      dimension in which events can be ordered from the past through the present into the future>\n",
      "<EntityElement: https://www.wikidata.org/wiki/Q54818138 Queen Bess                                                                  >\n",
      "<EntityElement: https://www.wikidata.org/wiki/Q21476550 Bein                      family name                                       >\n",
      "<EntityElement: https://www.wikidata.org/wiki/Q18153484 Remember                  2015 drama thriller film directed by Atom Egoyan  >\n",
      "<EntityElement: https://www.wikidata.org/wiki/Q84 London                    capital and largest city of the United Kingdom    >\n",
      "<EntityElement: https://www.wikidata.org/wiki/Q204 zero                      integer number                                    >\n",
      "____ _  _     ____ ____ ____ ____     _ _ _ ____ ___      _    ____ \n",
      "|___ |\\ |     |    |  | |__/ |___     | | | |___ |__]     |    | __ \n",
      "|___ | \\| ___ |___ |__| |  \\ |___ ___ |_|_| |___ |__] ___ |___ |__] \n",
      "                                                                    \n",
      "\n",
      "<EntityElement: https://www.wikidata.org/wiki/Q82435 e                         mathematical constant                             >\n",
      "<EntityElement: https://www.wikidata.org/wiki/Q33617 Hiri Motu                 official language of Papua New Guinea             >\n",
      "<EntityElement: https://www.wikidata.org/wiki/Q11471 time                      dimension in which events can be ordered from the past through the present into the future>\n",
      "<EntityElement: https://www.wikidata.org/wiki/Q54818138 Queen Bess                                                                  >\n",
      "<EntityElement: https://www.wikidata.org/wiki/Q21476550 Bein                      family name                                       >\n",
      "<EntityElement: https://www.wikidata.org/wiki/Q18153484 Remember                  2015 drama thriller film directed by Atom Egoyan  >\n",
      "<EntityElement: https://www.wikidata.org/wiki/Q204 zero                      integer number                                    >\n",
      "<EntityElement: https://www.wikidata.org/wiki/Q84 London                    capital and largest city of the United Kingdom    >\n",
      "____ _  _     ____ ____ ____ ____     _ _ _ ____ ___      _  _ ___  \n",
      "|___ |\\ |     |    |  | |__/ |___     | | | |___ |__]     |\\/| |  \\ \n",
      "|___ | \\| ___ |___ |__| |  \\ |___ ___ |_|_| |___ |__] ___ |  | |__/ \n",
      "                                                                    \n",
      "\n",
      "<EntityElement: https://www.wikidata.org/wiki/Q82435 e                         mathematical constant                             >\n",
      "<EntityElement: https://www.wikidata.org/wiki/Q33617 Hiri Motu                 official language of Papua New Guinea             >\n",
      "<EntityElement: https://www.wikidata.org/wiki/Q11471 time                      dimension in which events can be ordered from the past through the present into the future>\n",
      "<EntityElement: https://www.wikidata.org/wiki/Q54818138 Queen Bess                                                                  >\n",
      "<EntityElement: https://www.wikidata.org/wiki/Q21476550 Bein                      family name                                       >\n",
      "<EntityElement: https://www.wikidata.org/wiki/Q18153484 Remember                  2015 drama thriller film directed by Atom Egoyan  >\n",
      "<EntityElement: https://www.wikidata.org/wiki/Q204 zero                      integer number                                    >\n",
      "<EntityElement: https://www.wikidata.org/wiki/Q84 London                    capital and largest city of the United Kingdom    >\n"
     ]
    }
   ],
   "source": [
    "from art import *\n",
    "import os\n",
    "\n",
    "models = [\"en_core_web_sm\", \"en_core_web_lg\", \"en_core_web_md\"]\n",
    "extraits = [ref, kraken]\n",
    "\n",
    "for extrait in extraits: \n",
    "    print(extrait)\n",
    "    \n",
    "    for model in models :\n",
    "        tprint (model, font=\"cybermedium\")\n",
    "        read(extrait, model)"
   ]
  },
  {
   "cell_type": "code",
   "execution_count": null,
   "id": "d3853b00",
   "metadata": {},
   "outputs": [],
   "source": [
    "\\footnotesize{\n",
    "\\begin{tabular}{|l|p{3.5cm}|p{3.3cm}|p{3.3cm}|p{3.3cm}|p{3.3cm}}\n",
    "\\hline\n",
    "Entité liée                 \n",
    "& fr\\_core\\_news\\_sm & fr\\_core\\_news\\_lg & en\\_core\\_web\\_sm & en\\_core\\_web\\_lg% & en\\_core\\_web\\_md \n",
    "       \\\\\n",
    "\\hline\n",
    "Napoléon\n",
    "&  Napoléon, 1927 film by Abel Gance           \n",
    "& Napoléon, 1927 film by Abel Gance \n",
    "& Napoleon, French general, First Consul and later Emperor of the French \n",
    "& Napoleon, French general, First Consul and later Emperor of the French \n",
    "\n",
    " \\\\ \\hline\n",
    " \n",
    "Bonaparte \n",
    "& Charles Lucien Bonaparte, French biologist \n",
    "& Charles Lucien Bonaparte, French biologist \n",
    "& \\textbf{Latin, almost extinct Indo-European language of the Italic family }\n",
    "& /NA\n",
    " \n",
    "  \\\\ \\hline\n",
    "\n",
    "Russia \n",
    "& transcontinental country in Eastern Europe and Northern Asia \n",
    "& transcontinental country in Eastern Europe and Northern Asia\n",
    "& transcontinental country in Eastern Europe and Northern Asia\n",
    "& transcontinental country in Eastern Europe and Northern Asia\n",
    "  \\\\ \\hline\n",
    "\\end{tabular}}"
   ]
  },
  {
   "cell_type": "markdown",
   "id": "4161b638",
   "metadata": {},
   "source": [
    "# Maupassant"
   ]
  },
  {
   "cell_type": "code",
   "execution_count": null,
   "id": "492a4912",
   "metadata": {},
   "outputs": [],
   "source": []
  },
  {
   "cell_type": "code",
   "execution_count": null,
   "id": "20a6fc58",
   "metadata": {},
   "outputs": [],
   "source": [
    "#ref = \"Ils gagnèrent Livourne, visitèrent Florence, Gênes, toute la Corniche.\" "
   ]
  },
  {
   "cell_type": "code",
   "execution_count": 11,
   "id": "e2d55732",
   "metadata": {},
   "outputs": [],
   "source": [
    "ref = \"Le baron Simon-Jacques Le Perthuis des Vauds était un gentilhomme de l'autre siècle, maniaque et bon. Disciple enthousiaste de J. -J. Rousseau, il avait des tendresses d'amant pour la nature, les champs, les bois, les bêtes.\""
   ]
  },
  {
   "cell_type": "code",
   "execution_count": 12,
   "id": "09852277",
   "metadata": {},
   "outputs": [],
   "source": [
    "kraken = \" Le baron Simon-lacques Le Perthuis des Vauds etait un gentilhomme de l'autre siecle, maniaque etbon. Disciple enthousiaste de J.-J. Rousseau, il avaitdes tendresses d'amant pour la nature, les champs, les bois, les betes.\""
   ]
  },
  {
   "cell_type": "code",
   "execution_count": 15,
   "id": "72e3c963",
   "metadata": {},
   "outputs": [
    {
     "name": "stdout",
     "output_type": "stream",
     "text": [
      "Le baron Simon-Jacques Le Perthuis des Vauds était un gentilhomme de l'autre siècle, maniaque et bon. Disciple enthousiaste de J. -J. Rousseau, il avait des tendresses d'amant pour la nature, les champs, les bois, les bêtes.\n",
      "<EntityElement: https://www.wikidata.org/wiki/Q749212 gentleman                 any man of good, courteous conduct                >\n",
      "<EntityElement: https://www.wikidata.org/wiki/Q165503 baron                     title of nobility in Europe                       >\n",
      "<EntityElement: https://www.wikidata.org/wiki/Q33923 Peter                     apostle and first pope                            >\n",
      "<EntityElement: https://www.wikidata.org/wiki/Q180309 hyphen                    punctuation mark used to join words               >\n",
      "<EntityElement: https://www.wikidata.org/wiki/Q941049 Jacques                   given name                                        >\n",
      "<EntityElement: https://www.wikidata.org/wiki/Q1228422 Disciple                  Christian metal band from the USA                 >\n",
      "<EntityElement: https://www.wikidata.org/wiki/Q6103861 J.                        weekly newspaper in Northern California           >\n",
      "<EntityElement: https://www.wikidata.org/wiki/Q6527 Jean-Jacques Rousseau     Genevan philosopher, writer, and composer         >\n",
      "<EntityElement: https://www.wikidata.org/wiki/Q7860 nature                    phenomena of the physical world, and also to life in general>\n",
      "<EntityElement: https://www.wikidata.org/wiki/Q18205925 Champs                    2014 documentary film directed by Bert Marcus     >\n",
      "<EntityElement: https://www.wikidata.org/wiki/Q70232 Les Bois                  municipality in Switzerland                       >\n",
      " Le baron Simon-lacques Le Perthuis des Vauds etait un gentilhomme de l'autre siecle, maniaque etbon. Disciple enthousiaste de J.-J. Rousseau, il avaitdes tendresses d'amant pour la nature, les champs, les bois, les betes.\n",
      "<EntityElement: https://www.wikidata.org/wiki/Q165503 baron                     title of nobility in Europe                       >\n",
      "<EntityElement: https://www.wikidata.org/wiki/Q33923 Peter                     apostle and first pope                            >\n",
      "<EntityElement: https://www.wikidata.org/wiki/Q180309 hyphen                    punctuation mark used to join words               >\n",
      "<EntityElement: https://www.wikidata.org/wiki/Q749212 gentleman                 any man of good, courteous conduct                >\n",
      "<EntityElement: https://www.wikidata.org/wiki/Q1228422 Disciple                  Christian metal band from the USA                 >\n",
      "<EntityElement: https://www.wikidata.org/wiki/Q6527 Jean-Jacques Rousseau     Genevan philosopher, writer, and composer         >\n",
      "<EntityElement: https://www.wikidata.org/wiki/Q7860 nature                    phenomena of the physical world, and also to life in general>\n",
      "<EntityElement: https://www.wikidata.org/wiki/Q18205925 Champs                    2014 documentary film directed by Bert Marcus     >\n",
      "<EntityElement: https://www.wikidata.org/wiki/Q70232 Les Bois                  municipality in Switzerland                       >\n"
     ]
    }
   ],
   "source": [
    "extraits = [ref, kraken]\n",
    "for extrait in extraits: \n",
    "    print(extrait)\n",
    "    read(extrait,\"fr_core_news_lg\" )"
   ]
  },
  {
   "cell_type": "code",
   "execution_count": null,
   "id": "325662ee",
   "metadata": {},
   "outputs": [],
   "source": [
    "\\footnotesize{\n",
    "\\begin{tabular}{|l|p{3.5cm}|p{3.3cm}|p{3.3cm}|p{3.3cm}|p{3.3cm}}\n",
    "\\hline\n",
    "Entité liée                 \n",
    " & texte de référence  & texte océrisé avec Kraken \\\\\n",
    "\\hline\n",
    "\n",
    "gentleman                                \n",
    "& any man of good, courteous conduct        \n",
    "&  \\Na \n",
    "\\\\ \\hline\n",
    " \n",
    "baron                                      \n",
    "& title of nobility in Europe \n",
    "& title of nobility in Europe \n",
    "\\\\ \\hline\n",
    "\n",
    "Peter\n",
    "&  apostle and first pope\n",
    "&  apostle and first pope\n",
    "\\\\ \\hline\n",
    "    \n",
    "hyphen                                                                                                                    \n",
    "& punctuation mark used to join words \n",
    "& punctuation mark used to join words\n",
    "\\\\ \\hline\n",
    "    \n",
    "Jacques                                                                                                                                                                              \n",
    "& given name\n",
    "&  \\Na\n",
    "\\\\ \\hline\n",
    "\n",
    "Disciple                                                                                                                                                                                              \n",
    "& Christian metal band from the USA \n",
    "& Christian metal band from the USA \n",
    "\\\\ \\hline  \n",
    "\n",
    "J.                        \n",
    "& weekly newspaper in Northern California  \n",
    "& \\Na\n",
    "\\\\ \\hline\n",
    "\n",
    "Jean-Jacques Rousseau                         \n",
    "& Genevan philosopher, writer, and composer   \n",
    "&  Genevan philosopher, writer, and composer\n",
    "\\\\ \\hline \n",
    "\n",
    "nature                  \n",
    "& phenomena of the physical world, and also to life in general  \n",
    "& phenomena of the physical world, and also to life in general \n",
    "\\\\ \\hline \n",
    "\n",
    "Champs                                     \n",
    "& 2014 documentary film directed by Bert Marcusnature   \n",
    "& 2014 documentary film directed by Bert Marcusnature  \n",
    "\n",
    "Les Bois                                                     \n",
    "& municipality in Switzerland  \n",
    "& municipality in Switzerland  \n",
    "\n",
    "    \n",
    "\\end{tabular}}"
   ]
  },
  {
   "cell_type": "markdown",
   "id": "7d9590dc",
   "metadata": {},
   "source": [
    "# Noaille "
   ]
  },
  {
   "cell_type": "markdown",
   "id": "8c042672",
   "metadata": {},
   "source": [
    "## 1"
   ]
  },
  {
   "cell_type": "code",
   "execution_count": 21,
   "id": "592cd10e",
   "metadata": {},
   "outputs": [],
   "source": [
    "kraken = \"ils allerent seuls l'un et l'autre, secre-tement, se cachant des curiosites de leurs amis, diner dans de petits cafes de Paris, oifloiait une odeur basse d'alcool et de tabac,et dans les restaurants du Bois de Boulogne,pleins de lumiere et de gens\""
   ]
  },
  {
   "cell_type": "code",
   "execution_count": 22,
   "id": "9c023299",
   "metadata": {},
   "outputs": [],
   "source": [
    "ref = \"ils allèrent seuls l'un et l'autre, secrètement, se cachant des curiosités de leurs amis, dîner dans de petits cafés de Paris, où flottait une odeur basse d'alcool et de tabac, et dans les restaurants du Bois de Boulogne, pleins de lumière et de gens\""
   ]
  },
  {
   "cell_type": "code",
   "execution_count": 23,
   "id": "8d6047ad",
   "metadata": {},
   "outputs": [
    {
     "name": "stdout",
     "output_type": "stream",
     "text": [
      "ils allèrent seuls l'un et l'autre, secrètement, se cachant des curiosités de leurs amis, dîner dans de petits cafés de Paris, où flottait une odeur basse d'alcool et de tabac, et dans les restaurants du Bois de Boulogne, pleins de lumière et de gens\n",
      "<EntityElement: https://www.wikidata.org/wiki/Q35132 Amis                      language of the Amis                              >\n",
      "<EntityElement: https://www.wikidata.org/wiki/Q90 Paris                     capital and largest city of France                >\n",
      "<EntityElement: https://www.wikidata.org/wiki/Q2383518 Tabac                                                                       >\n",
      "<EntityElement: https://www.wikidata.org/wiki/Q70232 Les Bois                  municipality in Switzerland                       >\n",
      "<EntityElement: https://www.wikidata.org/wiki/Q4949702 Boulogne                  unincorporated community in Florida               >\n",
      "<EntityElement: https://www.wikidata.org/wiki/Q899409 gens                      Roman family unit                                 >\n",
      "ils allerent seuls l'un et l'autre, secre-tement, se cachant des curiosites de leurs amis, diner dans de petits cafes de Paris, oifloiait une odeur basse d'alcool et de tabac,et dans les restaurants du Bois de Boulogne,pleins de lumiere et de gens\n",
      "<EntityElement: https://www.wikidata.org/wiki/Q35132 Amis                      language of the Amis                              >\n",
      "<EntityElement: https://www.wikidata.org/wiki/Q90 Paris                     capital and largest city of France                >\n",
      "<EntityElement: https://www.wikidata.org/wiki/Q2383518 Tabac                                                                       >\n",
      "<EntityElement: https://www.wikidata.org/wiki/Q70232 Les Bois                  municipality in Switzerland                       >\n",
      "<EntityElement: https://www.wikidata.org/wiki/Q4949702 Boulogne                  unincorporated community in Florida               >\n",
      "<EntityElement: https://www.wikidata.org/wiki/Q899409 gens                      Roman family unit                                 >\n"
     ]
    }
   ],
   "source": [
    "extraits = [ref, kraken]\n",
    "for extrait in extraits: \n",
    "    print(extrait)\n",
    "    read(extrait,\"fr_core_news_lg\" )"
   ]
  },
  {
   "cell_type": "markdown",
   "id": "ed961e2b",
   "metadata": {},
   "source": [
    "## 2"
   ]
  },
  {
   "cell_type": "code",
   "execution_count": 24,
   "id": "c60bc01b",
   "metadata": {},
   "outputs": [],
   "source": [
    "ref = \"Quand Philippe entra, madame de Fontenay, décidée à ne plus être gênée, se mit à parler\""
   ]
  },
  {
   "cell_type": "code",
   "execution_count": 25,
   "id": "879fa81d",
   "metadata": {},
   "outputs": [],
   "source": [
    "kraken = \"(Quand Philippe entra, madame de Fontenay, decidee a n6 plus etre genee, se mit a parler\""
   ]
  },
  {
   "cell_type": "code",
   "execution_count": 26,
   "id": "7d7bbd07",
   "metadata": {},
   "outputs": [
    {
     "name": "stdout",
     "output_type": "stream",
     "text": [
      "Quand Philippe entra, madame de Fontenay, décidée à ne plus être gênée, se mit à parler\n",
      "<EntityElement: https://www.wikidata.org/wiki/Q157098 Philip I of Castile       Duke of Burgundy and King of Castile              >\n",
      "<EntityElement: https://www.wikidata.org/wiki/Q17146837 Madam                     polite form of address for women, especially in American English>\n",
      "<EntityElement: https://www.wikidata.org/wiki/Q1166745 Fontenay                  commune in Seine-Maritime, France                 >\n",
      "(Quand Philippe entra, madame de Fontenay, decidee a n6 plus etre genee, se mit a parler\n",
      "<EntityElement: https://www.wikidata.org/wiki/Q157098 Philip I of Castile       Duke of Burgundy and King of Castile              >\n",
      "<EntityElement: https://www.wikidata.org/wiki/Q17146837 Madam                     polite form of address for women, especially in American English>\n",
      "<EntityElement: https://www.wikidata.org/wiki/Q1166745 Fontenay                  commune in Seine-Maritime, France                 >\n"
     ]
    }
   ],
   "source": [
    "extraits = [ref, kraken]\n",
    "for extrait in extraits: \n",
    "    print(extrait)\n",
    "    read(extrait,\"fr_core_news_lg\" )"
   ]
  },
  {
   "cell_type": "markdown",
   "id": "916857ba",
   "metadata": {},
   "source": [
    "## 3"
   ]
  },
  {
   "cell_type": "code",
   "execution_count": 32,
   "id": "56c4b716",
   "metadata": {},
   "outputs": [],
   "source": [
    "kraken = \"Pierre Valenee criait, il s'echauffait sur la Revolution\""
   ]
  },
  {
   "cell_type": "code",
   "execution_count": 33,
   "id": "7ac4fe83",
   "metadata": {},
   "outputs": [],
   "source": [
    "ref = \"Pierre Valence criait, il s'échauffait sur la Révolution\""
   ]
  },
  {
   "cell_type": "code",
   "execution_count": 34,
   "id": "4e9b5d4d",
   "metadata": {},
   "outputs": [
    {
     "name": "stdout",
     "output_type": "stream",
     "text": [
      "Pierre Valence criait, il s'échauffait sur la Révolution\n",
      "<EntityElement: https://www.wikidata.org/wiki/Q40747 Pierre                    capital city of South Dakota and county seat of Hughes County>\n",
      "<EntityElement: https://www.wikidata.org/wiki/Q8848 Valence                   commune in Drôme, France                          >\n",
      "<EntityElement: https://www.wikidata.org/wiki/Q3527389 Thésée                    French warship of 1790                            >\n",
      "Pierre Valenee criait, il s'echauffait sur la Revolution\n",
      "<EntityElement: https://www.wikidata.org/wiki/Q40747 Pierre                    capital city of South Dakota and county seat of Hughes County>\n",
      "<EntityElement: https://www.wikidata.org/wiki/Q289592 Revolution                American television drama series                  >\n"
     ]
    }
   ],
   "source": [
    "extraits = [ref, kraken]\n",
    "for extrait in extraits: \n",
    "    print(extrait)\n",
    "    read(extrait,\"fr_core_news_lg\" )"
   ]
  },
  {
   "cell_type": "code",
   "execution_count": null,
   "id": "e4a3b77f",
   "metadata": {},
   "outputs": [],
   "source": [
    "\\footnotesize{\n",
    "\\begin{tabular}{|l|p{3.5cm}|p{3.3cm}|p{3.3cm}|p{3.3cm}|p{3.3cm}}\n",
    "\\hline\n",
    "Entité liée                 \n",
    "& entitées issues du texte de référence & entitées issues du texte océrisé avec Kraken & \n",
    "\\\\ \\hline\n",
    "Pierre \n",
    "& capital city of South Dakota and county seat of Hughes County %https://www.wikidata.org/wiki/Q40747         \n",
    "& capital city of South Dakota and county seat of Hughes County %https://www.wikidata.org/wiki/Q40747 \n",
    "\\\\ \\hline\n",
    "\n",
    "Valence \n",
    "& commune in Drôme, France %https://www.wikidata.org/wiki/Q8848\n",
    "& \\Na \n",
    "\\\\ \\hline\n",
    "\n",
    "Thésée  \n",
    "& French warship of 1790 % https://www.wikidata.org/wiki/Q3527389\n",
    "& \\Na\n",
    "\n",
    "Revolution  \n",
    "& \\Na\n",
    "& American television drama series % https://www.wikidata.org/wiki/Q289592\n",
    "\n",
    "\\\\ \\hline\n",
    "\\end{tabular}}"
   ]
  },
  {
   "cell_type": "markdown",
   "id": "6a4cf70b",
   "metadata": {},
   "source": [
    "# AIMARD, les trappeurs"
   ]
  },
  {
   "cell_type": "code",
   "execution_count": 11,
   "id": "5bef2142",
   "metadata": {},
   "outputs": [],
   "source": [
    "ref = \"voilà une ville fondée à laquelle on donne un nom sonore comme Utique ou Syracuse, Rome ou Carthage\""
   ]
  },
  {
   "cell_type": "code",
   "execution_count": 12,
   "id": "f80f5405",
   "metadata": {},
   "outputs": [],
   "source": [
    "kraken = \"voila une ville fondee a laquelle on donne un nom sonore comme Utique ou Syracuse, ome ou Carthage, par exemple\""
   ]
  },
  {
   "cell_type": "code",
   "execution_count": 13,
   "id": "ba9e5b33",
   "metadata": {},
   "outputs": [
    {
     "name": "stdout",
     "output_type": "stream",
     "text": [
      "voilà une ville fondée à laquelle on donne un nom sonore comme Utique ou Syracuse, Rome ou Carthage\n",
      "<EntityElement: https://www.wikidata.org/wiki/Q17404013 ville                     French word and English suffixe                   >\n",
      "<EntityElement: https://www.wikidata.org/wiki/Q6974681 National Organization for Marriage organization                                      >\n",
      "<EntityElement: https://www.wikidata.org/wiki/Q128069 Syracuse                  county seat of Onondaga County, New York, United States>\n",
      "<EntityElement: https://www.wikidata.org/wiki/Q220 Rome                      capital and largest city of Italy                 >\n",
      "<EntityElement: https://www.wikidata.org/wiki/Q6343 Carthage                  archaeological site in Tunisia                    >\n",
      "voila une ville fondee a laquelle on donne un nom sonore comme Utique ou Syracuse, ome ou Carthage, par exemple\n",
      "<EntityElement: https://www.wikidata.org/wiki/Q17404013 ville                     French word and English suffixe                   >\n",
      "<EntityElement: https://www.wikidata.org/wiki/Q6974681 National Organization for Marriage organization                                      >\n",
      "<EntityElement: https://www.wikidata.org/wiki/Q128069 Syracuse                  county seat of Onondaga County, New York, United States>\n",
      "<EntityElement: https://www.wikidata.org/wiki/Q237683 Ōme                       city in Tokyo, Japan                              >\n",
      "<EntityElement: https://www.wikidata.org/wiki/Q6343 Carthage                  archaeological site in Tunisia                    >\n"
     ]
    }
   ],
   "source": [
    "extraits = [ref, kraken]\n",
    "for extrait in extraits: \n",
    "    print(extrait)\n",
    "    read(extrait,\"fr_core_news_lg\" )"
   ]
  },
  {
   "cell_type": "code",
   "execution_count": null,
   "id": "e5747771",
   "metadata": {},
   "outputs": [],
   "source": [
    "\\footnotesize{\n",
    "\\begin{tabular}{|l|p{3.5cm}|p{3.3cm}|p{3.3cm}|p{3.3cm}|p{3.3cm}}\n",
    "\\hline\n",
    "Entité liée                 \n",
    "& entitées issues du texte de référence & entitées issues du texte océrisé avec Kraken & \n",
    "\\\\ \\hline\n",
    "ville\n",
    "& French word and English suffixe  %   https://www.wikidata.org/wiki/Q17404013     \n",
    "& French word and English suffixe  %   https://www.wikidata.org/wiki/Q17404013\n",
    "\\\\ \\hline\n",
    "\n",
    "National Organization for Marriage organization    \n",
    "& National Organization for Marriage organization   % https://www.wikidata.org/wiki/Q6974681       \n",
    "& National Organization for Marriage organization   % https://www.wikidata.org/wiki/Q6974681 \n",
    "\\\\ \\hline\n",
    "\n",
    "Syracuse \n",
    "& county seat of Onondaga County, New York, United States  % https://www.wikidata.org/wiki/Q128069        \n",
    "& county seat of Onondaga County, New York, United States  % https://www.wikidata.org/wiki/Q128069\n",
    "\\\\ \\hline\n",
    " Rome                      \n",
    "& capital and largest city of Italy % https://www.wikidata.org/wiki/Q220       \n",
    "&  (Ōme)city in Tokyo, Japan %\n",
    "\\\\ \\hline\n",
    "Carthage                   \n",
    "& archaeological site in Tunisia  %https://www.wikidata.org/wiki/Q6343        \n",
    "&  archaeological site in Tunisia  %https://www.wikidata.org/wiki/Q6343\n",
    "\\\\ \\hline\n",
    "\n",
    "\\end{tabular}}"
   ]
  },
  {
   "cell_type": "markdown",
   "id": "223b0e5d",
   "metadata": {},
   "source": [
    "# exemple"
   ]
  },
  {
   "cell_type": "code",
   "execution_count": null,
   "id": "f03e01a6",
   "metadata": {},
   "outputs": [],
   "source": [
    "\\begin{table}[H]\n",
    "\\begin{tabular}{|l|p{4cm}|l|p{4cm}|p{4cm}|}\n",
    "\\hline\n",
    "vers. & contexte&Entité liée& en\\_core\\_web\\_sm & en\\_core\\_web\\_lg \\\\\n",
    "\\cline{3-4} \n",
    "\\hline\n",
    "\\multirow{4}{*}{Ref}& \"he declares he lived in \\textcolor{red}{Queen Bess}’s \\textcolor{red}{time}, recollects \\textcolor{red}{King} Charles bein’ beheaded perfectly vell, and remembers the \\textcolor{red}{Great} Fire \\textcolor{red}{o}’ \\textcolor{red}{London}\" \n",
    " &Queen Bess\n",
    "& \\url{ https://www.wikidata.org/wiki/Q54818138} \n",
    "           \n",
    "& \\url{ https://www.wikidata.org/wiki/Q54818138 }\n",
    "\n",
    "%& <EntityElement: https://www.wikidata.org/wiki/Q54818138 Queen Bess>\n",
    "\n",
    "\\\\ \n",
    " &&time& \\url{https://www.wikidata.org/wiki/Q11471} \n",
    "time : dimension in which events can be ordered from the past through the present into the future\n",
    "& \\url{ https://www.wikidata.org/wiki/Q11471 }\n",
    "time : dimension in which events can be ordered from the past through the present into the future                \n",
    "%& <EntityElement: https://www.wikidata.org/wiki/Q11471 time  dimension in which events can be ordered from the past through the present into the future>     \n",
    "\\\\\n",
    " &&  King& \\url{https://www.wikidata.org/wiki/Q2680856} King  \n",
    "casual-social games company \n",
    "&  \\url{ https://www.wikidata.org/wiki/Q2680856} King casual-social games company                \n",
    "%&  <EntityElement: https://www.wikidata.org/wiki/Q2680856 King casual-social games company >               \n",
    "\\\\\n",
    "\n",
    "&& London&  \\url{ https://www.wikidata.org/wiki/Q84} London capital and largest city of the United Kingdom >               \n",
    "&   \\url{ https://www.wikidata.org/wiki/Q84} London capital and largest city of the United Kingdom >             \n",
    "%&  <EntityElement: https://www.wikidata.org/wiki/Q84 London capital and largest city of the United Kingdom > \n",
    "\\\\\n",
    "&&Great or o ?&  \\url{ https://www.wikidata.org/wiki/Q204} zero integer number \n",
    "&  \\url{ https://www.wikidata.org/wiki/Q1544187} Great  1975 short film directed by Bob Godfrey    \n",
    "\\\\ \n",
    "\\hline\n",
    "\n",
    "kraken & \"\\textcolor{red}{e} declares ho lired in (\\textcolor{red}{Queen Bess}'s time, recollects Iing Charles \\textcolor{red}{bein}' beheaded perfectly vell, and remembers,the Great Fire o' London\"&&&\\\\\n",
    "\n",
    "\\hline\n",
    "\\end{tabular}\n",
    "\\end{table}"
   ]
  },
  {
   "cell_type": "markdown",
   "id": "8af412fa",
   "metadata": {},
   "source": [
    "# Audoux"
   ]
  },
  {
   "cell_type": "code",
   "execution_count": 3,
   "id": "6d3c63f1",
   "metadata": {},
   "outputs": [],
   "source": [
    "ref =\"Quand il ne fit plus froid dans la classe, sœur Marie-Aimée me plaça, sur un banc entre Ismérie et Marie Renaud\""
   ]
  },
  {
   "cell_type": "code",
   "execution_count": 4,
   "id": "ee582310",
   "metadata": {},
   "outputs": [],
   "source": [
    "kraken = \"Quand il ne fit plus froid dans la classe, seur Marie-Aimee me plagca sur un banc entre Ismerie et Marie Renaud\""
   ]
  },
  {
   "cell_type": "code",
   "execution_count": 8,
   "id": "df58e2dc",
   "metadata": {},
   "outputs": [
    {
     "name": "stdout",
     "output_type": "stream",
     "text": [
      "Quand il ne fit plus froid dans la classe, sœur Marie-Aimée me plaça, sur un banc entre Ismérie et Marie Renaud\n",
      "<EntityElement: https://www.wikidata.org/wiki/Q1096191 Classé                                                                      >\n",
      "<EntityElement: https://www.wikidata.org/wiki/Q11920779 Banc                                                                        >\n",
      "<EntityElement: https://www.wikidata.org/wiki/Q59220438 Isabelle                  fictional video game character from the Animal Crossing series>\n",
      "<EntityElement: https://www.wikidata.org/wiki/Q1716 Renaud                    French singer, songwriter and actor               >\n",
      "Quand il ne fit plus froid dans la classe, seur Marie-Aimee me plagca sur un banc entre Ismerie et Marie Renaud\n",
      "<EntityElement: https://www.wikidata.org/wiki/Q1096191 Classé                                                                      >\n",
      "<EntityElement: https://www.wikidata.org/wiki/Q6126333 Seur                                                                        >\n",
      "<EntityElement: https://www.wikidata.org/wiki/Q11920779 Banc                                                                        >\n",
      "<EntityElement: https://www.wikidata.org/wiki/Q59220438 Isabelle                  fictional video game character from the Animal Crossing series>\n",
      "<EntityElement: https://www.wikidata.org/wiki/Q1716 Renaud                    French singer, songwriter and actor               >\n"
     ]
    }
   ],
   "source": [
    "extraits = [ref, kraken]\n",
    "for extrait in extraits: \n",
    "    print(extrait)\n",
    "    read(extrait,\"fr_core_news_lg\" )"
   ]
  },
  {
   "cell_type": "code",
   "execution_count": null,
   "id": "00268b1f",
   "metadata": {},
   "outputs": [],
   "source": [
    "\\begin{table}[H]\n",
    "\\begin{tabular}{|l|p{4cm}|l|p{4cm}|p{4cm}|}\n",
    "\\hline\n",
    "phrase traitée sous sa form& Entité liée & texte de référence traité avec spacy lg & texte océrisé avec kraken traité avec spacy lg \n",
    "\n",
    "\\cline{3-4} \n",
    "\\hline\n",
    "\\multirow{4}{*}{Ref}& \"Quand il ne fit plus froid dans la \\textcolor{red}{classe}, sœur \\textcolor{red}{Marie}-Aimée me plaça, sur un banc entre Ismérie et Marie \\textcolor{red}{Renaud}\"\n",
    "\n",
    "\n",
    "& Classé  \n",
    "\n",
    "& Canadian manufacturer of audio equipment %\\url{https://www.wikidata.org/wiki/Q1096191 } \n",
    "           \n",
    "& Canadian manufacturer of audio equipment %\\url{https://www.wikidata.org/wiki/Q1096191 } \n",
    "\n",
    "\\\\ \\hline\n",
    " \n",
    "& Banc \n",
    "\n",
    "& railway station in Barcelona, Spain %https://www.wikidata.org/wiki/Q11920779\n",
    "           \n",
    "& railway station in Barcelona, Spain %https://www.wikidata.org/wiki/Q11920779\n",
    "\n",
    "\\\\ \\hline\n",
    "\n",
    "& Marie \n",
    "\n",
    "& fictional video game character from the Animal Crossing series %https://www.wikidata.org/wiki/Q59220438 Isabelle \n",
    "           \n",
    "& fictional video game character from the Animal Crossing series %https://www.wikidata.org/wiki/Q59220438 Isabelle \n",
    "\n",
    "\\\\ \\hline\n",
    "\n",
    "& Renaud \n",
    "\n",
    "& French singer, songwriter and actor \n",
    "           \n",
    "& French singer, songwriter and actor\n",
    "\n",
    "\\\\ \\hline\n",
    "& Seur\n",
    "& \\Na\n",
    "& cycling team % https://www.wikidata.org/wiki/Q6126333 \n",
    "\n",
    "\\hline\n",
    "\n",
    "\\end{tabular}\n",
    "\\end{table}"
   ]
  },
  {
   "cell_type": "code",
   "execution_count": null,
   "id": "0f5b115c",
   "metadata": {},
   "outputs": [],
   "source": [
    "# "
   ]
  },
  {
   "cell_type": "code",
   "execution_count": null,
   "id": "a01c3678",
   "metadata": {},
   "outputs": [],
   "source": [
    "ref = \"elle en vendait la moitié pour la Toussaint et l'autre moitié à Noël\""
   ]
  },
  {
   "cell_type": "code",
   "execution_count": null,
   "id": "fd277db8",
   "metadata": {},
   "outputs": [],
   "source": [
    "extraits = [ref, kraken]\n",
    "for extrait in extraits: \n",
    "    print(extrait)\n",
    "    read(extrait,\"fr_core_news_lg\" )"
   ]
  },
  {
   "cell_type": "code",
   "execution_count": 12,
   "id": "a49277e4",
   "metadata": {},
   "outputs": [],
   "source": [
    "read(\"cjdvnqsdvbùv\",\"fr_core_news_lg\")"
   ]
  },
  {
   "cell_type": "code",
   "execution_count": null,
   "id": "45426c7a",
   "metadata": {},
   "outputs": [],
   "source": [
    "## On recommence en automatisant la création des tableaux "
   ]
  }
 ],
 "metadata": {
  "kernelspec": {
   "display_name": "Python 3 (ipykernel)",
   "language": "python",
   "name": "python3"
  },
  "language_info": {
   "codemirror_mode": {
    "name": "ipython",
    "version": 3
   },
   "file_extension": ".py",
   "mimetype": "text/x-python",
   "name": "python",
   "nbconvert_exporter": "python",
   "pygments_lexer": "ipython3",
   "version": "3.10.9"
  }
 },
 "nbformat": 4,
 "nbformat_minor": 5
}
