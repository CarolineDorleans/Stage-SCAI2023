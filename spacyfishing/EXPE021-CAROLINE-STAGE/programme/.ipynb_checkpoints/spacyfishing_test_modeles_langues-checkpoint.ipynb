{
 "cells": [
  {
   "cell_type": "markdown",
   "id": "60259ae0",
   "metadata": {},
   "source": [
    "15/05/2023         \n",
    "objectif : évaluer l'influence du modèle de langue et du bruit sur l'entity liking.    \n",
    "contexte : suite de \"testELSpacy_test-modèles_langues.ipynb\"."
   ]
  },
  {
   "cell_type": "markdown",
   "id": "498f51eb",
   "metadata": {},
   "source": [
    "# Evaluation comparative  du système d'entity linking de SpaCy"
   ]
  },
  {
   "cell_type": "code",
   "execution_count": 6,
   "id": "cd2fc00d",
   "metadata": {},
   "outputs": [
    {
     "name": "stderr",
     "output_type": "stream",
     "text": [
      "2023-06-28 09:53:54.874062: I tensorflow/core/platform/cpu_feature_guard.cc:182] This TensorFlow binary is optimized to use available CPU instructions in performance-critical operations.\n",
      "To enable the following instructions: AVX2 FMA, in other operations, rebuild TensorFlow with the appropriate compiler flags.\n",
      "2023-06-28 09:54:01.544017: W tensorflow/compiler/tf2tensorrt/utils/py_utils.cc:38] TF-TRT Warning: Could not find TensorRT\n"
     ]
    }
   ],
   "source": [
    "import spacy\n",
    "from art import *\n",
    "import pandas as pd"
   ]
  },
  {
   "cell_type": "code",
   "execution_count": 7,
   "id": "7acc3cc6",
   "metadata": {},
   "outputs": [],
   "source": [
    "def read (texte):\n",
    "    models = [\"fr_core_news_sm\",\"fr_core_news_md\",\"fr_core_news_lg\",\"en_core_web_sm\", \"en_core_web_md\", \"en_core_web_lg\"]\n",
    "    for model in models :\n",
    "        tprint (model, font=\"cybermedium\")\n",
    "        nlp = spacy.load(model)\n",
    "        # add pipeline (declared through entry_points in setup.py)\n",
    "        nlp.add_pipe(\"entityfishing\")\n",
    "        doc = nlp(texte)\n",
    "        # returns all entities in the whole document\n",
    "        # iterates over sentences and prints linked entities\n",
    "        for ent in doc.ents:\n",
    "            print(ent.text, ent.label_, ent._.kb_qid, ent._.url_wikidata, ent._.nerd_score)"
   ]
  },
  {
   "cell_type": "code",
   "execution_count": 57,
   "id": "da191ed4",
   "metadata": {},
   "outputs": [],
   "source": [
    "def latexiser_eng(texte):\n",
    "    tab_entite =[]\n",
    "    nlp = spacy.load(\"en_core_web_lg\")\n",
    "    \n",
    "    nlp.add_pipe(\"entityfishing\")\n",
    "    doc = nlp(texte)\n",
    "        # returns all entities in the whole document\n",
    "        # iterates over sentences and prints linked entities\n",
    "    for ent in doc.ents:\n",
    "        tab_entite.append({\n",
    "            #\"modèle\": mod,\n",
    "            \"span\" : ent.text,\n",
    "            \"label\" : ent.label_,\n",
    "            \"ID\" : ent._.kb_qid ,\n",
    "            #\"URL\" : ent._.url_wikidata,\n",
    "            \"score\" : ent._.nerd_score,\n",
    "            })          \n",
    "    df = pd.DataFrame(tab_entite)\n",
    "    table_latex = df.to_latex(index=False)\n",
    "    latex = df.to_latex(index=False)\n",
    "    print(latex)"
   ]
  },
  {
   "cell_type": "code",
   "execution_count": 66,
   "id": "ead2f179",
   "metadata": {},
   "outputs": [],
   "source": [
    "def latexiser_fr(texte):\n",
    "    tab_entite =[]\n",
    "    nlp = spacy.load(\"fr_core_news_lg\")\n",
    "    \n",
    "    nlp.add_pipe(\"entityfishing\")\n",
    "    doc = nlp(texte)\n",
    "        # returns all entities in the whole document\n",
    "        # iterates over sentences and prints linked entities\n",
    "    for ent in doc.ents:\n",
    "        #ident = \"\\href{\",ent._.url_wikidata,\"}{\",ent._.kb_qid,\"}\"\n",
    "        tab_entite.append({\n",
    "            #\"modèle\": mod,\n",
    "            \"span\" : ent.text,\n",
    "            \"label \" : ent.label_,\n",
    "            #\"URL\" : ent._.url_wikidata,\n",
    "            \"ID\" : ent._.kb_qid ,\n",
    "            #\"ID\" : ident,\n",
    "            \"score\" : ent._.nerd_score,\n",
    "            })          \n",
    "    df = pd.DataFrame(tab_entite)\n",
    "    table_latex = df.to_latex(index=False)\n",
    "    latex = df.to_latex(index=False)\n",
    "    print(latex)"
   ]
  },
  {
   "cell_type": "code",
   "execution_count": 70,
   "id": "a1ca0e41",
   "metadata": {},
   "outputs": [],
   "source": [
    "import spacy\n",
    "import pandas as pd\n",
    "\n",
    "def latexiser_mod(texte):\n",
    "    models = [\"fr_core_news_sm\", \"fr_core_news_md\", \"fr_core_news_lg\", \"en_core_web_sm\", \"en_core_web_md\", \"en_core_web_lg\"]\n",
    "    nlp = spacy.load(models[0])  # Charger le premier modèle à l'extérieur de la boucle\n",
    "    nlp.add_pipe(\"entityfishing\")\n",
    "    tab_entite = []\n",
    "\n",
    "    for model in models:\n",
    "        nlp = spacy.load(model)\n",
    "        doc = nlp(texte)\n",
    "        \n",
    "        for ent in doc.ents:\n",
    "            #ident = \"\\\\href{\" + ent._.url_wikidata + \"}{\" + ent._.kb_qid + \"}\"\n",
    "            tab_entite.append({\n",
    "                \"modèle\": model,\n",
    "                \"span\": ent.text,\n",
    "                \"label\": ent.label_,\n",
    "                #\"URL\" : ent._.url_wikidata,\n",
    "                \"ID\" : ent._.kb_qid ,\n",
    "                \"score\": ent._.nerd_score,\n",
    "            })          \n",
    "    \n",
    "    df = pd.DataFrame(tab_entite)\n",
    "    latex = df.to_latex(index=False)\n",
    "    print(latex)\n"
   ]
  },
  {
   "cell_type": "code",
   "execution_count": 68,
   "id": "89b71ad9",
   "metadata": {},
   "outputs": [],
   "source": [
    "ex = \"Je m'appelle Caroline\""
   ]
  },
  {
   "cell_type": "code",
   "execution_count": 69,
   "id": "3bcbbad9",
   "metadata": {},
   "outputs": [
    {
     "name": "stdout",
     "output_type": "stream",
     "text": [
      "\\begin{tabular}{lllr}\n",
      "\\toprule\n",
      "    span & label  &      ID &  score \\\\\n",
      "\\midrule\n",
      "Caroline &   MISC & Q186579 & 0.3574 \\\\\n",
      "\\bottomrule\n",
      "\\end{tabular}\n",
      "\n"
     ]
    },
    {
     "name": "stderr",
     "output_type": "stream",
     "text": [
      "/tmp/ipykernel_3694/3352116594.py:21: FutureWarning: In future versions `DataFrame.to_latex` is expected to utilise the base implementation of `Styler.to_latex` for formatting and rendering. The arguments signature may therefore change. It is recommended instead to use `DataFrame.style.to_latex` which also contains additional functionality.\n",
      "  table_latex = df.to_latex(index=False)\n",
      "/tmp/ipykernel_3694/3352116594.py:22: FutureWarning: In future versions `DataFrame.to_latex` is expected to utilise the base implementation of `Styler.to_latex` for formatting and rendering. The arguments signature may therefore change. It is recommended instead to use `DataFrame.style.to_latex` which also contains additional functionality.\n",
      "  latex = df.to_latex(index=False)\n"
     ]
    }
   ],
   "source": [
    "latexiser_fr(ex)"
   ]
  },
  {
   "cell_type": "code",
   "execution_count": 71,
   "id": "2ca33d77",
   "metadata": {},
   "outputs": [
    {
     "name": "stdout",
     "output_type": "stream",
     "text": [
      "\\begin{tabular}{lllll}\n",
      "\\toprule\n",
      "         modèle &         span &  label &   ID & score \\\\\n",
      "\\midrule\n",
      "fr\\_core\\_news\\_sm &     Caroline &    LOC & None &  None \\\\\n",
      "fr\\_core\\_news\\_md &     Caroline &    LOC & None &  None \\\\\n",
      "fr\\_core\\_news\\_lg &     Caroline &   MISC & None &  None \\\\\n",
      " en\\_core\\_web\\_sm & Je m'appelle & PERSON & None &  None \\\\\n",
      " en\\_core\\_web\\_sm &     Caroline & PERSON & None &  None \\\\\n",
      " en\\_core\\_web\\_md & Je m'appelle & PERSON & None &  None \\\\\n",
      " en\\_core\\_web\\_lg & Je m'appelle & PERSON & None &  None \\\\\n",
      "\\bottomrule\n",
      "\\end{tabular}\n",
      "\n"
     ]
    },
    {
     "name": "stderr",
     "output_type": "stream",
     "text": [
      "/tmp/ipykernel_3694/1343726275.py:26: FutureWarning: In future versions `DataFrame.to_latex` is expected to utilise the base implementation of `Styler.to_latex` for formatting and rendering. The arguments signature may therefore change. It is recommended instead to use `DataFrame.style.to_latex` which also contains additional functionality.\n",
      "  latex = df.to_latex(index=False)\n"
     ]
    }
   ],
   "source": [
    "latexiser_mod(ex)"
   ]
  },
  {
   "cell_type": "code",
   "execution_count": 44,
   "id": "6e30b043",
   "metadata": {},
   "outputs": [
    {
     "name": "stdout",
     "output_type": "stream",
     "text": [
      "____ ____     ____ ____ ____ ____     _  _ ____ _ _ _ ____     ____ _  _ \n",
      "|___ |__/     |    |  | |__/ |___     |\\ | |___ | | | [__      [__  |\\/| \n",
      "|    |  \\ ___ |___ |__| |  \\ |___ ___ | \\| |___ |_|_| ___] ___ ___] |  | \n",
      "                                                                         \n",
      "\n",
      "Caroline LOC Q186579 https://www.wikidata.org/wiki/Q186579 0.3574\n",
      "____ ____     ____ ____ ____ ____     _  _ ____ _ _ _ ____     _  _ ___  \n",
      "|___ |__/     |    |  | |__/ |___     |\\ | |___ | | | [__      |\\/| |  \\ \n",
      "|    |  \\ ___ |___ |__| |  \\ |___ ___ | \\| |___ |_|_| ___] ___ |  | |__/ \n",
      "                                                                         \n",
      "\n",
      "Caroline LOC Q186579 https://www.wikidata.org/wiki/Q186579 0.3574\n",
      "____ ____     ____ ____ ____ ____     _  _ ____ _ _ _ ____     _    ____ \n",
      "|___ |__/     |    |  | |__/ |___     |\\ | |___ | | | [__      |    | __ \n",
      "|    |  \\ ___ |___ |__| |  \\ |___ ___ | \\| |___ |_|_| ___] ___ |___ |__] \n",
      "                                                                         \n",
      "\n",
      "Caroline MISC Q186579 https://www.wikidata.org/wiki/Q186579 0.3574\n",
      "____ _  _     ____ ____ ____ ____     _ _ _ ____ ___      ____ _  _ \n",
      "|___ |\\ |     |    |  | |__/ |___     | | | |___ |__]     [__  |\\/| \n",
      "|___ | \\| ___ |___ |__| |  \\ |___ ___ |_|_| |___ |__] ___ ___] |  | \n",
      "                                                                    \n",
      "\n",
      "Je m'appelle PERSON None None None\n",
      "Caroline PERSON Q186579 https://www.wikidata.org/wiki/Q186579 0.3574\n",
      "____ _  _     ____ ____ ____ ____     _ _ _ ____ ___      _  _ ___  \n",
      "|___ |\\ |     |    |  | |__/ |___     | | | |___ |__]     |\\/| |  \\ \n",
      "|___ | \\| ___ |___ |__| |  \\ |___ ___ |_|_| |___ |__] ___ |  | |__/ \n",
      "                                                                    \n",
      "\n",
      "Je m'appelle PERSON None None None\n",
      "____ _  _     ____ ____ ____ ____     _ _ _ ____ ___      _    ____ \n",
      "|___ |\\ |     |    |  | |__/ |___     | | | |___ |__]     |    | __ \n",
      "|___ | \\| ___ |___ |__| |  \\ |___ ___ |_|_| |___ |__] ___ |___ |__] \n",
      "                                                                    \n",
      "\n",
      "Je m'appelle PERSON None None None\n"
     ]
    }
   ],
   "source": [
    "read(ex)"
   ]
  },
  {
   "cell_type": "code",
   "execution_count": 19,
   "id": "b8304617",
   "metadata": {},
   "outputs": [
    {
     "name": "stdout",
     "output_type": "stream",
     "text": [
      "\\begin{tabular}{llllr}\n",
      "\\toprule\n",
      "    span & label  &                                   URL &                                                 ID &  score \\\\\n",
      "\\midrule\n",
      "Caroline &   MISC & https://www.wikidata.org/wiki/Q186579 & (\\textbackslash href\\{, https://www.wikidata.org/wiki/Q186579,... & 0.3574 \\\\\n",
      "\\bottomrule\n",
      "\\end{tabular}\n",
      "\n"
     ]
    },
    {
     "name": "stderr",
     "output_type": "stream",
     "text": [
      "/tmp/ipykernel_3694/258071835.py:20: FutureWarning: In future versions `DataFrame.to_latex` is expected to utilise the base implementation of `Styler.to_latex` for formatting and rendering. The arguments signature may therefore change. It is recommended instead to use `DataFrame.style.to_latex` which also contains additional functionality.\n",
      "  table_latex = df.to_latex(index=False)\n",
      "/tmp/ipykernel_3694/258071835.py:21: FutureWarning: In future versions `DataFrame.to_latex` is expected to utilise the base implementation of `Styler.to_latex` for formatting and rendering. The arguments signature may therefore change. It is recommended instead to use `DataFrame.style.to_latex` which also contains additional functionality.\n",
      "  latex = df.to_latex(index=False)\n"
     ]
    }
   ],
   "source": [
    "latexiser_fr(ex)"
   ]
  },
  {
   "cell_type": "markdown",
   "id": "f0475ac2",
   "metadata": {},
   "source": [
    "## Pirates des Caraibes"
   ]
  },
  {
   "cell_type": "code",
   "execution_count": 10,
   "id": "7e7473c5",
   "metadata": {},
   "outputs": [],
   "source": [
    "pirates = \"I watched the Pirates of the Caribbean last silvester\""
   ]
  },
  {
   "cell_type": "code",
   "execution_count": 11,
   "id": "7c2040b9",
   "metadata": {},
   "outputs": [
    {
     "name": "stdout",
     "output_type": "stream",
     "text": [
      "____ ____     ____ ____ ____ ____     _  _ ____ _ _ _ ____     ____ _  _ \n",
      "|___ |__/     |    |  | |__/ |___     |\\ | |___ | | | [__      [__  |\\/| \n",
      "|    |  \\ ___ |___ |__| |  \\ |___ ___ | \\| |___ |_|_| ___] ___ ___] |  | \n",
      "                                                                         \n",
      "\n",
      "____ ____     ____ ____ ____ ____     _  _ ____ _ _ _ ____     _  _ ___  \n",
      "|___ |__/     |    |  | |__/ |___     |\\ | |___ | | | [__      |\\/| |  \\ \n",
      "|    |  \\ ___ |___ |__| |  \\ |___ ___ | \\| |___ |_|_| ___] ___ |  | |__/ \n",
      "                                                                         \n",
      "\n",
      "I watched the Pirates MISC None None None\n",
      "____ ____     ____ ____ ____ ____     _  _ ____ _ _ _ ____     _    ____ \n",
      "|___ |__/     |    |  | |__/ |___     |\\ | |___ | | | [__      |    | __ \n",
      "|    |  \\ ___ |___ |__| |  \\ |___ ___ | \\| |___ |_|_| ___] ___ |___ |__] \n",
      "                                                                         \n",
      "\n",
      "I watched the MISC None None None\n",
      "____ _  _     ____ ____ ____ ____     _ _ _ ____ ___      ____ _  _ \n",
      "|___ |\\ |     |    |  | |__/ |___     | | | |___ |__]     [__  |\\/| \n",
      "|___ | \\| ___ |___ |__| |  \\ |___ ___ |_|_| |___ |__] ___ ___] |  | \n",
      "                                                                    \n",
      "\n",
      "Caribbean LOC Q664609 https://www.wikidata.org/wiki/Q664609 0.456\n",
      "____ _  _     ____ ____ ____ ____     _ _ _ ____ ___      _  _ ___  \n",
      "|___ |\\ |     |    |  | |__/ |___     | | | |___ |__]     |\\/| |  \\ \n",
      "|___ | \\| ___ |___ |__| |  \\ |___ ___ |_|_| |___ |__] ___ |  | |__/ \n",
      "                                                                    \n",
      "\n",
      "the Pirates of the Caribbean ORG None None None\n",
      "____ _  _     ____ ____ ____ ____     _ _ _ ____ ___      _    ____ \n",
      "|___ |\\ |     |    |  | |__/ |___     | | | |___ |__]     |    | __ \n",
      "|___ | \\| ___ |___ |__| |  \\ |___ ___ |_|_| |___ |__] ___ |___ |__] \n",
      "                                                                    \n",
      "\n",
      "Caribbean LOC Q664609 https://www.wikidata.org/wiki/Q664609 0.456\n"
     ]
    }
   ],
   "source": [
    "read(pirates)"
   ]
  },
  {
   "cell_type": "code",
   "execution_count": 14,
   "id": "60ff2949",
   "metadata": {},
   "outputs": [
    {
     "name": "stdout",
     "output_type": "stream",
     "text": [
      "\\begin{tabular}{lllll}\n",
      "\\toprule\n",
      "         span & label  &  URL &                          ID & score \\\\\n",
      "\\midrule\n",
      "I watched the &   MISC & None & (\\textbackslash href\\{, None, \\}\\{, None, \\}) &  None \\\\\n",
      "\\bottomrule\n",
      "\\end{tabular}\n",
      "\n"
     ]
    },
    {
     "name": "stderr",
     "output_type": "stream",
     "text": [
      "/tmp/ipykernel_3694/258071835.py:20: FutureWarning: In future versions `DataFrame.to_latex` is expected to utilise the base implementation of `Styler.to_latex` for formatting and rendering. The arguments signature may therefore change. It is recommended instead to use `DataFrame.style.to_latex` which also contains additional functionality.\n",
      "  table_latex = df.to_latex(index=False)\n",
      "/tmp/ipykernel_3694/258071835.py:21: FutureWarning: In future versions `DataFrame.to_latex` is expected to utilise the base implementation of `Styler.to_latex` for formatting and rendering. The arguments signature may therefore change. It is recommended instead to use `DataFrame.style.to_latex` which also contains additional functionality.\n",
      "  latex = df.to_latex(index=False)\n"
     ]
    }
   ],
   "source": [
    "latexiser_fr(pirates)"
   ]
  },
  {
   "cell_type": "markdown",
   "id": "07b7e681",
   "metadata": {},
   "source": [
    "# Napoléon"
   ]
  },
  {
   "cell_type": "code",
   "execution_count": 20,
   "id": "46f7ff99",
   "metadata": {},
   "outputs": [],
   "source": [
    "extrait= \"Napoléon Bonaparte a envahi la Russie en 1812\" "
   ]
  },
  {
   "cell_type": "code",
   "execution_count": 67,
   "id": "70d6c5ac",
   "metadata": {},
   "outputs": [
    {
     "name": "stdout",
     "output_type": "stream",
     "text": [
      "\\begin{tabular}{lllr}\n",
      "\\toprule\n",
      "              span & label  &                                URL &  score \\\\\n",
      "\\midrule\n",
      "Napoléon Bonaparte &    PER & https://www.wikidata.org/wiki/Q517 & 0.8908 \\\\\n",
      "            Russie &    LOC & https://www.wikidata.org/wiki/Q159 & 0.3167 \\\\\n",
      "\\bottomrule\n",
      "\\end{tabular}\n",
      "\n"
     ]
    },
    {
     "name": "stderr",
     "output_type": "stream",
     "text": [
      "/tmp/ipykernel_3911/1147971263.py:19: FutureWarning: In future versions `DataFrame.to_latex` is expected to utilise the base implementation of `Styler.to_latex` for formatting and rendering. The arguments signature may therefore change. It is recommended instead to use `DataFrame.style.to_latex` which also contains additional functionality.\n",
      "  table_latex = df.to_latex(index=False)\n",
      "/tmp/ipykernel_3911/1147971263.py:20: FutureWarning: In future versions `DataFrame.to_latex` is expected to utilise the base implementation of `Styler.to_latex` for formatting and rendering. The arguments signature may therefore change. It is recommended instead to use `DataFrame.style.to_latex` which also contains additional functionality.\n",
      "  latex = df.to_latex(index=False)\n"
     ]
    }
   ],
   "source": [
    "latexiser_fr(extrait)"
   ]
  },
  {
   "cell_type": "code",
   "execution_count": 21,
   "id": "4473bc0a",
   "metadata": {},
   "outputs": [
    {
     "name": "stdout",
     "output_type": "stream",
     "text": [
      "\\begin{tabular}{llllr}\n",
      "\\toprule\n",
      "              span & label  &                                URL &                                                 ID &  score \\\\\n",
      "\\midrule\n",
      "Napoléon Bonaparte &    PER & https://www.wikidata.org/wiki/Q517 & (\\textbackslash href\\{, https://www.wikidata.org/wiki/Q517, \\}\\{... & 0.8908 \\\\\n",
      "            Russie &    LOC & https://www.wikidata.org/wiki/Q159 & (\\textbackslash href\\{, https://www.wikidata.org/wiki/Q159, \\}\\{... & 0.3167 \\\\\n",
      "\\bottomrule\n",
      "\\end{tabular}\n",
      "\n"
     ]
    },
    {
     "name": "stderr",
     "output_type": "stream",
     "text": [
      "/tmp/ipykernel_3694/258071835.py:20: FutureWarning: In future versions `DataFrame.to_latex` is expected to utilise the base implementation of `Styler.to_latex` for formatting and rendering. The arguments signature may therefore change. It is recommended instead to use `DataFrame.style.to_latex` which also contains additional functionality.\n",
      "  table_latex = df.to_latex(index=False)\n",
      "/tmp/ipykernel_3694/258071835.py:21: FutureWarning: In future versions `DataFrame.to_latex` is expected to utilise the base implementation of `Styler.to_latex` for formatting and rendering. The arguments signature may therefore change. It is recommended instead to use `DataFrame.style.to_latex` which also contains additional functionality.\n",
      "  latex = df.to_latex(index=False)\n"
     ]
    }
   ],
   "source": [
    "latexiser_fr(extrait)"
   ]
  },
  {
   "cell_type": "code",
   "execution_count": 68,
   "id": "ee6a3760",
   "metadata": {
    "scrolled": true
   },
   "outputs": [
    {
     "name": "stdout",
     "output_type": "stream",
     "text": [
      "____ ____     ____ ____ ____ ____     _  _ ____ _ _ _ ____     ____ _  _ \n",
      "|___ |__/     |    |  | |__/ |___     |\\ | |___ | | | [__      [__  |\\/| \n",
      "|    |  \\ ___ |___ |__| |  \\ |___ ___ | \\| |___ |_|_| ___] ___ ___] |  | \n",
      "                                                                         \n",
      "\n",
      "Napoléon Bonaparte PER Q517 https://www.wikidata.org/wiki/Q517 0.8908\n",
      "Russie LOC Q159 https://www.wikidata.org/wiki/Q159 0.3167\n",
      "____ ____     ____ ____ ____ ____     _  _ ____ _ _ _ ____     _  _ ___  \n",
      "|___ |__/     |    |  | |__/ |___     |\\ | |___ | | | [__      |\\/| |  \\ \n",
      "|    |  \\ ___ |___ |__| |  \\ |___ ___ | \\| |___ |_|_| ___] ___ |  | |__/ \n",
      "                                                                         \n",
      "\n",
      "Napoléon Bonaparte PER Q517 https://www.wikidata.org/wiki/Q517 0.8908\n",
      "Russie LOC Q159 https://www.wikidata.org/wiki/Q159 0.3167\n",
      "____ ____     ____ ____ ____ ____     _  _ ____ _ _ _ ____     _    ____ \n",
      "|___ |__/     |    |  | |__/ |___     |\\ | |___ | | | [__      |    | __ \n",
      "|    |  \\ ___ |___ |__| |  \\ |___ ___ | \\| |___ |_|_| ___] ___ |___ |__] \n",
      "                                                                         \n",
      "\n",
      "Napoléon Bonaparte PER Q517 https://www.wikidata.org/wiki/Q517 0.8908\n",
      "Russie LOC Q159 https://www.wikidata.org/wiki/Q159 0.3167\n",
      "____ _  _     ____ ____ ____ ____     _ _ _ ____ ___      ____ _  _ \n",
      "|___ |\\ |     |    |  | |__/ |___     | | | |___ |__]     [__  |\\/| \n",
      "|___ | \\| ___ |___ |__| |  \\ |___ ___ |_|_| |___ |__] ___ ___] |  | \n",
      "                                                                    \n",
      "\n",
      "Napoléon Bonaparte PERSON Q517 https://www.wikidata.org/wiki/Q517 0.8908\n",
      "Russie PERSON Q159 https://www.wikidata.org/wiki/Q159 0.3167\n",
      "1812 DATE Q616868 https://www.wikidata.org/wiki/Q616868 0.385\n",
      "____ _  _     ____ ____ ____ ____     _ _ _ ____ ___      _  _ ___  \n",
      "|___ |\\ |     |    |  | |__/ |___     | | | |___ |__]     |\\/| |  \\ \n",
      "|___ | \\| ___ |___ |__| |  \\ |___ ___ |_|_| |___ |__] ___ |  | |__/ \n",
      "                                                                    \n",
      "\n",
      "Napoléon Bonaparte PERSON Q517 https://www.wikidata.org/wiki/Q517 0.8908\n",
      "Russie GPE Q159 https://www.wikidata.org/wiki/Q159 0.3167\n",
      "1812 DATE Q616868 https://www.wikidata.org/wiki/Q616868 0.385\n",
      "____ _  _     ____ ____ ____ ____     _ _ _ ____ ___      _    ____ \n",
      "|___ |\\ |     |    |  | |__/ |___     | | | |___ |__]     |    | __ \n",
      "|___ | \\| ___ |___ |__| |  \\ |___ ___ |_|_| |___ |__] ___ |___ |__] \n",
      "                                                                    \n",
      "\n",
      "Napoléon Bonaparte PERSON Q517 https://www.wikidata.org/wiki/Q517 0.8908\n",
      "Russie GPE Q159 https://www.wikidata.org/wiki/Q159 0.3167\n",
      "1812 DATE Q616868 https://www.wikidata.org/wiki/Q616868 0.385\n"
     ]
    }
   ],
   "source": [
    "extrait= \"Napoléon Bonaparte a envahi la Russie en 1812\" \n",
    "    \n",
    "read(extrait)\n"
   ]
  },
  {
   "cell_type": "code",
   "execution_count": null,
   "id": "2f0d40d7",
   "metadata": {},
   "outputs": [],
   "source": [
    "\\footnotesize{\n",
    "\\begin{tabular}{|p{2cm}|p{1cm}|p{1cm}|p{3cm}|p{2cm}|p{1cm}|}\n",
    "\\hline\n",
    "span\n",
    "& label SpaCy\n",
    "& label wikidata\n",
    "& défintion wikidata\n",
    "& url\n",
    "& certitude\n",
    "\\\\ \\hline\n",
    "Napoléon Bonaparte\n",
    "& PERSON\n",
    "& Napoleon\n",
    "& French military leader, French Emperor 1804–1814 and again in 1815\n",
    "& https://www.wikidata.org/wiki/Q517\n",
    "& 0.8908\n",
    "\\\\ \\hline\n",
    "Russie\n",
    "& GPE\n",
    "& Russia\n",
    "& sovereign state in Eastern Europe and Northern Asia\n",
    "& https://www.wikidata.org/wiki/Q159\n",
    "& 0.3167\n",
    "\\\\ \\hline\n",
    "1812\n",
    "& DATE\n",
    "& 1812 in the United States\n",
    "& USA-related events during the year of 1812\n",
    "& https://www.wikidata.org/wiki/Q616868\n",
    "& 0.385"
   ]
  },
  {
   "cell_type": "code",
   "execution_count": 22,
   "id": "2de68c7f",
   "metadata": {},
   "outputs": [],
   "source": [
    "extrait= \"Napoléon Bonaparte envaded Russia in 1812\" "
   ]
  },
  {
   "cell_type": "code",
   "execution_count": 23,
   "id": "47b32957",
   "metadata": {},
   "outputs": [
    {
     "name": "stdout",
     "output_type": "stream",
     "text": [
      "\\begin{tabular}{lllr}\n",
      "\\toprule\n",
      "              span &  label &                                   URL &  score \\\\\n",
      "\\midrule\n",
      "Napoléon Bonaparte & PERSON &    https://www.wikidata.org/wiki/Q517 & 0.8908 \\\\\n",
      "            Russia &    GPE &    https://www.wikidata.org/wiki/Q159 & 0.7091 \\\\\n",
      "              1812 &   DATE & https://www.wikidata.org/wiki/Q616868 & 0.3850 \\\\\n",
      "\\bottomrule\n",
      "\\end{tabular}\n",
      "\n"
     ]
    },
    {
     "name": "stderr",
     "output_type": "stream",
     "text": [
      "/tmp/ipykernel_3911/1437428174.py:18: FutureWarning: In future versions `DataFrame.to_latex` is expected to utilise the base implementation of `Styler.to_latex` for formatting and rendering. The arguments signature may therefore change. It is recommended instead to use `DataFrame.style.to_latex` which also contains additional functionality.\n",
      "  table_latex = df.to_latex(index=False)\n",
      "/tmp/ipykernel_3911/1437428174.py:19: FutureWarning: In future versions `DataFrame.to_latex` is expected to utilise the base implementation of `Styler.to_latex` for formatting and rendering. The arguments signature may therefore change. It is recommended instead to use `DataFrame.style.to_latex` which also contains additional functionality.\n",
      "  latex = df.to_latex(index=False)\n"
     ]
    }
   ],
   "source": [
    "latexiser_eng(extrait)"
   ]
  },
  {
   "cell_type": "code",
   "execution_count": 24,
   "id": "0f3c4536",
   "metadata": {},
   "outputs": [
    {
     "name": "stdout",
     "output_type": "stream",
     "text": [
      "____ ____     ____ ____ ____ ____     _  _ ____ _ _ _ ____     ____ _  _ \n",
      "|___ |__/     |    |  | |__/ |___     |\\ | |___ | | | [__      [__  |\\/| \n",
      "|    |  \\ ___ |___ |__| |  \\ |___ ___ | \\| |___ |_|_| ___] ___ ___] |  | \n",
      "                                                                         \n",
      "\n",
      "Napoléon Bonaparte PER Q517 https://www.wikidata.org/wiki/Q517 0.8908\n",
      "Russia PER Q159 https://www.wikidata.org/wiki/Q159 0.7091\n",
      "____ ____     ____ ____ ____ ____     _  _ ____ _ _ _ ____     _  _ ___  \n",
      "|___ |__/     |    |  | |__/ |___     |\\ | |___ | | | [__      |\\/| |  \\ \n",
      "|    |  \\ ___ |___ |__| |  \\ |___ ___ | \\| |___ |_|_| ___] ___ |  | |__/ \n",
      "                                                                         \n",
      "\n",
      "Napoléon Bonaparte PER Q517 https://www.wikidata.org/wiki/Q517 0.8908\n",
      "____ ____     ____ ____ ____ ____     _  _ ____ _ _ _ ____     _    ____ \n",
      "|___ |__/     |    |  | |__/ |___     |\\ | |___ | | | [__      |    | __ \n",
      "|    |  \\ ___ |___ |__| |  \\ |___ ___ | \\| |___ |_|_| ___] ___ |___ |__] \n",
      "                                                                         \n",
      "\n",
      "Napoléon Bonaparte envaded Russia PER None None None\n",
      "____ _  _     ____ ____ ____ ____     _ _ _ ____ ___      ____ _  _ \n",
      "|___ |\\ |     |    |  | |__/ |___     | | | |___ |__]     [__  |\\/| \n",
      "|___ | \\| ___ |___ |__| |  \\ |___ ___ |_|_| |___ |__] ___ ___] |  | \n",
      "                                                                    \n",
      "\n",
      "Napoléon Bonaparte PERSON Q517 https://www.wikidata.org/wiki/Q517 0.8908\n",
      "Russia GPE Q159 https://www.wikidata.org/wiki/Q159 0.7091\n",
      "1812 DATE Q616868 https://www.wikidata.org/wiki/Q616868 0.385\n",
      "____ _  _     ____ ____ ____ ____     _ _ _ ____ ___      _  _ ___  \n",
      "|___ |\\ |     |    |  | |__/ |___     | | | |___ |__]     |\\/| |  \\ \n",
      "|___ | \\| ___ |___ |__| |  \\ |___ ___ |_|_| |___ |__] ___ |  | |__/ \n",
      "                                                                    \n",
      "\n",
      "Napoléon Bonaparte PERSON Q517 https://www.wikidata.org/wiki/Q517 0.8908\n",
      "Russia GPE Q159 https://www.wikidata.org/wiki/Q159 0.7091\n",
      "1812 DATE Q616868 https://www.wikidata.org/wiki/Q616868 0.385\n",
      "____ _  _     ____ ____ ____ ____     _ _ _ ____ ___      _    ____ \n",
      "|___ |\\ |     |    |  | |__/ |___     | | | |___ |__]     |    | __ \n",
      "|___ | \\| ___ |___ |__| |  \\ |___ ___ |_|_| |___ |__] ___ |___ |__] \n",
      "                                                                    \n",
      "\n",
      "Napoléon Bonaparte PERSON Q517 https://www.wikidata.org/wiki/Q517 0.8908\n",
      "Russia GPE Q159 https://www.wikidata.org/wiki/Q159 0.7091\n",
      "1812 DATE Q616868 https://www.wikidata.org/wiki/Q616868 0.385\n"
     ]
    }
   ],
   "source": [
    "read(extrait)"
   ]
  },
  {
   "cell_type": "markdown",
   "id": "7b7b99da",
   "metadata": {},
   "source": [
    "# BRONTE, Wuthering heights"
   ]
  },
  {
   "cell_type": "code",
   "execution_count": 25,
   "id": "c3e33325",
   "metadata": {},
   "outputs": [],
   "source": [
    "ref = \"A Pious Discourse delivered by the Reverend Jabes Branderham, in the Chapel of Gimmerden Sough\""
   ]
  },
  {
   "cell_type": "code",
   "execution_count": 26,
   "id": "859a912f",
   "metadata": {},
   "outputs": [],
   "source": [
    "kraken = \"A Pious Discourse delisrered by the Reverend Jabes Branderham, in the Chapel of Gimmer-den Songh.\""
   ]
  },
  {
   "cell_type": "code",
   "execution_count": 27,
   "id": "209cdee5",
   "metadata": {},
   "outputs": [],
   "source": [
    "tesseractBin=\"A Pious Discourse delivered by the Reverend Jabes Branderham, in the Chapel of Gimmer-den Sough.\""
   ]
  },
  {
   "cell_type": "code",
   "execution_count": 28,
   "id": "8f06ddd4",
   "metadata": {},
   "outputs": [],
   "source": [
    "tesseractPNG =\"A Pious Discourse delivered by the Reverend Jabes Branderham, in the Chapel of Gimmer-den Sough\""
   ]
  },
  {
   "cell_type": "code",
   "execution_count": 29,
   "id": "a20b75cf",
   "metadata": {},
   "outputs": [
    {
     "name": "stdout",
     "output_type": "stream",
     "text": [
      "\\begin{tabular}{llll}\n",
      "\\toprule\n",
      "                   span &  label &  URL & score \\\\\n",
      "\\midrule\n",
      "       Jabes Branderham & PERSON & None &  None \\\\\n",
      "the Chapel of Gimmerden &    FAC & None &  None \\\\\n",
      "\\bottomrule\n",
      "\\end{tabular}\n",
      "\n"
     ]
    },
    {
     "name": "stderr",
     "output_type": "stream",
     "text": [
      "/tmp/ipykernel_3911/1437428174.py:18: FutureWarning: In future versions `DataFrame.to_latex` is expected to utilise the base implementation of `Styler.to_latex` for formatting and rendering. The arguments signature may therefore change. It is recommended instead to use `DataFrame.style.to_latex` which also contains additional functionality.\n",
      "  table_latex = df.to_latex(index=False)\n",
      "/tmp/ipykernel_3911/1437428174.py:19: FutureWarning: In future versions `DataFrame.to_latex` is expected to utilise the base implementation of `Styler.to_latex` for formatting and rendering. The arguments signature may therefore change. It is recommended instead to use `DataFrame.style.to_latex` which also contains additional functionality.\n",
      "  latex = df.to_latex(index=False)\n"
     ]
    }
   ],
   "source": [
    "latexiser_eng(ref)"
   ]
  },
  {
   "cell_type": "code",
   "execution_count": 30,
   "id": "60164d40",
   "metadata": {},
   "outputs": [
    {
     "name": "stdout",
     "output_type": "stream",
     "text": [
      "____ ____     ____ ____ ____ ____     _  _ ____ _ _ _ ____     ____ _  _ \n",
      "|___ |__/     |    |  | |__/ |___     |\\ | |___ | | | [__      [__  |\\/| \n",
      "|    |  \\ ___ |___ |__| |  \\ |___ ___ | \\| |___ |_|_| ___] ___ ___] |  | \n",
      "                                                                         \n",
      "\n",
      "____ ____     ____ ____ ____ ____     _  _ ____ _ _ _ ____     _  _ ___  \n",
      "|___ |__/     |    |  | |__/ |___     |\\ | |___ | | | [__      |\\/| |  \\ \n",
      "|    |  \\ ___ |___ |__| |  \\ |___ ___ | \\| |___ |_|_| ___] ___ |  | |__/ \n",
      "                                                                         \n",
      "\n",
      "A Pious MISC None None None\n",
      "____ ____     ____ ____ ____ ____     _  _ ____ _ _ _ ____     _    ____ \n",
      "|___ |__/     |    |  | |__/ |___     |\\ | |___ | | | [__      |    | __ \n",
      "|    |  \\ ___ |___ |__| |  \\ |___ ___ | \\| |___ |_|_| ___] ___ |___ |__] \n",
      "                                                                         \n",
      "\n",
      "A Pious Discourse delivered by the Reverend Jabes Branderham MISC None None None\n",
      "____ _  _     ____ ____ ____ ____     _ _ _ ____ ___      ____ _  _ \n",
      "|___ |\\ |     |    |  | |__/ |___     | | | |___ |__]     [__  |\\/| \n",
      "|___ | \\| ___ |___ |__| |  \\ |___ ___ |_|_| |___ |__] ___ ___] |  | \n",
      "                                                                    \n",
      "\n",
      "Jabes Branderham PERSON None None None\n",
      "Gimmerden Sough GPE None None None\n",
      "____ _  _     ____ ____ ____ ____     _ _ _ ____ ___      _  _ ___  \n",
      "|___ |\\ |     |    |  | |__/ |___     | | | |___ |__]     |\\/| |  \\ \n",
      "|___ | \\| ___ |___ |__| |  \\ |___ ___ |_|_| |___ |__] ___ |  | |__/ \n",
      "                                                                    \n",
      "\n",
      "Jabes Branderham PERSON None None None\n",
      "the Chapel of Gimmerden FAC None None None\n",
      "____ _  _     ____ ____ ____ ____     _ _ _ ____ ___      _    ____ \n",
      "|___ |\\ |     |    |  | |__/ |___     | | | |___ |__]     |    | __ \n",
      "|___ | \\| ___ |___ |__| |  \\ |___ ___ |_|_| |___ |__] ___ |___ |__] \n",
      "                                                                    \n",
      "\n",
      "Jabes Branderham PERSON None None None\n",
      "the Chapel of Gimmerden Sough FAC None None None\n"
     ]
    }
   ],
   "source": [
    "read(ref)"
   ]
  },
  {
   "cell_type": "code",
   "execution_count": null,
   "id": "fca59410",
   "metadata": {},
   "outputs": [],
   "source": [
    "& en_core_web_sm\n",
    "& en_core_web_md\n",
    "& en_core_web_lg\n",
    "\n",
    "\n",
    "Jabes Branderham\n",
    "& Jabes Branderham\n",
    "& Jabes Branderham\n",
    "& Jabes Branderham\n",
    "\n",
    "\n",
    "\n",
    "the Chapel of Gimmerden Sough\n",
    "& Gimmerden Sough\n",
    "& the Chapel of Gimmerden\n",
    "& the Chapel of Gimmerden Sough\n"
   ]
  },
  {
   "cell_type": "code",
   "execution_count": 31,
   "id": "79b30031",
   "metadata": {},
   "outputs": [
    {
     "name": "stdout",
     "output_type": "stream",
     "text": [
      "\\begin{tabular}{llll}\n",
      "\\toprule\n",
      "            span &  label &  URL & score \\\\\n",
      "\\midrule\n",
      "Jabes Branderham & PERSON & None &  None \\\\\n",
      "\\bottomrule\n",
      "\\end{tabular}\n",
      "\n"
     ]
    },
    {
     "name": "stderr",
     "output_type": "stream",
     "text": [
      "/tmp/ipykernel_3911/1437428174.py:18: FutureWarning: In future versions `DataFrame.to_latex` is expected to utilise the base implementation of `Styler.to_latex` for formatting and rendering. The arguments signature may therefore change. It is recommended instead to use `DataFrame.style.to_latex` which also contains additional functionality.\n",
      "  table_latex = df.to_latex(index=False)\n",
      "/tmp/ipykernel_3911/1437428174.py:19: FutureWarning: In future versions `DataFrame.to_latex` is expected to utilise the base implementation of `Styler.to_latex` for formatting and rendering. The arguments signature may therefore change. It is recommended instead to use `DataFrame.style.to_latex` which also contains additional functionality.\n",
      "  latex = df.to_latex(index=False)\n"
     ]
    }
   ],
   "source": [
    "latexiser_eng(kraken)"
   ]
  },
  {
   "cell_type": "code",
   "execution_count": 32,
   "id": "1aad19a2",
   "metadata": {},
   "outputs": [
    {
     "name": "stdout",
     "output_type": "stream",
     "text": [
      "____ ____     ____ ____ ____ ____     _  _ ____ _ _ _ ____     ____ _  _ \n",
      "|___ |__/     |    |  | |__/ |___     |\\ | |___ | | | [__      [__  |\\/| \n",
      "|    |  \\ ___ |___ |__| |  \\ |___ ___ | \\| |___ |_|_| ___] ___ ___] |  | \n",
      "                                                                         \n",
      "\n",
      "____ ____     ____ ____ ____ ____     _  _ ____ _ _ _ ____     _  _ ___  \n",
      "|___ |__/     |    |  | |__/ |___     |\\ | |___ | | | [__      |\\/| |  \\ \n",
      "|    |  \\ ___ |___ |__| |  \\ |___ ___ | \\| |___ |_|_| ___] ___ |  | |__/ \n",
      "                                                                         \n",
      "\n",
      "A Pious MISC None None None\n",
      "____ ____     ____ ____ ____ ____     _  _ ____ _ _ _ ____     _    ____ \n",
      "|___ |__/     |    |  | |__/ |___     |\\ | |___ | | | [__      |    | __ \n",
      "|    |  \\ ___ |___ |__| |  \\ |___ ___ | \\| |___ |_|_| ___] ___ |___ |__] \n",
      "                                                                         \n",
      "\n",
      "A Pious Discourse delisrered by the Reverend Jabes Branderham MISC None None None\n",
      "____ _  _     ____ ____ ____ ____     _ _ _ ____ ___      ____ _  _ \n",
      "|___ |\\ |     |    |  | |__/ |___     | | | |___ |__]     [__  |\\/| \n",
      "|___ | \\| ___ |___ |__| |  \\ |___ ___ |_|_| |___ |__] ___ ___] |  | \n",
      "                                                                    \n",
      "\n",
      "Jabes Branderham PERSON None None None\n",
      "Songh PERSON None None None\n",
      "____ _  _     ____ ____ ____ ____     _ _ _ ____ ___      _  _ ___  \n",
      "|___ |\\ |     |    |  | |__/ |___     | | | |___ |__]     |\\/| |  \\ \n",
      "|___ | \\| ___ |___ |__| |  \\ |___ ___ |_|_| |___ |__] ___ |  | |__/ \n",
      "                                                                    \n",
      "\n",
      "Jabes Branderham PERSON None None None\n",
      "____ _  _     ____ ____ ____ ____     _ _ _ ____ ___      _    ____ \n",
      "|___ |\\ |     |    |  | |__/ |___     | | | |___ |__]     |    | __ \n",
      "|___ | \\| ___ |___ |__| |  \\ |___ ___ |_|_| |___ |__] ___ |___ |__] \n",
      "                                                                    \n",
      "\n",
      "Jabes Branderham PERSON None None None\n",
      "Songh PERSON None None None\n"
     ]
    }
   ],
   "source": [
    "read(kraken)"
   ]
  },
  {
   "cell_type": "code",
   "execution_count": null,
   "id": "7c21dab5",
   "metadata": {},
   "outputs": [],
   "source": [
    "\\begin{tabular}{p{5cm}p{5cm}}\n",
    "référence\n",
    "& Kraken\n",
    "\\\\\n",
    "      A Pious Discourse delivered by the \\textcolor{red}{Reverend Jabes Branderham}, in the \\textcolor{red}{Chapel of  Gimmerden Sough}\n",
    "    \n",
    "     & A Pious Discoursedelisrered by the Reverend \\textcolor{red}{Jabes Branderham}, in the Chapel of Gimmer-den Songh\n",
    "         \n",
    "\\end{tabular}\n",
    "\\footnotesize{\n",
    "\\begin{tabular}{|p{4cm}|p{1cm}|p{1cm}|p{1cm}|}\n",
    "\\hline\n",
    "\n",
    "span\n",
    "& label SpaCy\n",
    "& référence\n",
    "& kraken\n",
    "\n",
    "\\\\ \\hline\n",
    "Jabes Branderham\n",
    "& PERSON\n",
    "& oui\n",
    "& oui\n",
    "\\\\\\hline\n",
    "the Chapel of Gimmerden\n",
    "& FAC\n",
    "& oui\n",
    "& non\n",
    "\\\\\\hline\n",
    "\n",
    "\n",
    "\\end{tabular}"
   ]
  },
  {
   "cell_type": "markdown",
   "id": "4c6df6fe",
   "metadata": {},
   "source": [
    "# AINSWORTH"
   ]
  },
  {
   "cell_type": "code",
   "execution_count": 95,
   "id": "010e25ea",
   "metadata": {},
   "outputs": [],
   "source": [
    "ref = \"he declares he lived in Queen Bess’s time, recollects King Charles bein’ beheaded perfectly vell, and remembers the Great Fire o’ London” \""
   ]
  },
  {
   "cell_type": "code",
   "execution_count": 96,
   "id": "2a08e811",
   "metadata": {},
   "outputs": [],
   "source": [
    "kraken = \"e declares ho lired in (Queen Bess's time, recollects Iing Charles bein' beheaded perfectly vell, and remembers,the Great Fire o' London\""
   ]
  },
  {
   "cell_type": "code",
   "execution_count": 97,
   "id": "800469ab",
   "metadata": {},
   "outputs": [],
   "source": [
    "tesseractBIN = \"he declares he lived in Queen Bess’s time, recollects King Charles bein’ beheaded perfectly vell, and remembers the Great Fire o’ London, as if it only occurred yester-day.\""
   ]
  },
  {
   "cell_type": "code",
   "execution_count": 98,
   "id": "26751df3",
   "metadata": {},
   "outputs": [],
   "source": [
    "tesseractPNG = \"he declares he lived in Queen Bess’s time, recollects King Charles bein’ beheaded perfectly vell, and remembers the Great Fire o’ London\""
   ]
  },
  {
   "cell_type": "code",
   "execution_count": 99,
   "id": "4404b2c1",
   "metadata": {},
   "outputs": [
    {
     "name": "stdout",
     "output_type": "stream",
     "text": [
      "\\begin{tabular}{lllr}\n",
      "\\toprule\n",
      "             span &  label &                                  URL &  score \\\\\n",
      "\\midrule\n",
      "     Queen Bess’s & PERSON &                                 None &    NaN \\\\\n",
      "     King Charles & PERSON & https://www.wikidata.org/wiki/Q81506 & 0.3781 \\\\\n",
      "             vell &    ORG & https://www.wikidata.org/wiki/Q44907 & 0.1469 \\\\\n",
      "the Great Fire o’ &  EVENT &                                 None &    NaN \\\\\n",
      "           London &    GPE &    https://www.wikidata.org/wiki/Q84 & 0.4563 \\\\\n",
      "\\bottomrule\n",
      "\\end{tabular}\n",
      "\n"
     ]
    },
    {
     "name": "stderr",
     "output_type": "stream",
     "text": [
      "/tmp/ipykernel_3911/1437428174.py:18: FutureWarning: In future versions `DataFrame.to_latex` is expected to utilise the base implementation of `Styler.to_latex` for formatting and rendering. The arguments signature may therefore change. It is recommended instead to use `DataFrame.style.to_latex` which also contains additional functionality.\n",
      "  table_latex = df.to_latex(index=False)\n",
      "/tmp/ipykernel_3911/1437428174.py:19: FutureWarning: In future versions `DataFrame.to_latex` is expected to utilise the base implementation of `Styler.to_latex` for formatting and rendering. The arguments signature may therefore change. It is recommended instead to use `DataFrame.style.to_latex` which also contains additional functionality.\n",
      "  latex = df.to_latex(index=False)\n"
     ]
    }
   ],
   "source": [
    "latexiser_eng(ref)"
   ]
  },
  {
   "cell_type": "code",
   "execution_count": 100,
   "id": "1698c76c",
   "metadata": {},
   "outputs": [
    {
     "name": "stdout",
     "output_type": "stream",
     "text": [
      "\\begin{tabular}{lllr}\n",
      "\\toprule\n",
      "             span &  label &                                  URL &  score \\\\\n",
      "\\midrule\n",
      "         ho lired & PERSON &                                 None &    NaN \\\\\n",
      "     Iing Charles &    ORG &                                 None &    NaN \\\\\n",
      "             vell &    ORG & https://www.wikidata.org/wiki/Q44907 & 0.1469 \\\\\n",
      "the Great Fire o' &  EVENT &                                 None &    NaN \\\\\n",
      "           London &    GPE &    https://www.wikidata.org/wiki/Q84 & 0.4563 \\\\\n",
      "\\bottomrule\n",
      "\\end{tabular}\n",
      "\n"
     ]
    },
    {
     "name": "stderr",
     "output_type": "stream",
     "text": [
      "/tmp/ipykernel_3911/1437428174.py:18: FutureWarning: In future versions `DataFrame.to_latex` is expected to utilise the base implementation of `Styler.to_latex` for formatting and rendering. The arguments signature may therefore change. It is recommended instead to use `DataFrame.style.to_latex` which also contains additional functionality.\n",
      "  table_latex = df.to_latex(index=False)\n",
      "/tmp/ipykernel_3911/1437428174.py:19: FutureWarning: In future versions `DataFrame.to_latex` is expected to utilise the base implementation of `Styler.to_latex` for formatting and rendering. The arguments signature may therefore change. It is recommended instead to use `DataFrame.style.to_latex` which also contains additional functionality.\n",
      "  latex = df.to_latex(index=False)\n"
     ]
    }
   ],
   "source": [
    "latexiser_eng(kraken)"
   ]
  },
  {
   "cell_type": "code",
   "execution_count": 41,
   "id": "dd53bb8c",
   "metadata": {
    "scrolled": true
   },
   "outputs": [
    {
     "name": "stdout",
     "output_type": "stream",
     "text": [
      "____ ____     ____ ____ ____ ____     _  _ ____ _ _ _ ____     ____ _  _ \n",
      "|___ |__/     |    |  | |__/ |___     |\\ | |___ | | | [__      [__  |\\/| \n",
      "|    |  \\ ___ |___ |__| |  \\ |___ ___ | \\| |___ |_|_| ___] ___ ___] |  | \n",
      "                                                                         \n",
      "\n",
      "Queen Bess’ MISC None None None\n",
      "King Charles bein’ beheaded PER None None None\n",
      "vell ORG None None None\n",
      "____ ____     ____ ____ ____ ____     _  _ ____ _ _ _ ____     _  _ ___  \n",
      "|___ |__/     |    |  | |__/ |___     |\\ | |___ | | | [__      |\\/| |  \\ \n",
      "|    |  \\ ___ |___ |__| |  \\ |___ ___ | \\| |___ |_|_| ___] ___ |  | |__/ \n",
      "                                                                         \n",
      "\n",
      "Queen Bess’ MISC None None None\n",
      "King Charles PER Q81506 https://www.wikidata.org/wiki/Q81506 0.3781\n",
      "vell ORG Q44907 https://www.wikidata.org/wiki/Q44907 0.1469\n",
      "and remembers the Great Fire o’ London ORG None None None\n",
      "____ ____     ____ ____ ____ ____     _  _ ____ _ _ _ ____     _    ____ \n",
      "|___ |__/     |    |  | |__/ |___     |\\ | |___ | | | [__      |    | __ \n",
      "|    |  \\ ___ |___ |__| |  \\ |___ ___ | \\| |___ |_|_| ___] ___ |___ |__] \n",
      "                                                                         \n",
      "\n",
      "he declares MISC None None None\n",
      "Charles bein’ beheaded PER None None None\n",
      "vell ORG None None None\n",
      "the Great Fire o’ London” MISC None None None\n",
      "____ _  _     ____ ____ ____ ____     _ _ _ ____ ___      ____ _  _ \n",
      "|___ |\\ |     |    |  | |__/ |___     | | | |___ |__]     [__  |\\/| \n",
      "|___ | \\| ___ |___ |__| |  \\ |___ ___ |_|_| |___ |__] ___ ___] |  | \n",
      "                                                                    \n",
      "\n",
      "Queen Bess’s ORG None None None\n",
      "Charles PERSON Q289172 https://www.wikidata.org/wiki/Q289172 0.3402\n",
      "the Great Fire FAC Q4555174 https://www.wikidata.org/wiki/Q4555174 0.3403\n",
      "London GPE Q84 https://www.wikidata.org/wiki/Q84 0.4563\n",
      "____ _  _     ____ ____ ____ ____     _ _ _ ____ ___      _  _ ___  \n",
      "|___ |\\ |     |    |  | |__/ |___     | | | |___ |__]     |\\/| |  \\ \n",
      "|___ | \\| ___ |___ |__| |  \\ |___ ___ |_|_| |___ |__] ___ |  | |__/ \n",
      "                                                                    \n",
      "\n",
      "Queen Bess’s PERSON None None None\n",
      "King Charles PERSON Q81506 https://www.wikidata.org/wiki/Q81506 0.3781\n",
      "vell ORG Q44907 https://www.wikidata.org/wiki/Q44907 0.1469\n",
      "the Great Fire o’ EVENT None None None\n",
      "London GPE Q84 https://www.wikidata.org/wiki/Q84 0.4563\n",
      "____ _  _     ____ ____ ____ ____     _ _ _ ____ ___      _    ____ \n",
      "|___ |\\ |     |    |  | |__/ |___     | | | |___ |__]     |    | __ \n",
      "|___ | \\| ___ |___ |__| |  \\ |___ ___ |_|_| |___ |__] ___ |___ |__] \n",
      "                                                                    \n",
      "\n",
      "Bess PERSON Q233652 https://www.wikidata.org/wiki/Q233652 0.3474\n",
      "King Charles PERSON Q81506 https://www.wikidata.org/wiki/Q81506 0.3781\n",
      "vell ORG Q44907 https://www.wikidata.org/wiki/Q44907 0.1469\n",
      "London GPE Q84 https://www.wikidata.org/wiki/Q84 0.4563\n"
     ]
    }
   ],
   "source": [
    "read(ref)"
   ]
  },
  {
   "cell_type": "code",
   "execution_count": null,
   "id": "ea59a5ee",
   "metadata": {},
   "outputs": [],
   "source": [
    "\n",
    "Russia GPE Q159 https://www.wikidata.org/wiki/Q159 0.7091\\footnotesize{\n",
    "\\begin{tabular}{|p{2cm}|p{1cm}|p{1cm}|p{3cm}|p{2cm}|p{1cm}|}\n",
    "\\hline\n",
    "span\n",
    "& label SpaCy\n",
    "& label wikidata\n",
    "& défintion wikidata\n",
    "& url\n",
    "& certitude\n",
    "\\\\ \\hline\n",
    "Queen Bess’s\n",
    "& PERSON\n",
    "& None\n",
    "& None\n",
    "& None\n",
    "\\\\ \\hline\n",
    "King Charles\n",
    "& PERSON\n",
    "& Charles I of England\n",
    "& monarch of the three kingdoms of England, Scotland, and Ireland (1600-1649)\n",
    "& https://www.wikidata.org/wiki/Q81506\n",
    "& 0.3781\n",
    "\\\\ \\hline\n",
    "vell\n",
    "& ORG\n",
    "& José Mariano de Conceição Vellozo\n",
    "& Brazilian botanist (1742-1811)\n",
    "& https://www.wikidata.org/wiki/Q44907\n",
    "& 0.1469\n",
    "\\\\ \\hline\n",
    "the Great Fire o’\n",
    "EVENT\n",
    "None\n",
    "None\n",
    "None\n",
    "None\n",
    "\\\\ \\hline\n",
    "London\n",
    "& GPE\n",
    "& London\n",
    "& capital and largest city of the United Kingdom\n",
    "& https://www.wikidata.org/wiki/Q84\n",
    "& 0.4563\n",
    "\\\\ \\hline\n"
   ]
  },
  {
   "cell_type": "code",
   "execution_count": 43,
   "id": "3f02a0e9",
   "metadata": {},
   "outputs": [
    {
     "name": "stdout",
     "output_type": "stream",
     "text": [
      "\\begin{tabular}{lllr}\n",
      "\\toprule\n",
      "             span &  label &                                  URL &  score \\\\\n",
      "\\midrule\n",
      "         ho lired & PERSON &                                 None &    NaN \\\\\n",
      "     Iing Charles &    ORG &                                 None &    NaN \\\\\n",
      "             vell &    ORG & https://www.wikidata.org/wiki/Q44907 & 0.1469 \\\\\n",
      "the Great Fire o' &  EVENT &                                 None &    NaN \\\\\n",
      "           London &    GPE &    https://www.wikidata.org/wiki/Q84 & 0.4563 \\\\\n",
      "\\bottomrule\n",
      "\\end{tabular}\n",
      "\n"
     ]
    },
    {
     "name": "stderr",
     "output_type": "stream",
     "text": [
      "/tmp/ipykernel_3911/1437428174.py:18: FutureWarning: In future versions `DataFrame.to_latex` is expected to utilise the base implementation of `Styler.to_latex` for formatting and rendering. The arguments signature may therefore change. It is recommended instead to use `DataFrame.style.to_latex` which also contains additional functionality.\n",
      "  table_latex = df.to_latex(index=False)\n",
      "/tmp/ipykernel_3911/1437428174.py:19: FutureWarning: In future versions `DataFrame.to_latex` is expected to utilise the base implementation of `Styler.to_latex` for formatting and rendering. The arguments signature may therefore change. It is recommended instead to use `DataFrame.style.to_latex` which also contains additional functionality.\n",
      "  latex = df.to_latex(index=False)\n"
     ]
    }
   ],
   "source": [
    "latexiser_eng(kraken)"
   ]
  },
  {
   "cell_type": "code",
   "execution_count": 44,
   "id": "37efc882",
   "metadata": {},
   "outputs": [
    {
     "name": "stdout",
     "output_type": "stream",
     "text": [
      "____ ____     ____ ____ ____ ____     _  _ ____ _ _ _ ____     ____ _  _ \n",
      "|___ |__/     |    |  | |__/ |___     |\\ | |___ | | | [__      [__  |\\/| \n",
      "|    |  \\ ___ |___ |__| |  \\ |___ ___ | \\| |___ |_|_| ___] ___ ___] |  | \n",
      "                                                                         \n",
      "\n",
      "ho lired in MISC None None None\n",
      "Queen Bess' MISC None None None\n",
      "Iing Charles bein' beheaded PER None None None\n",
      "vell ORG None None None\n",
      "the Great Fire o' MISC None None None\n",
      "____ ____     ____ ____ ____ ____     _  _ ____ _ _ _ ____     _  _ ___  \n",
      "|___ |__/     |    |  | |__/ |___     |\\ | |___ | | | [__      |\\/| |  \\ \n",
      "|    |  \\ ___ |___ |__| |  \\ |___ ___ | \\| |___ |_|_| ___] ___ |  | |__/ \n",
      "                                                                         \n",
      "\n",
      "ho lired in PER None None None\n",
      "Queen Bess' MISC None None None\n",
      "Iing Charles PER None None None\n",
      "vell ORG None None None\n",
      "and remembers PER None None None\n",
      "the Great Fire o' London MISC None None None\n",
      "____ ____     ____ ____ ____ ____     _  _ ____ _ _ _ ____     _    ____ \n",
      "|___ |__/     |    |  | |__/ |___     |\\ | |___ | | | [__      |    | __ \n",
      "|    |  \\ ___ |___ |__| |  \\ |___ ___ | \\| |___ |_|_| ___] ___ |___ |__] \n",
      "                                                                         \n",
      "\n",
      "Queen Bess's time MISC None None None\n",
      "Iing ORG None None None\n",
      "Charles bein' beheaded PER None None None\n",
      "vell ORG None None None\n",
      "the Great Fire o' London MISC None None None\n",
      "____ _  _     ____ ____ ____ ____     _ _ _ ____ ___      ____ _  _ \n",
      "|___ |\\ |     |    |  | |__/ |___     | | | |___ |__]     [__  |\\/| \n",
      "|___ | \\| ___ |___ |__| |  \\ |___ ___ |_|_| |___ |__] ___ ___] |  | \n",
      "                                                                    \n",
      "\n",
      "Queen Bess's ORG None None None\n",
      "the Great Fire FAC Q4555174 https://www.wikidata.org/wiki/Q4555174 0.3403\n",
      "London GPE Q84 https://www.wikidata.org/wiki/Q84 0.4563\n",
      "____ _  _     ____ ____ ____ ____     _ _ _ ____ ___      _  _ ___  \n",
      "|___ |\\ |     |    |  | |__/ |___     | | | |___ |__]     |\\/| |  \\ \n",
      "|___ | \\| ___ |___ |__| |  \\ |___ ___ |_|_| |___ |__] ___ |  | |__/ \n",
      "                                                                    \n",
      "\n",
      "ho lired PERSON None None None\n",
      "Iing Charles ORG None None None\n",
      "vell ORG Q44907 https://www.wikidata.org/wiki/Q44907 0.1469\n",
      "the Great Fire o' EVENT None None None\n",
      "London GPE Q84 https://www.wikidata.org/wiki/Q84 0.4563\n",
      "____ _  _     ____ ____ ____ ____     _ _ _ ____ ___      _    ____ \n",
      "|___ |\\ |     |    |  | |__/ |___     | | | |___ |__]     |    | __ \n",
      "|___ | \\| ___ |___ |__| |  \\ |___ ___ |_|_| |___ |__] ___ |___ |__] \n",
      "                                                                    \n",
      "\n",
      "ho lired PERSON None None None\n",
      "Iing Charles ORG None None None\n",
      "vell ORG Q44907 https://www.wikidata.org/wiki/Q44907 0.1469\n",
      "the Great Fire o' EVENT None None None\n",
      "London GPE Q84 https://www.wikidata.org/wiki/Q84 0.4563\n"
     ]
    }
   ],
   "source": [
    "read(kraken)"
   ]
  },
  {
   "cell_type": "code",
   "execution_count": null,
   "id": "76b4368d",
   "metadata": {},
   "outputs": [],
   "source": [
    "\\footnotesize{\n",
    "\\begin{tabular}{|p{2cm}|p{1cm}|p{1cm}|p{3cm}|p{2cm}|p{1cm}|}\n",
    "\\hline\n",
    "span\n",
    "& label SpaCy\n",
    "& label wikidata\n",
    "& défintion wikidata\n",
    "& url\n",
    "& certitude\n",
    "\\\\ \\hline\n",
    "\n",
    "ho lired\n",
    "& PERSON\n",
    "& None\n",
    "& None\n",
    "& None\n",
    "\\\\ \\hline\n",
    "Iing Charles\n",
    "& ORG\n",
    "& None\n",
    "& None\n",
    "& None\n",
    "\\\\ \\hline\n",
    "Queen Bess’s\n",
    "& PERSON\n",
    "& None\n",
    "& None\n",
    "& None\n",
    "\\\\ \\hline\n",
    "King Charles\n",
    "& PERSON\n",
    "& Charles I of England\n",
    "& monarch of the three kingdoms of England, Scotland, and Ireland (1600-1649)\n",
    "& https://www.wikidata.org/wiki/Q81506\n",
    "& 0.3781\n",
    "\\\\ \\hline\n",
    "vell\n",
    "& ORG\n",
    "& José Mariano de Conceição Vellozo\n",
    "& Brazilian botanist (1742-1811)\n",
    "& https://www.wikidata.org/wiki/Q44907\n",
    "& 0.1469\n",
    "\\\\ \\hline\n",
    "the Great Fire o’\n",
    "EVENT\n",
    "None\n",
    "None\n",
    "None\n",
    "None\n",
    "\\\\ \\hline\n",
    "London\n",
    "& GPE\n",
    "& London\n",
    "& capital and largest city of the United Kingdom\n",
    "& https://www.wikidata.org/wiki/Q84\n",
    "& 0.4563\n",
    "\\\\ \\hline"
   ]
  },
  {
   "cell_type": "markdown",
   "id": "4161b638",
   "metadata": {},
   "source": [
    "# Maupassant"
   ]
  },
  {
   "cell_type": "code",
   "execution_count": null,
   "id": "492a4912",
   "metadata": {},
   "outputs": [],
   "source": []
  },
  {
   "cell_type": "code",
   "execution_count": null,
   "id": "20a6fc58",
   "metadata": {},
   "outputs": [],
   "source": [
    "#ref = \"Ils gagnèrent Livourne, visitèrent Florence, Gênes, toute la Corniche.\" "
   ]
  },
  {
   "cell_type": "code",
   "execution_count": 75,
   "id": "e2d55732",
   "metadata": {},
   "outputs": [],
   "source": [
    "ref = \"Le baron Simon-Jacques Le Perthuis des Vauds était un gentilhomme de l'autre siècle, maniaque et bon. Disciple enthousiaste de J. -J. Rousseau, il avait des tendresses d'amant pour la nature, les champs, les bois, les bêtes.\""
   ]
  },
  {
   "cell_type": "code",
   "execution_count": 101,
   "id": "09852277",
   "metadata": {},
   "outputs": [],
   "source": [
    "kraken = \" Le baron Simon-lacques Le Perthuis des Vauds etait un gentilhomme de l'autre siecle, maniaque etbon. Disciple enthousiaste de J.-J. Rousseau, il avaitdes tendresses d'amant pour la nature, les champs, les bois, les betes.\""
   ]
  },
  {
   "cell_type": "code",
   "execution_count": 77,
   "id": "a4f1a5fa",
   "metadata": {},
   "outputs": [
    {
     "name": "stdout",
     "output_type": "stream",
     "text": [
      "\\begin{tabular}{lllr}\n",
      "\\toprule\n",
      "                               span & label  &                                    URL &  score \\\\\n",
      "\\midrule\n",
      "Simon-Jacques Le Perthuis des Vauds &    PER &                                   None &    NaN \\\\\n",
      "                           Disciple &    PER & https://www.wikidata.org/wiki/Q1228422 & 0.4192 \\\\\n",
      "                                 J. &    PER &  https://www.wikidata.org/wiki/Q322947 & 0.3135 \\\\\n",
      "                           Rousseau &    PER &    https://www.wikidata.org/wiki/Q6527 & 0.4296 \\\\\n",
      "\\bottomrule\n",
      "\\end{tabular}\n",
      "\n"
     ]
    },
    {
     "name": "stderr",
     "output_type": "stream",
     "text": [
      "/tmp/ipykernel_3911/1147971263.py:19: FutureWarning: In future versions `DataFrame.to_latex` is expected to utilise the base implementation of `Styler.to_latex` for formatting and rendering. The arguments signature may therefore change. It is recommended instead to use `DataFrame.style.to_latex` which also contains additional functionality.\n",
      "  table_latex = df.to_latex(index=False)\n",
      "/tmp/ipykernel_3911/1147971263.py:20: FutureWarning: In future versions `DataFrame.to_latex` is expected to utilise the base implementation of `Styler.to_latex` for formatting and rendering. The arguments signature may therefore change. It is recommended instead to use `DataFrame.style.to_latex` which also contains additional functionality.\n",
      "  latex = df.to_latex(index=False)\n"
     ]
    }
   ],
   "source": [
    "latexiser_fr(ref)"
   ]
  },
  {
   "cell_type": "code",
   "execution_count": 57,
   "id": "72e3c963",
   "metadata": {},
   "outputs": [
    {
     "name": "stdout",
     "output_type": "stream",
     "text": [
      "____ ____     ____ ____ ____ ____     _  _ ____ _ _ _ ____     ____ _  _ \n",
      "|___ |__/     |    |  | |__/ |___     |\\ | |___ | | | [__      [__  |\\/| \n",
      "|    |  \\ ___ |___ |__| |  \\ |___ ___ | \\| |___ |_|_| ___] ___ ___] |  | \n",
      "                                                                         \n",
      "\n",
      "Simon-Jacques PER None None None\n",
      "J. -J. Rousseau PER None None None\n",
      "____ ____     ____ ____ ____ ____     _  _ ____ _ _ _ ____     _  _ ___  \n",
      "|___ |__/     |    |  | |__/ |___     |\\ | |___ | | | [__      |\\/| |  \\ \n",
      "|    |  \\ ___ |___ |__| |  \\ |___ ___ | \\| |___ |_|_| ___] ___ |  | |__/ \n",
      "                                                                         \n",
      "\n",
      "Simon-Jacques Le Perthuis des Vauds PER None None None\n",
      "Disciple PER Q1228422 https://www.wikidata.org/wiki/Q1228422 0.4192\n",
      "J. PER Q322947 https://www.wikidata.org/wiki/Q322947 0.3135\n",
      "Rousseau PER Q6527 https://www.wikidata.org/wiki/Q6527 0.4296\n",
      "____ ____     ____ ____ ____ ____     _  _ ____ _ _ _ ____     _    ____ \n",
      "|___ |__/     |    |  | |__/ |___     |\\ | |___ | | | [__      |    | __ \n",
      "|    |  \\ ___ |___ |__| |  \\ |___ ___ | \\| |___ |_|_| ___] ___ |___ |__] \n",
      "                                                                         \n",
      "\n",
      "Simon-Jacques Le Perthuis des Vauds PER None None None\n",
      "Disciple PER Q1228422 https://www.wikidata.org/wiki/Q1228422 0.4192\n",
      "J. PER Q322947 https://www.wikidata.org/wiki/Q322947 0.3135\n",
      "Rousseau PER Q6527 https://www.wikidata.org/wiki/Q6527 0.4296\n",
      "____ _  _     ____ ____ ____ ____     _ _ _ ____ ___      ____ _  _ \n",
      "|___ |\\ |     |    |  | |__/ |___     | | | |___ |__]     [__  |\\/| \n",
      "|___ | \\| ___ |___ |__| |  \\ |___ ___ |_|_| |___ |__] ___ ___] |  | \n",
      "                                                                    \n",
      "\n",
      "Simon-Jacques Le Perthuis PERSON None None None\n",
      "gentilhomme de l'autre siècle PERSON None None None\n",
      "de J. -J. Rousseau PERSON None None None\n",
      "____ _  _     ____ ____ ____ ____     _ _ _ ____ ___      _  _ ___  \n",
      "|___ |\\ |     |    |  | |__/ |___     | | | |___ |__]     |\\/| |  \\ \n",
      "|___ | \\| ___ |___ |__| |  \\ |___ ___ |_|_| |___ |__] ___ |  | |__/ \n",
      "                                                                    \n",
      "\n",
      "Simon-Jacques Le Perthuis des Vauds PERSON None None None\n",
      "maniaque et bon ORG None None None\n",
      "J. -J. Rousseau PERSON None None None\n",
      "____ _  _     ____ ____ ____ ____     _ _ _ ____ ___      _    ____ \n",
      "|___ |\\ |     |    |  | |__/ |___     | | | |___ |__]     |    | __ \n",
      "|___ | \\| ___ |___ |__| |  \\ |___ ___ |_|_| |___ |__] ___ |___ |__] \n",
      "                                                                    \n",
      "\n",
      "Simon-Jacques Le Perthuis des Vauds était un PERSON None None None\n",
      "gentilhomme de l'autre siècle PERSON None None None\n",
      "il avait des tendresses d'amant PERSON None None None\n"
     ]
    }
   ],
   "source": [
    "read(ref)"
   ]
  },
  {
   "cell_type": "code",
   "execution_count": 102,
   "id": "9c75f7bb",
   "metadata": {},
   "outputs": [
    {
     "name": "stdout",
     "output_type": "stream",
     "text": [
      "\\begin{tabular}{lllr}\n",
      "\\toprule\n",
      "                 span & label  &                                    URL &  score \\\\\n",
      "\\midrule\n",
      "        Simon-lacques &    PER &                                   None &    NaN \\\\\n",
      "Le Perthuis des Vauds &   MISC &                                   None &    NaN \\\\\n",
      "             Disciple &    PER & https://www.wikidata.org/wiki/Q1228422 & 0.5178 \\\\\n",
      "       J.-J. Rousseau &    PER &    https://www.wikidata.org/wiki/Q6527 & 0.8408 \\\\\n",
      "\\bottomrule\n",
      "\\end{tabular}\n",
      "\n"
     ]
    },
    {
     "name": "stderr",
     "output_type": "stream",
     "text": [
      "/tmp/ipykernel_3911/1147971263.py:19: FutureWarning: In future versions `DataFrame.to_latex` is expected to utilise the base implementation of `Styler.to_latex` for formatting and rendering. The arguments signature may therefore change. It is recommended instead to use `DataFrame.style.to_latex` which also contains additional functionality.\n",
      "  table_latex = df.to_latex(index=False)\n",
      "/tmp/ipykernel_3911/1147971263.py:20: FutureWarning: In future versions `DataFrame.to_latex` is expected to utilise the base implementation of `Styler.to_latex` for formatting and rendering. The arguments signature may therefore change. It is recommended instead to use `DataFrame.style.to_latex` which also contains additional functionality.\n",
      "  latex = df.to_latex(index=False)\n"
     ]
    }
   ],
   "source": [
    "latexiser_fr(kraken)"
   ]
  },
  {
   "cell_type": "code",
   "execution_count": 20,
   "id": "325662ee",
   "metadata": {},
   "outputs": [
    {
     "name": "stdout",
     "output_type": "stream",
     "text": [
      "____ ____     ____ ____ ____ ____     _  _ ____ _ _ _ ____     ____ _  _ \n",
      "|___ |__/     |    |  | |__/ |___     |\\ | |___ | | | [__      [__  |\\/| \n",
      "|    |  \\ ___ |___ |__| |  \\ |___ ___ | \\| |___ |_|_| ___] ___ ___] |  | \n",
      "                                                                         \n",
      "\n",
      "('Simon-lacques', 'PERSON', None, None, None)\n",
      "('un', 'ORG', None, None, None)\n",
      "('maniaque etbon', 'ORG', None, None, None)\n",
      "('J.-J. Rousseau', 'PERSON', 'Q6527', 'https://www.wikidata.org/wiki/Q6527', 0.8408)\n",
      "('il avaitdes', 'ORG', None, None, None)\n",
      "____ ____     ____ ____ ____ ____     _  _ ____ _ _ _ ____     _    ____ \n",
      "|___ |__/     |    |  | |__/ |___     |\\ | |___ | | | [__      |    | __ \n",
      "|    |  \\ ___ |___ |__| |  \\ |___ ___ | \\| |___ |_|_| ___] ___ |___ |__] \n",
      "                                                                         \n",
      "\n",
      "('Simon-lacques', 'PERSON', None, None, None)\n",
      "('un', 'ORG', None, None, None)\n",
      "('maniaque etbon', 'ORG', None, None, None)\n",
      "('J.-J. Rousseau', 'PERSON', 'Q6527', 'https://www.wikidata.org/wiki/Q6527', 0.8408)\n",
      "('il avaitdes', 'ORG', None, None, None)\n",
      "____ _  _     ____ ____ ____ ____     _ _ _ ____ ___      ____ _  _ \n",
      "|___ |\\ |     |    |  | |__/ |___     | | | |___ |__]     [__  |\\/| \n",
      "|___ | \\| ___ |___ |__| |  \\ |___ ___ |_|_| |___ |__] ___ ___] |  | \n",
      "                                                                    \n",
      "\n",
      "('Simon-lacques', 'PERSON', None, None, None)\n",
      "('un', 'ORG', None, None, None)\n",
      "('maniaque etbon', 'ORG', None, None, None)\n",
      "('J.-J. Rousseau', 'PERSON', 'Q6527', 'https://www.wikidata.org/wiki/Q6527', 0.8408)\n",
      "('il avaitdes', 'ORG', None, None, None)\n",
      "____ _  _     ____ ____ ____ ____     _ _ _ ____ ___      _    ____ \n",
      "|___ |\\ |     |    |  | |__/ |___     | | | |___ |__]     |    | __ \n",
      "|___ | \\| ___ |___ |__| |  \\ |___ ___ |_|_| |___ |__] ___ |___ |__] \n",
      "                                                                    \n",
      "\n",
      "('Simon-lacques', 'PERSON', None, None, None)\n",
      "('un', 'ORG', None, None, None)\n",
      "('maniaque etbon', 'ORG', None, None, None)\n",
      "('J.-J. Rousseau', 'PERSON', 'Q6527', 'https://www.wikidata.org/wiki/Q6527', 0.8408)\n",
      "('il avaitdes', 'ORG', None, None, None)\n",
      "____ _  _     ____ ____ ____ ____     _ _ _ ____ ___      _  _ ___  \n",
      "|___ |\\ |     |    |  | |__/ |___     | | | |___ |__]     |\\/| |  \\ \n",
      "|___ | \\| ___ |___ |__| |  \\ |___ ___ |_|_| |___ |__] ___ |  | |__/ \n",
      "                                                                    \n",
      "\n",
      "('Simon-lacques', 'PERSON', None, None, None)\n",
      "('un', 'ORG', None, None, None)\n",
      "('maniaque etbon', 'ORG', None, None, None)\n",
      "('J.-J. Rousseau', 'PERSON', 'Q6527', 'https://www.wikidata.org/wiki/Q6527', 0.8408)\n",
      "('il avaitdes', 'ORG', None, None, None)\n"
     ]
    }
   ],
   "source": [
    "read(kraken)"
   ]
  },
  {
   "cell_type": "code",
   "execution_count": null,
   "id": "675749af",
   "metadata": {},
   "outputs": [],
   "source": [
    "\\footnotesize{\n",
    "\\begin{tabular}{|p{2cm}|p{1cm}|p{1cm}|p{3cm}|p{2cm}|p{1cm}|}\n",
    "\\hline\n",
    "span\n",
    "& label SpaCy\n",
    "& label wikidata\n",
    "& défintion wikidata\n",
    "& url\n",
    "& certitude\n",
    "\\\\ \\hline\n",
    "Simon-lacques', 'PERSON', None, None, None)\n",
    "\\\\ \\hline\n",
    "un\n",
    "ORG\n",
    "None\n",
    "None\n",
    "None\n",
    "\\\\ \\hline\n",
    "maniaque etbon\n",
    "ORG\n",
    "None\n",
    "None\n",
    "None\n",
    "\\\\ \\hline\n",
    "J.-J. Rousseau\n",
    "PERSON\n",
    "Q6527\n",
    "https://www.wikidata.org/wiki/Q6527\n",
    "0.8408\n",
    "\\\\ \\hline\n",
    "('il avaitdes', 'ORG', None, None, None)"
   ]
  },
  {
   "cell_type": "markdown",
   "id": "7d9590dc",
   "metadata": {},
   "source": [
    "# Noaille "
   ]
  },
  {
   "cell_type": "markdown",
   "id": "8c042672",
   "metadata": {},
   "source": [
    "## 1"
   ]
  },
  {
   "cell_type": "code",
   "execution_count": 88,
   "id": "592cd10e",
   "metadata": {},
   "outputs": [],
   "source": [
    "kraken = \"ils allerent seuls l'un et l'autre, secre-tement, se cachant des curiosites de leurs amis, diner dans de petits cafes de Paris, oifloiait une odeur basse d'alcool et de tabac,et dans les restaurants du Bois de Boulogne,pleins de lumiere et de gens\""
   ]
  },
  {
   "cell_type": "code",
   "execution_count": 89,
   "id": "9c023299",
   "metadata": {},
   "outputs": [],
   "source": [
    "ref = \"ils allèrent seuls l'un et l'autre, secrètement, se cachant des curiosités de leurs amis, dîner dans de petits cafés de Paris, où flottait une odeur basse d'alcool et de tabac, et dans les restaurants du Bois de Boulogne, pleins de lumière et de gens\""
   ]
  },
  {
   "cell_type": "code",
   "execution_count": 90,
   "id": "10a21452",
   "metadata": {},
   "outputs": [
    {
     "name": "stdout",
     "output_type": "stream",
     "text": [
      "\\begin{tabular}{lllr}\n",
      "\\toprule\n",
      "            span & label  &                                   URL &  score \\\\\n",
      "\\midrule\n",
      "           Paris &    LOC &     https://www.wikidata.org/wiki/Q90 & 0.6887 \\\\\n",
      "Bois de Boulogne &    LOC & https://www.wikidata.org/wiki/Q209626 & 0.9135 \\\\\n",
      "\\bottomrule\n",
      "\\end{tabular}\n",
      "\n"
     ]
    },
    {
     "name": "stderr",
     "output_type": "stream",
     "text": [
      "/tmp/ipykernel_3911/1147971263.py:19: FutureWarning: In future versions `DataFrame.to_latex` is expected to utilise the base implementation of `Styler.to_latex` for formatting and rendering. The arguments signature may therefore change. It is recommended instead to use `DataFrame.style.to_latex` which also contains additional functionality.\n",
      "  table_latex = df.to_latex(index=False)\n",
      "/tmp/ipykernel_3911/1147971263.py:20: FutureWarning: In future versions `DataFrame.to_latex` is expected to utilise the base implementation of `Styler.to_latex` for formatting and rendering. The arguments signature may therefore change. It is recommended instead to use `DataFrame.style.to_latex` which also contains additional functionality.\n",
      "  latex = df.to_latex(index=False)\n"
     ]
    }
   ],
   "source": [
    "latexiser_fr(ref)"
   ]
  },
  {
   "cell_type": "code",
   "execution_count": 61,
   "id": "14f0b589",
   "metadata": {},
   "outputs": [
    {
     "name": "stdout",
     "output_type": "stream",
     "text": [
      "\\begin{tabular}{lllr}\n",
      "\\toprule\n",
      "            span & label  &                                   URL &  score \\\\\n",
      "\\midrule\n",
      "           Paris &    LOC &     https://www.wikidata.org/wiki/Q90 & 0.6887 \\\\\n",
      "Bois de Boulogne &    LOC & https://www.wikidata.org/wiki/Q209626 & 0.9135 \\\\\n",
      "\\bottomrule\n",
      "\\end{tabular}\n",
      "\n"
     ]
    },
    {
     "name": "stderr",
     "output_type": "stream",
     "text": [
      "/tmp/ipykernel_3911/1147971263.py:19: FutureWarning: In future versions `DataFrame.to_latex` is expected to utilise the base implementation of `Styler.to_latex` for formatting and rendering. The arguments signature may therefore change. It is recommended instead to use `DataFrame.style.to_latex` which also contains additional functionality.\n",
      "  table_latex = df.to_latex(index=False)\n",
      "/tmp/ipykernel_3911/1147971263.py:20: FutureWarning: In future versions `DataFrame.to_latex` is expected to utilise the base implementation of `Styler.to_latex` for formatting and rendering. The arguments signature may therefore change. It is recommended instead to use `DataFrame.style.to_latex` which also contains additional functionality.\n",
      "  latex = df.to_latex(index=False)\n"
     ]
    }
   ],
   "source": [
    "latexiser_fr(kraken)"
   ]
  },
  {
   "cell_type": "code",
   "execution_count": 64,
   "id": "8d6047ad",
   "metadata": {},
   "outputs": [
    {
     "name": "stdout",
     "output_type": "stream",
     "text": [
      "____ ____     ____ ____ ____ ____     _  _ ____ _ _ _ ____     ____ _  _ \n",
      "|___ |__/     |    |  | |__/ |___     |\\ | |___ | | | [__      [__  |\\/| \n",
      "|    |  \\ ___ |___ |__| |  \\ |___ ___ | \\| |___ |_|_| ___] ___ ___] |  | \n",
      "                                                                         \n",
      "\n",
      "Paris LOC Q90 https://www.wikidata.org/wiki/Q90 0.6887\n",
      "Bois de Boulogne LOC Q209626 https://www.wikidata.org/wiki/Q209626 0.9135\n",
      "____ ____     ____ ____ ____ ____     _  _ ____ _ _ _ ____     _  _ ___  \n",
      "|___ |__/     |    |  | |__/ |___     |\\ | |___ | | | [__      |\\/| |  \\ \n",
      "|    |  \\ ___ |___ |__| |  \\ |___ ___ | \\| |___ |_|_| ___] ___ |  | |__/ \n",
      "                                                                         \n",
      "\n",
      "Paris LOC Q90 https://www.wikidata.org/wiki/Q90 0.6887\n",
      "Bois de Boulogne LOC Q209626 https://www.wikidata.org/wiki/Q209626 0.9135\n",
      "____ ____     ____ ____ ____ ____     _  _ ____ _ _ _ ____     _    ____ \n",
      "|___ |__/     |    |  | |__/ |___     |\\ | |___ | | | [__      |    | __ \n",
      "|    |  \\ ___ |___ |__| |  \\ |___ ___ | \\| |___ |_|_| ___] ___ |___ |__] \n",
      "                                                                         \n",
      "\n",
      "Paris LOC Q90 https://www.wikidata.org/wiki/Q90 0.6887\n",
      "Bois de Boulogne LOC Q209626 https://www.wikidata.org/wiki/Q209626 0.9135\n",
      "____ _  _     ____ ____ ____ ____     _ _ _ ____ ___      ____ _  _ \n",
      "|___ |\\ |     |    |  | |__/ |___     | | | |___ |__]     [__  |\\/| \n",
      "|___ | \\| ___ |___ |__| |  \\ |___ ___ |_|_| |___ |__] ___ ___] |  | \n",
      "                                                                    \n",
      "\n",
      "amis NORP Q205006 https://www.wikidata.org/wiki/Q205006 0.1966\n",
      "dîner dans de petits cafés de Paris PERSON None None None\n",
      "dans NORP Q373498 https://www.wikidata.org/wiki/Q373498 0.4397\n",
      "Bois de Boulogne PERSON Q209626 https://www.wikidata.org/wiki/Q209626 0.703\n",
      "____ _  _     ____ ____ ____ ____     _ _ _ ____ ___      _  _ ___  \n",
      "|___ |\\ |     |    |  | |__/ |___     | | | |___ |__]     |\\/| |  \\ \n",
      "|___ | \\| ___ |___ |__| |  \\ |___ ___ |_|_| |___ |__] ___ |  | |__/ \n",
      "                                                                    \n",
      "\n",
      "ils allèrent seuls l'un et l'autre PERSON None None None\n",
      "se cachant des curiosités de leurs amis ORG None None None\n",
      "dîner dans de petits cafés de Paris ORG None None None\n",
      "odeur basse d'alcool et de tabac ORG None None None\n",
      "et dans les restaurants du Bois de Boulogne ORG None None None\n",
      "____ _  _     ____ ____ ____ ____     _ _ _ ____ ___      _    ____ \n",
      "|___ |\\ |     |    |  | |__/ |___     | | | |___ |__]     |    | __ \n",
      "|___ | \\| ___ |___ |__| |  \\ |___ ___ |_|_| |___ |__] ___ |___ |__] \n",
      "                                                                    \n",
      "\n",
      "ils allèrent seuls l'un et l'autre ORG None None None\n",
      "cachant des curiosités de leurs amis PERSON None None None\n",
      "dîner dans de petits PERSON None None None\n",
      "de Paris GPE None None None\n",
      "odeur basse ORG None None None\n",
      "Bois de Boulogne PRODUCT Q209626 https://www.wikidata.org/wiki/Q209626 0.9135\n"
     ]
    }
   ],
   "source": [
    "read(ref)"
   ]
  },
  {
   "cell_type": "code",
   "execution_count": 24,
   "id": "b923d684",
   "metadata": {},
   "outputs": [
    {
     "name": "stdout",
     "output_type": "stream",
     "text": [
      "____ ____     ____ ____ ____ ____     _  _ ____ _ _ _ ____     ____ _  _ \n",
      "|___ |__/     |    |  | |__/ |___     |\\ | |___ | | | [__      [__  |\\/| \n",
      "|    |  \\ ___ |___ |__| |  \\ |___ ___ | \\| |___ |_|_| ___] ___ ___] |  | \n",
      "                                                                         \n",
      "\n",
      "(\"ils allerent seuls l'un et l'autre\", 'ORG', None, None, None)\n",
      "('se cachant des curiosites de leurs amis', 'ORG', None, None, None)\n",
      "('Paris', 'GPE', 'Q90', 'https://www.wikidata.org/wiki/Q90', 0.4627)\n",
      "('oifloiait', 'GPE', None, None, None)\n",
      "(\"odeur basse d'alcool et de tabac\", 'ORG', None, None, None)\n",
      "('et dans les restaurants du Bois de Boulogne', 'ORG', None, None, None)\n",
      "____ ____     ____ ____ ____ ____     _  _ ____ _ _ _ ____     _    ____ \n",
      "|___ |__/     |    |  | |__/ |___     |\\ | |___ | | | [__      |    | __ \n",
      "|    |  \\ ___ |___ |__| |  \\ |___ ___ | \\| |___ |_|_| ___] ___ |___ |__] \n",
      "                                                                         \n",
      "\n",
      "(\"ils allerent seuls l'un et l'autre\", 'ORG', None, None, None)\n",
      "('se cachant des curiosites de leurs amis', 'ORG', None, None, None)\n",
      "('Paris', 'GPE', 'Q90', 'https://www.wikidata.org/wiki/Q90', 0.4627)\n",
      "('oifloiait', 'GPE', None, None, None)\n",
      "(\"odeur basse d'alcool et de tabac\", 'ORG', None, None, None)\n",
      "('et dans les restaurants du Bois de Boulogne', 'ORG', None, None, None)\n",
      "____ _  _     ____ ____ ____ ____     _ _ _ ____ ___      ____ _  _ \n",
      "|___ |\\ |     |    |  | |__/ |___     | | | |___ |__]     [__  |\\/| \n",
      "|___ | \\| ___ |___ |__| |  \\ |___ ___ |_|_| |___ |__] ___ ___] |  | \n",
      "                                                                    \n",
      "\n",
      "(\"ils allerent seuls l'un et l'autre\", 'ORG', None, None, None)\n",
      "('se cachant des curiosites de leurs amis', 'ORG', None, None, None)\n",
      "('Paris', 'GPE', 'Q90', 'https://www.wikidata.org/wiki/Q90', 0.4627)\n",
      "('oifloiait', 'GPE', None, None, None)\n",
      "(\"odeur basse d'alcool et de tabac\", 'ORG', None, None, None)\n",
      "('et dans les restaurants du Bois de Boulogne', 'ORG', None, None, None)\n",
      "____ _  _     ____ ____ ____ ____     _ _ _ ____ ___      _    ____ \n",
      "|___ |\\ |     |    |  | |__/ |___     | | | |___ |__]     |    | __ \n",
      "|___ | \\| ___ |___ |__| |  \\ |___ ___ |_|_| |___ |__] ___ |___ |__] \n",
      "                                                                    \n",
      "\n",
      "(\"ils allerent seuls l'un et l'autre\", 'ORG', None, None, None)\n",
      "('se cachant des curiosites de leurs amis', 'ORG', None, None, None)\n",
      "('Paris', 'GPE', 'Q90', 'https://www.wikidata.org/wiki/Q90', 0.4627)\n",
      "('oifloiait', 'GPE', None, None, None)\n",
      "(\"odeur basse d'alcool et de tabac\", 'ORG', None, None, None)\n",
      "('et dans les restaurants du Bois de Boulogne', 'ORG', None, None, None)\n",
      "____ _  _     ____ ____ ____ ____     _ _ _ ____ ___      _  _ ___  \n",
      "|___ |\\ |     |    |  | |__/ |___     | | | |___ |__]     |\\/| |  \\ \n",
      "|___ | \\| ___ |___ |__| |  \\ |___ ___ |_|_| |___ |__] ___ |  | |__/ \n",
      "                                                                    \n",
      "\n",
      "(\"ils allerent seuls l'un et l'autre\", 'ORG', None, None, None)\n",
      "('se cachant des curiosites de leurs amis', 'ORG', None, None, None)\n",
      "('Paris', 'GPE', 'Q90', 'https://www.wikidata.org/wiki/Q90', 0.4627)\n",
      "('oifloiait', 'GPE', None, None, None)\n",
      "(\"odeur basse d'alcool et de tabac\", 'ORG', None, None, None)\n",
      "('et dans les restaurants du Bois de Boulogne', 'ORG', None, None, None)\n"
     ]
    }
   ],
   "source": [
    "read(kraken)"
   ]
  },
  {
   "cell_type": "markdown",
   "id": "ed961e2b",
   "metadata": {},
   "source": [
    "## 2"
   ]
  },
  {
   "cell_type": "code",
   "execution_count": 24,
   "id": "c60bc01b",
   "metadata": {},
   "outputs": [],
   "source": [
    "ref = \"Quand Philippe entra, madame de Fontenay, décidée à ne plus être gênée, se mit à parler\""
   ]
  },
  {
   "cell_type": "code",
   "execution_count": 25,
   "id": "879fa81d",
   "metadata": {},
   "outputs": [],
   "source": [
    "kraken = \"(Quand Philippe entra, madame de Fontenay, decidee a n6 plus etre genee, se mit a parler\""
   ]
  },
  {
   "cell_type": "code",
   "execution_count": 26,
   "id": "7d7bbd07",
   "metadata": {},
   "outputs": [
    {
     "name": "stdout",
     "output_type": "stream",
     "text": [
      "Quand Philippe entra, madame de Fontenay, décidée à ne plus être gênée, se mit à parler\n",
      "<EntityElement: https://www.wikidata.org/wiki/Q157098 Philip I of Castile       Duke of Burgundy and King of Castile              >\n",
      "<EntityElement: https://www.wikidata.org/wiki/Q17146837 Madam                     polite form of address for women, especially in American English>\n",
      "<EntityElement: https://www.wikidata.org/wiki/Q1166745 Fontenay                  commune in Seine-Maritime, France                 >\n",
      "(Quand Philippe entra, madame de Fontenay, decidee a n6 plus etre genee, se mit a parler\n",
      "<EntityElement: https://www.wikidata.org/wiki/Q157098 Philip I of Castile       Duke of Burgundy and King of Castile              >\n",
      "<EntityElement: https://www.wikidata.org/wiki/Q17146837 Madam                     polite form of address for women, especially in American English>\n",
      "<EntityElement: https://www.wikidata.org/wiki/Q1166745 Fontenay                  commune in Seine-Maritime, France                 >\n"
     ]
    }
   ],
   "source": [
    "extraits = [ref, kraken]\n",
    "for extrait in extraits: \n",
    "    print(extrait)\n",
    "    read(extrait,\"fr_core_news_lg\" )"
   ]
  },
  {
   "cell_type": "markdown",
   "id": "916857ba",
   "metadata": {},
   "source": [
    "## 3"
   ]
  },
  {
   "cell_type": "code",
   "execution_count": 32,
   "id": "56c4b716",
   "metadata": {},
   "outputs": [],
   "source": [
    "kraken = \"Pierre Valenee criait, il s'echauffait sur la Revolution\""
   ]
  },
  {
   "cell_type": "code",
   "execution_count": 33,
   "id": "7ac4fe83",
   "metadata": {},
   "outputs": [],
   "source": [
    "ref = \"Pierre Valence criait, il s'échauffait sur la Révolution\""
   ]
  },
  {
   "cell_type": "code",
   "execution_count": 34,
   "id": "4e9b5d4d",
   "metadata": {},
   "outputs": [
    {
     "name": "stdout",
     "output_type": "stream",
     "text": [
      "Pierre Valence criait, il s'échauffait sur la Révolution\n",
      "<EntityElement: https://www.wikidata.org/wiki/Q40747 Pierre                    capital city of South Dakota and county seat of Hughes County>\n",
      "<EntityElement: https://www.wikidata.org/wiki/Q8848 Valence                   commune in Drôme, France                          >\n",
      "<EntityElement: https://www.wikidata.org/wiki/Q3527389 Thésée                    French warship of 1790                            >\n",
      "Pierre Valenee criait, il s'echauffait sur la Revolution\n",
      "<EntityElement: https://www.wikidata.org/wiki/Q40747 Pierre                    capital city of South Dakota and county seat of Hughes County>\n",
      "<EntityElement: https://www.wikidata.org/wiki/Q289592 Revolution                American television drama series                  >\n"
     ]
    }
   ],
   "source": [
    "extraits = [ref, kraken]\n",
    "for extrait in extraits: \n",
    "    print(extrait)\n",
    "    read(extrait,\"fr_core_news_lg\" )"
   ]
  },
  {
   "cell_type": "code",
   "execution_count": null,
   "id": "e4a3b77f",
   "metadata": {},
   "outputs": [],
   "source": [
    "\\footnotesize{\n",
    "\\begin{tabular}{|l|p{3.5cm}|p{3.3cm}|p{3.3cm}|p{3.3cm}|p{3.3cm}}\n",
    "\\hline\n",
    "Entité liée                 \n",
    "& entitées issues du texte de référence & entitées issues du texte océrisé avec Kraken & \n",
    "\\\\ \\hline\n",
    "Pierre \n",
    "& capital city of South Dakota and county seat of Hughes County %https://www.wikidata.org/wiki/Q40747         \n",
    "& capital city of South Dakota and county seat of Hughes County %https://www.wikidata.org/wiki/Q40747 \n",
    "\\\\ \\hline\n",
    "\n",
    "Valence \n",
    "& commune in Drôme, France %https://www.wikidata.org/wiki/Q8848\n",
    "& \\Na \n",
    "\\\\ \\hline\n",
    "\n",
    "Thésée  \n",
    "& French warship of 1790 % https://www.wikidata.org/wiki/Q3527389\n",
    "& \\Na\n",
    "\n",
    "Revolution  \n",
    "& \\Na\n",
    "& American television drama series % https://www.wikidata.org/wiki/Q289592\n",
    "\n",
    "\\\\ \\hline\n",
    "\\end{tabular}}"
   ]
  },
  {
   "cell_type": "markdown",
   "id": "6a4cf70b",
   "metadata": {},
   "source": [
    "# AIMARD, les trappeurs"
   ]
  },
  {
   "cell_type": "code",
   "execution_count": 11,
   "id": "5bef2142",
   "metadata": {},
   "outputs": [],
   "source": [
    "ref = \"voilà une ville fondée à laquelle on donne un nom sonore comme Utique ou Syracuse, Rome ou Carthage\""
   ]
  },
  {
   "cell_type": "code",
   "execution_count": 12,
   "id": "f80f5405",
   "metadata": {},
   "outputs": [],
   "source": [
    "kraken = \"voila une ville fondee a laquelle on donne un nom sonore comme Utique ou Syracuse, ome ou Carthage, par exemple\""
   ]
  },
  {
   "cell_type": "code",
   "execution_count": 13,
   "id": "ba9e5b33",
   "metadata": {},
   "outputs": [
    {
     "name": "stdout",
     "output_type": "stream",
     "text": [
      "voilà une ville fondée à laquelle on donne un nom sonore comme Utique ou Syracuse, Rome ou Carthage\n",
      "<EntityElement: https://www.wikidata.org/wiki/Q17404013 ville                     French word and English suffixe                   >\n",
      "<EntityElement: https://www.wikidata.org/wiki/Q6974681 National Organization for Marriage organization                                      >\n",
      "<EntityElement: https://www.wikidata.org/wiki/Q128069 Syracuse                  county seat of Onondaga County, New York, United States>\n",
      "<EntityElement: https://www.wikidata.org/wiki/Q220 Rome                      capital and largest city of Italy                 >\n",
      "<EntityElement: https://www.wikidata.org/wiki/Q6343 Carthage                  archaeological site in Tunisia                    >\n",
      "voila une ville fondee a laquelle on donne un nom sonore comme Utique ou Syracuse, ome ou Carthage, par exemple\n",
      "<EntityElement: https://www.wikidata.org/wiki/Q17404013 ville                     French word and English suffixe                   >\n",
      "<EntityElement: https://www.wikidata.org/wiki/Q6974681 National Organization for Marriage organization                                      >\n",
      "<EntityElement: https://www.wikidata.org/wiki/Q128069 Syracuse                  county seat of Onondaga County, New York, United States>\n",
      "<EntityElement: https://www.wikidata.org/wiki/Q237683 Ōme                       city in Tokyo, Japan                              >\n",
      "<EntityElement: https://www.wikidata.org/wiki/Q6343 Carthage                  archaeological site in Tunisia                    >\n"
     ]
    }
   ],
   "source": [
    "extraits = [ref, kraken]\n",
    "for extrait in extraits: \n",
    "    print(extrait)\n",
    "    read(extrait,\"fr_core_news_lg\" )"
   ]
  },
  {
   "cell_type": "code",
   "execution_count": null,
   "id": "041fae49",
   "metadata": {},
   "outputs": [],
   "source": [
    "\\footnotesize{\n",
    "\\begin{tabular}{|l|p{3.3cm}|p{3.3cm}|p{3.3cm}|p{3.3cm}|p{3.3cm}}\n",
    "\\hline\n",
    "\\textbf{Entité liée}                 \n",
    " & \\textbf{texte de référence traité avec spacy lg }\n",
    " % CKP : configuration (version+modèle par exemple Réf--) \n",
    " & \\textbf{texte océrisé avec kraken traité avec spacy lg }\n",
    "\\\\ \\hline\n",
    "ville\n",
    "& French word and English suffixe  %   https://www.wikidata.org/wiki/Q17404013     \n",
    "& French word and English suffixe  %   https://www.wikidata.org/wiki/Q17404013\n",
    "\\\\ \\hline\n",
    "\n",
    "National Organization for Marriage organization    \n",
    "& National Organization for Marriage organization   % https://www.wikidata.org/wiki/Q6974681       \n",
    "& National Organization for Marriage organization   % https://www.wikidata.org/wiki/Q6974681 \n",
    "\\\\ \\hline\n",
    "\n",
    "Syracuse \n",
    "& county seat of Onondaga County, New York, United States  % https://www.wikidata.org/wiki/Q128069        \n",
    "& county seat of Onondaga County, New York, United States  % https://www.wikidata.org/wiki/Q128069\n",
    "\\\\ \\hline\n",
    " Rome                      \n",
    "& capital and largest city of Italy % https://www.wikidata.org/wiki/Q220       \n",
    "&  city in Tokyo, Japan %\n",
    "\\\\ \\hline\n",
    "Carthage                   \n",
    "& archaeological site in Tunisia  %https://www.wikidata.org/wiki/Q6343        \n",
    "&  archaeological site in Tunisia  %https://www.wikidata.org/wiki/Q6343\n",
    "\\\\ \\hline\n",
    "\n",
    "\\end{tabular}}\n",
    "\\caption"
   ]
  },
  {
   "cell_type": "code",
   "execution_count": null,
   "id": "e5747771",
   "metadata": {},
   "outputs": [],
   "source": [
    "\\footnotesize{\n",
    "\\begin{tabular}{|l|p{3.5cm}|p{3.3cm}|p{3.3cm}|p{3.3cm}|p{3.3cm}}\n",
    "\\hline\n",
    "Entité liée                 \n",
    "& entitées issues du texte de référence & entitées issues du texte océrisé avec Kraken & \n",
    "\\\\ \\hline\n",
    "ville\n",
    "& French word and English suffixe  %   https://www.wikidata.org/wiki/Q17404013     \n",
    "& French word and English suffixe  %   https://www.wikidata.org/wiki/Q17404013\n",
    "\\\\ \\hline\n",
    "\n",
    "National Organization for Marriage organization    \n",
    "& National Organization for Marriage organization   % https://www.wikidata.org/wiki/Q6974681       \n",
    "& National Organization for Marriage organization   % https://www.wikidata.org/wiki/Q6974681 \n",
    "\\\\ \\hline\n",
    "\n",
    "Syracuse \n",
    "& county seat of Onondaga County, New York, United States  % https://www.wikidata.org/wiki/Q128069        \n",
    "& county seat of Onondaga County, New York, United States  % https://www.wikidata.org/wiki/Q128069\n",
    "\\\\ \\hline\n",
    " Rome                      \n",
    "& capital and largest city of Italy % https://www.wikidata.org/wiki/Q220       \n",
    "&  (Ōme)city in Tokyo, Japan %\n",
    "\\\\ \\hline\n",
    "Carthage                   \n",
    "& archaeological site in Tunisia  %https://www.wikidata.org/wiki/Q6343        \n",
    "&  archaeological site in Tunisia  %https://www.wikidata.org/wiki/Q6343\n",
    "\\\\ \\hline\n",
    "\n",
    "\\end{tabular}}"
   ]
  },
  {
   "cell_type": "markdown",
   "id": "223b0e5d",
   "metadata": {},
   "source": [
    "# exemple"
   ]
  },
  {
   "cell_type": "code",
   "execution_count": null,
   "id": "f03e01a6",
   "metadata": {},
   "outputs": [],
   "source": [
    "\\begin{table}[H]\n",
    "\\begin{tabular}{|l|p{4cm}|l|p{4cm}|p{4cm}|}\n",
    "\\hline\n",
    "vers. & contexte&Entité liée& en\\_core\\_web\\_sm & en\\_core\\_web\\_lg \\\\\n",
    "\\cline{3-4} \n",
    "\\hline\n",
    "\\multirow{4}{*}{Ref}& \"he declares he lived in \\textcolor{red}{Queen Bess}’s \\textcolor{red}{time}, recollects \\textcolor{red}{King} Charles bein’ beheaded perfectly vell, and remembers the \\textcolor{red}{Great} Fire \\textcolor{red}{o}’ \\textcolor{red}{London}\" \n",
    " &Queen Bess\n",
    "& \\url{ https://www.wikidata.org/wiki/Q54818138} \n",
    "           \n",
    "& \\url{ https://www.wikidata.org/wiki/Q54818138 }\n",
    "\n",
    "%& <EntityElement: https://www.wikidata.org/wiki/Q54818138 Queen Bess>\n",
    "\n",
    "\\\\ \n",
    " &&time& \\url{https://www.wikidata.org/wiki/Q11471} \n",
    "time : dimension in which events can be ordered from the past through the present into the future\n",
    "& \\url{ https://www.wikidata.org/wiki/Q11471 }\n",
    "time : dimension in which events can be ordered from the past through the present into the future                \n",
    "%& <EntityElement: https://www.wikidata.org/wiki/Q11471 time  dimension in which events can be ordered from the past through the present into the future>     \n",
    "\\\\\n",
    " &&  King& \\url{https://www.wikidata.org/wiki/Q2680856} King  \n",
    "casual-social games company \n",
    "&  \\url{ https://www.wikidata.org/wiki/Q2680856} King casual-social games company                \n",
    "%&  <EntityElement: https://www.wikidata.org/wiki/Q2680856 King casual-social games company >               \n",
    "\\\\\n",
    "\n",
    "&& London&  \\url{ https://www.wikidata.org/wiki/Q84} London capital and largest city of the United Kingdom >               \n",
    "&   \\url{ https://www.wikidata.org/wiki/Q84} London capital and largest city of the United Kingdom >             \n",
    "%&  <EntityElement: https://www.wikidata.org/wiki/Q84 London capital and largest city of the United Kingdom > \n",
    "\\\\\n",
    "&&Great or o ?&  \\url{ https://www.wikidata.org/wiki/Q204} zero integer number \n",
    "&  \\url{ https://www.wikidata.org/wiki/Q1544187} Great  1975 short film directed by Bob Godfrey    \n",
    "\\\\ \n",
    "\\hline\n",
    "\n",
    "kraken & \"\\textcolor{red}{e} declares ho lired in (\\textcolor{red}{Queen Bess}'s time, recollects Iing Charles \\textcolor{red}{bein}' beheaded perfectly vell, and remembers,the Great Fire o' London\"&&&\\\\\n",
    "\n",
    "\\hline\n",
    "\\end{tabular}\n",
    "\\end{table}"
   ]
  },
  {
   "cell_type": "markdown",
   "id": "8af412fa",
   "metadata": {},
   "source": [
    "# Audoux"
   ]
  },
  {
   "cell_type": "code",
   "execution_count": 82,
   "id": "6d3c63f1",
   "metadata": {},
   "outputs": [],
   "source": [
    "ref =\"Quand il ne fit plus froid dans la classe, sœur Marie-Aimée me plaça, sur un banc entre Ismérie et Marie Renaud\""
   ]
  },
  {
   "cell_type": "code",
   "execution_count": 83,
   "id": "ee582310",
   "metadata": {},
   "outputs": [],
   "source": [
    "kraken = \"Quand il ne fit plus froid dans la classe, seur Marie-Aimee me plagca sur un banc entre Ismerie et Marie Renaud\""
   ]
  },
  {
   "cell_type": "code",
   "execution_count": 84,
   "id": "f3115cbe",
   "metadata": {},
   "outputs": [
    {
     "name": "stdout",
     "output_type": "stream",
     "text": [
      "\\begin{tabular}{lllr}\n",
      "\\toprule\n",
      "        span & label  &                                     URL &  score \\\\\n",
      "\\midrule\n",
      " Marie-Aimée &    PER &                                    None &    NaN \\\\\n",
      "     Ismérie &   MISC &                                    None &    NaN \\\\\n",
      "Marie Renaud &    PER & https://www.wikidata.org/wiki/Q19880806 & 0.8403 \\\\\n",
      "\\bottomrule\n",
      "\\end{tabular}\n",
      "\n"
     ]
    },
    {
     "name": "stderr",
     "output_type": "stream",
     "text": [
      "/tmp/ipykernel_3911/1147971263.py:19: FutureWarning: In future versions `DataFrame.to_latex` is expected to utilise the base implementation of `Styler.to_latex` for formatting and rendering. The arguments signature may therefore change. It is recommended instead to use `DataFrame.style.to_latex` which also contains additional functionality.\n",
      "  table_latex = df.to_latex(index=False)\n",
      "/tmp/ipykernel_3911/1147971263.py:20: FutureWarning: In future versions `DataFrame.to_latex` is expected to utilise the base implementation of `Styler.to_latex` for formatting and rendering. The arguments signature may therefore change. It is recommended instead to use `DataFrame.style.to_latex` which also contains additional functionality.\n",
      "  latex = df.to_latex(index=False)\n"
     ]
    }
   ],
   "source": [
    "latexiser_fr(ref)"
   ]
  },
  {
   "cell_type": "code",
   "execution_count": 86,
   "id": "df58e2dc",
   "metadata": {},
   "outputs": [
    {
     "name": "stdout",
     "output_type": "stream",
     "text": [
      "____ ____     ____ ____ ____ ____     _  _ ____ _ _ _ ____     ____ _  _ \n",
      "|___ |__/     |    |  | |__/ |___     |\\ | |___ | | | [__      [__  |\\/| \n",
      "|    |  \\ ___ |___ |__| |  \\ |___ ___ | \\| |___ |_|_| ___] ___ ___] |  | \n",
      "                                                                         \n",
      "\n",
      "Marie-Aimée LOC None None None\n",
      "Ismérie LOC None None None\n",
      "Marie Renaud PER Q19880806 https://www.wikidata.org/wiki/Q19880806 0.8403\n",
      "____ ____     ____ ____ ____ ____     _  _ ____ _ _ _ ____     _  _ ___  \n",
      "|___ |__/     |    |  | |__/ |___     |\\ | |___ | | | [__      |\\/| |  \\ \n",
      "|    |  \\ ___ |___ |__| |  \\ |___ ___ | \\| |___ |_|_| ___] ___ |  | |__/ \n",
      "                                                                         \n",
      "\n",
      "Marie-Aimée PER None None None\n",
      "Ismérie MISC None None None\n",
      "Marie Renaud PER Q19880806 https://www.wikidata.org/wiki/Q19880806 0.8403\n",
      "____ ____     ____ ____ ____ ____     _  _ ____ _ _ _ ____     _    ____ \n",
      "|___ |__/     |    |  | |__/ |___     |\\ | |___ | | | [__      |    | __ \n",
      "|    |  \\ ___ |___ |__| |  \\ |___ ___ | \\| |___ |_|_| ___] ___ |___ |__] \n",
      "                                                                         \n",
      "\n",
      "Marie-Aimée PER None None None\n",
      "Ismérie LOC None None None\n",
      "Marie Renaud PER Q19880806 https://www.wikidata.org/wiki/Q19880806 0.8403\n",
      "____ _  _     ____ ____ ____ ____     _ _ _ ____ ___      ____ _  _ \n",
      "|___ |\\ |     |    |  | |__/ |___     | | | |___ |__]     [__  |\\/| \n",
      "|___ | \\| ___ |___ |__| |  \\ |___ ___ |_|_| |___ |__] ___ ___] |  | \n",
      "                                                                    \n",
      "\n",
      "dans la classe ORG None None None\n",
      "Marie-Aimée PERSON None None None\n",
      "sur un banc entre ORG None None None\n",
      "Ismérie GPE None None None\n",
      "Marie Renaud PERSON Q19880806 https://www.wikidata.org/wiki/Q19880806 0.8403\n",
      "____ _  _     ____ ____ ____ ____     _ _ _ ____ ___      _  _ ___  \n",
      "|___ |\\ |     |    |  | |__/ |___     | | | |___ |__]     |\\/| |  \\ \n",
      "|___ | \\| ___ |___ |__| |  \\ |___ ___ |_|_| |___ |__] ___ |  | |__/ \n",
      "                                                                    \n",
      "\n",
      "Quand il ne PERSON None None None\n",
      "froid dans la classe ORG None None None\n",
      "sœur Marie-Aimée PERSON None None None\n",
      "plaça GPE None None None\n",
      "un banc ORG None None None\n",
      "Ismérie et Marie Renaud ORG None None None\n",
      "____ _  _     ____ ____ ____ ____     _ _ _ ____ ___      _    ____ \n",
      "|___ |\\ |     |    |  | |__/ |___     | | | |___ |__]     |    | __ \n",
      "|___ | \\| ___ |___ |__| |  \\ |___ ___ |_|_| |___ |__] ___ |___ |__] \n",
      "                                                                    \n",
      "\n",
      "Quand il ne PERSON None None None\n",
      "froid dans la classe ORG None None None\n",
      "sœur Marie-Aimée PERSON None None None\n",
      "plaça GPE None None None\n",
      "sur un banc ORG None None None\n",
      "Ismérie PERSON None None None\n",
      "Marie Renaud PERSON Q19880806 https://www.wikidata.org/wiki/Q19880806 0.8403\n"
     ]
    }
   ],
   "source": [
    "read(ref)"
   ]
  },
  {
   "cell_type": "code",
   "execution_count": null,
   "id": "00268b1f",
   "metadata": {},
   "outputs": [],
   "source": []
  },
  {
   "cell_type": "code",
   "execution_count": null,
   "id": "0f5b115c",
   "metadata": {},
   "outputs": [],
   "source": [
    "# "
   ]
  },
  {
   "cell_type": "code",
   "execution_count": null,
   "id": "a01c3678",
   "metadata": {},
   "outputs": [],
   "source": [
    "ref = \"elle en vendait la moitié pour la Toussaint et l'autre moitié à Noël\""
   ]
  },
  {
   "cell_type": "code",
   "execution_count": null,
   "id": "fd277db8",
   "metadata": {},
   "outputs": [],
   "source": [
    "extraits = [ref, kraken]\n",
    "for extrait in extraits: \n",
    "    print(extrait)\n",
    "    read(extrait,\"fr_core_news_lg\" )"
   ]
  },
  {
   "cell_type": "code",
   "execution_count": 12,
   "id": "a49277e4",
   "metadata": {},
   "outputs": [],
   "source": [
    "read(\"cjdvnqsdvbùv\",\"fr_core_news_lg\")"
   ]
  },
  {
   "cell_type": "code",
   "execution_count": null,
   "id": "fac548a1",
   "metadata": {},
   "outputs": [],
   "source": [
    "toujours mêmes résultats quel que soit le modèle de langue\n",
    "ce n'est pas la REN de Spacy car les catégories \n",
    "supprimer ce qui a certitude faible comme  \"vell\""
   ]
  }
 ],
 "metadata": {
  "kernelspec": {
   "display_name": "Python 3 (ipykernel)",
   "language": "python",
   "name": "python3"
  },
  "language_info": {
   "codemirror_mode": {
    "name": "ipython",
    "version": 3
   },
   "file_extension": ".py",
   "mimetype": "text/x-python",
   "name": "python",
   "nbconvert_exporter": "python",
   "pygments_lexer": "ipython3",
   "version": "3.10.9"
  }
 },
 "nbformat": 4,
 "nbformat_minor": 5
}
